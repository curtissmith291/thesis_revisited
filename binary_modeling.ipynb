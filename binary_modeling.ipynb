{
 "cells": [
  {
   "cell_type": "code",
   "execution_count": 265,
   "metadata": {},
   "outputs": [],
   "source": [
    "# Import dependencies\n",
    "import pandas as pd\n",
    "from sklearn.model_selection import train_test_split\n",
    "from sklearn.linear_model import LogisticRegression\n",
    "from sklearn.metrics import accuracy_score\n",
    "from sklearn.metrics import confusion_matrix, classification_report\n",
    "from sklearn.svm import SVC\n",
    "from sklearn import tree\n",
    "from sklearn.ensemble import RandomForestClassifier\n",
    "import itertools\n",
    "import time"
   ]
  },
  {
   "cell_type": "code",
   "execution_count": 190,
   "metadata": {},
   "outputs": [
    {
     "data": {
      "text/html": [
       "<div>\n",
       "<style scoped>\n",
       "    .dataframe tbody tr th:only-of-type {\n",
       "        vertical-align: middle;\n",
       "    }\n",
       "\n",
       "    .dataframe tbody tr th {\n",
       "        vertical-align: top;\n",
       "    }\n",
       "\n",
       "    .dataframe thead th {\n",
       "        text-align: right;\n",
       "    }\n",
       "</style>\n",
       "<table border=\"1\" class=\"dataframe\">\n",
       "  <thead>\n",
       "    <tr style=\"text-align: right;\">\n",
       "      <th></th>\n",
       "      <th>location</th>\n",
       "      <th>set</th>\n",
       "      <th>a_b</th>\n",
       "      <th>location_type</th>\n",
       "      <th>classification</th>\n",
       "      <th>binary_temp</th>\n",
       "      <th>binary_moisture</th>\n",
       "      <th>Rounded to Sub-Rounded</th>\n",
       "      <th>Sub-Rounded to Sub-Angular</th>\n",
       "      <th>Sub-Angular to Angular</th>\n",
       "      <th>...</th>\n",
       "      <th>Deep Troughs</th>\n",
       "      <th>Crescentic Gouges</th>\n",
       "      <th>Arc Shaped Steps</th>\n",
       "      <th>Linear Steps</th>\n",
       "      <th>Sharp Angular Features</th>\n",
       "      <th>Upturned Plates</th>\n",
       "      <th>V Shaped Cracks</th>\n",
       "      <th>Edge Rounding</th>\n",
       "      <th>Breakage Blocks</th>\n",
       "      <th>Abrasion Features</th>\n",
       "    </tr>\n",
       "  </thead>\n",
       "  <tbody>\n",
       "    <tr>\n",
       "      <th>0</th>\n",
       "      <td>NOR</td>\n",
       "      <td>5</td>\n",
       "      <td>B</td>\n",
       "      <td>river</td>\n",
       "      <td>cold-wet</td>\n",
       "      <td>cold</td>\n",
       "      <td>wet</td>\n",
       "      <td>0</td>\n",
       "      <td>1</td>\n",
       "      <td>0</td>\n",
       "      <td>...</td>\n",
       "      <td>0</td>\n",
       "      <td>0</td>\n",
       "      <td>1</td>\n",
       "      <td>0</td>\n",
       "      <td>0</td>\n",
       "      <td>0</td>\n",
       "      <td>1</td>\n",
       "      <td>1</td>\n",
       "      <td>0</td>\n",
       "      <td>0</td>\n",
       "    </tr>\n",
       "    <tr>\n",
       "      <th>1</th>\n",
       "      <td>NOR</td>\n",
       "      <td>5</td>\n",
       "      <td>B</td>\n",
       "      <td>river</td>\n",
       "      <td>cold-wet</td>\n",
       "      <td>cold</td>\n",
       "      <td>wet</td>\n",
       "      <td>0</td>\n",
       "      <td>1</td>\n",
       "      <td>0</td>\n",
       "      <td>...</td>\n",
       "      <td>0</td>\n",
       "      <td>1</td>\n",
       "      <td>0</td>\n",
       "      <td>1</td>\n",
       "      <td>0</td>\n",
       "      <td>0</td>\n",
       "      <td>0</td>\n",
       "      <td>1</td>\n",
       "      <td>0</td>\n",
       "      <td>0</td>\n",
       "    </tr>\n",
       "    <tr>\n",
       "      <th>2</th>\n",
       "      <td>NOR</td>\n",
       "      <td>5</td>\n",
       "      <td>B</td>\n",
       "      <td>river</td>\n",
       "      <td>cold-wet</td>\n",
       "      <td>cold</td>\n",
       "      <td>wet</td>\n",
       "      <td>0</td>\n",
       "      <td>0</td>\n",
       "      <td>1</td>\n",
       "      <td>...</td>\n",
       "      <td>0</td>\n",
       "      <td>0</td>\n",
       "      <td>1</td>\n",
       "      <td>0</td>\n",
       "      <td>0</td>\n",
       "      <td>0</td>\n",
       "      <td>0</td>\n",
       "      <td>0</td>\n",
       "      <td>0</td>\n",
       "      <td>0</td>\n",
       "    </tr>\n",
       "    <tr>\n",
       "      <th>3</th>\n",
       "      <td>NOR</td>\n",
       "      <td>5</td>\n",
       "      <td>B</td>\n",
       "      <td>river</td>\n",
       "      <td>cold-wet</td>\n",
       "      <td>cold</td>\n",
       "      <td>wet</td>\n",
       "      <td>0</td>\n",
       "      <td>0</td>\n",
       "      <td>1</td>\n",
       "      <td>...</td>\n",
       "      <td>0</td>\n",
       "      <td>0</td>\n",
       "      <td>1</td>\n",
       "      <td>1</td>\n",
       "      <td>1</td>\n",
       "      <td>1</td>\n",
       "      <td>0</td>\n",
       "      <td>0</td>\n",
       "      <td>0</td>\n",
       "      <td>0</td>\n",
       "    </tr>\n",
       "    <tr>\n",
       "      <th>4</th>\n",
       "      <td>NOR</td>\n",
       "      <td>5</td>\n",
       "      <td>B</td>\n",
       "      <td>river</td>\n",
       "      <td>cold-wet</td>\n",
       "      <td>cold</td>\n",
       "      <td>wet</td>\n",
       "      <td>0</td>\n",
       "      <td>0</td>\n",
       "      <td>1</td>\n",
       "      <td>...</td>\n",
       "      <td>0</td>\n",
       "      <td>0</td>\n",
       "      <td>1</td>\n",
       "      <td>1</td>\n",
       "      <td>0</td>\n",
       "      <td>0</td>\n",
       "      <td>1</td>\n",
       "      <td>0</td>\n",
       "      <td>0</td>\n",
       "      <td>0</td>\n",
       "    </tr>\n",
       "  </tbody>\n",
       "</table>\n",
       "<p>5 rows × 30 columns</p>\n",
       "</div>"
      ],
      "text/plain": [
       "  location  set a_b location_type classification binary_temp binary_moisture  \\\n",
       "0      NOR    5   B         river       cold-wet        cold             wet   \n",
       "1      NOR    5   B         river       cold-wet        cold             wet   \n",
       "2      NOR    5   B         river       cold-wet        cold             wet   \n",
       "3      NOR    5   B         river       cold-wet        cold             wet   \n",
       "4      NOR    5   B         river       cold-wet        cold             wet   \n",
       "\n",
       "   Rounded to Sub-Rounded  Sub-Rounded to Sub-Angular  Sub-Angular to Angular  \\\n",
       "0                       0                           1                       0   \n",
       "1                       0                           1                       0   \n",
       "2                       0                           0                       1   \n",
       "3                       0                           0                       1   \n",
       "4                       0                           0                       1   \n",
       "\n",
       "   ...  Deep Troughs  Crescentic Gouges  Arc Shaped Steps  Linear Steps  \\\n",
       "0  ...             0                  0                 1             0   \n",
       "1  ...             0                  1                 0             1   \n",
       "2  ...             0                  0                 1             0   \n",
       "3  ...             0                  0                 1             1   \n",
       "4  ...             0                  0                 1             1   \n",
       "\n",
       "   Sharp Angular Features  Upturned Plates  V Shaped Cracks  Edge Rounding  \\\n",
       "0                       0                0                1              1   \n",
       "1                       0                0                0              1   \n",
       "2                       0                0                0              0   \n",
       "3                       1                1                0              0   \n",
       "4                       0                0                1              0   \n",
       "\n",
       "   Breakage Blocks  Abrasion Features  \n",
       "0                0                  0  \n",
       "1                0                  0  \n",
       "2                0                  0  \n",
       "3                0                  0  \n",
       "4                0                  0  \n",
       "\n",
       "[5 rows x 30 columns]"
      ]
     },
     "execution_count": 190,
     "metadata": {},
     "output_type": "execute_result"
    }
   ],
   "source": [
    "# Import data\n",
    "df = pd.read_csv(\"working_data/prepared_data.csv\")\n",
    "df.head()"
   ]
  },
  {
   "cell_type": "code",
   "execution_count": 249,
   "metadata": {},
   "outputs": [
    {
     "data": {
      "text/plain": [
       "1241"
      ]
     },
     "execution_count": 249,
     "metadata": {},
     "output_type": "execute_result"
    }
   ],
   "source": [
    "len(df)"
   ]
  },
  {
   "cell_type": "markdown",
   "metadata": {},
   "source": [
    "### Temperature binary modeling"
   ]
  },
  {
   "cell_type": "code",
   "execution_count": 191,
   "metadata": {},
   "outputs": [],
   "source": [
    "# Create dataframe for binary temperature logistic regression\n",
    "df_binary_temp = df.loc[df['location_type'] == \"river\"]"
   ]
  },
  {
   "cell_type": "code",
   "execution_count": 192,
   "metadata": {},
   "outputs": [
    {
     "data": {
      "text/plain": [
       "1143"
      ]
     },
     "execution_count": 192,
     "metadata": {},
     "output_type": "execute_result"
    }
   ],
   "source": [
    "len(df_binary_temp)"
   ]
  },
  {
   "cell_type": "code",
   "execution_count": 193,
   "metadata": {},
   "outputs": [],
   "source": [
    "df_binary_temp = df_binary_temp.drop(columns=[\"location\", \"set\", \"a_b\", \"location_type\", \"classification\", \"binary_moisture\"])"
   ]
  },
  {
   "cell_type": "code",
   "execution_count": 194,
   "metadata": {},
   "outputs": [],
   "source": [
    "# Convert outcome to numerical\n",
    "# 1 is cold\n",
    "# 0 is hot\n",
    "df_binary_temp[\"outcome\"] = df.binary_temp.apply(lambda x: 1 if x == \"cold\" else 0)"
   ]
  },
  {
   "cell_type": "code",
   "execution_count": 195,
   "metadata": {},
   "outputs": [
    {
     "data": {
      "text/plain": [
       "Index(['binary_temp', 'Rounded to Sub-Rounded', 'Sub-Rounded to Sub-Angular',\n",
       "       'Sub-Angular to Angular', 'Low Relief', 'Medium Relief', 'High Relief',\n",
       "       'Precipitation Features', 'Dissolution Etching', 'Fracture Faces',\n",
       "       'Subparallel Linear Features', 'Conchoidal Fractures', 'Curved Grooves',\n",
       "       'Straight Grooves', 'Deep Troughs', 'Crescentic Gouges',\n",
       "       'Arc Shaped Steps', 'Linear Steps', 'Sharp Angular Features',\n",
       "       'Upturned Plates', 'V Shaped Cracks', 'Edge Rounding',\n",
       "       'Breakage Blocks', 'Abrasion Features', 'outcome'],\n",
       "      dtype='object')"
      ]
     },
     "execution_count": 195,
     "metadata": {},
     "output_type": "execute_result"
    }
   ],
   "source": [
    "columns = df_binary_temp.columns\n",
    "columns"
   ]
  },
  {
   "cell_type": "code",
   "execution_count": 196,
   "metadata": {},
   "outputs": [],
   "source": [
    "new_order = ['binary_temp', 'outcome', 'Rounded to Sub-Rounded', 'Sub Rounded to Sub Angular',\n",
    "       'Sub Angular to Angular', 'Low Relief', 'Medium Relief', 'High Relief',\n",
    "       'Precipitation Features', 'Dissolution Etching', 'Fracture Faces',\n",
    "       'Subparallel Linear Features', 'Conchoidal Fractures', 'Curved Grooves',\n",
    "       'Straight Grooves', 'Deep Troughs', 'Crescentic Gouges',\n",
    "       'Arc Shaped Steps', 'Linear Steps', 'Sharp Angular Features',\n",
    "       'Upturned Plates', 'V Shaped Cracks', 'Edge Rounding', 'Breakage Blocks',\n",
    "       'Abrasion Features']"
   ]
  },
  {
   "cell_type": "code",
   "execution_count": 197,
   "metadata": {},
   "outputs": [],
   "source": [
    "df_binary_temp = df_binary_temp.reindex(columns=new_order)"
   ]
  },
  {
   "cell_type": "code",
   "execution_count": 198,
   "metadata": {},
   "outputs": [],
   "source": [
    "df_binary_temp = df_binary_temp.drop(columns=[\"binary_temp\"])"
   ]
  },
  {
   "cell_type": "code",
   "execution_count": 199,
   "metadata": {},
   "outputs": [],
   "source": [
    "df_binary_temp = df_binary_temp.drop(columns=['Rounded to Sub-Rounded', 'Sub Rounded to Sub Angular',\n",
    "       'Sub Angular to Angular', 'Low Relief', 'Medium Relief', 'High Relief',])"
   ]
  },
  {
   "cell_type": "code",
   "execution_count": 200,
   "metadata": {},
   "outputs": [
    {
     "data": {
      "text/html": [
       "<div>\n",
       "<style scoped>\n",
       "    .dataframe tbody tr th:only-of-type {\n",
       "        vertical-align: middle;\n",
       "    }\n",
       "\n",
       "    .dataframe tbody tr th {\n",
       "        vertical-align: top;\n",
       "    }\n",
       "\n",
       "    .dataframe thead th {\n",
       "        text-align: right;\n",
       "    }\n",
       "</style>\n",
       "<table border=\"1\" class=\"dataframe\">\n",
       "  <thead>\n",
       "    <tr style=\"text-align: right;\">\n",
       "      <th></th>\n",
       "      <th>outcome</th>\n",
       "      <th>Precipitation Features</th>\n",
       "      <th>Dissolution Etching</th>\n",
       "      <th>Fracture Faces</th>\n",
       "      <th>Subparallel Linear Features</th>\n",
       "      <th>Conchoidal Fractures</th>\n",
       "      <th>Curved Grooves</th>\n",
       "      <th>Straight Grooves</th>\n",
       "      <th>Deep Troughs</th>\n",
       "      <th>Crescentic Gouges</th>\n",
       "      <th>Arc Shaped Steps</th>\n",
       "      <th>Linear Steps</th>\n",
       "      <th>Sharp Angular Features</th>\n",
       "      <th>Upturned Plates</th>\n",
       "      <th>V Shaped Cracks</th>\n",
       "      <th>Edge Rounding</th>\n",
       "      <th>Breakage Blocks</th>\n",
       "      <th>Abrasion Features</th>\n",
       "    </tr>\n",
       "  </thead>\n",
       "  <tbody>\n",
       "    <tr>\n",
       "      <th>0</th>\n",
       "      <td>1</td>\n",
       "      <td>0</td>\n",
       "      <td>1</td>\n",
       "      <td>0</td>\n",
       "      <td>1</td>\n",
       "      <td>0</td>\n",
       "      <td>0</td>\n",
       "      <td>0</td>\n",
       "      <td>0</td>\n",
       "      <td>0</td>\n",
       "      <td>1</td>\n",
       "      <td>0</td>\n",
       "      <td>0</td>\n",
       "      <td>0</td>\n",
       "      <td>1</td>\n",
       "      <td>1</td>\n",
       "      <td>0</td>\n",
       "      <td>0</td>\n",
       "    </tr>\n",
       "    <tr>\n",
       "      <th>1</th>\n",
       "      <td>1</td>\n",
       "      <td>1</td>\n",
       "      <td>0</td>\n",
       "      <td>1</td>\n",
       "      <td>1</td>\n",
       "      <td>1</td>\n",
       "      <td>0</td>\n",
       "      <td>0</td>\n",
       "      <td>0</td>\n",
       "      <td>1</td>\n",
       "      <td>0</td>\n",
       "      <td>1</td>\n",
       "      <td>0</td>\n",
       "      <td>0</td>\n",
       "      <td>0</td>\n",
       "      <td>1</td>\n",
       "      <td>0</td>\n",
       "      <td>0</td>\n",
       "    </tr>\n",
       "    <tr>\n",
       "      <th>2</th>\n",
       "      <td>1</td>\n",
       "      <td>0</td>\n",
       "      <td>1</td>\n",
       "      <td>0</td>\n",
       "      <td>1</td>\n",
       "      <td>1</td>\n",
       "      <td>0</td>\n",
       "      <td>0</td>\n",
       "      <td>0</td>\n",
       "      <td>0</td>\n",
       "      <td>1</td>\n",
       "      <td>0</td>\n",
       "      <td>0</td>\n",
       "      <td>0</td>\n",
       "      <td>0</td>\n",
       "      <td>0</td>\n",
       "      <td>0</td>\n",
       "      <td>0</td>\n",
       "    </tr>\n",
       "    <tr>\n",
       "      <th>3</th>\n",
       "      <td>1</td>\n",
       "      <td>0</td>\n",
       "      <td>1</td>\n",
       "      <td>1</td>\n",
       "      <td>1</td>\n",
       "      <td>1</td>\n",
       "      <td>0</td>\n",
       "      <td>0</td>\n",
       "      <td>0</td>\n",
       "      <td>0</td>\n",
       "      <td>1</td>\n",
       "      <td>1</td>\n",
       "      <td>1</td>\n",
       "      <td>1</td>\n",
       "      <td>0</td>\n",
       "      <td>0</td>\n",
       "      <td>0</td>\n",
       "      <td>0</td>\n",
       "    </tr>\n",
       "    <tr>\n",
       "      <th>4</th>\n",
       "      <td>1</td>\n",
       "      <td>0</td>\n",
       "      <td>1</td>\n",
       "      <td>0</td>\n",
       "      <td>1</td>\n",
       "      <td>0</td>\n",
       "      <td>0</td>\n",
       "      <td>0</td>\n",
       "      <td>0</td>\n",
       "      <td>0</td>\n",
       "      <td>1</td>\n",
       "      <td>1</td>\n",
       "      <td>0</td>\n",
       "      <td>0</td>\n",
       "      <td>1</td>\n",
       "      <td>0</td>\n",
       "      <td>0</td>\n",
       "      <td>0</td>\n",
       "    </tr>\n",
       "    <tr>\n",
       "      <th>...</th>\n",
       "      <td>...</td>\n",
       "      <td>...</td>\n",
       "      <td>...</td>\n",
       "      <td>...</td>\n",
       "      <td>...</td>\n",
       "      <td>...</td>\n",
       "      <td>...</td>\n",
       "      <td>...</td>\n",
       "      <td>...</td>\n",
       "      <td>...</td>\n",
       "      <td>...</td>\n",
       "      <td>...</td>\n",
       "      <td>...</td>\n",
       "      <td>...</td>\n",
       "      <td>...</td>\n",
       "      <td>...</td>\n",
       "      <td>...</td>\n",
       "      <td>...</td>\n",
       "    </tr>\n",
       "    <tr>\n",
       "      <th>1236</th>\n",
       "      <td>0</td>\n",
       "      <td>0</td>\n",
       "      <td>1</td>\n",
       "      <td>0</td>\n",
       "      <td>1</td>\n",
       "      <td>1</td>\n",
       "      <td>0</td>\n",
       "      <td>0</td>\n",
       "      <td>0</td>\n",
       "      <td>0</td>\n",
       "      <td>1</td>\n",
       "      <td>0</td>\n",
       "      <td>1</td>\n",
       "      <td>0</td>\n",
       "      <td>0</td>\n",
       "      <td>0</td>\n",
       "      <td>0</td>\n",
       "      <td>0</td>\n",
       "    </tr>\n",
       "    <tr>\n",
       "      <th>1237</th>\n",
       "      <td>0</td>\n",
       "      <td>1</td>\n",
       "      <td>1</td>\n",
       "      <td>0</td>\n",
       "      <td>1</td>\n",
       "      <td>1</td>\n",
       "      <td>0</td>\n",
       "      <td>0</td>\n",
       "      <td>0</td>\n",
       "      <td>0</td>\n",
       "      <td>1</td>\n",
       "      <td>1</td>\n",
       "      <td>0</td>\n",
       "      <td>0</td>\n",
       "      <td>0</td>\n",
       "      <td>0</td>\n",
       "      <td>0</td>\n",
       "      <td>0</td>\n",
       "    </tr>\n",
       "    <tr>\n",
       "      <th>1238</th>\n",
       "      <td>0</td>\n",
       "      <td>1</td>\n",
       "      <td>1</td>\n",
       "      <td>0</td>\n",
       "      <td>1</td>\n",
       "      <td>0</td>\n",
       "      <td>0</td>\n",
       "      <td>0</td>\n",
       "      <td>0</td>\n",
       "      <td>0</td>\n",
       "      <td>1</td>\n",
       "      <td>0</td>\n",
       "      <td>0</td>\n",
       "      <td>1</td>\n",
       "      <td>0</td>\n",
       "      <td>1</td>\n",
       "      <td>0</td>\n",
       "      <td>0</td>\n",
       "    </tr>\n",
       "    <tr>\n",
       "      <th>1239</th>\n",
       "      <td>0</td>\n",
       "      <td>0</td>\n",
       "      <td>1</td>\n",
       "      <td>0</td>\n",
       "      <td>1</td>\n",
       "      <td>1</td>\n",
       "      <td>0</td>\n",
       "      <td>0</td>\n",
       "      <td>0</td>\n",
       "      <td>0</td>\n",
       "      <td>0</td>\n",
       "      <td>0</td>\n",
       "      <td>1</td>\n",
       "      <td>0</td>\n",
       "      <td>0</td>\n",
       "      <td>1</td>\n",
       "      <td>0</td>\n",
       "      <td>0</td>\n",
       "    </tr>\n",
       "    <tr>\n",
       "      <th>1240</th>\n",
       "      <td>0</td>\n",
       "      <td>1</td>\n",
       "      <td>1</td>\n",
       "      <td>0</td>\n",
       "      <td>0</td>\n",
       "      <td>1</td>\n",
       "      <td>0</td>\n",
       "      <td>0</td>\n",
       "      <td>0</td>\n",
       "      <td>0</td>\n",
       "      <td>0</td>\n",
       "      <td>0</td>\n",
       "      <td>1</td>\n",
       "      <td>0</td>\n",
       "      <td>0</td>\n",
       "      <td>0</td>\n",
       "      <td>0</td>\n",
       "      <td>0</td>\n",
       "    </tr>\n",
       "  </tbody>\n",
       "</table>\n",
       "<p>1143 rows × 18 columns</p>\n",
       "</div>"
      ],
      "text/plain": [
       "      outcome  Precipitation Features  Dissolution Etching  Fracture Faces  \\\n",
       "0           1                       0                    1               0   \n",
       "1           1                       1                    0               1   \n",
       "2           1                       0                    1               0   \n",
       "3           1                       0                    1               1   \n",
       "4           1                       0                    1               0   \n",
       "...       ...                     ...                  ...             ...   \n",
       "1236        0                       0                    1               0   \n",
       "1237        0                       1                    1               0   \n",
       "1238        0                       1                    1               0   \n",
       "1239        0                       0                    1               0   \n",
       "1240        0                       1                    1               0   \n",
       "\n",
       "      Subparallel Linear Features  Conchoidal Fractures  Curved Grooves  \\\n",
       "0                               1                     0               0   \n",
       "1                               1                     1               0   \n",
       "2                               1                     1               0   \n",
       "3                               1                     1               0   \n",
       "4                               1                     0               0   \n",
       "...                           ...                   ...             ...   \n",
       "1236                            1                     1               0   \n",
       "1237                            1                     1               0   \n",
       "1238                            1                     0               0   \n",
       "1239                            1                     1               0   \n",
       "1240                            0                     1               0   \n",
       "\n",
       "      Straight Grooves  Deep Troughs  Crescentic Gouges  Arc Shaped Steps  \\\n",
       "0                    0             0                  0                 1   \n",
       "1                    0             0                  1                 0   \n",
       "2                    0             0                  0                 1   \n",
       "3                    0             0                  0                 1   \n",
       "4                    0             0                  0                 1   \n",
       "...                ...           ...                ...               ...   \n",
       "1236                 0             0                  0                 1   \n",
       "1237                 0             0                  0                 1   \n",
       "1238                 0             0                  0                 1   \n",
       "1239                 0             0                  0                 0   \n",
       "1240                 0             0                  0                 0   \n",
       "\n",
       "      Linear Steps  Sharp Angular Features  Upturned Plates  V Shaped Cracks  \\\n",
       "0                0                       0                0                1   \n",
       "1                1                       0                0                0   \n",
       "2                0                       0                0                0   \n",
       "3                1                       1                1                0   \n",
       "4                1                       0                0                1   \n",
       "...            ...                     ...              ...              ...   \n",
       "1236             0                       1                0                0   \n",
       "1237             1                       0                0                0   \n",
       "1238             0                       0                1                0   \n",
       "1239             0                       1                0                0   \n",
       "1240             0                       1                0                0   \n",
       "\n",
       "      Edge Rounding  Breakage Blocks  Abrasion Features  \n",
       "0                 1                0                  0  \n",
       "1                 1                0                  0  \n",
       "2                 0                0                  0  \n",
       "3                 0                0                  0  \n",
       "4                 0                0                  0  \n",
       "...             ...              ...                ...  \n",
       "1236              0                0                  0  \n",
       "1237              0                0                  0  \n",
       "1238              1                0                  0  \n",
       "1239              1                0                  0  \n",
       "1240              0                0                  0  \n",
       "\n",
       "[1143 rows x 18 columns]"
      ]
     },
     "execution_count": 200,
     "metadata": {},
     "output_type": "execute_result"
    }
   ],
   "source": [
    "df_binary_temp"
   ]
  },
  {
   "cell_type": "code",
   "execution_count": 201,
   "metadata": {},
   "outputs": [],
   "source": [
    "# Create dataframes for regression model\n",
    "y = df_binary_temp[\"outcome\"]\n",
    "X = df_binary_temp.drop(columns=\"outcome\")"
   ]
  },
  {
   "cell_type": "code",
   "execution_count": 202,
   "metadata": {},
   "outputs": [],
   "source": [
    "# Split data into testing and training\n",
    "X_train, X_test, y_train, y_test = train_test_split(X, y, random_state=1, stratify=y)"
   ]
  },
  {
   "cell_type": "code",
   "execution_count": 203,
   "metadata": {},
   "outputs": [
    {
     "data": {
      "text/plain": [
       "(857, 17)"
      ]
     },
     "execution_count": 203,
     "metadata": {},
     "output_type": "execute_result"
    }
   ],
   "source": [
    "# Evaluate shape of training data\n",
    "X_train.shape"
   ]
  },
  {
   "cell_type": "code",
   "execution_count": 204,
   "metadata": {},
   "outputs": [
    {
     "data": {
      "text/plain": [
       "(286, 17)"
      ]
     },
     "execution_count": 204,
     "metadata": {},
     "output_type": "execute_result"
    }
   ],
   "source": [
    "# Evaluate shape of testing data\n",
    "X_test.shape"
   ]
  },
  {
   "cell_type": "code",
   "execution_count": 205,
   "metadata": {},
   "outputs": [],
   "source": [
    "# Instantiate model\n",
    "classifier = LogisticRegression(solver='lbfgs',max_iter=200,random_state=1)"
   ]
  },
  {
   "cell_type": "code",
   "execution_count": 206,
   "metadata": {},
   "outputs": [
    {
     "data": {
      "text/plain": [
       "LogisticRegression(max_iter=200, random_state=1)"
      ]
     },
     "execution_count": 206,
     "metadata": {},
     "output_type": "execute_result"
    }
   ],
   "source": [
    "# Run model\n",
    "classifier.fit(X_train, y_train)"
   ]
  },
  {
   "cell_type": "code",
   "execution_count": 207,
   "metadata": {},
   "outputs": [],
   "source": [
    "# Create predictions based on model\n",
    "y_pred = classifier.predict(X_test)"
   ]
  },
  {
   "cell_type": "code",
   "execution_count": 208,
   "metadata": {},
   "outputs": [
    {
     "name": "stdout",
     "output_type": "stream",
     "text": [
      "0.6818181818181818\n"
     ]
    }
   ],
   "source": [
    "print(accuracy_score(y_test, y_pred))"
   ]
  },
  {
   "cell_type": "code",
   "execution_count": 209,
   "metadata": {},
   "outputs": [
    {
     "name": "stdout",
     "output_type": "stream",
     "text": [
      "[[ 87  50]\n",
      " [ 41 108]]\n"
     ]
    }
   ],
   "source": [
    "# create confusion matrix\n",
    "matrix = confusion_matrix(y_test, y_pred)\n",
    "print(matrix)"
   ]
  },
  {
   "cell_type": "code",
   "execution_count": 210,
   "metadata": {},
   "outputs": [
    {
     "name": "stdout",
     "output_type": "stream",
     "text": [
      "              precision    recall  f1-score   support\n",
      "\n",
      "           0       0.68      0.64      0.66       137\n",
      "           1       0.68      0.72      0.70       149\n",
      "\n",
      "    accuracy                           0.68       286\n",
      "   macro avg       0.68      0.68      0.68       286\n",
      "weighted avg       0.68      0.68      0.68       286\n",
      "\n"
     ]
    }
   ],
   "source": [
    "# print report\n",
    "report = classification_report(y_test, y_pred)\n",
    "print(report)"
   ]
  },
  {
   "cell_type": "code",
   "execution_count": 260,
   "metadata": {},
   "outputs": [
    {
     "name": "stdout",
     "output_type": "stream",
     "text": [
      "['Precipitation Features', 'Dissolution Etching', 'Fracture Faces', 'Subparallel Linear Features', 'Conchoidal Fractures', 'Curved Grooves', 'Straight Grooves', 'Deep Troughs', 'Crescentic Gouges', 'Arc Shaped Steps', 'Linear Steps', 'Sharp Angular Features', 'Upturned Plates', 'V Shaped Cracks', 'Edge Rounding', 'Breakage Blocks', 'Abrasion Features']\n",
      "131072\n"
     ]
    }
   ],
   "source": [
    "# Run logistic regression model with combinations of independent variables\n",
    "\n",
    "# get list of features\n",
    "features = list(df_binary_temp.columns)\n",
    "features.remove('outcome')\n",
    "print(features)\n",
    "\n",
    "combinations = []\n",
    "\n",
    "# append possible combinations \n",
    "for i in range(0, len(features)+1):\n",
    "    for subset in itertools.combinations(features, i):\n",
    "        combinations.append(subset)\n",
    "\n",
    "print(len(combinations))"
   ]
  },
  {
   "cell_type": "code",
   "execution_count": 306,
   "metadata": {},
   "outputs": [],
   "source": [
    "results_dict = {}"
   ]
  },
  {
   "cell_type": "code",
   "execution_count": 308,
   "metadata": {},
   "outputs": [
    {
     "name": "stdout",
     "output_type": "stream",
     "text": [
      "1000\n",
      "11.38988184928894 seconds\n",
      "2000\n",
      "23.08493971824646 seconds\n",
      "3000\n",
      "35.0455527305603 seconds\n",
      "4000\n",
      "47.283421993255615 seconds\n",
      "5000\n",
      "59.57030463218689 seconds\n",
      "6000\n",
      "71.5883059501648 seconds\n",
      "7000\n",
      "83.63515377044678 seconds\n",
      "8000\n",
      "95.76886081695557 seconds\n",
      "9000\n",
      "108.09730982780457 seconds\n",
      "10000\n",
      "120.7847056388855 seconds\n",
      "11000\n",
      "133.71019983291626 seconds\n",
      "12000\n",
      "147.17140197753906 seconds\n",
      "13000\n",
      "162.19702577590942 seconds\n",
      "14000\n",
      "176.02314591407776 seconds\n",
      "15000\n",
      "188.69489002227783 seconds\n",
      "16000\n",
      "201.1761028766632 seconds\n",
      "17000\n",
      "213.74863696098328 seconds\n",
      "18000\n",
      "226.30219864845276 seconds\n",
      "19000\n",
      "239.0059118270874 seconds\n",
      "20000\n",
      "251.4839849472046 seconds\n",
      "21000\n",
      "263.99079990386963 seconds\n",
      "22000\n",
      "276.99781584739685 seconds\n",
      "23000\n",
      "290.45021390914917 seconds\n",
      "24000\n",
      "303.8917419910431 seconds\n",
      "25000\n",
      "317.1794717311859 seconds\n",
      "26000\n",
      "330.4947657585144 seconds\n",
      "27000\n",
      "343.8748459815979 seconds\n",
      "28000\n",
      "357.0459747314453 seconds\n",
      "29000\n",
      "370.3395838737488 seconds\n",
      "30000\n",
      "383.5162880420685 seconds\n",
      "31000\n",
      "396.6742389202118 seconds\n",
      "32000\n",
      "409.67322969436646 seconds\n",
      "33000\n",
      "422.55211067199707 seconds\n",
      "34000\n",
      "435.36340260505676 seconds\n",
      "35000\n",
      "448.4427080154419 seconds\n",
      "36000\n",
      "461.32568979263306 seconds\n",
      "37000\n",
      "477.04104566574097 seconds\n",
      "38000\n",
      "493.41501474380493 seconds\n",
      "39000\n",
      "509.3678469657898 seconds\n",
      "40000\n",
      "525.4868998527527 seconds\n",
      "41000\n",
      "542.8338477611542 seconds\n",
      "42000\n",
      "559.2423558235168 seconds\n",
      "43000\n",
      "576.6735408306122 seconds\n",
      "44000\n",
      "593.7325508594513 seconds\n",
      "45000\n",
      "610.4523737430573 seconds\n",
      "46000\n",
      "627.0052826404572 seconds\n",
      "47000\n",
      "643.6925446987152 seconds\n",
      "48000\n",
      "660.5049297809601 seconds\n",
      "49000\n",
      "676.8652989864349 seconds\n",
      "50000\n",
      "693.2459189891815 seconds\n",
      "51000\n",
      "709.8487298488617 seconds\n",
      "52000\n",
      "726.1635038852692 seconds\n",
      "53000\n",
      "741.8748428821564 seconds\n",
      "54000\n",
      "757.7091059684753 seconds\n",
      "55000\n",
      "773.1423366069794 seconds\n",
      "56000\n",
      "786.9699537754059 seconds\n",
      "57000\n",
      "800.8746786117554 seconds\n",
      "58000\n",
      "814.2142627239227 seconds\n",
      "59000\n",
      "827.6171627044678 seconds\n",
      "60000\n",
      "840.6028118133545 seconds\n",
      "61000\n",
      "853.6780276298523 seconds\n",
      "62000\n",
      "866.7836999893188 seconds\n",
      "63000\n",
      "880.1336987018585 seconds\n",
      "64000\n",
      "893.5596218109131 seconds\n",
      "65000\n",
      "907.540079832077 seconds\n",
      "66000\n",
      "921.149525642395 seconds\n",
      "67000\n",
      "935.6075730323792 seconds\n",
      "68000\n",
      "950.1608898639679 seconds\n",
      "69000\n",
      "964.2581288814545 seconds\n",
      "70000\n",
      "978.2964959144592 seconds\n",
      "71000\n",
      "992.9416167736053 seconds\n",
      "72000\n",
      "1006.9464418888092 seconds\n",
      "73000\n",
      "1020.9472887516022 seconds\n",
      "74000\n",
      "1034.9572007656097 seconds\n",
      "75000\n",
      "1049.0444967746735 seconds\n",
      "76000\n",
      "1063.2611956596375 seconds\n",
      "77000\n",
      "1078.7632348537445 seconds\n",
      "78000\n",
      "1093.489709854126 seconds\n",
      "79000\n",
      "1107.3095257282257 seconds\n",
      "80000\n",
      "1120.923458814621 seconds\n",
      "81000\n",
      "1134.4321327209473 seconds\n",
      "82000\n",
      "1148.1693897247314 seconds\n",
      "83000\n",
      "1161.8628900051117 seconds\n",
      "84000\n",
      "1175.5199398994446 seconds\n",
      "85000\n",
      "1189.5621356964111 seconds\n",
      "86000\n",
      "1202.9390978813171 seconds\n",
      "87000\n",
      "1216.5071518421173 seconds\n",
      "88000\n",
      "1230.205531835556 seconds\n",
      "89000\n",
      "1243.8701839447021 seconds\n",
      "90000\n",
      "1257.9082517623901 seconds\n",
      "91000\n",
      "1272.389254808426 seconds\n",
      "92000\n",
      "1287.0362207889557 seconds\n",
      "93000\n",
      "1301.8857159614563 seconds\n",
      "94000\n",
      "1316.2356905937195 seconds\n",
      "95000\n",
      "1330.533392906189 seconds\n",
      "96000\n",
      "1345.1520047187805 seconds\n",
      "97000\n",
      "1359.5368976593018 seconds\n",
      "98000\n",
      "1373.6288797855377 seconds\n",
      "99000\n",
      "1388.0801286697388 seconds\n",
      "100000\n",
      "1402.2780578136444 seconds\n",
      "101000\n",
      "1416.5799148082733 seconds\n",
      "102000\n",
      "1430.7892198562622 seconds\n",
      "103000\n",
      "1445.3429226875305 seconds\n",
      "104000\n",
      "1459.3204998970032 seconds\n",
      "105000\n",
      "1473.3911018371582 seconds\n",
      "106000\n",
      "1487.4201238155365 seconds\n",
      "107000\n",
      "1501.3289008140564 seconds\n",
      "108000\n",
      "1515.4298129081726 seconds\n",
      "109000\n",
      "1529.484071969986 seconds\n",
      "110000\n",
      "1544.5493998527527 seconds\n",
      "111000\n",
      "1559.6344587802887 seconds\n",
      "112000\n",
      "1575.117687702179 seconds\n",
      "113000\n",
      "1591.3453116416931 seconds\n",
      "114000\n",
      "1606.6097707748413 seconds\n",
      "115000\n",
      "1621.5484926700592 seconds\n",
      "116000\n",
      "1636.4488739967346 seconds\n",
      "117000\n",
      "1651.4898908138275 seconds\n",
      "118000\n",
      "1666.503571987152 seconds\n",
      "119000\n",
      "1681.0345187187195 seconds\n",
      "120000\n",
      "1695.560046672821 seconds\n",
      "121000\n",
      "1711.793774843216 seconds\n",
      "122000\n",
      "1726.6086757183075 seconds\n",
      "123000\n",
      "1741.7431888580322 seconds\n",
      "124000\n",
      "1757.0998599529266 seconds\n",
      "125000\n",
      "1772.2739279270172 seconds\n",
      "126000\n",
      "1787.5186507701874 seconds\n",
      "127000\n",
      "1803.7350008487701 seconds\n",
      "128000\n",
      "1818.6507878303528 seconds\n",
      "129000\n",
      "1834.4535927772522 seconds\n",
      "130000\n",
      "1849.6330728530884 seconds\n",
      "131000\n",
      "1865.0440850257874 seconds\n"
     ]
    },
    {
     "ename": "IndexError",
     "evalue": "list index out of range",
     "output_type": "error",
     "traceback": [
      "\u001b[0;31m---------------------------------------------------------------------------\u001b[0m",
      "\u001b[0;31mIndexError\u001b[0m                                Traceback (most recent call last)",
      "\u001b[0;32m<ipython-input-308-6eab35761fe8>\u001b[0m in \u001b[0;36m<module>\u001b[0;34m\u001b[0m\n\u001b[1;32m      4\u001b[0m \u001b[0;32mfor\u001b[0m \u001b[0mc\u001b[0m \u001b[0;32min\u001b[0m \u001b[0mrange\u001b[0m\u001b[0;34m(\u001b[0m\u001b[0;36m1\u001b[0m\u001b[0;34m,\u001b[0m \u001b[0mlen\u001b[0m\u001b[0;34m(\u001b[0m\u001b[0mcombinations\u001b[0m\u001b[0;34m)\u001b[0m\u001b[0;34m+\u001b[0m\u001b[0;36m1\u001b[0m\u001b[0;34m)\u001b[0m\u001b[0;34m:\u001b[0m\u001b[0;34m\u001b[0m\u001b[0;34m\u001b[0m\u001b[0m\n\u001b[1;32m      5\u001b[0m     \u001b[0;31m# Append \"outcome\" to selected subset to ensure column is in datafame\u001b[0m\u001b[0;34m\u001b[0m\u001b[0;34m\u001b[0m\u001b[0;34m\u001b[0m\u001b[0m\n\u001b[0;32m----> 6\u001b[0;31m     \u001b[0mcomb\u001b[0m \u001b[0;34m=\u001b[0m \u001b[0mlist\u001b[0m\u001b[0;34m(\u001b[0m\u001b[0mcombinations\u001b[0m\u001b[0;34m[\u001b[0m\u001b[0mc\u001b[0m\u001b[0;34m]\u001b[0m\u001b[0;34m)\u001b[0m\u001b[0;34m\u001b[0m\u001b[0;34m\u001b[0m\u001b[0m\n\u001b[0m\u001b[1;32m      7\u001b[0m     \u001b[0mcomb\u001b[0m\u001b[0;34m.\u001b[0m\u001b[0mappend\u001b[0m\u001b[0;34m(\u001b[0m\u001b[0;34m\"outcome\"\u001b[0m\u001b[0;34m)\u001b[0m\u001b[0;34m\u001b[0m\u001b[0;34m\u001b[0m\u001b[0m\n\u001b[1;32m      8\u001b[0m     \u001b[0;31m# create dataframe with selected subset of features\u001b[0m\u001b[0;34m\u001b[0m\u001b[0;34m\u001b[0m\u001b[0;34m\u001b[0m\u001b[0m\n",
      "\u001b[0;31mIndexError\u001b[0m: list index out of range"
     ]
    }
   ],
   "source": [
    "count = 0\n",
    "results_dict = {}\n",
    "t0 = time.time()\n",
    "\n",
    "for c in range(1, len(combinations)):\n",
    "    # Append \"outcome\" to selected subset to ensure column is in datafame\n",
    "    comb = list(combinations[c])\n",
    "    comb.append(\"outcome\")\n",
    "    # create dataframe with selected subset of features\n",
    "    logistic_df = df_binary_temp[comb]\n",
    "    \n",
    "    # Create dataframes for regression model\n",
    "    y = logistic_df[\"outcome\"]\n",
    "    X = logistic_df.drop(columns=\"outcome\")\n",
    "    \n",
    "    # Split data into testing and training\n",
    "    X_train, X_test, y_train, y_test = train_test_split(X, y, random_state=1, stratify=y)\n",
    "    \n",
    "    # Instantiate model\n",
    "    classifier = LogisticRegression(solver='lbfgs',max_iter=200,random_state=1)\n",
    "    \n",
    "    # Run model\n",
    "    classifier.fit(X_train, y_train)\n",
    "    \n",
    "    # Create predictions based on model\n",
    "    y_pred = classifier.predict(X_test)\n",
    "    \n",
    "    acc = accuracy_score(y_test, y_pred)\n",
    "    \n",
    "    # Set list to tuple to be set as dictionary key (lists can't be keys)\n",
    "    # accuracy is set to the value\n",
    "    results_dict[tuple(comb)] = acc\n",
    "    count += 1\n",
    "    if count%1000 == 0:\n",
    "        print(count)\n",
    "        t = time.time()\n",
    "        print(f'{t - t0} seconds')\n",
    "\n",
    "t = time.time()\n",
    "print(f'Finished in {t-t0} seconds')"
   ]
  },
  {
   "cell_type": "code",
   "execution_count": 309,
   "metadata": {},
   "outputs": [
    {
     "data": {
      "text/plain": [
       "131071"
      ]
     },
     "execution_count": 309,
     "metadata": {},
     "output_type": "execute_result"
    }
   ],
   "source": [
    "len(results_dict)"
   ]
  },
  {
   "cell_type": "code",
   "execution_count": 310,
   "metadata": {},
   "outputs": [
    {
     "data": {
      "text/plain": [
       "('Precipitation Features',\n",
       " 'Dissolution Etching',\n",
       " 'Fracture Faces',\n",
       " 'Subparallel Linear Features',\n",
       " 'Crescentic Gouges',\n",
       " 'Upturned Plates',\n",
       " 'V Shaped Cracks',\n",
       " 'Breakage Blocks',\n",
       " 'outcome')"
      ]
     },
     "execution_count": 310,
     "metadata": {},
     "output_type": "execute_result"
    }
   ],
   "source": [
    "max(results_dict, key = results_dict.get) "
   ]
  },
  {
   "cell_type": "code",
   "execution_count": 313,
   "metadata": {},
   "outputs": [
    {
     "data": {
      "text/plain": [
       "0.7132867132867133"
      ]
     },
     "execution_count": 313,
     "metadata": {},
     "output_type": "execute_result"
    }
   ],
   "source": [
    "results_dict[('Precipitation Features',\n",
    " 'Dissolution Etching',\n",
    " 'Fracture Faces',\n",
    " 'Subparallel Linear Features',\n",
    " 'Crescentic Gouges',\n",
    " 'Upturned Plates',\n",
    " 'V Shaped Cracks',\n",
    " 'Breakage Blocks',\n",
    " 'outcome')]"
   ]
  },
  {
   "cell_type": "code",
   "execution_count": 211,
   "metadata": {},
   "outputs": [],
   "source": [
    "# Run same dataset with SVM: support vector machines\n",
    "model = SVC(kernel='linear')"
   ]
  },
  {
   "cell_type": "code",
   "execution_count": 212,
   "metadata": {},
   "outputs": [
    {
     "data": {
      "text/plain": [
       "SVC(kernel='linear')"
      ]
     },
     "execution_count": 212,
     "metadata": {},
     "output_type": "execute_result"
    }
   ],
   "source": [
    "# Fit model\n",
    "model.fit(X_train, y_train)"
   ]
  },
  {
   "cell_type": "code",
   "execution_count": 213,
   "metadata": {},
   "outputs": [],
   "source": [
    "# Run model\n",
    "y_pred = model.predict(X_test)"
   ]
  },
  {
   "cell_type": "code",
   "execution_count": 214,
   "metadata": {},
   "outputs": [
    {
     "data": {
      "text/plain": [
       "0.6748251748251748"
      ]
     },
     "execution_count": 214,
     "metadata": {},
     "output_type": "execute_result"
    }
   ],
   "source": [
    "# Get accurary score\n",
    "accuracy_score(y_test, y_pred)"
   ]
  },
  {
   "cell_type": "code",
   "execution_count": 215,
   "metadata": {},
   "outputs": [
    {
     "data": {
      "text/plain": [
       "array([[ 89,  48],\n",
       "       [ 45, 104]])"
      ]
     },
     "execution_count": 215,
     "metadata": {},
     "output_type": "execute_result"
    }
   ],
   "source": [
    "confusion_matrix(y_test, y_pred)"
   ]
  },
  {
   "cell_type": "code",
   "execution_count": 216,
   "metadata": {},
   "outputs": [
    {
     "name": "stdout",
     "output_type": "stream",
     "text": [
      "              precision    recall  f1-score   support\n",
      "\n",
      "           0       0.66      0.65      0.66       137\n",
      "           1       0.68      0.70      0.69       149\n",
      "\n",
      "    accuracy                           0.67       286\n",
      "   macro avg       0.67      0.67      0.67       286\n",
      "weighted avg       0.67      0.67      0.67       286\n",
      "\n"
     ]
    }
   ],
   "source": [
    "print(classification_report(y_test, y_pred))"
   ]
  },
  {
   "cell_type": "code",
   "execution_count": 217,
   "metadata": {},
   "outputs": [],
   "source": [
    "# Run same set with decision tree\n",
    "# Creating the decision tree classifier instance.\n",
    "model = tree.DecisionTreeClassifier()\n",
    "# Fitting the model.\n",
    "model = model.fit(X_train, y_train)"
   ]
  },
  {
   "cell_type": "code",
   "execution_count": 218,
   "metadata": {},
   "outputs": [],
   "source": [
    "# Making predictions using the testing data.\n",
    "predictions = model.predict(X_test)"
   ]
  },
  {
   "cell_type": "code",
   "execution_count": 219,
   "metadata": {},
   "outputs": [
    {
     "data": {
      "text/plain": [
       "0.6013986013986014"
      ]
     },
     "execution_count": 219,
     "metadata": {},
     "output_type": "execute_result"
    }
   ],
   "source": [
    "accuracy_score(y_test, predictions)"
   ]
  },
  {
   "cell_type": "code",
   "execution_count": 220,
   "metadata": {},
   "outputs": [],
   "source": [
    "# Create a random forest classifier.\n",
    "rf_model = RandomForestClassifier(n_estimators=128, random_state=78) "
   ]
  },
  {
   "cell_type": "code",
   "execution_count": 221,
   "metadata": {},
   "outputs": [],
   "source": [
    "# Fitting the model\n",
    "rf_model = rf_model.fit(X_train, y_train)"
   ]
  },
  {
   "cell_type": "code",
   "execution_count": 222,
   "metadata": {},
   "outputs": [],
   "source": [
    "# Making predictions using the testing data.\n",
    "predictions = rf_model.predict(X_test)"
   ]
  },
  {
   "cell_type": "code",
   "execution_count": 223,
   "metadata": {},
   "outputs": [
    {
     "name": "stdout",
     "output_type": "stream",
     "text": [
      "Accuracy Score : 0.6608391608391608\n"
     ]
    }
   ],
   "source": [
    "# Calculating the accuracy score.\n",
    "acc_score = accuracy_score(y_test, predictions)\n",
    "print(f\"Accuracy Score : {acc_score}\")"
   ]
  },
  {
   "cell_type": "markdown",
   "metadata": {},
   "source": [
    "### Moisture binary modeling"
   ]
  },
  {
   "cell_type": "code",
   "execution_count": 224,
   "metadata": {},
   "outputs": [],
   "source": [
    "# Create dataframe for binary temperature logistic regression\n",
    "df_binary_moisture = df.loc[df['location_type'] == \"river\"]"
   ]
  },
  {
   "cell_type": "code",
   "execution_count": 225,
   "metadata": {},
   "outputs": [],
   "source": [
    "df_binary_moisture = df_binary_moisture.drop(columns=[\"location\", \"set\", \"a_b\", \"location_type\", \n",
    "                                                      \"classification\", \"binary_temp\"])"
   ]
  },
  {
   "cell_type": "code",
   "execution_count": 226,
   "metadata": {},
   "outputs": [],
   "source": [
    "# Convert outcome to numerical\n",
    "# 1 is wet\n",
    "# 0 is dry\n",
    "df_binary_moisture[\"outcome\"] = df.binary_moisture.apply(lambda x: 1 if x == \"wet\" else 0)"
   ]
  },
  {
   "cell_type": "code",
   "execution_count": 230,
   "metadata": {},
   "outputs": [
    {
     "data": {
      "text/plain": [
       "Index(['binary_moisture', 'Rounded to Sub-Rounded',\n",
       "       'Sub-Rounded to Sub-Angular', 'Sub-Angular to Angular', 'Low Relief',\n",
       "       'Medium Relief', 'High Relief', 'Precipitation Features',\n",
       "       'Dissolution Etching', 'Fracture Faces', 'Subparallel Linear Features',\n",
       "       'Conchoidal Fractures', 'Curved Grooves', 'Straight Grooves',\n",
       "       'Deep Troughs', 'Crescentic Gouges', 'Arc Shaped Steps', 'Linear Steps',\n",
       "       'Sharp Angular Features', 'Upturned Plates', 'V Shaped Cracks',\n",
       "       'Edge Rounding', 'Breakage Blocks', 'Abrasion Features', 'outcome'],\n",
       "      dtype='object')"
      ]
     },
     "execution_count": 230,
     "metadata": {},
     "output_type": "execute_result"
    }
   ],
   "source": [
    "df_binary_moisture.columns"
   ]
  },
  {
   "cell_type": "code",
   "execution_count": 231,
   "metadata": {},
   "outputs": [],
   "source": [
    "df_binary_moisture = df_binary_moisture.drop(columns=['binary_moisture', 'Rounded to Sub-Rounded',\n",
    "       'Sub-Rounded to Sub-Angular', 'Sub-Angular to Angular', 'Low Relief',\n",
    "       'Medium Relief', 'High Relief'])"
   ]
  },
  {
   "cell_type": "code",
   "execution_count": 232,
   "metadata": {},
   "outputs": [],
   "source": [
    "# Create dataframes for regression model\n",
    "y = df_binary_moisture[\"outcome\"]\n",
    "X = df_binary_moisture.drop(columns=\"outcome\")"
   ]
  },
  {
   "cell_type": "code",
   "execution_count": 233,
   "metadata": {},
   "outputs": [],
   "source": [
    "# Split data into testing and training\n",
    "X_train, X_test, y_train, y_test = train_test_split(X, y, random_state=1, stratify=y)"
   ]
  },
  {
   "cell_type": "code",
   "execution_count": 234,
   "metadata": {},
   "outputs": [],
   "source": [
    "# Instantiate model\n",
    "classifier = LogisticRegression(solver='lbfgs',max_iter=200,random_state=1)"
   ]
  },
  {
   "cell_type": "code",
   "execution_count": 235,
   "metadata": {},
   "outputs": [
    {
     "data": {
      "text/plain": [
       "LogisticRegression(max_iter=200, random_state=1)"
      ]
     },
     "execution_count": 235,
     "metadata": {},
     "output_type": "execute_result"
    }
   ],
   "source": [
    "# Run model\n",
    "classifier.fit(X_train, y_train)"
   ]
  },
  {
   "cell_type": "code",
   "execution_count": 236,
   "metadata": {},
   "outputs": [],
   "source": [
    "# Create predictions based on model\n",
    "y_pred = classifier.predict(X_test)"
   ]
  },
  {
   "cell_type": "code",
   "execution_count": 237,
   "metadata": {},
   "outputs": [
    {
     "name": "stdout",
     "output_type": "stream",
     "text": [
      "0.6433566433566433\n"
     ]
    }
   ],
   "source": [
    "print(accuracy_score(y_test, y_pred))"
   ]
  },
  {
   "cell_type": "code",
   "execution_count": 314,
   "metadata": {},
   "outputs": [
    {
     "name": "stdout",
     "output_type": "stream",
     "text": [
      "['Precipitation Features', 'Dissolution Etching', 'Fracture Faces', 'Subparallel Linear Features', 'Conchoidal Fractures', 'Curved Grooves', 'Straight Grooves', 'Deep Troughs', 'Crescentic Gouges', 'Arc Shaped Steps', 'Linear Steps', 'Sharp Angular Features', 'Upturned Plates', 'V Shaped Cracks', 'Edge Rounding', 'Breakage Blocks', 'Abrasion Features']\n",
      "131072\n"
     ]
    }
   ],
   "source": [
    "# Run logistic regression model with combinations of independent variables\n",
    "\n",
    "# get list of features\n",
    "features = list(df_binary_moisture.columns)\n",
    "features.remove('outcome')\n",
    "print(features)\n",
    "\n",
    "combinations = []\n",
    "\n",
    "# append possible combinations \n",
    "for i in range(0, len(features)+1):\n",
    "    for subset in itertools.combinations(features, i):\n",
    "        combinations.append(subset)\n",
    "\n",
    "print(len(combinations))"
   ]
  },
  {
   "cell_type": "code",
   "execution_count": 317,
   "metadata": {},
   "outputs": [
    {
     "name": "stdout",
     "output_type": "stream",
     "text": [
      "1000\n",
      "24.52354407310486 seconds\n",
      "2000\n",
      "52.320719718933105 seconds\n",
      "3000\n",
      "77.8368330001831 seconds\n",
      "4000\n",
      "105.23462915420532 seconds\n",
      "5000\n",
      "133.94321584701538 seconds\n",
      "6000\n",
      "161.82600378990173 seconds\n",
      "7000\n",
      "187.75633573532104 seconds\n",
      "8000\n",
      "215.62450289726257 seconds\n",
      "9000\n",
      "243.93748712539673 seconds\n",
      "10000\n",
      "273.1640729904175 seconds\n",
      "11000\n",
      "305.14990305900574 seconds\n",
      "12000\n",
      "333.5668520927429 seconds\n",
      "13000\n",
      "366.11247205734253 seconds\n",
      "14000\n",
      "396.076388835907 seconds\n",
      "15000\n",
      "427.57798075675964 seconds\n",
      "16000\n",
      "460.0297899246216 seconds\n",
      "17000\n",
      "491.4556610584259 seconds\n",
      "18000\n",
      "520.7501528263092 seconds\n",
      "19000\n",
      "558.2626600265503 seconds\n",
      "20000\n",
      "596.0960130691528 seconds\n",
      "21000\n",
      "631.468160867691 seconds\n",
      "22000\n",
      "669.723207950592 seconds\n",
      "23000\n",
      "708.7765209674835 seconds\n",
      "24000\n",
      "747.0862679481506 seconds\n",
      "25000\n",
      "782.9049189090729 seconds\n",
      "26000\n",
      "820.2516930103302 seconds\n",
      "27000\n",
      "858.7224819660187 seconds\n",
      "28000\n",
      "894.7757868766785 seconds\n",
      "29000\n",
      "926.1332018375397 seconds\n",
      "30000\n",
      "948.5614597797394 seconds\n",
      "31000\n",
      "982.0299048423767 seconds\n",
      "32000\n",
      "1014.7605497837067 seconds\n",
      "33000\n",
      "1048.6130239963531 seconds\n",
      "34000\n",
      "1085.8922469615936 seconds\n",
      "35000\n",
      "1120.2728989124298 seconds\n",
      "36000\n",
      "1158.635098695755 seconds\n",
      "37000\n",
      "1197.5054199695587 seconds\n",
      "38000\n",
      "1237.8398587703705 seconds\n",
      "39000\n",
      "1274.7742898464203 seconds\n",
      "40000\n",
      "1313.2462649345398 seconds\n",
      "41000\n",
      "1346.757299900055 seconds\n",
      "42000\n",
      "1371.6302518844604 seconds\n",
      "43000\n",
      "1385.80406498909 seconds\n",
      "44000\n",
      "1399.6350090503693 seconds\n",
      "45000\n",
      "1413.7231237888336 seconds\n",
      "46000\n",
      "1427.5633058547974 seconds\n",
      "47000\n",
      "1441.0500309467316 seconds\n",
      "48000\n",
      "1454.5630400180817 seconds\n",
      "49000\n",
      "1467.9925680160522 seconds\n",
      "50000\n",
      "1481.351539850235 seconds\n",
      "51000\n",
      "1494.9239809513092 seconds\n",
      "52000\n",
      "1508.538775920868 seconds\n",
      "53000\n",
      "1522.2726809978485 seconds\n",
      "54000\n",
      "1535.7908239364624 seconds\n",
      "55000\n",
      "1549.5081160068512 seconds\n",
      "56000\n",
      "1564.1246519088745 seconds\n",
      "57000\n",
      "1578.5754828453064 seconds\n",
      "58000\n",
      "1593.276778936386 seconds\n",
      "59000\n",
      "1608.3236200809479 seconds\n",
      "60000\n",
      "1621.5902678966522 seconds\n",
      "61000\n",
      "1634.6783518791199 seconds\n",
      "62000\n",
      "1647.708009004593 seconds\n",
      "63000\n",
      "1660.9197580814362 seconds\n",
      "64000\n",
      "1674.1930689811707 seconds\n",
      "65000\n",
      "1687.2412648200989 seconds\n",
      "66000\n",
      "1700.7321028709412 seconds\n",
      "67000\n",
      "1714.9350430965424 seconds\n",
      "68000\n",
      "1728.994765996933 seconds\n",
      "69000\n",
      "1743.2341628074646 seconds\n",
      "70000\n",
      "1757.4747848510742 seconds\n",
      "71000\n",
      "1771.784854888916 seconds\n",
      "72000\n",
      "1785.8603188991547 seconds\n",
      "73000\n",
      "1799.6078720092773 seconds\n",
      "74000\n",
      "1813.4445271492004 seconds\n",
      "75000\n",
      "1827.3438639640808 seconds\n",
      "76000\n",
      "1841.2309277057648 seconds\n",
      "77000\n",
      "1854.9758219718933 seconds\n",
      "78000\n",
      "1868.8129048347473 seconds\n",
      "79000\n",
      "1883.1236538887024 seconds\n",
      "80000\n",
      "1897.1412217617035 seconds\n",
      "81000\n",
      "1911.423532962799 seconds\n",
      "82000\n",
      "1926.062912940979 seconds\n",
      "83000\n",
      "1940.5258429050446 seconds\n",
      "84000\n",
      "1954.7423989772797 seconds\n",
      "85000\n",
      "1968.5364089012146 seconds\n",
      "86000\n",
      "1982.0666270256042 seconds\n",
      "87000\n",
      "1995.4856588840485 seconds\n",
      "88000\n",
      "2008.9620039463043 seconds\n",
      "89000\n",
      "2022.4732720851898 seconds\n",
      "90000\n",
      "2036.1464278697968 seconds\n",
      "91000\n",
      "2050.515352010727 seconds\n",
      "92000\n",
      "2065.034938812256 seconds\n",
      "93000\n",
      "2079.9378328323364 seconds\n",
      "94000\n",
      "2094.3612270355225 seconds\n",
      "95000\n",
      "2108.8037297725677 seconds\n",
      "96000\n",
      "2123.3471097946167 seconds\n",
      "97000\n",
      "2137.6201100349426 seconds\n",
      "98000\n",
      "2151.5246257781982 seconds\n",
      "99000\n",
      "2165.5885198116302 seconds\n",
      "100000\n",
      "2179.7428669929504 seconds\n",
      "101000\n",
      "2194.0057289600372 seconds\n",
      "102000\n",
      "2208.5521829128265 seconds\n",
      "103000\n",
      "2222.7095589637756 seconds\n",
      "104000\n",
      "2237.0894119739532 seconds\n",
      "105000\n",
      "2251.952756881714 seconds\n",
      "106000\n",
      "2266.550086736679 seconds\n",
      "107000\n",
      "2281.3248949050903 seconds\n",
      "108000\n",
      "2295.052068710327 seconds\n",
      "109000\n",
      "2309.1588337421417 seconds\n",
      "110000\n",
      "2324.2220590114594 seconds\n",
      "111000\n",
      "2339.096100091934 seconds\n",
      "112000\n",
      "2354.0137689113617 seconds\n",
      "113000\n",
      "2369.0195269584656 seconds\n",
      "114000\n",
      "2384.094119787216 seconds\n",
      "115000\n",
      "2398.8991549015045 seconds\n",
      "116000\n",
      "2413.452568054199 seconds\n",
      "117000\n",
      "2428.0859467983246 seconds\n",
      "118000\n",
      "2443.143903017044 seconds\n",
      "119000\n",
      "2458.104537963867 seconds\n",
      "120000\n",
      "2473.328316926956 seconds\n",
      "121000\n",
      "2488.1334760189056 seconds\n",
      "122000\n",
      "2502.8909318447113 seconds\n",
      "123000\n",
      "2518.1267969608307 seconds\n",
      "124000\n",
      "2533.318670988083 seconds\n",
      "125000\n",
      "2548.4246068000793 seconds\n",
      "126000\n",
      "2563.283849000931 seconds\n",
      "127000\n",
      "2578.7418699264526 seconds\n",
      "128000\n",
      "2593.857007741928 seconds\n",
      "129000\n",
      "2609.3997678756714 seconds\n",
      "130000\n",
      "2624.8177518844604 seconds\n",
      "131000\n",
      "2641.8333427906036 seconds\n",
      "Finished in 2642.975954771042 seconds\n"
     ]
    }
   ],
   "source": [
    "count = 0\n",
    "results_moisture = {}\n",
    "t0 = time.time()\n",
    "\n",
    "for c in range(1, len(combinations)):\n",
    "    # Append \"outcome\" to selected subset to ensure column is in datafame\n",
    "    comb = list(combinations[c])\n",
    "    comb.append(\"outcome\")\n",
    "    # create dataframe with selected subset of features\n",
    "    logistic_df = df_binary_moisture[comb]\n",
    "    \n",
    "    # Create dataframes for regression model\n",
    "    y = logistic_df[\"outcome\"]\n",
    "    X = logistic_df.drop(columns=\"outcome\")\n",
    "    \n",
    "    # Split data into testing and training\n",
    "    X_train, X_test, y_train, y_test = train_test_split(X, y, random_state=1, stratify=y)\n",
    "    \n",
    "    # Instantiate model\n",
    "    classifier = LogisticRegression(solver='lbfgs',max_iter=200,random_state=1)\n",
    "    \n",
    "    # Run model\n",
    "    classifier.fit(X_train, y_train)\n",
    "    \n",
    "    # Create predictions based on model\n",
    "    y_pred = classifier.predict(X_test)\n",
    "    \n",
    "    acc = accuracy_score(y_test, y_pred)\n",
    "    \n",
    "    # Set list to tuple to be set as dictionary key (lists can't be keys)\n",
    "    # accuracy is set to the value\n",
    "    results_moisture[tuple(comb)] = acc\n",
    "    count += 1\n",
    "    if count%1000 == 0:\n",
    "        print(count)\n",
    "        t = time.time()\n",
    "        print(f'{t - t0} seconds')\n",
    "\n",
    "t = time.time()\n",
    "print(f'Finished in {t-t0} seconds')"
   ]
  },
  {
   "cell_type": "code",
   "execution_count": null,
   "metadata": {},
   "outputs": [],
   "source": []
  },
  {
   "cell_type": "code",
   "execution_count": null,
   "metadata": {},
   "outputs": [],
   "source": []
  },
  {
   "cell_type": "code",
   "execution_count": 238,
   "metadata": {},
   "outputs": [],
   "source": [
    "# Run same dataset with SVM: support vector machines\n",
    "model = SVC(kernel='linear')"
   ]
  },
  {
   "cell_type": "code",
   "execution_count": 239,
   "metadata": {},
   "outputs": [
    {
     "data": {
      "text/plain": [
       "SVC(kernel='linear')"
      ]
     },
     "execution_count": 239,
     "metadata": {},
     "output_type": "execute_result"
    }
   ],
   "source": [
    "# Fit model\n",
    "model.fit(X_train, y_train)"
   ]
  },
  {
   "cell_type": "code",
   "execution_count": 240,
   "metadata": {},
   "outputs": [],
   "source": [
    "# Run model\n",
    "y_pred = model.predict(X_test)"
   ]
  },
  {
   "cell_type": "code",
   "execution_count": 241,
   "metadata": {},
   "outputs": [
    {
     "data": {
      "text/plain": [
       "0.6188811188811189"
      ]
     },
     "execution_count": 241,
     "metadata": {},
     "output_type": "execute_result"
    }
   ],
   "source": [
    "# Get accurary score\n",
    "accuracy_score(y_test, y_pred)"
   ]
  },
  {
   "cell_type": "code",
   "execution_count": 242,
   "metadata": {},
   "outputs": [],
   "source": [
    "# Run same set with decision tree\n",
    "# Creating the decision tree classifier instance.\n",
    "model = tree.DecisionTreeClassifier()\n",
    "# Fitting the model.\n",
    "model = model.fit(X_train, y_train)"
   ]
  },
  {
   "cell_type": "code",
   "execution_count": 243,
   "metadata": {},
   "outputs": [],
   "source": [
    "# Making predictions using the testing data.\n",
    "predictions = model.predict(X_test)"
   ]
  },
  {
   "cell_type": "code",
   "execution_count": 244,
   "metadata": {},
   "outputs": [
    {
     "data": {
      "text/plain": [
       "0.6048951048951049"
      ]
     },
     "execution_count": 244,
     "metadata": {},
     "output_type": "execute_result"
    }
   ],
   "source": [
    "accuracy_score(y_test, predictions)"
   ]
  },
  {
   "cell_type": "code",
   "execution_count": 245,
   "metadata": {},
   "outputs": [],
   "source": [
    "# Create a random forest classifier.\n",
    "rf_model = RandomForestClassifier(n_estimators=128, random_state=78) "
   ]
  },
  {
   "cell_type": "code",
   "execution_count": 246,
   "metadata": {},
   "outputs": [],
   "source": [
    "# Fitting the model\n",
    "rf_model = rf_model.fit(X_train, y_train)"
   ]
  },
  {
   "cell_type": "code",
   "execution_count": 247,
   "metadata": {},
   "outputs": [],
   "source": [
    "# Making predictions using the testing data.\n",
    "predictions = rf_model.predict(X_test)"
   ]
  },
  {
   "cell_type": "code",
   "execution_count": 248,
   "metadata": {},
   "outputs": [
    {
     "name": "stdout",
     "output_type": "stream",
     "text": [
      "Accuracy Score : 0.5909090909090909\n"
     ]
    }
   ],
   "source": [
    "# Calculating the accuracy score.\n",
    "acc_score = accuracy_score(y_test, predictions)\n",
    "print(f\"Accuracy Score : {acc_score}\")"
   ]
  },
  {
   "cell_type": "code",
   "execution_count": null,
   "metadata": {},
   "outputs": [],
   "source": []
  }
 ],
 "metadata": {
  "kernelspec": {
   "display_name": "PythonData",
   "language": "python",
   "name": "pythondata"
  },
  "language_info": {
   "codemirror_mode": {
    "name": "ipython",
    "version": 3
   },
   "file_extension": ".py",
   "mimetype": "text/x-python",
   "name": "python",
   "nbconvert_exporter": "python",
   "pygments_lexer": "ipython3",
   "version": "3.7.9"
  }
 },
 "nbformat": 4,
 "nbformat_minor": 4
}
