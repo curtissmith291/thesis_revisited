{
 "cells": [
  {
   "cell_type": "code",
   "execution_count": 232,
   "metadata": {},
   "outputs": [],
   "source": [
    "import plotly\n",
    "import plotly.graph_objects as go\n",
    "import pandas as pd\n",
    "import plotly.express as px"
   ]
  },
  {
   "cell_type": "code",
   "execution_count": 35,
   "metadata": {},
   "outputs": [],
   "source": [
    "# Import Geographic Data\n",
    "df = pd.read_csv(\"raw_data/location_info.csv\")"
   ]
  },
  {
   "cell_type": "code",
   "execution_count": 195,
   "metadata": {},
   "outputs": [
    {
     "data": {
      "text/html": [
       "<div>\n",
       "<style scoped>\n",
       "    .dataframe tbody tr th:only-of-type {\n",
       "        vertical-align: middle;\n",
       "    }\n",
       "\n",
       "    .dataframe tbody tr th {\n",
       "        vertical-align: top;\n",
       "    }\n",
       "\n",
       "    .dataframe thead th {\n",
       "        text-align: right;\n",
       "    }\n",
       "</style>\n",
       "<table border=\"1\" class=\"dataframe\">\n",
       "  <thead>\n",
       "    <tr style=\"text-align: right;\">\n",
       "      <th></th>\n",
       "      <th>LOCATION</th>\n",
       "      <th>SAMPLE_ID</th>\n",
       "      <th>LATITUDE</th>\n",
       "      <th>LONGITUDE</th>\n",
       "      <th>ORDER</th>\n",
       "      <th>TYPE</th>\n",
       "      <th>TYPE_NUM</th>\n",
       "    </tr>\n",
       "  </thead>\n",
       "  <tbody>\n",
       "    <tr>\n",
       "      <th>0</th>\n",
       "      <td>CALIFORNIA</td>\n",
       "      <td>IGNF-01</td>\n",
       "      <td>32.853683</td>\n",
       "      <td>-116.288567</td>\n",
       "      <td>1</td>\n",
       "      <td>RIVER</td>\n",
       "      <td>1</td>\n",
       "    </tr>\n",
       "    <tr>\n",
       "      <th>1</th>\n",
       "      <td>CALIFORNIA</td>\n",
       "      <td>IGNF-07</td>\n",
       "      <td>32.859500</td>\n",
       "      <td>-116.263233</td>\n",
       "      <td>2</td>\n",
       "      <td>RIVER</td>\n",
       "      <td>1</td>\n",
       "    </tr>\n",
       "    <tr>\n",
       "      <th>2</th>\n",
       "      <td>CALIFORNIA</td>\n",
       "      <td>IGNF-11</td>\n",
       "      <td>32.863683</td>\n",
       "      <td>-116.244417</td>\n",
       "      <td>3</td>\n",
       "      <td>RIVER</td>\n",
       "      <td>1</td>\n",
       "    </tr>\n",
       "    <tr>\n",
       "      <th>3</th>\n",
       "      <td>CALIFORNIA</td>\n",
       "      <td>IGNF-13</td>\n",
       "      <td>32.868533</td>\n",
       "      <td>-116.238317</td>\n",
       "      <td>4</td>\n",
       "      <td>RIVER</td>\n",
       "      <td>1</td>\n",
       "    </tr>\n",
       "    <tr>\n",
       "      <th>4</th>\n",
       "      <td>CALIFORNIA</td>\n",
       "      <td>IGNF-17</td>\n",
       "      <td>32.873383</td>\n",
       "      <td>-116.221167</td>\n",
       "      <td>5</td>\n",
       "      <td>RIVER</td>\n",
       "      <td>1</td>\n",
       "    </tr>\n",
       "    <tr>\n",
       "      <th>5</th>\n",
       "      <td>NORWAY</td>\n",
       "      <td>AUS-DRIFT</td>\n",
       "      <td>61.584000</td>\n",
       "      <td>7.001000</td>\n",
       "      <td>0</td>\n",
       "      <td>MORAINE</td>\n",
       "      <td>0</td>\n",
       "    </tr>\n",
       "    <tr>\n",
       "      <th>6</th>\n",
       "      <td>NORWAY</td>\n",
       "      <td>AUS-01</td>\n",
       "      <td>61.589000</td>\n",
       "      <td>6.994000</td>\n",
       "      <td>1</td>\n",
       "      <td>RIVER</td>\n",
       "      <td>1</td>\n",
       "    </tr>\n",
       "    <tr>\n",
       "      <th>7</th>\n",
       "      <td>NORWAY</td>\n",
       "      <td>AUS-03</td>\n",
       "      <td>61.579000</td>\n",
       "      <td>6.996000</td>\n",
       "      <td>2</td>\n",
       "      <td>RIVER</td>\n",
       "      <td>1</td>\n",
       "    </tr>\n",
       "    <tr>\n",
       "      <th>8</th>\n",
       "      <td>NORWAY</td>\n",
       "      <td>AUS-07</td>\n",
       "      <td>61.544000</td>\n",
       "      <td>6.977000</td>\n",
       "      <td>3</td>\n",
       "      <td>RIVER</td>\n",
       "      <td>1</td>\n",
       "    </tr>\n",
       "    <tr>\n",
       "      <th>9</th>\n",
       "      <td>NORWAY</td>\n",
       "      <td>ELVA-01</td>\n",
       "      <td>61.535000</td>\n",
       "      <td>6.969000</td>\n",
       "      <td>4</td>\n",
       "      <td>RIVER</td>\n",
       "      <td>1</td>\n",
       "    </tr>\n",
       "    <tr>\n",
       "      <th>10</th>\n",
       "      <td>NORWAY</td>\n",
       "      <td>ELVA-05</td>\n",
       "      <td>61.507750</td>\n",
       "      <td>6.983633</td>\n",
       "      <td>5</td>\n",
       "      <td>RIVER</td>\n",
       "      <td>1</td>\n",
       "    </tr>\n",
       "    <tr>\n",
       "      <th>11</th>\n",
       "      <td>NORWAY</td>\n",
       "      <td>ELVA-07</td>\n",
       "      <td>61.496633</td>\n",
       "      <td>6.985067</td>\n",
       "      <td>6</td>\n",
       "      <td>RIVER</td>\n",
       "      <td>1</td>\n",
       "    </tr>\n",
       "    <tr>\n",
       "      <th>12</th>\n",
       "      <td>NORWAY</td>\n",
       "      <td>ELVA-11</td>\n",
       "      <td>61.480483</td>\n",
       "      <td>7.019617</td>\n",
       "      <td>7</td>\n",
       "      <td>RIVER</td>\n",
       "      <td>1</td>\n",
       "    </tr>\n",
       "    <tr>\n",
       "      <th>13</th>\n",
       "      <td>PERU</td>\n",
       "      <td>RP-MORAINE</td>\n",
       "      <td>-9.004667</td>\n",
       "      <td>-77.684083</td>\n",
       "      <td>0</td>\n",
       "      <td>MORAINE</td>\n",
       "      <td>0</td>\n",
       "    </tr>\n",
       "    <tr>\n",
       "      <th>14</th>\n",
       "      <td>PERU</td>\n",
       "      <td>RP-01</td>\n",
       "      <td>-9.003567</td>\n",
       "      <td>-77.687433</td>\n",
       "      <td>1</td>\n",
       "      <td>RIVER</td>\n",
       "      <td>1</td>\n",
       "    </tr>\n",
       "    <tr>\n",
       "      <th>15</th>\n",
       "      <td>PERU</td>\n",
       "      <td>RP-03</td>\n",
       "      <td>-9.012600</td>\n",
       "      <td>-77.699967</td>\n",
       "      <td>2</td>\n",
       "      <td>RIVER</td>\n",
       "      <td>1</td>\n",
       "    </tr>\n",
       "    <tr>\n",
       "      <th>16</th>\n",
       "      <td>PERU</td>\n",
       "      <td>RP-05</td>\n",
       "      <td>-9.023967</td>\n",
       "      <td>-77.715867</td>\n",
       "      <td>3</td>\n",
       "      <td>RIVER</td>\n",
       "      <td>1</td>\n",
       "    </tr>\n",
       "    <tr>\n",
       "      <th>17</th>\n",
       "      <td>PERU</td>\n",
       "      <td>RP-06</td>\n",
       "      <td>-9.039217</td>\n",
       "      <td>-77.732733</td>\n",
       "      <td>4</td>\n",
       "      <td>RIVER</td>\n",
       "      <td>1</td>\n",
       "    </tr>\n",
       "    <tr>\n",
       "      <th>18</th>\n",
       "      <td>PERU</td>\n",
       "      <td>RP-08</td>\n",
       "      <td>-9.048302</td>\n",
       "      <td>-77.747691</td>\n",
       "      <td>5</td>\n",
       "      <td>RIVER</td>\n",
       "      <td>1</td>\n",
       "    </tr>\n",
       "    <tr>\n",
       "      <th>19</th>\n",
       "      <td>PUERTO_RICO</td>\n",
       "      <td>RG-03</td>\n",
       "      <td>18.069050</td>\n",
       "      <td>-65.995550</td>\n",
       "      <td>1</td>\n",
       "      <td>RIVER</td>\n",
       "      <td>1</td>\n",
       "    </tr>\n",
       "    <tr>\n",
       "      <th>20</th>\n",
       "      <td>PUERTO_RICO</td>\n",
       "      <td>RG-06</td>\n",
       "      <td>18.059750</td>\n",
       "      <td>-65.922933</td>\n",
       "      <td>4</td>\n",
       "      <td>RIVER</td>\n",
       "      <td>1</td>\n",
       "    </tr>\n",
       "    <tr>\n",
       "      <th>21</th>\n",
       "      <td>PUERTO_RICO</td>\n",
       "      <td>RG-09</td>\n",
       "      <td>18.052000</td>\n",
       "      <td>-65.915350</td>\n",
       "      <td>5</td>\n",
       "      <td>RIVER</td>\n",
       "      <td>1</td>\n",
       "    </tr>\n",
       "    <tr>\n",
       "      <th>22</th>\n",
       "      <td>PUERTO_RICO</td>\n",
       "      <td>RG-10</td>\n",
       "      <td>18.057217</td>\n",
       "      <td>-65.900467</td>\n",
       "      <td>6</td>\n",
       "      <td>RIVER</td>\n",
       "      <td>1</td>\n",
       "    </tr>\n",
       "    <tr>\n",
       "      <th>23</th>\n",
       "      <td>PUERTO_RICO</td>\n",
       "      <td>RG-13</td>\n",
       "      <td>18.080950</td>\n",
       "      <td>-65.975850</td>\n",
       "      <td>2</td>\n",
       "      <td>RIVER</td>\n",
       "      <td>1</td>\n",
       "    </tr>\n",
       "    <tr>\n",
       "      <th>24</th>\n",
       "      <td>PUERTO_RICO</td>\n",
       "      <td>RG-15</td>\n",
       "      <td>18.075083</td>\n",
       "      <td>-65.945650</td>\n",
       "      <td>3</td>\n",
       "      <td>RIVER</td>\n",
       "      <td>1</td>\n",
       "    </tr>\n",
       "  </tbody>\n",
       "</table>\n",
       "</div>"
      ],
      "text/plain": [
       "       LOCATION   SAMPLE_ID   LATITUDE   LONGITUDE  ORDER     TYPE  TYPE_NUM\n",
       "0    CALIFORNIA     IGNF-01  32.853683 -116.288567      1    RIVER         1\n",
       "1    CALIFORNIA     IGNF-07  32.859500 -116.263233      2    RIVER         1\n",
       "2    CALIFORNIA     IGNF-11  32.863683 -116.244417      3    RIVER         1\n",
       "3    CALIFORNIA     IGNF-13  32.868533 -116.238317      4    RIVER         1\n",
       "4    CALIFORNIA     IGNF-17  32.873383 -116.221167      5    RIVER         1\n",
       "5        NORWAY   AUS-DRIFT  61.584000    7.001000      0  MORAINE         0\n",
       "6        NORWAY      AUS-01  61.589000    6.994000      1    RIVER         1\n",
       "7        NORWAY      AUS-03  61.579000    6.996000      2    RIVER         1\n",
       "8        NORWAY      AUS-07  61.544000    6.977000      3    RIVER         1\n",
       "9        NORWAY     ELVA-01  61.535000    6.969000      4    RIVER         1\n",
       "10       NORWAY     ELVA-05  61.507750    6.983633      5    RIVER         1\n",
       "11       NORWAY     ELVA-07  61.496633    6.985067      6    RIVER         1\n",
       "12       NORWAY     ELVA-11  61.480483    7.019617      7    RIVER         1\n",
       "13         PERU  RP-MORAINE  -9.004667  -77.684083      0  MORAINE         0\n",
       "14         PERU       RP-01  -9.003567  -77.687433      1    RIVER         1\n",
       "15         PERU       RP-03  -9.012600  -77.699967      2    RIVER         1\n",
       "16         PERU       RP-05  -9.023967  -77.715867      3    RIVER         1\n",
       "17         PERU       RP-06  -9.039217  -77.732733      4    RIVER         1\n",
       "18         PERU       RP-08  -9.048302  -77.747691      5    RIVER         1\n",
       "19  PUERTO_RICO       RG-03  18.069050  -65.995550      1    RIVER         1\n",
       "20  PUERTO_RICO       RG-06  18.059750  -65.922933      4    RIVER         1\n",
       "21  PUERTO_RICO       RG-09  18.052000  -65.915350      5    RIVER         1\n",
       "22  PUERTO_RICO       RG-10  18.057217  -65.900467      6    RIVER         1\n",
       "23  PUERTO_RICO       RG-13  18.080950  -65.975850      2    RIVER         1\n",
       "24  PUERTO_RICO       RG-15  18.075083  -65.945650      3    RIVER         1"
      ]
     },
     "execution_count": 195,
     "metadata": {},
     "output_type": "execute_result"
    }
   ],
   "source": [
    "df"
   ]
  },
  {
   "cell_type": "code",
   "execution_count": 85,
   "metadata": {},
   "outputs": [
    {
     "data": {
      "text/html": [
       "<div>\n",
       "<style scoped>\n",
       "    .dataframe tbody tr th:only-of-type {\n",
       "        vertical-align: middle;\n",
       "    }\n",
       "\n",
       "    .dataframe tbody tr th {\n",
       "        vertical-align: top;\n",
       "    }\n",
       "\n",
       "    .dataframe thead th {\n",
       "        text-align: right;\n",
       "    }\n",
       "</style>\n",
       "<table border=\"1\" class=\"dataframe\">\n",
       "  <thead>\n",
       "    <tr style=\"text-align: right;\">\n",
       "      <th></th>\n",
       "      <th>LOCATION</th>\n",
       "      <th>SAMPLE_ID</th>\n",
       "      <th>LATITUDE</th>\n",
       "      <th>LONGITUDE</th>\n",
       "      <th>ORDER</th>\n",
       "      <th>TYPE</th>\n",
       "      <th>TYPE_NUM</th>\n",
       "    </tr>\n",
       "  </thead>\n",
       "  <tbody>\n",
       "    <tr>\n",
       "      <th>5</th>\n",
       "      <td>NORWAY</td>\n",
       "      <td>AUS-DRIFT</td>\n",
       "      <td>61.584000</td>\n",
       "      <td>7.001000</td>\n",
       "      <td>0</td>\n",
       "      <td>MORAINE</td>\n",
       "      <td>0</td>\n",
       "    </tr>\n",
       "    <tr>\n",
       "      <th>6</th>\n",
       "      <td>NORWAY</td>\n",
       "      <td>AUS-01</td>\n",
       "      <td>61.589000</td>\n",
       "      <td>6.994000</td>\n",
       "      <td>1</td>\n",
       "      <td>RIVER</td>\n",
       "      <td>1</td>\n",
       "    </tr>\n",
       "    <tr>\n",
       "      <th>7</th>\n",
       "      <td>NORWAY</td>\n",
       "      <td>AUS-03</td>\n",
       "      <td>61.579000</td>\n",
       "      <td>6.996000</td>\n",
       "      <td>2</td>\n",
       "      <td>RIVER</td>\n",
       "      <td>1</td>\n",
       "    </tr>\n",
       "    <tr>\n",
       "      <th>8</th>\n",
       "      <td>NORWAY</td>\n",
       "      <td>AUS-07</td>\n",
       "      <td>61.544000</td>\n",
       "      <td>6.977000</td>\n",
       "      <td>3</td>\n",
       "      <td>RIVER</td>\n",
       "      <td>1</td>\n",
       "    </tr>\n",
       "    <tr>\n",
       "      <th>9</th>\n",
       "      <td>NORWAY</td>\n",
       "      <td>ELVA-01</td>\n",
       "      <td>61.535000</td>\n",
       "      <td>6.969000</td>\n",
       "      <td>4</td>\n",
       "      <td>RIVER</td>\n",
       "      <td>1</td>\n",
       "    </tr>\n",
       "    <tr>\n",
       "      <th>10</th>\n",
       "      <td>NORWAY</td>\n",
       "      <td>ELVA-05</td>\n",
       "      <td>61.507750</td>\n",
       "      <td>6.983633</td>\n",
       "      <td>5</td>\n",
       "      <td>RIVER</td>\n",
       "      <td>1</td>\n",
       "    </tr>\n",
       "    <tr>\n",
       "      <th>11</th>\n",
       "      <td>NORWAY</td>\n",
       "      <td>ELVA-07</td>\n",
       "      <td>61.496633</td>\n",
       "      <td>6.985067</td>\n",
       "      <td>6</td>\n",
       "      <td>RIVER</td>\n",
       "      <td>1</td>\n",
       "    </tr>\n",
       "    <tr>\n",
       "      <th>12</th>\n",
       "      <td>NORWAY</td>\n",
       "      <td>ELVA-11</td>\n",
       "      <td>61.480483</td>\n",
       "      <td>7.019617</td>\n",
       "      <td>7</td>\n",
       "      <td>RIVER</td>\n",
       "      <td>1</td>\n",
       "    </tr>\n",
       "  </tbody>\n",
       "</table>\n",
       "</div>"
      ],
      "text/plain": [
       "   LOCATION  SAMPLE_ID   LATITUDE  LONGITUDE  ORDER     TYPE  TYPE_NUM\n",
       "5    NORWAY  AUS-DRIFT  61.584000   7.001000      0  MORAINE         0\n",
       "6    NORWAY     AUS-01  61.589000   6.994000      1    RIVER         1\n",
       "7    NORWAY     AUS-03  61.579000   6.996000      2    RIVER         1\n",
       "8    NORWAY     AUS-07  61.544000   6.977000      3    RIVER         1\n",
       "9    NORWAY    ELVA-01  61.535000   6.969000      4    RIVER         1\n",
       "10   NORWAY    ELVA-05  61.507750   6.983633      5    RIVER         1\n",
       "11   NORWAY    ELVA-07  61.496633   6.985067      6    RIVER         1\n",
       "12   NORWAY    ELVA-11  61.480483   7.019617      7    RIVER         1"
      ]
     },
     "execution_count": 85,
     "metadata": {},
     "output_type": "execute_result"
    }
   ],
   "source": [
    "df_nor = df[df.LOCATION == \"NORWAY\"]\n",
    "df_nor"
   ]
  },
  {
   "cell_type": "code",
   "execution_count": 87,
   "metadata": {},
   "outputs": [],
   "source": [
    "df_nor = df[df.LOCATION == \"NORWAY\"]\n",
    "df_pr = df[df.LOCATION == \"PUERTO_RICO\"]\n",
    "df_peru = df[df.LOCATION == \"PERU\"]\n",
    "df_ab = df[df.LOCATION == \"CALIFORNIA\"]"
   ]
  },
  {
   "cell_type": "code",
   "execution_count": 166,
   "metadata": {},
   "outputs": [],
   "source": [
    "mapbox_access_token = \"pk.eyJ1IjoiY3VydGlzc21pdGgyOTEiLCJhIjoiY2txeWk2Y3A3MThiNjMxbDN5NmxxenUwNyJ9.7O7sGSGibpKiZrHc8j_JQg\"\n"
   ]
  },
  {
   "cell_type": "code",
   "execution_count": 243,
   "metadata": {
    "scrolled": false
   },
   "outputs": [
    {
     "data": {
      "application/vnd.plotly.v1+json": {
       "config": {
        "plotlyServerURL": "https://plot.ly"
       },
       "data": [
        {
         "hovertemplate": "Location: %{text}<br>Type: %{meta}",
         "lat": [
          61.584,
          61.589,
          61.579,
          61.544,
          61.535,
          61.50775,
          61.496632999999996,
          61.48048299999999
         ],
         "lon": [
          7.001,
          6.994,
          6.996,
          6.977,
          6.969,
          6.983633,
          6.985067,
          7.019617
         ],
         "marker": {
          "color": [
           0,
           1,
           1,
           1,
           1,
           1,
           1,
           1
          ],
          "colorscale": [
           [
            0,
            "rgb(0,0,131)"
           ],
           [
            0.2,
            "rgb(0,60,170)"
           ],
           [
            0.4,
            "rgb(5,255,255)"
           ],
           [
            0.6,
            "rgb(255,255,0)"
           ],
           [
            0.8,
            "rgb(250,0,0)"
           ],
           [
            1,
            "rgb(128,0,0)"
           ]
          ],
          "opacity": 0.8,
          "reversescale": true,
          "size": 10
         },
         "meta": [
          "MORAINE",
          "RIVER",
          "RIVER",
          "RIVER",
          "RIVER",
          "RIVER",
          "RIVER",
          "RIVER"
         ],
         "mode": "markers",
         "name": "Norway",
         "text": [
          "AUS-DRIFT",
          "AUS-01",
          "AUS-03",
          "AUS-07",
          "ELVA-01",
          "ELVA-05",
          "ELVA-07",
          "ELVA-11"
         ],
         "type": "scattermapbox",
         "visible": true
        },
        {
         "hovertemplate": "Location: %{text}<br>Type: %{meta}",
         "lat": [
          18.06905,
          18.05975,
          18.052,
          18.057217,
          18.08095,
          18.075083
         ],
         "lon": [
          -65.99555,
          -65.922933,
          -65.91535,
          -65.900467,
          -65.97585,
          -65.94565
         ],
         "marker": {
          "cmax": 0,
          "cmin": 0,
          "color": "rgb(0,0,131)",
          "colorscale": [
           [
            0,
            "rgb(0,0,131)"
           ],
           [
            0.2,
            "rgb(0,60,170)"
           ],
           [
            0.4,
            "rgb(5,255,255)"
           ],
           [
            0.6,
            "rgb(255,255,0)"
           ],
           [
            0.8,
            "rgb(250,0,0)"
           ],
           [
            1,
            "rgb(128,0,0)"
           ]
          ],
          "opacity": 0.8,
          "reversescale": true,
          "size": 10
         },
         "meta": [
          "RIVER",
          "RIVER",
          "RIVER",
          "RIVER",
          "RIVER",
          "RIVER"
         ],
         "mode": "markers",
         "name": "Puerto Rico",
         "text": [
          "RG-03",
          "RG-06",
          "RG-09",
          "RG-10",
          "RG-13",
          "RG-15"
         ],
         "type": "scattermapbox",
         "visible": true
        },
        {
         "hovertemplate": "Location: %{text}<br>Type: %{meta}",
         "lat": [
          -9.004667,
          -9.003567,
          -9.0126,
          -9.023966999999999,
          -9.039216999999999,
          -9.048302
         ],
         "lon": [
          -77.684083,
          -77.687433,
          -77.699967,
          -77.715867,
          -77.732733,
          -77.747691
         ],
         "marker": {
          "color": [
           0,
           1,
           1,
           1,
           1,
           1
          ],
          "colorscale": [
           [
            0,
            "rgb(0,0,131)"
           ],
           [
            0.2,
            "rgb(0,60,170)"
           ],
           [
            0.4,
            "rgb(5,255,255)"
           ],
           [
            0.6,
            "rgb(255,255,0)"
           ],
           [
            0.8,
            "rgb(250,0,0)"
           ],
           [
            1,
            "rgb(128,0,0)"
           ]
          ],
          "opacity": 0.8,
          "reversescale": true,
          "size": 10
         },
         "meta": [
          "MORAINE",
          "RIVER",
          "RIVER",
          "RIVER",
          "RIVER",
          "RIVER"
         ],
         "mode": "markers",
         "name": "Peru",
         "text": [
          "RP-MORAINE",
          "RP-01",
          "RP-03",
          "RP-05",
          "RP-06",
          "RP-08"
         ],
         "type": "scattermapbox",
         "visible": true
        },
        {
         "hovertemplate": "Location: %{text}<br>Type: %{meta}",
         "lat": [
          32.853683000000004,
          32.8595,
          32.863683,
          32.868533,
          32.873383000000004
         ],
         "lon": [
          -116.28856699999999,
          -116.26323300000001,
          -116.244417,
          -116.238317,
          -116.221167
         ],
         "marker": {
          "color": "rgb(0,0,131)",
          "colorscale": [
           [
            0,
            "rgb(0,0,131)"
           ],
           [
            0.2,
            "rgb(0,60,170)"
           ],
           [
            0.4,
            "rgb(5,255,255)"
           ],
           [
            0.6,
            "rgb(255,255,0)"
           ],
           [
            0.8,
            "rgb(250,0,0)"
           ],
           [
            1,
            "rgb(128,0,0)"
           ]
          ],
          "opacity": 0.8,
          "reversescale": true,
          "size": 10
         },
         "meta": [
          "RIVER",
          "RIVER",
          "RIVER",
          "RIVER",
          "RIVER"
         ],
         "mode": "markers",
         "name": "California",
         "text": [
          "IGNF-01",
          "IGNF-07",
          "IGNF-11",
          "IGNF-13",
          "IGNF-17"
         ],
         "type": "scattermapbox",
         "visible": true
        }
       ],
       "layout": {
        "legend": {
         "font": {
          "color": "black",
          "family": "sans-serif",
          "size": 12
         },
         "orientation": "h",
         "traceorder": "normal",
         "x": 0,
         "y": 1
        },
        "mapbox": {
         "accesstoken": "pk.eyJ1IjoiY3VydGlzc21pdGgyOTEiLCJhIjoiY2txeWk2Y3A3MThiNjMxbDN5NmxxenUwNyJ9.7O7sGSGibpKiZrHc8j_JQg",
         "center": {
          "lat": 61.54,
          "lon": 7
         },
         "style": "outdoors",
         "zoom": 9.5
        },
        "showlegend": false,
        "template": {
         "data": {
          "bar": [
           {
            "error_x": {
             "color": "#2a3f5f"
            },
            "error_y": {
             "color": "#2a3f5f"
            },
            "marker": {
             "line": {
              "color": "#E5ECF6",
              "width": 0.5
             },
             "pattern": {
              "fillmode": "overlay",
              "size": 10,
              "solidity": 0.2
             }
            },
            "type": "bar"
           }
          ],
          "barpolar": [
           {
            "marker": {
             "line": {
              "color": "#E5ECF6",
              "width": 0.5
             },
             "pattern": {
              "fillmode": "overlay",
              "size": 10,
              "solidity": 0.2
             }
            },
            "type": "barpolar"
           }
          ],
          "carpet": [
           {
            "aaxis": {
             "endlinecolor": "#2a3f5f",
             "gridcolor": "white",
             "linecolor": "white",
             "minorgridcolor": "white",
             "startlinecolor": "#2a3f5f"
            },
            "baxis": {
             "endlinecolor": "#2a3f5f",
             "gridcolor": "white",
             "linecolor": "white",
             "minorgridcolor": "white",
             "startlinecolor": "#2a3f5f"
            },
            "type": "carpet"
           }
          ],
          "choropleth": [
           {
            "colorbar": {
             "outlinewidth": 0,
             "ticks": ""
            },
            "type": "choropleth"
           }
          ],
          "contour": [
           {
            "colorbar": {
             "outlinewidth": 0,
             "ticks": ""
            },
            "colorscale": [
             [
              0,
              "#0d0887"
             ],
             [
              0.1111111111111111,
              "#46039f"
             ],
             [
              0.2222222222222222,
              "#7201a8"
             ],
             [
              0.3333333333333333,
              "#9c179e"
             ],
             [
              0.4444444444444444,
              "#bd3786"
             ],
             [
              0.5555555555555556,
              "#d8576b"
             ],
             [
              0.6666666666666666,
              "#ed7953"
             ],
             [
              0.7777777777777778,
              "#fb9f3a"
             ],
             [
              0.8888888888888888,
              "#fdca26"
             ],
             [
              1,
              "#f0f921"
             ]
            ],
            "type": "contour"
           }
          ],
          "contourcarpet": [
           {
            "colorbar": {
             "outlinewidth": 0,
             "ticks": ""
            },
            "type": "contourcarpet"
           }
          ],
          "heatmap": [
           {
            "colorbar": {
             "outlinewidth": 0,
             "ticks": ""
            },
            "colorscale": [
             [
              0,
              "#0d0887"
             ],
             [
              0.1111111111111111,
              "#46039f"
             ],
             [
              0.2222222222222222,
              "#7201a8"
             ],
             [
              0.3333333333333333,
              "#9c179e"
             ],
             [
              0.4444444444444444,
              "#bd3786"
             ],
             [
              0.5555555555555556,
              "#d8576b"
             ],
             [
              0.6666666666666666,
              "#ed7953"
             ],
             [
              0.7777777777777778,
              "#fb9f3a"
             ],
             [
              0.8888888888888888,
              "#fdca26"
             ],
             [
              1,
              "#f0f921"
             ]
            ],
            "type": "heatmap"
           }
          ],
          "heatmapgl": [
           {
            "colorbar": {
             "outlinewidth": 0,
             "ticks": ""
            },
            "colorscale": [
             [
              0,
              "#0d0887"
             ],
             [
              0.1111111111111111,
              "#46039f"
             ],
             [
              0.2222222222222222,
              "#7201a8"
             ],
             [
              0.3333333333333333,
              "#9c179e"
             ],
             [
              0.4444444444444444,
              "#bd3786"
             ],
             [
              0.5555555555555556,
              "#d8576b"
             ],
             [
              0.6666666666666666,
              "#ed7953"
             ],
             [
              0.7777777777777778,
              "#fb9f3a"
             ],
             [
              0.8888888888888888,
              "#fdca26"
             ],
             [
              1,
              "#f0f921"
             ]
            ],
            "type": "heatmapgl"
           }
          ],
          "histogram": [
           {
            "marker": {
             "pattern": {
              "fillmode": "overlay",
              "size": 10,
              "solidity": 0.2
             }
            },
            "type": "histogram"
           }
          ],
          "histogram2d": [
           {
            "colorbar": {
             "outlinewidth": 0,
             "ticks": ""
            },
            "colorscale": [
             [
              0,
              "#0d0887"
             ],
             [
              0.1111111111111111,
              "#46039f"
             ],
             [
              0.2222222222222222,
              "#7201a8"
             ],
             [
              0.3333333333333333,
              "#9c179e"
             ],
             [
              0.4444444444444444,
              "#bd3786"
             ],
             [
              0.5555555555555556,
              "#d8576b"
             ],
             [
              0.6666666666666666,
              "#ed7953"
             ],
             [
              0.7777777777777778,
              "#fb9f3a"
             ],
             [
              0.8888888888888888,
              "#fdca26"
             ],
             [
              1,
              "#f0f921"
             ]
            ],
            "type": "histogram2d"
           }
          ],
          "histogram2dcontour": [
           {
            "colorbar": {
             "outlinewidth": 0,
             "ticks": ""
            },
            "colorscale": [
             [
              0,
              "#0d0887"
             ],
             [
              0.1111111111111111,
              "#46039f"
             ],
             [
              0.2222222222222222,
              "#7201a8"
             ],
             [
              0.3333333333333333,
              "#9c179e"
             ],
             [
              0.4444444444444444,
              "#bd3786"
             ],
             [
              0.5555555555555556,
              "#d8576b"
             ],
             [
              0.6666666666666666,
              "#ed7953"
             ],
             [
              0.7777777777777778,
              "#fb9f3a"
             ],
             [
              0.8888888888888888,
              "#fdca26"
             ],
             [
              1,
              "#f0f921"
             ]
            ],
            "type": "histogram2dcontour"
           }
          ],
          "mesh3d": [
           {
            "colorbar": {
             "outlinewidth": 0,
             "ticks": ""
            },
            "type": "mesh3d"
           }
          ],
          "parcoords": [
           {
            "line": {
             "colorbar": {
              "outlinewidth": 0,
              "ticks": ""
             }
            },
            "type": "parcoords"
           }
          ],
          "pie": [
           {
            "automargin": true,
            "type": "pie"
           }
          ],
          "scatter": [
           {
            "marker": {
             "colorbar": {
              "outlinewidth": 0,
              "ticks": ""
             }
            },
            "type": "scatter"
           }
          ],
          "scatter3d": [
           {
            "line": {
             "colorbar": {
              "outlinewidth": 0,
              "ticks": ""
             }
            },
            "marker": {
             "colorbar": {
              "outlinewidth": 0,
              "ticks": ""
             }
            },
            "type": "scatter3d"
           }
          ],
          "scattercarpet": [
           {
            "marker": {
             "colorbar": {
              "outlinewidth": 0,
              "ticks": ""
             }
            },
            "type": "scattercarpet"
           }
          ],
          "scattergeo": [
           {
            "marker": {
             "colorbar": {
              "outlinewidth": 0,
              "ticks": ""
             }
            },
            "type": "scattergeo"
           }
          ],
          "scattergl": [
           {
            "marker": {
             "colorbar": {
              "outlinewidth": 0,
              "ticks": ""
             }
            },
            "type": "scattergl"
           }
          ],
          "scattermapbox": [
           {
            "marker": {
             "colorbar": {
              "outlinewidth": 0,
              "ticks": ""
             }
            },
            "type": "scattermapbox"
           }
          ],
          "scatterpolar": [
           {
            "marker": {
             "colorbar": {
              "outlinewidth": 0,
              "ticks": ""
             }
            },
            "type": "scatterpolar"
           }
          ],
          "scatterpolargl": [
           {
            "marker": {
             "colorbar": {
              "outlinewidth": 0,
              "ticks": ""
             }
            },
            "type": "scatterpolargl"
           }
          ],
          "scatterternary": [
           {
            "marker": {
             "colorbar": {
              "outlinewidth": 0,
              "ticks": ""
             }
            },
            "type": "scatterternary"
           }
          ],
          "surface": [
           {
            "colorbar": {
             "outlinewidth": 0,
             "ticks": ""
            },
            "colorscale": [
             [
              0,
              "#0d0887"
             ],
             [
              0.1111111111111111,
              "#46039f"
             ],
             [
              0.2222222222222222,
              "#7201a8"
             ],
             [
              0.3333333333333333,
              "#9c179e"
             ],
             [
              0.4444444444444444,
              "#bd3786"
             ],
             [
              0.5555555555555556,
              "#d8576b"
             ],
             [
              0.6666666666666666,
              "#ed7953"
             ],
             [
              0.7777777777777778,
              "#fb9f3a"
             ],
             [
              0.8888888888888888,
              "#fdca26"
             ],
             [
              1,
              "#f0f921"
             ]
            ],
            "type": "surface"
           }
          ],
          "table": [
           {
            "cells": {
             "fill": {
              "color": "#EBF0F8"
             },
             "line": {
              "color": "white"
             }
            },
            "header": {
             "fill": {
              "color": "#C8D4E3"
             },
             "line": {
              "color": "white"
             }
            },
            "type": "table"
           }
          ]
         },
         "layout": {
          "annotationdefaults": {
           "arrowcolor": "#2a3f5f",
           "arrowhead": 0,
           "arrowwidth": 1
          },
          "autotypenumbers": "strict",
          "coloraxis": {
           "colorbar": {
            "outlinewidth": 0,
            "ticks": ""
           }
          },
          "colorscale": {
           "diverging": [
            [
             0,
             "#8e0152"
            ],
            [
             0.1,
             "#c51b7d"
            ],
            [
             0.2,
             "#de77ae"
            ],
            [
             0.3,
             "#f1b6da"
            ],
            [
             0.4,
             "#fde0ef"
            ],
            [
             0.5,
             "#f7f7f7"
            ],
            [
             0.6,
             "#e6f5d0"
            ],
            [
             0.7,
             "#b8e186"
            ],
            [
             0.8,
             "#7fbc41"
            ],
            [
             0.9,
             "#4d9221"
            ],
            [
             1,
             "#276419"
            ]
           ],
           "sequential": [
            [
             0,
             "#0d0887"
            ],
            [
             0.1111111111111111,
             "#46039f"
            ],
            [
             0.2222222222222222,
             "#7201a8"
            ],
            [
             0.3333333333333333,
             "#9c179e"
            ],
            [
             0.4444444444444444,
             "#bd3786"
            ],
            [
             0.5555555555555556,
             "#d8576b"
            ],
            [
             0.6666666666666666,
             "#ed7953"
            ],
            [
             0.7777777777777778,
             "#fb9f3a"
            ],
            [
             0.8888888888888888,
             "#fdca26"
            ],
            [
             1,
             "#f0f921"
            ]
           ],
           "sequentialminus": [
            [
             0,
             "#0d0887"
            ],
            [
             0.1111111111111111,
             "#46039f"
            ],
            [
             0.2222222222222222,
             "#7201a8"
            ],
            [
             0.3333333333333333,
             "#9c179e"
            ],
            [
             0.4444444444444444,
             "#bd3786"
            ],
            [
             0.5555555555555556,
             "#d8576b"
            ],
            [
             0.6666666666666666,
             "#ed7953"
            ],
            [
             0.7777777777777778,
             "#fb9f3a"
            ],
            [
             0.8888888888888888,
             "#fdca26"
            ],
            [
             1,
             "#f0f921"
            ]
           ]
          },
          "colorway": [
           "#636efa",
           "#EF553B",
           "#00cc96",
           "#ab63fa",
           "#FFA15A",
           "#19d3f3",
           "#FF6692",
           "#B6E880",
           "#FF97FF",
           "#FECB52"
          ],
          "font": {
           "color": "#2a3f5f"
          },
          "geo": {
           "bgcolor": "white",
           "lakecolor": "white",
           "landcolor": "#E5ECF6",
           "showlakes": true,
           "showland": true,
           "subunitcolor": "white"
          },
          "hoverlabel": {
           "align": "left"
          },
          "hovermode": "closest",
          "mapbox": {
           "style": "light"
          },
          "paper_bgcolor": "white",
          "plot_bgcolor": "#E5ECF6",
          "polar": {
           "angularaxis": {
            "gridcolor": "white",
            "linecolor": "white",
            "ticks": ""
           },
           "bgcolor": "#E5ECF6",
           "radialaxis": {
            "gridcolor": "white",
            "linecolor": "white",
            "ticks": ""
           }
          },
          "scene": {
           "xaxis": {
            "backgroundcolor": "#E5ECF6",
            "gridcolor": "white",
            "gridwidth": 2,
            "linecolor": "white",
            "showbackground": true,
            "ticks": "",
            "zerolinecolor": "white"
           },
           "yaxis": {
            "backgroundcolor": "#E5ECF6",
            "gridcolor": "white",
            "gridwidth": 2,
            "linecolor": "white",
            "showbackground": true,
            "ticks": "",
            "zerolinecolor": "white"
           },
           "zaxis": {
            "backgroundcolor": "#E5ECF6",
            "gridcolor": "white",
            "gridwidth": 2,
            "linecolor": "white",
            "showbackground": true,
            "ticks": "",
            "zerolinecolor": "white"
           }
          },
          "shapedefaults": {
           "line": {
            "color": "#2a3f5f"
           }
          },
          "ternary": {
           "aaxis": {
            "gridcolor": "white",
            "linecolor": "white",
            "ticks": ""
           },
           "baxis": {
            "gridcolor": "white",
            "linecolor": "white",
            "ticks": ""
           },
           "bgcolor": "#E5ECF6",
           "caxis": {
            "gridcolor": "white",
            "linecolor": "white",
            "ticks": ""
           }
          },
          "title": {
           "x": 0.05
          },
          "xaxis": {
           "automargin": true,
           "gridcolor": "white",
           "linecolor": "white",
           "ticks": "",
           "title": {
            "standoff": 15
           },
           "zerolinecolor": "white",
           "zerolinewidth": 2
          },
          "yaxis": {
           "automargin": true,
           "gridcolor": "white",
           "linecolor": "white",
           "ticks": "",
           "title": {
            "standoff": 15
           },
           "zerolinecolor": "white",
           "zerolinewidth": 2
          }
         }
        },
        "title": {
         "text": "Sample Locations: Norway"
        },
        "updatemenus": [
         {
          "buttons": [
           {
            "args": [
             {
              "mapbox.center.lat": 61.54,
              "mapbox.center.lon": 7,
              "mapbox.zoom": 9,
              "title": "Sample Location: Norway"
             }
            ],
            "label": "Norway",
            "method": "relayout"
           },
           {
            "args": [
             {
              "mapbox.center.lat": 18.065,
              "mapbox.center.lon": -65.94,
              "mapbox.zoom": 12,
              "title": "Sample Location: Puerto Rico"
             }
            ],
            "label": "Puerto Rico",
            "method": "relayout"
           },
           {
            "args": [
             {
              "mapbox.center.lat": -9.025,
              "mapbox.center.lon": -77.71,
              "mapbox.zoom": 12,
              "title": "Sample Location: Peru"
             }
            ],
            "label": "Peru",
            "method": "relayout"
           },
           {
            "args": [
             {
              "mapbox.center.lat": 32.858,
              "mapbox.center.lon": -116.25,
              "mapbox.zoom": 12,
              "title": "Sample Location: California"
             }
            ],
            "label": "California",
            "method": "relayout"
           }
          ],
          "direction": "down",
          "type": "buttons"
         }
        ]
       }
      },
      "text/html": [
       "<div>                            <div id=\"684d41f6-f995-4cc8-873c-93564738ce12\" class=\"plotly-graph-div\" style=\"height:525px; width:100%;\"></div>            <script type=\"text/javascript\">                require([\"plotly\"], function(Plotly) {                    window.PLOTLYENV=window.PLOTLYENV || {};                                    if (document.getElementById(\"684d41f6-f995-4cc8-873c-93564738ce12\")) {                    Plotly.newPlot(                        \"684d41f6-f995-4cc8-873c-93564738ce12\",                        [{\"hovertemplate\":\"Location: %{text}<br>Type: %{meta}\",\"lat\":[61.584,61.589,61.579,61.544,61.535,61.50775,61.496632999999996,61.48048299999999],\"lon\":[7.001,6.994,6.996,6.977,6.969,6.983633,6.985067,7.019617],\"marker\":{\"color\":[0,1,1,1,1,1,1,1],\"colorscale\":[[0.0,\"rgb(0,0,131)\"],[0.2,\"rgb(0,60,170)\"],[0.4,\"rgb(5,255,255)\"],[0.6,\"rgb(255,255,0)\"],[0.8,\"rgb(250,0,0)\"],[1.0,\"rgb(128,0,0)\"]],\"opacity\":0.8,\"reversescale\":true,\"size\":10},\"meta\":[\"MORAINE\",\"RIVER\",\"RIVER\",\"RIVER\",\"RIVER\",\"RIVER\",\"RIVER\",\"RIVER\"],\"mode\":\"markers\",\"name\":\"Norway\",\"text\":[\"AUS-DRIFT\",\"AUS-01\",\"AUS-03\",\"AUS-07\",\"ELVA-01\",\"ELVA-05\",\"ELVA-07\",\"ELVA-11\"],\"visible\":true,\"type\":\"scattermapbox\"},{\"hovertemplate\":\"Location: %{text}<br>Type: %{meta}\",\"lat\":[18.06905,18.05975,18.052,18.057217,18.08095,18.075083],\"lon\":[-65.99555,-65.922933,-65.91535,-65.900467,-65.97585,-65.94565],\"marker\":{\"cmax\":0,\"cmin\":0,\"color\":\"rgb(0,0,131)\",\"colorscale\":[[0.0,\"rgb(0,0,131)\"],[0.2,\"rgb(0,60,170)\"],[0.4,\"rgb(5,255,255)\"],[0.6,\"rgb(255,255,0)\"],[0.8,\"rgb(250,0,0)\"],[1.0,\"rgb(128,0,0)\"]],\"opacity\":0.8,\"reversescale\":true,\"size\":10},\"meta\":[\"RIVER\",\"RIVER\",\"RIVER\",\"RIVER\",\"RIVER\",\"RIVER\"],\"mode\":\"markers\",\"name\":\"Puerto Rico\",\"text\":[\"RG-03\",\"RG-06\",\"RG-09\",\"RG-10\",\"RG-13\",\"RG-15\"],\"visible\":true,\"type\":\"scattermapbox\"},{\"hovertemplate\":\"Location: %{text}<br>Type: %{meta}\",\"lat\":[-9.004667,-9.003567,-9.0126,-9.023966999999999,-9.039216999999999,-9.048302],\"lon\":[-77.684083,-77.687433,-77.699967,-77.715867,-77.732733,-77.747691],\"marker\":{\"color\":[0,1,1,1,1,1],\"colorscale\":[[0.0,\"rgb(0,0,131)\"],[0.2,\"rgb(0,60,170)\"],[0.4,\"rgb(5,255,255)\"],[0.6,\"rgb(255,255,0)\"],[0.8,\"rgb(250,0,0)\"],[1.0,\"rgb(128,0,0)\"]],\"opacity\":0.8,\"reversescale\":true,\"size\":10},\"meta\":[\"MORAINE\",\"RIVER\",\"RIVER\",\"RIVER\",\"RIVER\",\"RIVER\"],\"mode\":\"markers\",\"name\":\"Peru\",\"text\":[\"RP-MORAINE\",\"RP-01\",\"RP-03\",\"RP-05\",\"RP-06\",\"RP-08\"],\"visible\":true,\"type\":\"scattermapbox\"},{\"hovertemplate\":\"Location: %{text}<br>Type: %{meta}\",\"lat\":[32.853683000000004,32.8595,32.863683,32.868533,32.873383000000004],\"lon\":[-116.28856699999999,-116.26323300000001,-116.244417,-116.238317,-116.221167],\"marker\":{\"color\":\"rgb(0,0,131)\",\"colorscale\":[[0.0,\"rgb(0,0,131)\"],[0.2,\"rgb(0,60,170)\"],[0.4,\"rgb(5,255,255)\"],[0.6,\"rgb(255,255,0)\"],[0.8,\"rgb(250,0,0)\"],[1.0,\"rgb(128,0,0)\"]],\"opacity\":0.8,\"reversescale\":true,\"size\":10},\"meta\":[\"RIVER\",\"RIVER\",\"RIVER\",\"RIVER\",\"RIVER\"],\"mode\":\"markers\",\"name\":\"California\",\"text\":[\"IGNF-01\",\"IGNF-07\",\"IGNF-11\",\"IGNF-13\",\"IGNF-17\"],\"visible\":true,\"type\":\"scattermapbox\"}],                        {\"template\":{\"data\":{\"bar\":[{\"error_x\":{\"color\":\"#2a3f5f\"},\"error_y\":{\"color\":\"#2a3f5f\"},\"marker\":{\"line\":{\"color\":\"#E5ECF6\",\"width\":0.5},\"pattern\":{\"fillmode\":\"overlay\",\"size\":10,\"solidity\":0.2}},\"type\":\"bar\"}],\"barpolar\":[{\"marker\":{\"line\":{\"color\":\"#E5ECF6\",\"width\":0.5},\"pattern\":{\"fillmode\":\"overlay\",\"size\":10,\"solidity\":0.2}},\"type\":\"barpolar\"}],\"carpet\":[{\"aaxis\":{\"endlinecolor\":\"#2a3f5f\",\"gridcolor\":\"white\",\"linecolor\":\"white\",\"minorgridcolor\":\"white\",\"startlinecolor\":\"#2a3f5f\"},\"baxis\":{\"endlinecolor\":\"#2a3f5f\",\"gridcolor\":\"white\",\"linecolor\":\"white\",\"minorgridcolor\":\"white\",\"startlinecolor\":\"#2a3f5f\"},\"type\":\"carpet\"}],\"choropleth\":[{\"colorbar\":{\"outlinewidth\":0,\"ticks\":\"\"},\"type\":\"choropleth\"}],\"contour\":[{\"colorbar\":{\"outlinewidth\":0,\"ticks\":\"\"},\"colorscale\":[[0.0,\"#0d0887\"],[0.1111111111111111,\"#46039f\"],[0.2222222222222222,\"#7201a8\"],[0.3333333333333333,\"#9c179e\"],[0.4444444444444444,\"#bd3786\"],[0.5555555555555556,\"#d8576b\"],[0.6666666666666666,\"#ed7953\"],[0.7777777777777778,\"#fb9f3a\"],[0.8888888888888888,\"#fdca26\"],[1.0,\"#f0f921\"]],\"type\":\"contour\"}],\"contourcarpet\":[{\"colorbar\":{\"outlinewidth\":0,\"ticks\":\"\"},\"type\":\"contourcarpet\"}],\"heatmap\":[{\"colorbar\":{\"outlinewidth\":0,\"ticks\":\"\"},\"colorscale\":[[0.0,\"#0d0887\"],[0.1111111111111111,\"#46039f\"],[0.2222222222222222,\"#7201a8\"],[0.3333333333333333,\"#9c179e\"],[0.4444444444444444,\"#bd3786\"],[0.5555555555555556,\"#d8576b\"],[0.6666666666666666,\"#ed7953\"],[0.7777777777777778,\"#fb9f3a\"],[0.8888888888888888,\"#fdca26\"],[1.0,\"#f0f921\"]],\"type\":\"heatmap\"}],\"heatmapgl\":[{\"colorbar\":{\"outlinewidth\":0,\"ticks\":\"\"},\"colorscale\":[[0.0,\"#0d0887\"],[0.1111111111111111,\"#46039f\"],[0.2222222222222222,\"#7201a8\"],[0.3333333333333333,\"#9c179e\"],[0.4444444444444444,\"#bd3786\"],[0.5555555555555556,\"#d8576b\"],[0.6666666666666666,\"#ed7953\"],[0.7777777777777778,\"#fb9f3a\"],[0.8888888888888888,\"#fdca26\"],[1.0,\"#f0f921\"]],\"type\":\"heatmapgl\"}],\"histogram\":[{\"marker\":{\"pattern\":{\"fillmode\":\"overlay\",\"size\":10,\"solidity\":0.2}},\"type\":\"histogram\"}],\"histogram2d\":[{\"colorbar\":{\"outlinewidth\":0,\"ticks\":\"\"},\"colorscale\":[[0.0,\"#0d0887\"],[0.1111111111111111,\"#46039f\"],[0.2222222222222222,\"#7201a8\"],[0.3333333333333333,\"#9c179e\"],[0.4444444444444444,\"#bd3786\"],[0.5555555555555556,\"#d8576b\"],[0.6666666666666666,\"#ed7953\"],[0.7777777777777778,\"#fb9f3a\"],[0.8888888888888888,\"#fdca26\"],[1.0,\"#f0f921\"]],\"type\":\"histogram2d\"}],\"histogram2dcontour\":[{\"colorbar\":{\"outlinewidth\":0,\"ticks\":\"\"},\"colorscale\":[[0.0,\"#0d0887\"],[0.1111111111111111,\"#46039f\"],[0.2222222222222222,\"#7201a8\"],[0.3333333333333333,\"#9c179e\"],[0.4444444444444444,\"#bd3786\"],[0.5555555555555556,\"#d8576b\"],[0.6666666666666666,\"#ed7953\"],[0.7777777777777778,\"#fb9f3a\"],[0.8888888888888888,\"#fdca26\"],[1.0,\"#f0f921\"]],\"type\":\"histogram2dcontour\"}],\"mesh3d\":[{\"colorbar\":{\"outlinewidth\":0,\"ticks\":\"\"},\"type\":\"mesh3d\"}],\"parcoords\":[{\"line\":{\"colorbar\":{\"outlinewidth\":0,\"ticks\":\"\"}},\"type\":\"parcoords\"}],\"pie\":[{\"automargin\":true,\"type\":\"pie\"}],\"scatter\":[{\"marker\":{\"colorbar\":{\"outlinewidth\":0,\"ticks\":\"\"}},\"type\":\"scatter\"}],\"scatter3d\":[{\"line\":{\"colorbar\":{\"outlinewidth\":0,\"ticks\":\"\"}},\"marker\":{\"colorbar\":{\"outlinewidth\":0,\"ticks\":\"\"}},\"type\":\"scatter3d\"}],\"scattercarpet\":[{\"marker\":{\"colorbar\":{\"outlinewidth\":0,\"ticks\":\"\"}},\"type\":\"scattercarpet\"}],\"scattergeo\":[{\"marker\":{\"colorbar\":{\"outlinewidth\":0,\"ticks\":\"\"}},\"type\":\"scattergeo\"}],\"scattergl\":[{\"marker\":{\"colorbar\":{\"outlinewidth\":0,\"ticks\":\"\"}},\"type\":\"scattergl\"}],\"scattermapbox\":[{\"marker\":{\"colorbar\":{\"outlinewidth\":0,\"ticks\":\"\"}},\"type\":\"scattermapbox\"}],\"scatterpolar\":[{\"marker\":{\"colorbar\":{\"outlinewidth\":0,\"ticks\":\"\"}},\"type\":\"scatterpolar\"}],\"scatterpolargl\":[{\"marker\":{\"colorbar\":{\"outlinewidth\":0,\"ticks\":\"\"}},\"type\":\"scatterpolargl\"}],\"scatterternary\":[{\"marker\":{\"colorbar\":{\"outlinewidth\":0,\"ticks\":\"\"}},\"type\":\"scatterternary\"}],\"surface\":[{\"colorbar\":{\"outlinewidth\":0,\"ticks\":\"\"},\"colorscale\":[[0.0,\"#0d0887\"],[0.1111111111111111,\"#46039f\"],[0.2222222222222222,\"#7201a8\"],[0.3333333333333333,\"#9c179e\"],[0.4444444444444444,\"#bd3786\"],[0.5555555555555556,\"#d8576b\"],[0.6666666666666666,\"#ed7953\"],[0.7777777777777778,\"#fb9f3a\"],[0.8888888888888888,\"#fdca26\"],[1.0,\"#f0f921\"]],\"type\":\"surface\"}],\"table\":[{\"cells\":{\"fill\":{\"color\":\"#EBF0F8\"},\"line\":{\"color\":\"white\"}},\"header\":{\"fill\":{\"color\":\"#C8D4E3\"},\"line\":{\"color\":\"white\"}},\"type\":\"table\"}]},\"layout\":{\"annotationdefaults\":{\"arrowcolor\":\"#2a3f5f\",\"arrowhead\":0,\"arrowwidth\":1},\"autotypenumbers\":\"strict\",\"coloraxis\":{\"colorbar\":{\"outlinewidth\":0,\"ticks\":\"\"}},\"colorscale\":{\"diverging\":[[0,\"#8e0152\"],[0.1,\"#c51b7d\"],[0.2,\"#de77ae\"],[0.3,\"#f1b6da\"],[0.4,\"#fde0ef\"],[0.5,\"#f7f7f7\"],[0.6,\"#e6f5d0\"],[0.7,\"#b8e186\"],[0.8,\"#7fbc41\"],[0.9,\"#4d9221\"],[1,\"#276419\"]],\"sequential\":[[0.0,\"#0d0887\"],[0.1111111111111111,\"#46039f\"],[0.2222222222222222,\"#7201a8\"],[0.3333333333333333,\"#9c179e\"],[0.4444444444444444,\"#bd3786\"],[0.5555555555555556,\"#d8576b\"],[0.6666666666666666,\"#ed7953\"],[0.7777777777777778,\"#fb9f3a\"],[0.8888888888888888,\"#fdca26\"],[1.0,\"#f0f921\"]],\"sequentialminus\":[[0.0,\"#0d0887\"],[0.1111111111111111,\"#46039f\"],[0.2222222222222222,\"#7201a8\"],[0.3333333333333333,\"#9c179e\"],[0.4444444444444444,\"#bd3786\"],[0.5555555555555556,\"#d8576b\"],[0.6666666666666666,\"#ed7953\"],[0.7777777777777778,\"#fb9f3a\"],[0.8888888888888888,\"#fdca26\"],[1.0,\"#f0f921\"]]},\"colorway\":[\"#636efa\",\"#EF553B\",\"#00cc96\",\"#ab63fa\",\"#FFA15A\",\"#19d3f3\",\"#FF6692\",\"#B6E880\",\"#FF97FF\",\"#FECB52\"],\"font\":{\"color\":\"#2a3f5f\"},\"geo\":{\"bgcolor\":\"white\",\"lakecolor\":\"white\",\"landcolor\":\"#E5ECF6\",\"showlakes\":true,\"showland\":true,\"subunitcolor\":\"white\"},\"hoverlabel\":{\"align\":\"left\"},\"hovermode\":\"closest\",\"mapbox\":{\"style\":\"light\"},\"paper_bgcolor\":\"white\",\"plot_bgcolor\":\"#E5ECF6\",\"polar\":{\"angularaxis\":{\"gridcolor\":\"white\",\"linecolor\":\"white\",\"ticks\":\"\"},\"bgcolor\":\"#E5ECF6\",\"radialaxis\":{\"gridcolor\":\"white\",\"linecolor\":\"white\",\"ticks\":\"\"}},\"scene\":{\"xaxis\":{\"backgroundcolor\":\"#E5ECF6\",\"gridcolor\":\"white\",\"gridwidth\":2,\"linecolor\":\"white\",\"showbackground\":true,\"ticks\":\"\",\"zerolinecolor\":\"white\"},\"yaxis\":{\"backgroundcolor\":\"#E5ECF6\",\"gridcolor\":\"white\",\"gridwidth\":2,\"linecolor\":\"white\",\"showbackground\":true,\"ticks\":\"\",\"zerolinecolor\":\"white\"},\"zaxis\":{\"backgroundcolor\":\"#E5ECF6\",\"gridcolor\":\"white\",\"gridwidth\":2,\"linecolor\":\"white\",\"showbackground\":true,\"ticks\":\"\",\"zerolinecolor\":\"white\"}},\"shapedefaults\":{\"line\":{\"color\":\"#2a3f5f\"}},\"ternary\":{\"aaxis\":{\"gridcolor\":\"white\",\"linecolor\":\"white\",\"ticks\":\"\"},\"baxis\":{\"gridcolor\":\"white\",\"linecolor\":\"white\",\"ticks\":\"\"},\"bgcolor\":\"#E5ECF6\",\"caxis\":{\"gridcolor\":\"white\",\"linecolor\":\"white\",\"ticks\":\"\"}},\"title\":{\"x\":0.05},\"xaxis\":{\"automargin\":true,\"gridcolor\":\"white\",\"linecolor\":\"white\",\"ticks\":\"\",\"title\":{\"standoff\":15},\"zerolinecolor\":\"white\",\"zerolinewidth\":2},\"yaxis\":{\"automargin\":true,\"gridcolor\":\"white\",\"linecolor\":\"white\",\"ticks\":\"\",\"title\":{\"standoff\":15},\"zerolinecolor\":\"white\",\"zerolinewidth\":2}}},\"updatemenus\":[{\"buttons\":[{\"args\":[{\"title\":\"Sample Location: Norway\",\"mapbox.center.lat\":61.54,\"mapbox.center.lon\":7.0,\"mapbox.zoom\":9}],\"label\":\"Norway\",\"method\":\"relayout\"},{\"args\":[{\"title\":\"Sample Location: Puerto Rico\",\"mapbox.center.lat\":18.065,\"mapbox.center.lon\":-65.94,\"mapbox.zoom\":12}],\"label\":\"Puerto Rico\",\"method\":\"relayout\"},{\"args\":[{\"title\":\"Sample Location: Peru\",\"mapbox.center.lat\":-9.025,\"mapbox.center.lon\":-77.71,\"mapbox.zoom\":12}],\"label\":\"Peru\",\"method\":\"relayout\"},{\"args\":[{\"title\":\"Sample Location: California\",\"mapbox.center.lat\":32.858,\"mapbox.center.lon\":-116.25,\"mapbox.zoom\":12}],\"label\":\"California\",\"method\":\"relayout\"}],\"direction\":\"down\",\"type\":\"buttons\"}],\"mapbox\":{\"center\":{\"lat\":61.54,\"lon\":7.0},\"accesstoken\":\"pk.eyJ1IjoiY3VydGlzc21pdGgyOTEiLCJhIjoiY2txeWk2Y3A3MThiNjMxbDN5NmxxenUwNyJ9.7O7sGSGibpKiZrHc8j_JQg\",\"style\":\"outdoors\",\"zoom\":9.5},\"legend\":{\"font\":{\"family\":\"sans-serif\",\"size\":12,\"color\":\"black\"},\"x\":0,\"y\":1,\"traceorder\":\"normal\",\"orientation\":\"h\"},\"title\":{\"text\":\"Sample Locations: Norway\"},\"showlegend\":false},                        {\"responsive\": true}                    ).then(function(){\n",
       "                            \n",
       "var gd = document.getElementById('684d41f6-f995-4cc8-873c-93564738ce12');\n",
       "var x = new MutationObserver(function (mutations, observer) {{\n",
       "        var display = window.getComputedStyle(gd).display;\n",
       "        if (!display || display === 'none') {{\n",
       "            console.log([gd, 'removed!']);\n",
       "            Plotly.purge(gd);\n",
       "            observer.disconnect();\n",
       "        }}\n",
       "}});\n",
       "\n",
       "// Listen for the removal of the full notebook cells\n",
       "var notebookContainer = gd.closest('#notebook-container');\n",
       "if (notebookContainer) {{\n",
       "    x.observe(notebookContainer, {childList: true});\n",
       "}}\n",
       "\n",
       "// Listen for the clearing of the current output cell\n",
       "var outputEl = gd.closest('.output');\n",
       "if (outputEl) {{\n",
       "    x.observe(outputEl, {childList: true});\n",
       "}}\n",
       "\n",
       "                        })                };                });            </script>        </div>"
      ]
     },
     "metadata": {},
     "output_type": "display_data"
    }
   ],
   "source": [
    "\n",
    "# center = dict(lat=61.54, lon=7.0)\n",
    "center = {\"nor\": dict(lat=61.54, lon=7.0)}\n",
    "x = \"nor\"\n",
    "\n",
    "\n",
    "fig=go.Figure()\n",
    "\n",
    "\n",
    "fig.add_trace(go.Scattermapbox(\n",
    "    lat=df_nor.LATITUDE, \n",
    "    lon=df_nor.LONGITUDE,\n",
    "    name = \"Norway\",\n",
    "    meta = df_nor['TYPE'],\n",
    "    text = df_nor['SAMPLE_ID'],\n",
    "    visible = True,\n",
    "    mode = 'markers',\n",
    "    hovertemplate = \"Location: %{text}<br>\" + \"Type: %{meta}\",\n",
    "    marker = dict(\n",
    "        size = 10,\n",
    "        opacity = 0.8,\n",
    "        colorscale = 'jet',\n",
    "        color = df_nor.TYPE_NUM,\n",
    "        reversescale=True,\n",
    "    )))\n",
    "\n",
    "fig.add_trace(go.Scattermapbox(\n",
    "    lat=df_pr.LATITUDE, \n",
    "    lon=df_pr.LONGITUDE,\n",
    "    name = \"Puerto Rico\",\n",
    "    meta = df_pr['TYPE'],\n",
    "    text = df_pr['SAMPLE_ID'],\n",
    "    visible = True,\n",
    "    mode = 'markers',\n",
    "    hovertemplate = \"Location: %{text}<br>\" + \"Type: %{meta}\",\n",
    "    marker = dict(\n",
    "        size = 10,\n",
    "        opacity = 0.8,\n",
    "        colorscale = 'jet',\n",
    "        color = 'rgb(0,0,131)',\n",
    "        cmin = 0,\n",
    "        cmax = 0,\n",
    "        reversescale=True,\n",
    "    )))\n",
    "\n",
    "fig.add_trace(go.Scattermapbox(\n",
    "    lat=df_peru.LATITUDE, \n",
    "    lon=df_peru.LONGITUDE,\n",
    "    name = \"Peru\",\n",
    "    meta = df_peru['TYPE'],\n",
    "    text = df_peru['SAMPLE_ID'],\n",
    "    visible = True,\n",
    "    mode = 'markers',\n",
    "    hovertemplate = \"Location: %{text}<br>\" + \"Type: %{meta}\",\n",
    "    marker = dict(\n",
    "        size = 10,\n",
    "        opacity = 0.8,\n",
    "        colorscale = 'jet',\n",
    "        color = df_peru.TYPE_NUM,\n",
    "        reversescale=True,\n",
    "    )))\n",
    "\n",
    "fig.add_trace(go.Scattermapbox(\n",
    "    lat=df_ab.LATITUDE, \n",
    "    lon=df_ab.LONGITUDE,\n",
    "    name = \"California\",\n",
    "    meta = df_ab['TYPE'],\n",
    "    text = df_ab['SAMPLE_ID'],\n",
    "    visible = True,\n",
    "    mode = 'markers',\n",
    "    hovertemplate = \"Location: %{text}<br>\" + \"Type: %{meta}\",\n",
    "    marker = dict(\n",
    "        size = 10,\n",
    "        opacity = 0.8,\n",
    "        colorscale = 'jet',\n",
    "        color = 'rgb(0,0,131)',\n",
    "        reversescale=True,\n",
    "    )))\n",
    "\n",
    "\n",
    "\n",
    "fig.update_layout(\n",
    "    updatemenus=[\n",
    "        dict(\n",
    "            buttons=list([\n",
    "                dict(\n",
    "                    args=[{\"title\": \"Sample Location: Norway\",\n",
    "                           'mapbox.center.lat': 61.54,\n",
    "                           'mapbox.center.lon': 7.0,\n",
    "                           'mapbox.zoom': 9\n",
    "                          }],\n",
    "                    label=\"Norway\",\n",
    "                    method=\"relayout\"\n",
    "                ),\n",
    "                dict(\n",
    "                    args=[{\"title\": \"Sample Location: Puerto Rico\",\n",
    "                           'mapbox.center.lat': 18.065,\n",
    "                           'mapbox.center.lon': -65.94,\n",
    "                           'mapbox.zoom': 12\n",
    "                          }],\n",
    "                    label=\"Puerto Rico\",\n",
    "                    method=\"relayout\"\n",
    "                ),\n",
    "                dict(\n",
    "                    args=[{\"title\": \"Sample Location: Peru\",\n",
    "                           'mapbox.center.lat': -9.025,\n",
    "                           'mapbox.center.lon': -77.71,\n",
    "                           'mapbox.zoom': 12\n",
    "                          }],\n",
    "                    label=\"Peru\",\n",
    "                    method=\"relayout\"\n",
    "                ),\n",
    "                dict(\n",
    "                    args=[{\"title\": \"Sample Location: California\",\n",
    "                           'mapbox.center.lat': 32.858,\n",
    "                           'mapbox.center.lon': -116.25,\n",
    "                           'mapbox.zoom': 12\n",
    "                          }],\n",
    "                    label=\"California\",\n",
    "                    method=\"relayout\"\n",
    "                ),\n",
    "            ]),\n",
    "            type=\"buttons\",\n",
    "            direction=\"down\",\n",
    "        )])\n",
    "\n",
    "fig.update_layout(\n",
    "    title = 'Sample Locations: Norway',\n",
    "    mapbox = {\n",
    "        'accesstoken': mapbox_access_token,\n",
    "        #'style': \"carto-positron\",\n",
    "        'style': \"outdoors\",\n",
    "        'zoom': 9.5,\n",
    "        #'center':dict(lat=61.54, lon=7.0),\n",
    "    },\n",
    "    mapbox_center =  {\"lat\": 61.54, \"lon\": 7.0},\n",
    "    showlegend = False,\n",
    "    legend=dict(\n",
    "        x=0, \n",
    "        y=1,\n",
    "        traceorder=\"normal\",\n",
    "        orientation=\"h\",\n",
    "        font=dict(\n",
    "            family=\"sans-serif\",\n",
    "            size=12,\n",
    "            color=\"black\",\n",
    "        ))\n",
    ")\n",
    "\n",
    "fig.show()"
   ]
  },
  {
   "cell_type": "code",
   "execution_count": 238,
   "metadata": {},
   "outputs": [],
   "source": [
    "test_dict = df.to_dict()"
   ]
  },
  {
   "cell_type": "code",
   "execution_count": 242,
   "metadata": {},
   "outputs": [
    {
     "data": {
      "text/plain": [
       "{'LOCATION': {0: 'CALIFORNIA',\n",
       "  1: 'CALIFORNIA',\n",
       "  2: 'CALIFORNIA',\n",
       "  3: 'CALIFORNIA',\n",
       "  4: 'CALIFORNIA',\n",
       "  5: 'NORWAY',\n",
       "  6: 'NORWAY',\n",
       "  7: 'NORWAY',\n",
       "  8: 'NORWAY',\n",
       "  9: 'NORWAY',\n",
       "  10: 'NORWAY',\n",
       "  11: 'NORWAY',\n",
       "  12: 'NORWAY',\n",
       "  13: 'PERU',\n",
       "  14: 'PERU',\n",
       "  15: 'PERU',\n",
       "  16: 'PERU',\n",
       "  17: 'PERU',\n",
       "  18: 'PERU',\n",
       "  19: 'PUERTO_RICO',\n",
       "  20: 'PUERTO_RICO',\n",
       "  21: 'PUERTO_RICO',\n",
       "  22: 'PUERTO_RICO',\n",
       "  23: 'PUERTO_RICO',\n",
       "  24: 'PUERTO_RICO'},\n",
       " 'SAMPLE_ID': {0: 'IGNF-01',\n",
       "  1: 'IGNF-07',\n",
       "  2: 'IGNF-11',\n",
       "  3: 'IGNF-13',\n",
       "  4: 'IGNF-17',\n",
       "  5: 'AUS-DRIFT',\n",
       "  6: 'AUS-01',\n",
       "  7: 'AUS-03',\n",
       "  8: 'AUS-07',\n",
       "  9: 'ELVA-01',\n",
       "  10: 'ELVA-05',\n",
       "  11: 'ELVA-07',\n",
       "  12: 'ELVA-11',\n",
       "  13: 'RP-MORAINE',\n",
       "  14: 'RP-01',\n",
       "  15: 'RP-03',\n",
       "  16: 'RP-05',\n",
       "  17: 'RP-06',\n",
       "  18: 'RP-08',\n",
       "  19: 'RG-03',\n",
       "  20: 'RG-06',\n",
       "  21: 'RG-09',\n",
       "  22: 'RG-10',\n",
       "  23: 'RG-13',\n",
       "  24: 'RG-15'},\n",
       " 'LATITUDE': {0: 32.853683000000004,\n",
       "  1: 32.8595,\n",
       "  2: 32.863683,\n",
       "  3: 32.868533,\n",
       "  4: 32.873383000000004,\n",
       "  5: 61.584,\n",
       "  6: 61.589,\n",
       "  7: 61.579,\n",
       "  8: 61.544,\n",
       "  9: 61.535,\n",
       "  10: 61.50775,\n",
       "  11: 61.496632999999996,\n",
       "  12: 61.48048299999999,\n",
       "  13: -9.004667,\n",
       "  14: -9.003567,\n",
       "  15: -9.0126,\n",
       "  16: -9.023966999999999,\n",
       "  17: -9.039216999999999,\n",
       "  18: -9.048302,\n",
       "  19: 18.06905,\n",
       "  20: 18.05975,\n",
       "  21: 18.052,\n",
       "  22: 18.057217,\n",
       "  23: 18.08095,\n",
       "  24: 18.075083},\n",
       " 'LONGITUDE': {0: -116.28856699999999,\n",
       "  1: -116.26323300000001,\n",
       "  2: -116.244417,\n",
       "  3: -116.238317,\n",
       "  4: -116.221167,\n",
       "  5: 7.001,\n",
       "  6: 6.994,\n",
       "  7: 6.996,\n",
       "  8: 6.977,\n",
       "  9: 6.969,\n",
       "  10: 6.983633,\n",
       "  11: 6.985067,\n",
       "  12: 7.019617,\n",
       "  13: -77.684083,\n",
       "  14: -77.687433,\n",
       "  15: -77.699967,\n",
       "  16: -77.715867,\n",
       "  17: -77.732733,\n",
       "  18: -77.747691,\n",
       "  19: -65.99555,\n",
       "  20: -65.922933,\n",
       "  21: -65.91535,\n",
       "  22: -65.900467,\n",
       "  23: -65.97585,\n",
       "  24: -65.94565},\n",
       " 'ORDER': {0: 1,\n",
       "  1: 2,\n",
       "  2: 3,\n",
       "  3: 4,\n",
       "  4: 5,\n",
       "  5: 0,\n",
       "  6: 1,\n",
       "  7: 2,\n",
       "  8: 3,\n",
       "  9: 4,\n",
       "  10: 5,\n",
       "  11: 6,\n",
       "  12: 7,\n",
       "  13: 0,\n",
       "  14: 1,\n",
       "  15: 2,\n",
       "  16: 3,\n",
       "  17: 4,\n",
       "  18: 5,\n",
       "  19: 1,\n",
       "  20: 4,\n",
       "  21: 5,\n",
       "  22: 6,\n",
       "  23: 2,\n",
       "  24: 3},\n",
       " 'TYPE': {0: 'RIVER',\n",
       "  1: 'RIVER',\n",
       "  2: 'RIVER',\n",
       "  3: 'RIVER',\n",
       "  4: 'RIVER',\n",
       "  5: 'MORAINE',\n",
       "  6: 'RIVER',\n",
       "  7: 'RIVER',\n",
       "  8: 'RIVER',\n",
       "  9: 'RIVER',\n",
       "  10: 'RIVER',\n",
       "  11: 'RIVER',\n",
       "  12: 'RIVER',\n",
       "  13: 'MORAINE',\n",
       "  14: 'RIVER',\n",
       "  15: 'RIVER',\n",
       "  16: 'RIVER',\n",
       "  17: 'RIVER',\n",
       "  18: 'RIVER',\n",
       "  19: 'RIVER',\n",
       "  20: 'RIVER',\n",
       "  21: 'RIVER',\n",
       "  22: 'RIVER',\n",
       "  23: 'RIVER',\n",
       "  24: 'RIVER'},\n",
       " 'TYPE_NUM': {0: 1,\n",
       "  1: 1,\n",
       "  2: 1,\n",
       "  3: 1,\n",
       "  4: 1,\n",
       "  5: 0,\n",
       "  6: 1,\n",
       "  7: 1,\n",
       "  8: 1,\n",
       "  9: 1,\n",
       "  10: 1,\n",
       "  11: 1,\n",
       "  12: 1,\n",
       "  13: 0,\n",
       "  14: 1,\n",
       "  15: 1,\n",
       "  16: 1,\n",
       "  17: 1,\n",
       "  18: 1,\n",
       "  19: 1,\n",
       "  20: 1,\n",
       "  21: 1,\n",
       "  22: 1,\n",
       "  23: 1,\n",
       "  24: 1}}"
      ]
     },
     "execution_count": 242,
     "metadata": {},
     "output_type": "execute_result"
    }
   ],
   "source": [
    "test_dict"
   ]
  },
  {
   "cell_type": "code",
   "execution_count": 240,
   "metadata": {},
   "outputs": [],
   "source": [
    "test_df = pd.DataFrame(test_dict)"
   ]
  },
  {
   "cell_type": "code",
   "execution_count": 241,
   "metadata": {},
   "outputs": [
    {
     "data": {
      "text/html": [
       "<div>\n",
       "<style scoped>\n",
       "    .dataframe tbody tr th:only-of-type {\n",
       "        vertical-align: middle;\n",
       "    }\n",
       "\n",
       "    .dataframe tbody tr th {\n",
       "        vertical-align: top;\n",
       "    }\n",
       "\n",
       "    .dataframe thead th {\n",
       "        text-align: right;\n",
       "    }\n",
       "</style>\n",
       "<table border=\"1\" class=\"dataframe\">\n",
       "  <thead>\n",
       "    <tr style=\"text-align: right;\">\n",
       "      <th></th>\n",
       "      <th>LOCATION</th>\n",
       "      <th>SAMPLE_ID</th>\n",
       "      <th>LATITUDE</th>\n",
       "      <th>LONGITUDE</th>\n",
       "      <th>ORDER</th>\n",
       "      <th>TYPE</th>\n",
       "      <th>TYPE_NUM</th>\n",
       "    </tr>\n",
       "  </thead>\n",
       "  <tbody>\n",
       "    <tr>\n",
       "      <th>0</th>\n",
       "      <td>CALIFORNIA</td>\n",
       "      <td>IGNF-01</td>\n",
       "      <td>32.853683</td>\n",
       "      <td>-116.288567</td>\n",
       "      <td>1</td>\n",
       "      <td>RIVER</td>\n",
       "      <td>1</td>\n",
       "    </tr>\n",
       "    <tr>\n",
       "      <th>1</th>\n",
       "      <td>CALIFORNIA</td>\n",
       "      <td>IGNF-07</td>\n",
       "      <td>32.859500</td>\n",
       "      <td>-116.263233</td>\n",
       "      <td>2</td>\n",
       "      <td>RIVER</td>\n",
       "      <td>1</td>\n",
       "    </tr>\n",
       "    <tr>\n",
       "      <th>2</th>\n",
       "      <td>CALIFORNIA</td>\n",
       "      <td>IGNF-11</td>\n",
       "      <td>32.863683</td>\n",
       "      <td>-116.244417</td>\n",
       "      <td>3</td>\n",
       "      <td>RIVER</td>\n",
       "      <td>1</td>\n",
       "    </tr>\n",
       "    <tr>\n",
       "      <th>3</th>\n",
       "      <td>CALIFORNIA</td>\n",
       "      <td>IGNF-13</td>\n",
       "      <td>32.868533</td>\n",
       "      <td>-116.238317</td>\n",
       "      <td>4</td>\n",
       "      <td>RIVER</td>\n",
       "      <td>1</td>\n",
       "    </tr>\n",
       "    <tr>\n",
       "      <th>4</th>\n",
       "      <td>CALIFORNIA</td>\n",
       "      <td>IGNF-17</td>\n",
       "      <td>32.873383</td>\n",
       "      <td>-116.221167</td>\n",
       "      <td>5</td>\n",
       "      <td>RIVER</td>\n",
       "      <td>1</td>\n",
       "    </tr>\n",
       "    <tr>\n",
       "      <th>5</th>\n",
       "      <td>NORWAY</td>\n",
       "      <td>AUS-DRIFT</td>\n",
       "      <td>61.584000</td>\n",
       "      <td>7.001000</td>\n",
       "      <td>0</td>\n",
       "      <td>MORAINE</td>\n",
       "      <td>0</td>\n",
       "    </tr>\n",
       "    <tr>\n",
       "      <th>6</th>\n",
       "      <td>NORWAY</td>\n",
       "      <td>AUS-01</td>\n",
       "      <td>61.589000</td>\n",
       "      <td>6.994000</td>\n",
       "      <td>1</td>\n",
       "      <td>RIVER</td>\n",
       "      <td>1</td>\n",
       "    </tr>\n",
       "    <tr>\n",
       "      <th>7</th>\n",
       "      <td>NORWAY</td>\n",
       "      <td>AUS-03</td>\n",
       "      <td>61.579000</td>\n",
       "      <td>6.996000</td>\n",
       "      <td>2</td>\n",
       "      <td>RIVER</td>\n",
       "      <td>1</td>\n",
       "    </tr>\n",
       "    <tr>\n",
       "      <th>8</th>\n",
       "      <td>NORWAY</td>\n",
       "      <td>AUS-07</td>\n",
       "      <td>61.544000</td>\n",
       "      <td>6.977000</td>\n",
       "      <td>3</td>\n",
       "      <td>RIVER</td>\n",
       "      <td>1</td>\n",
       "    </tr>\n",
       "    <tr>\n",
       "      <th>9</th>\n",
       "      <td>NORWAY</td>\n",
       "      <td>ELVA-01</td>\n",
       "      <td>61.535000</td>\n",
       "      <td>6.969000</td>\n",
       "      <td>4</td>\n",
       "      <td>RIVER</td>\n",
       "      <td>1</td>\n",
       "    </tr>\n",
       "    <tr>\n",
       "      <th>10</th>\n",
       "      <td>NORWAY</td>\n",
       "      <td>ELVA-05</td>\n",
       "      <td>61.507750</td>\n",
       "      <td>6.983633</td>\n",
       "      <td>5</td>\n",
       "      <td>RIVER</td>\n",
       "      <td>1</td>\n",
       "    </tr>\n",
       "    <tr>\n",
       "      <th>11</th>\n",
       "      <td>NORWAY</td>\n",
       "      <td>ELVA-07</td>\n",
       "      <td>61.496633</td>\n",
       "      <td>6.985067</td>\n",
       "      <td>6</td>\n",
       "      <td>RIVER</td>\n",
       "      <td>1</td>\n",
       "    </tr>\n",
       "    <tr>\n",
       "      <th>12</th>\n",
       "      <td>NORWAY</td>\n",
       "      <td>ELVA-11</td>\n",
       "      <td>61.480483</td>\n",
       "      <td>7.019617</td>\n",
       "      <td>7</td>\n",
       "      <td>RIVER</td>\n",
       "      <td>1</td>\n",
       "    </tr>\n",
       "    <tr>\n",
       "      <th>13</th>\n",
       "      <td>PERU</td>\n",
       "      <td>RP-MORAINE</td>\n",
       "      <td>-9.004667</td>\n",
       "      <td>-77.684083</td>\n",
       "      <td>0</td>\n",
       "      <td>MORAINE</td>\n",
       "      <td>0</td>\n",
       "    </tr>\n",
       "    <tr>\n",
       "      <th>14</th>\n",
       "      <td>PERU</td>\n",
       "      <td>RP-01</td>\n",
       "      <td>-9.003567</td>\n",
       "      <td>-77.687433</td>\n",
       "      <td>1</td>\n",
       "      <td>RIVER</td>\n",
       "      <td>1</td>\n",
       "    </tr>\n",
       "    <tr>\n",
       "      <th>15</th>\n",
       "      <td>PERU</td>\n",
       "      <td>RP-03</td>\n",
       "      <td>-9.012600</td>\n",
       "      <td>-77.699967</td>\n",
       "      <td>2</td>\n",
       "      <td>RIVER</td>\n",
       "      <td>1</td>\n",
       "    </tr>\n",
       "    <tr>\n",
       "      <th>16</th>\n",
       "      <td>PERU</td>\n",
       "      <td>RP-05</td>\n",
       "      <td>-9.023967</td>\n",
       "      <td>-77.715867</td>\n",
       "      <td>3</td>\n",
       "      <td>RIVER</td>\n",
       "      <td>1</td>\n",
       "    </tr>\n",
       "    <tr>\n",
       "      <th>17</th>\n",
       "      <td>PERU</td>\n",
       "      <td>RP-06</td>\n",
       "      <td>-9.039217</td>\n",
       "      <td>-77.732733</td>\n",
       "      <td>4</td>\n",
       "      <td>RIVER</td>\n",
       "      <td>1</td>\n",
       "    </tr>\n",
       "    <tr>\n",
       "      <th>18</th>\n",
       "      <td>PERU</td>\n",
       "      <td>RP-08</td>\n",
       "      <td>-9.048302</td>\n",
       "      <td>-77.747691</td>\n",
       "      <td>5</td>\n",
       "      <td>RIVER</td>\n",
       "      <td>1</td>\n",
       "    </tr>\n",
       "    <tr>\n",
       "      <th>19</th>\n",
       "      <td>PUERTO_RICO</td>\n",
       "      <td>RG-03</td>\n",
       "      <td>18.069050</td>\n",
       "      <td>-65.995550</td>\n",
       "      <td>1</td>\n",
       "      <td>RIVER</td>\n",
       "      <td>1</td>\n",
       "    </tr>\n",
       "    <tr>\n",
       "      <th>20</th>\n",
       "      <td>PUERTO_RICO</td>\n",
       "      <td>RG-06</td>\n",
       "      <td>18.059750</td>\n",
       "      <td>-65.922933</td>\n",
       "      <td>4</td>\n",
       "      <td>RIVER</td>\n",
       "      <td>1</td>\n",
       "    </tr>\n",
       "    <tr>\n",
       "      <th>21</th>\n",
       "      <td>PUERTO_RICO</td>\n",
       "      <td>RG-09</td>\n",
       "      <td>18.052000</td>\n",
       "      <td>-65.915350</td>\n",
       "      <td>5</td>\n",
       "      <td>RIVER</td>\n",
       "      <td>1</td>\n",
       "    </tr>\n",
       "    <tr>\n",
       "      <th>22</th>\n",
       "      <td>PUERTO_RICO</td>\n",
       "      <td>RG-10</td>\n",
       "      <td>18.057217</td>\n",
       "      <td>-65.900467</td>\n",
       "      <td>6</td>\n",
       "      <td>RIVER</td>\n",
       "      <td>1</td>\n",
       "    </tr>\n",
       "    <tr>\n",
       "      <th>23</th>\n",
       "      <td>PUERTO_RICO</td>\n",
       "      <td>RG-13</td>\n",
       "      <td>18.080950</td>\n",
       "      <td>-65.975850</td>\n",
       "      <td>2</td>\n",
       "      <td>RIVER</td>\n",
       "      <td>1</td>\n",
       "    </tr>\n",
       "    <tr>\n",
       "      <th>24</th>\n",
       "      <td>PUERTO_RICO</td>\n",
       "      <td>RG-15</td>\n",
       "      <td>18.075083</td>\n",
       "      <td>-65.945650</td>\n",
       "      <td>3</td>\n",
       "      <td>RIVER</td>\n",
       "      <td>1</td>\n",
       "    </tr>\n",
       "  </tbody>\n",
       "</table>\n",
       "</div>"
      ],
      "text/plain": [
       "       LOCATION   SAMPLE_ID   LATITUDE   LONGITUDE  ORDER     TYPE  TYPE_NUM\n",
       "0    CALIFORNIA     IGNF-01  32.853683 -116.288567      1    RIVER         1\n",
       "1    CALIFORNIA     IGNF-07  32.859500 -116.263233      2    RIVER         1\n",
       "2    CALIFORNIA     IGNF-11  32.863683 -116.244417      3    RIVER         1\n",
       "3    CALIFORNIA     IGNF-13  32.868533 -116.238317      4    RIVER         1\n",
       "4    CALIFORNIA     IGNF-17  32.873383 -116.221167      5    RIVER         1\n",
       "5        NORWAY   AUS-DRIFT  61.584000    7.001000      0  MORAINE         0\n",
       "6        NORWAY      AUS-01  61.589000    6.994000      1    RIVER         1\n",
       "7        NORWAY      AUS-03  61.579000    6.996000      2    RIVER         1\n",
       "8        NORWAY      AUS-07  61.544000    6.977000      3    RIVER         1\n",
       "9        NORWAY     ELVA-01  61.535000    6.969000      4    RIVER         1\n",
       "10       NORWAY     ELVA-05  61.507750    6.983633      5    RIVER         1\n",
       "11       NORWAY     ELVA-07  61.496633    6.985067      6    RIVER         1\n",
       "12       NORWAY     ELVA-11  61.480483    7.019617      7    RIVER         1\n",
       "13         PERU  RP-MORAINE  -9.004667  -77.684083      0  MORAINE         0\n",
       "14         PERU       RP-01  -9.003567  -77.687433      1    RIVER         1\n",
       "15         PERU       RP-03  -9.012600  -77.699967      2    RIVER         1\n",
       "16         PERU       RP-05  -9.023967  -77.715867      3    RIVER         1\n",
       "17         PERU       RP-06  -9.039217  -77.732733      4    RIVER         1\n",
       "18         PERU       RP-08  -9.048302  -77.747691      5    RIVER         1\n",
       "19  PUERTO_RICO       RG-03  18.069050  -65.995550      1    RIVER         1\n",
       "20  PUERTO_RICO       RG-06  18.059750  -65.922933      4    RIVER         1\n",
       "21  PUERTO_RICO       RG-09  18.052000  -65.915350      5    RIVER         1\n",
       "22  PUERTO_RICO       RG-10  18.057217  -65.900467      6    RIVER         1\n",
       "23  PUERTO_RICO       RG-13  18.080950  -65.975850      2    RIVER         1\n",
       "24  PUERTO_RICO       RG-15  18.075083  -65.945650      3    RIVER         1"
      ]
     },
     "execution_count": 241,
     "metadata": {},
     "output_type": "execute_result"
    }
   ],
   "source": [
    "test_df"
   ]
  },
  {
   "cell_type": "code",
   "execution_count": null,
   "metadata": {},
   "outputs": [],
   "source": []
  }
 ],
 "metadata": {
  "kernelspec": {
   "display_name": "PythonData",
   "language": "python",
   "name": "pythondata"
  },
  "language_info": {
   "codemirror_mode": {
    "name": "ipython",
    "version": 3
   },
   "file_extension": ".py",
   "mimetype": "text/x-python",
   "name": "python",
   "nbconvert_exporter": "python",
   "pygments_lexer": "ipython3",
   "version": "3.7.9"
  }
 },
 "nbformat": 4,
 "nbformat_minor": 4
}
