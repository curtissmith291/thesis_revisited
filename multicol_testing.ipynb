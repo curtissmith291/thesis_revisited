{
 "cells": [
  {
   "cell_type": "code",
   "execution_count": 18,
   "metadata": {},
   "outputs": [],
   "source": [
    "import pandas as pd\n",
    "from statsmodels.stats.outliers_influence import variance_inflation_factor\n",
    "import plotly.express as px\n",
    "import matplotlib.pyplot as plt\n",
    "import plotly.graph_objects as go\n",
    "import seaborn as sns"
   ]
  },
  {
   "cell_type": "code",
   "execution_count": 2,
   "metadata": {},
   "outputs": [
    {
     "data": {
      "text/html": [
       "<div>\n",
       "<style scoped>\n",
       "    .dataframe tbody tr th:only-of-type {\n",
       "        vertical-align: middle;\n",
       "    }\n",
       "\n",
       "    .dataframe tbody tr th {\n",
       "        vertical-align: top;\n",
       "    }\n",
       "\n",
       "    .dataframe thead th {\n",
       "        text-align: right;\n",
       "    }\n",
       "</style>\n",
       "<table border=\"1\" class=\"dataframe\">\n",
       "  <thead>\n",
       "    <tr style=\"text-align: right;\">\n",
       "      <th></th>\n",
       "      <th>location</th>\n",
       "      <th>set</th>\n",
       "      <th>a_b</th>\n",
       "      <th>location_type</th>\n",
       "      <th>classification</th>\n",
       "      <th>binary_temp</th>\n",
       "      <th>binary_moisture</th>\n",
       "      <th>Rounded to Sub-Rounded</th>\n",
       "      <th>Sub-Rounded to Sub-Angular</th>\n",
       "      <th>Sub-Angular to Angular</th>\n",
       "      <th>...</th>\n",
       "      <th>Deep Troughs</th>\n",
       "      <th>Crescentic Gouges</th>\n",
       "      <th>Arc Shaped Steps</th>\n",
       "      <th>Linear Steps</th>\n",
       "      <th>Sharp Angular Features</th>\n",
       "      <th>Upturned Plates</th>\n",
       "      <th>V Shaped Cracks</th>\n",
       "      <th>Edge Rounding</th>\n",
       "      <th>Breakage Blocks</th>\n",
       "      <th>Abrasion Features</th>\n",
       "    </tr>\n",
       "  </thead>\n",
       "  <tbody>\n",
       "    <tr>\n",
       "      <th>0</th>\n",
       "      <td>NOR</td>\n",
       "      <td>5</td>\n",
       "      <td>B</td>\n",
       "      <td>river</td>\n",
       "      <td>cold-wet</td>\n",
       "      <td>cold</td>\n",
       "      <td>wet</td>\n",
       "      <td>0</td>\n",
       "      <td>1</td>\n",
       "      <td>0</td>\n",
       "      <td>...</td>\n",
       "      <td>0</td>\n",
       "      <td>0</td>\n",
       "      <td>1</td>\n",
       "      <td>0</td>\n",
       "      <td>0</td>\n",
       "      <td>0</td>\n",
       "      <td>1</td>\n",
       "      <td>1</td>\n",
       "      <td>0</td>\n",
       "      <td>0</td>\n",
       "    </tr>\n",
       "    <tr>\n",
       "      <th>1</th>\n",
       "      <td>NOR</td>\n",
       "      <td>5</td>\n",
       "      <td>B</td>\n",
       "      <td>river</td>\n",
       "      <td>cold-wet</td>\n",
       "      <td>cold</td>\n",
       "      <td>wet</td>\n",
       "      <td>0</td>\n",
       "      <td>1</td>\n",
       "      <td>0</td>\n",
       "      <td>...</td>\n",
       "      <td>0</td>\n",
       "      <td>1</td>\n",
       "      <td>0</td>\n",
       "      <td>1</td>\n",
       "      <td>0</td>\n",
       "      <td>0</td>\n",
       "      <td>0</td>\n",
       "      <td>1</td>\n",
       "      <td>0</td>\n",
       "      <td>0</td>\n",
       "    </tr>\n",
       "    <tr>\n",
       "      <th>2</th>\n",
       "      <td>NOR</td>\n",
       "      <td>5</td>\n",
       "      <td>B</td>\n",
       "      <td>river</td>\n",
       "      <td>cold-wet</td>\n",
       "      <td>cold</td>\n",
       "      <td>wet</td>\n",
       "      <td>0</td>\n",
       "      <td>0</td>\n",
       "      <td>1</td>\n",
       "      <td>...</td>\n",
       "      <td>0</td>\n",
       "      <td>0</td>\n",
       "      <td>1</td>\n",
       "      <td>0</td>\n",
       "      <td>0</td>\n",
       "      <td>0</td>\n",
       "      <td>0</td>\n",
       "      <td>0</td>\n",
       "      <td>0</td>\n",
       "      <td>0</td>\n",
       "    </tr>\n",
       "    <tr>\n",
       "      <th>3</th>\n",
       "      <td>NOR</td>\n",
       "      <td>5</td>\n",
       "      <td>B</td>\n",
       "      <td>river</td>\n",
       "      <td>cold-wet</td>\n",
       "      <td>cold</td>\n",
       "      <td>wet</td>\n",
       "      <td>0</td>\n",
       "      <td>0</td>\n",
       "      <td>1</td>\n",
       "      <td>...</td>\n",
       "      <td>0</td>\n",
       "      <td>0</td>\n",
       "      <td>1</td>\n",
       "      <td>1</td>\n",
       "      <td>1</td>\n",
       "      <td>1</td>\n",
       "      <td>0</td>\n",
       "      <td>0</td>\n",
       "      <td>0</td>\n",
       "      <td>0</td>\n",
       "    </tr>\n",
       "    <tr>\n",
       "      <th>4</th>\n",
       "      <td>NOR</td>\n",
       "      <td>5</td>\n",
       "      <td>B</td>\n",
       "      <td>river</td>\n",
       "      <td>cold-wet</td>\n",
       "      <td>cold</td>\n",
       "      <td>wet</td>\n",
       "      <td>0</td>\n",
       "      <td>0</td>\n",
       "      <td>1</td>\n",
       "      <td>...</td>\n",
       "      <td>0</td>\n",
       "      <td>0</td>\n",
       "      <td>1</td>\n",
       "      <td>1</td>\n",
       "      <td>0</td>\n",
       "      <td>0</td>\n",
       "      <td>1</td>\n",
       "      <td>0</td>\n",
       "      <td>0</td>\n",
       "      <td>0</td>\n",
       "    </tr>\n",
       "  </tbody>\n",
       "</table>\n",
       "<p>5 rows × 30 columns</p>\n",
       "</div>"
      ],
      "text/plain": [
       "  location  set a_b location_type classification binary_temp binary_moisture  \\\n",
       "0      NOR    5   B         river       cold-wet        cold             wet   \n",
       "1      NOR    5   B         river       cold-wet        cold             wet   \n",
       "2      NOR    5   B         river       cold-wet        cold             wet   \n",
       "3      NOR    5   B         river       cold-wet        cold             wet   \n",
       "4      NOR    5   B         river       cold-wet        cold             wet   \n",
       "\n",
       "   Rounded to Sub-Rounded  Sub-Rounded to Sub-Angular  Sub-Angular to Angular  \\\n",
       "0                       0                           1                       0   \n",
       "1                       0                           1                       0   \n",
       "2                       0                           0                       1   \n",
       "3                       0                           0                       1   \n",
       "4                       0                           0                       1   \n",
       "\n",
       "   ...  Deep Troughs  Crescentic Gouges  Arc Shaped Steps  Linear Steps  \\\n",
       "0  ...             0                  0                 1             0   \n",
       "1  ...             0                  1                 0             1   \n",
       "2  ...             0                  0                 1             0   \n",
       "3  ...             0                  0                 1             1   \n",
       "4  ...             0                  0                 1             1   \n",
       "\n",
       "   Sharp Angular Features  Upturned Plates  V Shaped Cracks  Edge Rounding  \\\n",
       "0                       0                0                1              1   \n",
       "1                       0                0                0              1   \n",
       "2                       0                0                0              0   \n",
       "3                       1                1                0              0   \n",
       "4                       0                0                1              0   \n",
       "\n",
       "   Breakage Blocks  Abrasion Features  \n",
       "0                0                  0  \n",
       "1                0                  0  \n",
       "2                0                  0  \n",
       "3                0                  0  \n",
       "4                0                  0  \n",
       "\n",
       "[5 rows x 30 columns]"
      ]
     },
     "execution_count": 2,
     "metadata": {},
     "output_type": "execute_result"
    }
   ],
   "source": [
    "# Import data\n",
    "df = pd.read_csv(\"working_data/prepared_data.csv\")\n",
    "df.head()"
   ]
  },
  {
   "cell_type": "code",
   "execution_count": 4,
   "metadata": {},
   "outputs": [
    {
     "data": {
      "text/plain": [
       "Index(['location', 'set', 'a_b', 'location_type', 'classification',\n",
       "       'binary_temp', 'binary_moisture', 'Rounded to Sub-Rounded',\n",
       "       'Sub-Rounded to Sub-Angular', 'Sub-Angular to Angular', 'Low Relief',\n",
       "       'Medium Relief', 'High Relief', 'Precipitation Features',\n",
       "       'Dissolution Etching', 'Fracture Faces', 'Subparallel Linear Features',\n",
       "       'Conchoidal Fractures', 'Curved Grooves', 'Straight Grooves',\n",
       "       'Deep Troughs', 'Crescentic Gouges', 'Arc Shaped Steps', 'Linear Steps',\n",
       "       'Sharp Angular Features', 'Upturned Plates', 'V Shaped Cracks',\n",
       "       'Edge Rounding', 'Breakage Blocks', 'Abrasion Features'],\n",
       "      dtype='object')"
      ]
     },
     "execution_count": 4,
     "metadata": {},
     "output_type": "execute_result"
    }
   ],
   "source": [
    "df.columns"
   ]
  },
  {
   "cell_type": "code",
   "execution_count": 5,
   "metadata": {},
   "outputs": [],
   "source": [
    "testing_df = df[['Rounded to Sub-Rounded',\n",
    "       'Sub-Rounded to Sub-Angular', 'Sub-Angular to Angular', 'Low Relief',\n",
    "       'Medium Relief', 'High Relief', 'Precipitation Features',\n",
    "       'Dissolution Etching', 'Fracture Faces', 'Subparallel Linear Features',\n",
    "       'Conchoidal Fractures', 'Curved Grooves', 'Straight Grooves',\n",
    "       'Deep Troughs', 'Crescentic Gouges', 'Arc Shaped Steps', 'Linear Steps',\n",
    "       'Sharp Angular Features', 'Upturned Plates', 'V Shaped Cracks',\n",
    "       'Edge Rounding', 'Breakage Blocks', 'Abrasion Features']]"
   ]
  },
  {
   "cell_type": "code",
   "execution_count": 6,
   "metadata": {},
   "outputs": [],
   "source": [
    "vif_data = pd.DataFrame()\n",
    "vif_data[\"feature\"] = testing_df.columns"
   ]
  },
  {
   "cell_type": "code",
   "execution_count": 8,
   "metadata": {},
   "outputs": [
    {
     "name": "stderr",
     "output_type": "stream",
     "text": [
      "/Users/curtissmith/opt/anaconda3/envs/PythonData/lib/python3.7/site-packages/statsmodels/stats/outliers_influence.py:193: RuntimeWarning: divide by zero encountered in double_scalars\n",
      "  vif = 1. / (1. - r_squared_i)\n"
     ]
    }
   ],
   "source": [
    "# calculating VIF for each feature\n",
    "vif_data[\"VIF\"] = [variance_inflation_factor(testing_df.values, i)\n",
    "                          for i in range(len(testing_df.columns))]"
   ]
  },
  {
   "cell_type": "code",
   "execution_count": 9,
   "metadata": {},
   "outputs": [
    {
     "name": "stdout",
     "output_type": "stream",
     "text": [
      "                        feature       VIF\n",
      "0        Rounded to Sub-Rounded       inf\n",
      "1    Sub-Rounded to Sub-Angular       inf\n",
      "2        Sub-Angular to Angular       inf\n",
      "3                    Low Relief       inf\n",
      "4                 Medium Relief       inf\n",
      "5                   High Relief       inf\n",
      "6        Precipitation Features  1.060746\n",
      "7           Dissolution Etching  1.057915\n",
      "8                Fracture Faces  1.064189\n",
      "9   Subparallel Linear Features  1.014161\n",
      "10         Conchoidal Fractures  1.021674\n",
      "11               Curved Grooves  1.021588\n",
      "12             Straight Grooves  1.021874\n",
      "13                 Deep Troughs  1.014070\n",
      "14            Crescentic Gouges  1.026234\n",
      "15             Arc Shaped Steps  1.019469\n",
      "16                 Linear Steps  1.022852\n",
      "17       Sharp Angular Features  1.068691\n",
      "18              Upturned Plates  1.023683\n",
      "19              V Shaped Cracks  1.049055\n",
      "20                Edge Rounding  1.199951\n",
      "21              Breakage Blocks  1.021461\n",
      "22            Abrasion Features  1.037992\n"
     ]
    }
   ],
   "source": [
    "print(vif_data)"
   ]
  },
  {
   "cell_type": "code",
   "execution_count": 34,
   "metadata": {},
   "outputs": [
    {
     "name": "stdout",
     "output_type": "stream",
     "text": [
      "                        feature       VIF\n",
      "0        Precipitation Features  1.504121\n",
      "1           Dissolution Etching  3.939794\n",
      "2                Fracture Faces  1.155263\n",
      "3   Subparallel Linear Features  2.774529\n",
      "4          Conchoidal Fractures  2.993641\n",
      "5                Curved Grooves  1.060898\n",
      "6              Straight Grooves  1.045269\n",
      "7                  Deep Troughs  1.033814\n",
      "8             Crescentic Gouges  1.153352\n",
      "9              Arc Shaped Steps  1.915386\n",
      "10                 Linear Steps  2.254790\n",
      "11       Sharp Angular Features  1.178706\n",
      "12              Upturned Plates  1.466831\n",
      "13              V Shaped Cracks  1.437919\n",
      "14                Edge Rounding  1.446236\n",
      "15              Breakage Blocks  1.090801\n",
      "16            Abrasion Features  1.118675\n"
     ]
    }
   ],
   "source": [
    "testing2_df = df[['Precipitation Features',\n",
    "       'Dissolution Etching', 'Fracture Faces', 'Subparallel Linear Features',\n",
    "       'Conchoidal Fractures', 'Curved Grooves', 'Straight Grooves',\n",
    "       'Deep Troughs', 'Crescentic Gouges', 'Arc Shaped Steps', 'Linear Steps',\n",
    "       'Sharp Angular Features', 'Upturned Plates', 'V Shaped Cracks',\n",
    "       'Edge Rounding', 'Breakage Blocks', 'Abrasion Features']]\n",
    "vif_data2 = pd.DataFrame()\n",
    "vif_data2[\"feature\"] = testing2_df.columns\n",
    "# calculating VIF for each feature\n",
    "vif_data2[\"VIF\"] = [variance_inflation_factor(testing2_df.values, i)\n",
    "                          for i in range(len(testing2_df.columns))]\n",
    "print(vif_data2)"
   ]
  },
  {
   "cell_type": "code",
   "execution_count": 17,
   "metadata": {},
   "outputs": [
    {
     "data": {
      "text/html": [
       "<style  type=\"text/css\" >\n",
       "#T_e17d423c_6b41_11ec_8187_7831c1b92034row0_col0,#T_e17d423c_6b41_11ec_8187_7831c1b92034row1_col1,#T_e17d423c_6b41_11ec_8187_7831c1b92034row2_col2,#T_e17d423c_6b41_11ec_8187_7831c1b92034row3_col3,#T_e17d423c_6b41_11ec_8187_7831c1b92034row4_col4,#T_e17d423c_6b41_11ec_8187_7831c1b92034row5_col5,#T_e17d423c_6b41_11ec_8187_7831c1b92034row6_col6,#T_e17d423c_6b41_11ec_8187_7831c1b92034row7_col7,#T_e17d423c_6b41_11ec_8187_7831c1b92034row8_col8,#T_e17d423c_6b41_11ec_8187_7831c1b92034row9_col9,#T_e17d423c_6b41_11ec_8187_7831c1b92034row10_col10,#T_e17d423c_6b41_11ec_8187_7831c1b92034row11_col11,#T_e17d423c_6b41_11ec_8187_7831c1b92034row12_col12,#T_e17d423c_6b41_11ec_8187_7831c1b92034row13_col13,#T_e17d423c_6b41_11ec_8187_7831c1b92034row14_col14,#T_e17d423c_6b41_11ec_8187_7831c1b92034row15_col15,#T_e17d423c_6b41_11ec_8187_7831c1b92034row16_col16,#T_e17d423c_6b41_11ec_8187_7831c1b92034row17_col17,#T_e17d423c_6b41_11ec_8187_7831c1b92034row18_col18,#T_e17d423c_6b41_11ec_8187_7831c1b92034row19_col19,#T_e17d423c_6b41_11ec_8187_7831c1b92034row20_col20,#T_e17d423c_6b41_11ec_8187_7831c1b92034row21_col21,#T_e17d423c_6b41_11ec_8187_7831c1b92034row22_col22{\n",
       "            background-color:  #b40426;\n",
       "            color:  #f1f1f1;\n",
       "        }#T_e17d423c_6b41_11ec_8187_7831c1b92034row0_col1{\n",
       "            background-color:  #c5d6f2;\n",
       "            color:  #000000;\n",
       "        }#T_e17d423c_6b41_11ec_8187_7831c1b92034row0_col2{\n",
       "            background-color:  #bfd3f6;\n",
       "            color:  #000000;\n",
       "        }#T_e17d423c_6b41_11ec_8187_7831c1b92034row0_col3,#T_e17d423c_6b41_11ec_8187_7831c1b92034row21_col20{\n",
       "            background-color:  #8badfd;\n",
       "            color:  #000000;\n",
       "        }#T_e17d423c_6b41_11ec_8187_7831c1b92034row0_col4,#T_e17d423c_6b41_11ec_8187_7831c1b92034row15_col4,#T_e17d423c_6b41_11ec_8187_7831c1b92034row19_col2{\n",
       "            background-color:  #dcdddd;\n",
       "            color:  #000000;\n",
       "        }#T_e17d423c_6b41_11ec_8187_7831c1b92034row0_col5,#T_e17d423c_6b41_11ec_8187_7831c1b92034row12_col4,#T_e17d423c_6b41_11ec_8187_7831c1b92034row21_col4,#T_e17d423c_6b41_11ec_8187_7831c1b92034row22_col5{\n",
       "            background-color:  #d1dae9;\n",
       "            color:  #000000;\n",
       "        }#T_e17d423c_6b41_11ec_8187_7831c1b92034row0_col6,#T_e17d423c_6b41_11ec_8187_7831c1b92034row1_col15,#T_e17d423c_6b41_11ec_8187_7831c1b92034row1_col16,#T_e17d423c_6b41_11ec_8187_7831c1b92034row2_col6,#T_e17d423c_6b41_11ec_8187_7831c1b92034row2_col18,#T_e17d423c_6b41_11ec_8187_7831c1b92034row3_col18,#T_e17d423c_6b41_11ec_8187_7831c1b92034row10_col15,#T_e17d423c_6b41_11ec_8187_7831c1b92034row14_col19,#T_e17d423c_6b41_11ec_8187_7831c1b92034row22_col8{\n",
       "            background-color:  #5875e1;\n",
       "            color:  #000000;\n",
       "        }#T_e17d423c_6b41_11ec_8187_7831c1b92034row0_col7,#T_e17d423c_6b41_11ec_8187_7831c1b92034row6_col14,#T_e17d423c_6b41_11ec_8187_7831c1b92034row10_col0{\n",
       "            background-color:  #5d7ce6;\n",
       "            color:  #000000;\n",
       "        }#T_e17d423c_6b41_11ec_8187_7831c1b92034row0_col8,#T_e17d423c_6b41_11ec_8187_7831c1b92034row4_col19,#T_e17d423c_6b41_11ec_8187_7831c1b92034row6_col19,#T_e17d423c_6b41_11ec_8187_7831c1b92034row9_col6,#T_e17d423c_6b41_11ec_8187_7831c1b92034row10_col9,#T_e17d423c_6b41_11ec_8187_7831c1b92034row17_col0,#T_e17d423c_6b41_11ec_8187_7831c1b92034row19_col0,#T_e17d423c_6b41_11ec_8187_7831c1b92034row19_col10{\n",
       "            background-color:  #5a78e4;\n",
       "            color:  #000000;\n",
       "        }#T_e17d423c_6b41_11ec_8187_7831c1b92034row0_col9,#T_e17d423c_6b41_11ec_8187_7831c1b92034row2_col19,#T_e17d423c_6b41_11ec_8187_7831c1b92034row3_col22,#T_e17d423c_6b41_11ec_8187_7831c1b92034row4_col15,#T_e17d423c_6b41_11ec_8187_7831c1b92034row4_col18,#T_e17d423c_6b41_11ec_8187_7831c1b92034row8_col9,#T_e17d423c_6b41_11ec_8187_7831c1b92034row9_col11,#T_e17d423c_6b41_11ec_8187_7831c1b92034row10_col6,#T_e17d423c_6b41_11ec_8187_7831c1b92034row10_col14,#T_e17d423c_6b41_11ec_8187_7831c1b92034row13_col9,#T_e17d423c_6b41_11ec_8187_7831c1b92034row15_col10,#T_e17d423c_6b41_11ec_8187_7831c1b92034row17_col7,#T_e17d423c_6b41_11ec_8187_7831c1b92034row20_col14{\n",
       "            background-color:  #5572df;\n",
       "            color:  #000000;\n",
       "        }#T_e17d423c_6b41_11ec_8187_7831c1b92034row0_col10,#T_e17d423c_6b41_11ec_8187_7831c1b92034row1_col18,#T_e17d423c_6b41_11ec_8187_7831c1b92034row3_col15,#T_e17d423c_6b41_11ec_8187_7831c1b92034row5_col22,#T_e17d423c_6b41_11ec_8187_7831c1b92034row8_col7{\n",
       "            background-color:  #3d50c3;\n",
       "            color:  #f1f1f1;\n",
       "        }#T_e17d423c_6b41_11ec_8187_7831c1b92034row0_col11,#T_e17d423c_6b41_11ec_8187_7831c1b92034row1_col14,#T_e17d423c_6b41_11ec_8187_7831c1b92034row6_col7,#T_e17d423c_6b41_11ec_8187_7831c1b92034row7_col15,#T_e17d423c_6b41_11ec_8187_7831c1b92034row8_col12,#T_e17d423c_6b41_11ec_8187_7831c1b92034row11_col7,#T_e17d423c_6b41_11ec_8187_7831c1b92034row12_col7,#T_e17d423c_6b41_11ec_8187_7831c1b92034row18_col9{\n",
       "            background-color:  #5673e0;\n",
       "            color:  #000000;\n",
       "        }#T_e17d423c_6b41_11ec_8187_7831c1b92034row0_col12,#T_e17d423c_6b41_11ec_8187_7831c1b92034row3_col16,#T_e17d423c_6b41_11ec_8187_7831c1b92034row4_col6,#T_e17d423c_6b41_11ec_8187_7831c1b92034row5_col10,#T_e17d423c_6b41_11ec_8187_7831c1b92034row5_col15,#T_e17d423c_6b41_11ec_8187_7831c1b92034row7_col18,#T_e17d423c_6b41_11ec_8187_7831c1b92034row13_col12,#T_e17d423c_6b41_11ec_8187_7831c1b92034row13_col19,#T_e17d423c_6b41_11ec_8187_7831c1b92034row15_col19,#T_e17d423c_6b41_11ec_8187_7831c1b92034row17_col9,#T_e17d423c_6b41_11ec_8187_7831c1b92034row20_col22,#T_e17d423c_6b41_11ec_8187_7831c1b92034row22_col13{\n",
       "            background-color:  #4a63d3;\n",
       "            color:  #f1f1f1;\n",
       "        }#T_e17d423c_6b41_11ec_8187_7831c1b92034row0_col13,#T_e17d423c_6b41_11ec_8187_7831c1b92034row0_col15,#T_e17d423c_6b41_11ec_8187_7831c1b92034row0_col18,#T_e17d423c_6b41_11ec_8187_7831c1b92034row3_col19,#T_e17d423c_6b41_11ec_8187_7831c1b92034row8_col13,#T_e17d423c_6b41_11ec_8187_7831c1b92034row9_col15,#T_e17d423c_6b41_11ec_8187_7831c1b92034row11_col14,#T_e17d423c_6b41_11ec_8187_7831c1b92034row12_col16,#T_e17d423c_6b41_11ec_8187_7831c1b92034row14_col8,#T_e17d423c_6b41_11ec_8187_7831c1b92034row14_col10,#T_e17d423c_6b41_11ec_8187_7831c1b92034row14_col16,#T_e17d423c_6b41_11ec_8187_7831c1b92034row15_col6,#T_e17d423c_6b41_11ec_8187_7831c1b92034row15_col11,#T_e17d423c_6b41_11ec_8187_7831c1b92034row16_col15,#T_e17d423c_6b41_11ec_8187_7831c1b92034row18_col14,#T_e17d423c_6b41_11ec_8187_7831c1b92034row18_col16,#T_e17d423c_6b41_11ec_8187_7831c1b92034row20_col15{\n",
       "            background-color:  #4b64d5;\n",
       "            color:  #f1f1f1;\n",
       "        }#T_e17d423c_6b41_11ec_8187_7831c1b92034row0_col14,#T_e17d423c_6b41_11ec_8187_7831c1b92034row1_col8,#T_e17d423c_6b41_11ec_8187_7831c1b92034row2_col9,#T_e17d423c_6b41_11ec_8187_7831c1b92034row5_col11,#T_e17d423c_6b41_11ec_8187_7831c1b92034row5_col13,#T_e17d423c_6b41_11ec_8187_7831c1b92034row8_col15,#T_e17d423c_6b41_11ec_8187_7831c1b92034row9_col12,#T_e17d423c_6b41_11ec_8187_7831c1b92034row11_col6,#T_e17d423c_6b41_11ec_8187_7831c1b92034row11_col15,#T_e17d423c_6b41_11ec_8187_7831c1b92034row13_col6,#T_e17d423c_6b41_11ec_8187_7831c1b92034row14_col9,#T_e17d423c_6b41_11ec_8187_7831c1b92034row15_col14,#T_e17d423c_6b41_11ec_8187_7831c1b92034row15_col16,#T_e17d423c_6b41_11ec_8187_7831c1b92034row16_col11,#T_e17d423c_6b41_11ec_8187_7831c1b92034row17_col14,#T_e17d423c_6b41_11ec_8187_7831c1b92034row18_col8,#T_e17d423c_6b41_11ec_8187_7831c1b92034row22_col9,#T_e17d423c_6b41_11ec_8187_7831c1b92034row22_col10,#T_e17d423c_6b41_11ec_8187_7831c1b92034row22_col14{\n",
       "            background-color:  #4e68d8;\n",
       "            color:  #000000;\n",
       "        }#T_e17d423c_6b41_11ec_8187_7831c1b92034row0_col16,#T_e17d423c_6b41_11ec_8187_7831c1b92034row12_col3,#T_e17d423c_6b41_11ec_8187_7831c1b92034row14_col6,#T_e17d423c_6b41_11ec_8187_7831c1b92034row20_col7,#T_e17d423c_6b41_11ec_8187_7831c1b92034row21_col3,#T_e17d423c_6b41_11ec_8187_7831c1b92034row22_col0{\n",
       "            background-color:  #6687ed;\n",
       "            color:  #000000;\n",
       "        }#T_e17d423c_6b41_11ec_8187_7831c1b92034row0_col17,#T_e17d423c_6b41_11ec_8187_7831c1b92034row5_col8{\n",
       "            background-color:  #6282ea;\n",
       "            color:  #000000;\n",
       "        }#T_e17d423c_6b41_11ec_8187_7831c1b92034row0_col19,#T_e17d423c_6b41_11ec_8187_7831c1b92034row1_col22,#T_e17d423c_6b41_11ec_8187_7831c1b92034row2_col13,#T_e17d423c_6b41_11ec_8187_7831c1b92034row3_col12,#T_e17d423c_6b41_11ec_8187_7831c1b92034row13_col11,#T_e17d423c_6b41_11ec_8187_7831c1b92034row15_col12,#T_e17d423c_6b41_11ec_8187_7831c1b92034row20_col21,#T_e17d423c_6b41_11ec_8187_7831c1b92034row21_col11,#T_e17d423c_6b41_11ec_8187_7831c1b92034row21_col16,#T_e17d423c_6b41_11ec_8187_7831c1b92034row21_col18{\n",
       "            background-color:  #4055c8;\n",
       "            color:  #f1f1f1;\n",
       "        }#T_e17d423c_6b41_11ec_8187_7831c1b92034row0_col20{\n",
       "            background-color:  #b3cdfb;\n",
       "            color:  #000000;\n",
       "        }#T_e17d423c_6b41_11ec_8187_7831c1b92034row0_col21,#T_e17d423c_6b41_11ec_8187_7831c1b92034row10_col18,#T_e17d423c_6b41_11ec_8187_7831c1b92034row16_col19,#T_e17d423c_6b41_11ec_8187_7831c1b92034row16_col21,#T_e17d423c_6b41_11ec_8187_7831c1b92034row18_col10,#T_e17d423c_6b41_11ec_8187_7831c1b92034row22_col18{\n",
       "            background-color:  #3e51c5;\n",
       "            color:  #f1f1f1;\n",
       "        }#T_e17d423c_6b41_11ec_8187_7831c1b92034row0_col22,#T_e17d423c_6b41_11ec_8187_7831c1b92034row1_col11,#T_e17d423c_6b41_11ec_8187_7831c1b92034row5_col19,#T_e17d423c_6b41_11ec_8187_7831c1b92034row7_col16,#T_e17d423c_6b41_11ec_8187_7831c1b92034row8_col22,#T_e17d423c_6b41_11ec_8187_7831c1b92034row9_col19,#T_e17d423c_6b41_11ec_8187_7831c1b92034row10_col12,#T_e17d423c_6b41_11ec_8187_7831c1b92034row10_col16,#T_e17d423c_6b41_11ec_8187_7831c1b92034row11_col19,#T_e17d423c_6b41_11ec_8187_7831c1b92034row12_col10,#T_e17d423c_6b41_11ec_8187_7831c1b92034row12_col13,#T_e17d423c_6b41_11ec_8187_7831c1b92034row12_col14,#T_e17d423c_6b41_11ec_8187_7831c1b92034row16_col6,#T_e17d423c_6b41_11ec_8187_7831c1b92034row18_col19{\n",
       "            background-color:  #4961d2;\n",
       "            color:  #f1f1f1;\n",
       "        }#T_e17d423c_6b41_11ec_8187_7831c1b92034row1_col0,#T_e17d423c_6b41_11ec_8187_7831c1b92034row4_col9,#T_e17d423c_6b41_11ec_8187_7831c1b92034row12_col21,#T_e17d423c_6b41_11ec_8187_7831c1b92034row14_col21,#T_e17d423c_6b41_11ec_8187_7831c1b92034row15_col13,#T_e17d423c_6b41_11ec_8187_7831c1b92034row16_col10,#T_e17d423c_6b41_11ec_8187_7831c1b92034row17_col21,#T_e17d423c_6b41_11ec_8187_7831c1b92034row19_col13{\n",
       "            background-color:  #445acc;\n",
       "            color:  #f1f1f1;\n",
       "        }#T_e17d423c_6b41_11ec_8187_7831c1b92034row1_col2,#T_e17d423c_6b41_11ec_8187_7831c1b92034row1_col10,#T_e17d423c_6b41_11ec_8187_7831c1b92034row1_col17,#T_e17d423c_6b41_11ec_8187_7831c1b92034row2_col0,#T_e17d423c_6b41_11ec_8187_7831c1b92034row2_col1,#T_e17d423c_6b41_11ec_8187_7831c1b92034row2_col20,#T_e17d423c_6b41_11ec_8187_7831c1b92034row3_col7,#T_e17d423c_6b41_11ec_8187_7831c1b92034row3_col10,#T_e17d423c_6b41_11ec_8187_7831c1b92034row4_col3,#T_e17d423c_6b41_11ec_8187_7831c1b92034row4_col5,#T_e17d423c_6b41_11ec_8187_7831c1b92034row4_col12,#T_e17d423c_6b41_11ec_8187_7831c1b92034row5_col4,#T_e17d423c_6b41_11ec_8187_7831c1b92034row5_col14,#T_e17d423c_6b41_11ec_8187_7831c1b92034row6_col8,#T_e17d423c_6b41_11ec_8187_7831c1b92034row6_col11,#T_e17d423c_6b41_11ec_8187_7831c1b92034row6_col13,#T_e17d423c_6b41_11ec_8187_7831c1b92034row6_col15,#T_e17d423c_6b41_11ec_8187_7831c1b92034row6_col16,#T_e17d423c_6b41_11ec_8187_7831c1b92034row7_col9,#T_e17d423c_6b41_11ec_8187_7831c1b92034row8_col6,#T_e17d423c_6b41_11ec_8187_7831c1b92034row8_col18,#T_e17d423c_6b41_11ec_8187_7831c1b92034row8_col19,#T_e17d423c_6b41_11ec_8187_7831c1b92034row15_col21,#T_e17d423c_6b41_11ec_8187_7831c1b92034row17_col22,#T_e17d423c_6b41_11ec_8187_7831c1b92034row20_col12,#T_e17d423c_6b41_11ec_8187_7831c1b92034row21_col15{\n",
       "            background-color:  #3b4cc0;\n",
       "            color:  #f1f1f1;\n",
       "        }#T_e17d423c_6b41_11ec_8187_7831c1b92034row1_col3,#T_e17d423c_6b41_11ec_8187_7831c1b92034row5_col12,#T_e17d423c_6b41_11ec_8187_7831c1b92034row10_col3,#T_e17d423c_6b41_11ec_8187_7831c1b92034row13_col8,#T_e17d423c_6b41_11ec_8187_7831c1b92034row15_col8{\n",
       "            background-color:  #5f7fe8;\n",
       "            color:  #000000;\n",
       "        }#T_e17d423c_6b41_11ec_8187_7831c1b92034row1_col4,#T_e17d423c_6b41_11ec_8187_7831c1b92034row2_col5,#T_e17d423c_6b41_11ec_8187_7831c1b92034row6_col5{\n",
       "            background-color:  #e4d9d2;\n",
       "            color:  #000000;\n",
       "        }#T_e17d423c_6b41_11ec_8187_7831c1b92034row1_col5{\n",
       "            background-color:  #cedaeb;\n",
       "            color:  #000000;\n",
       "        }#T_e17d423c_6b41_11ec_8187_7831c1b92034row1_col6,#T_e17d423c_6b41_11ec_8187_7831c1b92034row15_col7,#T_e17d423c_6b41_11ec_8187_7831c1b92034row17_col8,#T_e17d423c_6b41_11ec_8187_7831c1b92034row20_col19,#T_e17d423c_6b41_11ec_8187_7831c1b92034row21_col6{\n",
       "            background-color:  #6485ec;\n",
       "            color:  #000000;\n",
       "        }#T_e17d423c_6b41_11ec_8187_7831c1b92034row1_col7,#T_e17d423c_6b41_11ec_8187_7831c1b92034row2_col8,#T_e17d423c_6b41_11ec_8187_7831c1b92034row9_col0,#T_e17d423c_6b41_11ec_8187_7831c1b92034row19_col22{\n",
       "            background-color:  #6f92f3;\n",
       "            color:  #000000;\n",
       "        }#T_e17d423c_6b41_11ec_8187_7831c1b92034row1_col9,#T_e17d423c_6b41_11ec_8187_7831c1b92034row1_col19,#T_e17d423c_6b41_11ec_8187_7831c1b92034row4_col7,#T_e17d423c_6b41_11ec_8187_7831c1b92034row9_col18,#T_e17d423c_6b41_11ec_8187_7831c1b92034row10_col7,#T_e17d423c_6b41_11ec_8187_7831c1b92034row10_col13,#T_e17d423c_6b41_11ec_8187_7831c1b92034row13_col10,#T_e17d423c_6b41_11ec_8187_7831c1b92034row16_col14,#T_e17d423c_6b41_11ec_8187_7831c1b92034row16_col22,#T_e17d423c_6b41_11ec_8187_7831c1b92034row17_col12,#T_e17d423c_6b41_11ec_8187_7831c1b92034row17_col16,#T_e17d423c_6b41_11ec_8187_7831c1b92034row20_col18,#T_e17d423c_6b41_11ec_8187_7831c1b92034row21_col22{\n",
       "            background-color:  #506bda;\n",
       "            color:  #000000;\n",
       "        }#T_e17d423c_6b41_11ec_8187_7831c1b92034row1_col12,#T_e17d423c_6b41_11ec_8187_7831c1b92034row3_col21,#T_e17d423c_6b41_11ec_8187_7831c1b92034row4_col13,#T_e17d423c_6b41_11ec_8187_7831c1b92034row6_col10,#T_e17d423c_6b41_11ec_8187_7831c1b92034row6_col22,#T_e17d423c_6b41_11ec_8187_7831c1b92034row7_col22,#T_e17d423c_6b41_11ec_8187_7831c1b92034row8_col14,#T_e17d423c_6b41_11ec_8187_7831c1b92034row11_col21,#T_e17d423c_6b41_11ec_8187_7831c1b92034row13_col18,#T_e17d423c_6b41_11ec_8187_7831c1b92034row14_col11,#T_e17d423c_6b41_11ec_8187_7831c1b92034row14_col18,#T_e17d423c_6b41_11ec_8187_7831c1b92034row17_col15,#T_e17d423c_6b41_11ec_8187_7831c1b92034row18_col13,#T_e17d423c_6b41_11ec_8187_7831c1b92034row18_col21,#T_e17d423c_6b41_11ec_8187_7831c1b92034row18_col22,#T_e17d423c_6b41_11ec_8187_7831c1b92034row19_col12,#T_e17d423c_6b41_11ec_8187_7831c1b92034row21_col13{\n",
       "            background-color:  #4257c9;\n",
       "            color:  #f1f1f1;\n",
       "        }#T_e17d423c_6b41_11ec_8187_7831c1b92034row1_col13,#T_e17d423c_6b41_11ec_8187_7831c1b92034row3_col9,#T_e17d423c_6b41_11ec_8187_7831c1b92034row4_col8,#T_e17d423c_6b41_11ec_8187_7831c1b92034row7_col21,#T_e17d423c_6b41_11ec_8187_7831c1b92034row9_col14,#T_e17d423c_6b41_11ec_8187_7831c1b92034row10_col22,#T_e17d423c_6b41_11ec_8187_7831c1b92034row13_col7,#T_e17d423c_6b41_11ec_8187_7831c1b92034row13_col14,#T_e17d423c_6b41_11ec_8187_7831c1b92034row17_col10,#T_e17d423c_6b41_11ec_8187_7831c1b92034row17_col11,#T_e17d423c_6b41_11ec_8187_7831c1b92034row20_col9,#T_e17d423c_6b41_11ec_8187_7831c1b92034row21_col9,#T_e17d423c_6b41_11ec_8187_7831c1b92034row22_col6,#T_e17d423c_6b41_11ec_8187_7831c1b92034row22_col16{\n",
       "            background-color:  #516ddb;\n",
       "            color:  #000000;\n",
       "        }#T_e17d423c_6b41_11ec_8187_7831c1b92034row1_col20,#T_e17d423c_6b41_11ec_8187_7831c1b92034row8_col2,#T_e17d423c_6b41_11ec_8187_7831c1b92034row14_col4{\n",
       "            background-color:  #e1dad6;\n",
       "            color:  #000000;\n",
       "        }#T_e17d423c_6b41_11ec_8187_7831c1b92034row1_col21,#T_e17d423c_6b41_11ec_8187_7831c1b92034row2_col15,#T_e17d423c_6b41_11ec_8187_7831c1b92034row12_col15,#T_e17d423c_6b41_11ec_8187_7831c1b92034row12_col18,#T_e17d423c_6b41_11ec_8187_7831c1b92034row13_col21,#T_e17d423c_6b41_11ec_8187_7831c1b92034row15_col18,#T_e17d423c_6b41_11ec_8187_7831c1b92034row18_col12,#T_e17d423c_6b41_11ec_8187_7831c1b92034row19_col11,#T_e17d423c_6b41_11ec_8187_7831c1b92034row19_col18,#T_e17d423c_6b41_11ec_8187_7831c1b92034row20_col8,#T_e17d423c_6b41_11ec_8187_7831c1b92034row21_col12{\n",
       "            background-color:  #4358cb;\n",
       "            color:  #f1f1f1;\n",
       "        }#T_e17d423c_6b41_11ec_8187_7831c1b92034row2_col3,#T_e17d423c_6b41_11ec_8187_7831c1b92034row5_col6,#T_e17d423c_6b41_11ec_8187_7831c1b92034row8_col17,#T_e17d423c_6b41_11ec_8187_7831c1b92034row10_col17,#T_e17d423c_6b41_11ec_8187_7831c1b92034row11_col17,#T_e17d423c_6b41_11ec_8187_7831c1b92034row20_col6,#T_e17d423c_6b41_11ec_8187_7831c1b92034row22_col3{\n",
       "            background-color:  #779af7;\n",
       "            color:  #000000;\n",
       "        }#T_e17d423c_6b41_11ec_8187_7831c1b92034row2_col4{\n",
       "            background-color:  #cbd8ee;\n",
       "            color:  #000000;\n",
       "        }#T_e17d423c_6b41_11ec_8187_7831c1b92034row2_col7,#T_e17d423c_6b41_11ec_8187_7831c1b92034row3_col11,#T_e17d423c_6b41_11ec_8187_7831c1b92034row9_col16,#T_e17d423c_6b41_11ec_8187_7831c1b92034row10_col11,#T_e17d423c_6b41_11ec_8187_7831c1b92034row14_col15,#T_e17d423c_6b41_11ec_8187_7831c1b92034row14_col22,#T_e17d423c_6b41_11ec_8187_7831c1b92034row16_col12,#T_e17d423c_6b41_11ec_8187_7831c1b92034row16_col18,#T_e17d423c_6b41_11ec_8187_7831c1b92034row19_col15,#T_e17d423c_6b41_11ec_8187_7831c1b92034row21_col10{\n",
       "            background-color:  #465ecf;\n",
       "            color:  #f1f1f1;\n",
       "        }#T_e17d423c_6b41_11ec_8187_7831c1b92034row2_col10,#T_e17d423c_6b41_11ec_8187_7831c1b92034row6_col3,#T_e17d423c_6b41_11ec_8187_7831c1b92034row22_col12,#T_e17d423c_6b41_11ec_8187_7831c1b92034row22_col17{\n",
       "            background-color:  #5e7de7;\n",
       "            color:  #000000;\n",
       "        }#T_e17d423c_6b41_11ec_8187_7831c1b92034row2_col11,#T_e17d423c_6b41_11ec_8187_7831c1b92034row4_col11,#T_e17d423c_6b41_11ec_8187_7831c1b92034row5_col3,#T_e17d423c_6b41_11ec_8187_7831c1b92034row7_col14,#T_e17d423c_6b41_11ec_8187_7831c1b92034row10_col21,#T_e17d423c_6b41_11ec_8187_7831c1b92034row12_col19,#T_e17d423c_6b41_11ec_8187_7831c1b92034row13_col15,#T_e17d423c_6b41_11ec_8187_7831c1b92034row14_col13,#T_e17d423c_6b41_11ec_8187_7831c1b92034row16_col9,#T_e17d423c_6b41_11ec_8187_7831c1b92034row19_col8,#T_e17d423c_6b41_11ec_8187_7831c1b92034row19_col9,#T_e17d423c_6b41_11ec_8187_7831c1b92034row20_col10{\n",
       "            background-color:  #485fd1;\n",
       "            color:  #f1f1f1;\n",
       "        }#T_e17d423c_6b41_11ec_8187_7831c1b92034row2_col12,#T_e17d423c_6b41_11ec_8187_7831c1b92034row2_col14,#T_e17d423c_6b41_11ec_8187_7831c1b92034row8_col10,#T_e17d423c_6b41_11ec_8187_7831c1b92034row9_col10,#T_e17d423c_6b41_11ec_8187_7831c1b92034row16_col7,#T_e17d423c_6b41_11ec_8187_7831c1b92034row17_col13,#T_e17d423c_6b41_11ec_8187_7831c1b92034row20_col17,#T_e17d423c_6b41_11ec_8187_7831c1b92034row21_col19{\n",
       "            background-color:  #5470de;\n",
       "            color:  #000000;\n",
       "        }#T_e17d423c_6b41_11ec_8187_7831c1b92034row2_col16,#T_e17d423c_6b41_11ec_8187_7831c1b92034row6_col12,#T_e17d423c_6b41_11ec_8187_7831c1b92034row6_col18,#T_e17d423c_6b41_11ec_8187_7831c1b92034row7_col8,#T_e17d423c_6b41_11ec_8187_7831c1b92034row7_col10,#T_e17d423c_6b41_11ec_8187_7831c1b92034row7_col13,#T_e17d423c_6b41_11ec_8187_7831c1b92034row11_col13,#T_e17d423c_6b41_11ec_8187_7831c1b92034row14_col12{\n",
       "            background-color:  #3f53c6;\n",
       "            color:  #f1f1f1;\n",
       "        }#T_e17d423c_6b41_11ec_8187_7831c1b92034row2_col17{\n",
       "            background-color:  #b1cbfc;\n",
       "            color:  #000000;\n",
       "        }#T_e17d423c_6b41_11ec_8187_7831c1b92034row2_col21,#T_e17d423c_6b41_11ec_8187_7831c1b92034row5_col0,#T_e17d423c_6b41_11ec_8187_7831c1b92034row7_col6{\n",
       "            background-color:  #5977e3;\n",
       "            color:  #000000;\n",
       "        }#T_e17d423c_6b41_11ec_8187_7831c1b92034row2_col22,#T_e17d423c_6b41_11ec_8187_7831c1b92034row4_col22,#T_e17d423c_6b41_11ec_8187_7831c1b92034row5_col9,#T_e17d423c_6b41_11ec_8187_7831c1b92034row11_col9,#T_e17d423c_6b41_11ec_8187_7831c1b92034row16_col8,#T_e17d423c_6b41_11ec_8187_7831c1b92034row18_col7,#T_e17d423c_6b41_11ec_8187_7831c1b92034row19_col14,#T_e17d423c_6b41_11ec_8187_7831c1b92034row21_col0{\n",
       "            background-color:  #5b7ae5;\n",
       "            color:  #000000;\n",
       "        }#T_e17d423c_6b41_11ec_8187_7831c1b92034row3_col0{\n",
       "            background-color:  #85a8fc;\n",
       "            color:  #000000;\n",
       "        }#T_e17d423c_6b41_11ec_8187_7831c1b92034row3_col1,#T_e17d423c_6b41_11ec_8187_7831c1b92034row8_col1,#T_e17d423c_6b41_11ec_8187_7831c1b92034row10_col1,#T_e17d423c_6b41_11ec_8187_7831c1b92034row16_col2,#T_e17d423c_6b41_11ec_8187_7831c1b92034row18_col5{\n",
       "            background-color:  #d2dbe8;\n",
       "            color:  #000000;\n",
       "        }#T_e17d423c_6b41_11ec_8187_7831c1b92034row3_col2,#T_e17d423c_6b41_11ec_8187_7831c1b92034row6_col1,#T_e17d423c_6b41_11ec_8187_7831c1b92034row12_col2,#T_e17d423c_6b41_11ec_8187_7831c1b92034row13_col1,#T_e17d423c_6b41_11ec_8187_7831c1b92034row16_col1,#T_e17d423c_6b41_11ec_8187_7831c1b92034row17_col5,#T_e17d423c_6b41_11ec_8187_7831c1b92034row18_col4,#T_e17d423c_6b41_11ec_8187_7831c1b92034row19_col4{\n",
       "            background-color:  #dddcdc;\n",
       "            color:  #000000;\n",
       "        }#T_e17d423c_6b41_11ec_8187_7831c1b92034row3_col4,#T_e17d423c_6b41_11ec_8187_7831c1b92034row17_col1{\n",
       "            background-color:  #bad0f8;\n",
       "            color:  #000000;\n",
       "        }#T_e17d423c_6b41_11ec_8187_7831c1b92034row3_col5{\n",
       "            background-color:  #c3d5f4;\n",
       "            color:  #000000;\n",
       "        }#T_e17d423c_6b41_11ec_8187_7831c1b92034row3_col6,#T_e17d423c_6b41_11ec_8187_7831c1b92034row5_col16,#T_e17d423c_6b41_11ec_8187_7831c1b92034row6_col9,#T_e17d423c_6b41_11ec_8187_7831c1b92034row8_col16,#T_e17d423c_6b41_11ec_8187_7831c1b92034row9_col21,#T_e17d423c_6b41_11ec_8187_7831c1b92034row9_col22,#T_e17d423c_6b41_11ec_8187_7831c1b92034row16_col13,#T_e17d423c_6b41_11ec_8187_7831c1b92034row20_col16,#T_e17d423c_6b41_11ec_8187_7831c1b92034row21_col14{\n",
       "            background-color:  #4c66d6;\n",
       "            color:  #000000;\n",
       "        }#T_e17d423c_6b41_11ec_8187_7831c1b92034row3_col8,#T_e17d423c_6b41_11ec_8187_7831c1b92034row5_col7,#T_e17d423c_6b41_11ec_8187_7831c1b92034row22_col19{\n",
       "            background-color:  #7295f4;\n",
       "            color:  #000000;\n",
       "        }#T_e17d423c_6b41_11ec_8187_7831c1b92034row3_col13,#T_e17d423c_6b41_11ec_8187_7831c1b92034row4_col16,#T_e17d423c_6b41_11ec_8187_7831c1b92034row6_col21,#T_e17d423c_6b41_11ec_8187_7831c1b92034row11_col16,#T_e17d423c_6b41_11ec_8187_7831c1b92034row11_col22,#T_e17d423c_6b41_11ec_8187_7831c1b92034row12_col6,#T_e17d423c_6b41_11ec_8187_7831c1b92034row12_col9,#T_e17d423c_6b41_11ec_8187_7831c1b92034row13_col16,#T_e17d423c_6b41_11ec_8187_7831c1b92034row17_col6,#T_e17d423c_6b41_11ec_8187_7831c1b92034row18_col6,#T_e17d423c_6b41_11ec_8187_7831c1b92034row20_col13{\n",
       "            background-color:  #536edd;\n",
       "            color:  #000000;\n",
       "        }#T_e17d423c_6b41_11ec_8187_7831c1b92034row3_col14,#T_e17d423c_6b41_11ec_8187_7831c1b92034row3_col17,#T_e17d423c_6b41_11ec_8187_7831c1b92034row7_col0,#T_e17d423c_6b41_11ec_8187_7831c1b92034row7_col17,#T_e17d423c_6b41_11ec_8187_7831c1b92034row7_col19,#T_e17d423c_6b41_11ec_8187_7831c1b92034row9_col17,#T_e17d423c_6b41_11ec_8187_7831c1b92034row11_col3,#T_e17d423c_6b41_11ec_8187_7831c1b92034row13_col0,#T_e17d423c_6b41_11ec_8187_7831c1b92034row14_col17,#T_e17d423c_6b41_11ec_8187_7831c1b92034row16_col3,#T_e17d423c_6b41_11ec_8187_7831c1b92034row18_col0,#T_e17d423c_6b41_11ec_8187_7831c1b92034row19_col3{\n",
       "            background-color:  #6b8df0;\n",
       "            color:  #000000;\n",
       "        }#T_e17d423c_6b41_11ec_8187_7831c1b92034row3_col20,#T_e17d423c_6b41_11ec_8187_7831c1b92034row18_col20{\n",
       "            background-color:  #9abbff;\n",
       "            color:  #000000;\n",
       "        }#T_e17d423c_6b41_11ec_8187_7831c1b92034row4_col0,#T_e17d423c_6b41_11ec_8187_7831c1b92034row9_col3{\n",
       "            background-color:  #7093f3;\n",
       "            color:  #000000;\n",
       "        }#T_e17d423c_6b41_11ec_8187_7831c1b92034row4_col1,#T_e17d423c_6b41_11ec_8187_7831c1b92034row5_col2{\n",
       "            background-color:  #e5d8d1;\n",
       "            color:  #000000;\n",
       "        }#T_e17d423c_6b41_11ec_8187_7831c1b92034row4_col2,#T_e17d423c_6b41_11ec_8187_7831c1b92034row14_col5{\n",
       "            background-color:  #ccd9ed;\n",
       "            color:  #000000;\n",
       "        }#T_e17d423c_6b41_11ec_8187_7831c1b92034row4_col10,#T_e17d423c_6b41_11ec_8187_7831c1b92034row7_col3,#T_e17d423c_6b41_11ec_8187_7831c1b92034row8_col21,#T_e17d423c_6b41_11ec_8187_7831c1b92034row9_col13,#T_e17d423c_6b41_11ec_8187_7831c1b92034row13_col22,#T_e17d423c_6b41_11ec_8187_7831c1b92034row14_col7,#T_e17d423c_6b41_11ec_8187_7831c1b92034row15_col9,#T_e17d423c_6b41_11ec_8187_7831c1b92034row15_col22,#T_e17d423c_6b41_11ec_8187_7831c1b92034row17_col18,#T_e17d423c_6b41_11ec_8187_7831c1b92034row19_col21,#T_e17d423c_6b41_11ec_8187_7831c1b92034row22_col7,#T_e17d423c_6b41_11ec_8187_7831c1b92034row22_col11,#T_e17d423c_6b41_11ec_8187_7831c1b92034row22_col15,#T_e17d423c_6b41_11ec_8187_7831c1b92034row22_col21{\n",
       "            background-color:  #4f69d9;\n",
       "            color:  #000000;\n",
       "        }#T_e17d423c_6b41_11ec_8187_7831c1b92034row4_col14,#T_e17d423c_6b41_11ec_8187_7831c1b92034row6_col17,#T_e17d423c_6b41_11ec_8187_7831c1b92034row8_col0,#T_e17d423c_6b41_11ec_8187_7831c1b92034row10_col8,#T_e17d423c_6b41_11ec_8187_7831c1b92034row15_col0,#T_e17d423c_6b41_11ec_8187_7831c1b92034row15_col17,#T_e17d423c_6b41_11ec_8187_7831c1b92034row19_col6,#T_e17d423c_6b41_11ec_8187_7831c1b92034row19_col17{\n",
       "            background-color:  #6788ee;\n",
       "            color:  #000000;\n",
       "        }#T_e17d423c_6b41_11ec_8187_7831c1b92034row4_col17,#T_e17d423c_6b41_11ec_8187_7831c1b92034row12_col8,#T_e17d423c_6b41_11ec_8187_7831c1b92034row17_col3,#T_e17d423c_6b41_11ec_8187_7831c1b92034row21_col17{\n",
       "            background-color:  #6a8bef;\n",
       "            color:  #000000;\n",
       "        }#T_e17d423c_6b41_11ec_8187_7831c1b92034row4_col20{\n",
       "            background-color:  #a3c2fe;\n",
       "            color:  #000000;\n",
       "        }#T_e17d423c_6b41_11ec_8187_7831c1b92034row4_col21,#T_e17d423c_6b41_11ec_8187_7831c1b92034row5_col18,#T_e17d423c_6b41_11ec_8187_7831c1b92034row19_col16{\n",
       "            background-color:  #3c4ec2;\n",
       "            color:  #f1f1f1;\n",
       "        }#T_e17d423c_6b41_11ec_8187_7831c1b92034row5_col1,#T_e17d423c_6b41_11ec_8187_7831c1b92034row6_col4,#T_e17d423c_6b41_11ec_8187_7831c1b92034row7_col2,#T_e17d423c_6b41_11ec_8187_7831c1b92034row20_col5{\n",
       "            background-color:  #cfdaea;\n",
       "            color:  #000000;\n",
       "        }#T_e17d423c_6b41_11ec_8187_7831c1b92034row5_col17,#T_e17d423c_6b41_11ec_8187_7831c1b92034row11_col8,#T_e17d423c_6b41_11ec_8187_7831c1b92034row17_col20{\n",
       "            background-color:  #7a9df8;\n",
       "            color:  #000000;\n",
       "        }#T_e17d423c_6b41_11ec_8187_7831c1b92034row5_col20,#T_e17d423c_6b41_11ec_8187_7831c1b92034row8_col3{\n",
       "            background-color:  #84a7fc;\n",
       "            color:  #000000;\n",
       "        }#T_e17d423c_6b41_11ec_8187_7831c1b92034row5_col21,#T_e17d423c_6b41_11ec_8187_7831c1b92034row10_col19,#T_e17d423c_6b41_11ec_8187_7831c1b92034row12_col22,#T_e17d423c_6b41_11ec_8187_7831c1b92034row15_col3,#T_e17d423c_6b41_11ec_8187_7831c1b92034row21_col7,#T_e17d423c_6b41_11ec_8187_7831c1b92034row21_col8{\n",
       "            background-color:  #6180e9;\n",
       "            color:  #000000;\n",
       "        }#T_e17d423c_6b41_11ec_8187_7831c1b92034row6_col0,#T_e17d423c_6b41_11ec_8187_7831c1b92034row9_col8,#T_e17d423c_6b41_11ec_8187_7831c1b92034row14_col0{\n",
       "            background-color:  #6384eb;\n",
       "            color:  #000000;\n",
       "        }#T_e17d423c_6b41_11ec_8187_7831c1b92034row6_col2,#T_e17d423c_6b41_11ec_8187_7831c1b92034row15_col5{\n",
       "            background-color:  #d7dce3;\n",
       "            color:  #000000;\n",
       "        }#T_e17d423c_6b41_11ec_8187_7831c1b92034row6_col20{\n",
       "            background-color:  #abc8fd;\n",
       "            color:  #000000;\n",
       "        }#T_e17d423c_6b41_11ec_8187_7831c1b92034row7_col1,#T_e17d423c_6b41_11ec_8187_7831c1b92034row10_col2,#T_e17d423c_6b41_11ec_8187_7831c1b92034row12_col5,#T_e17d423c_6b41_11ec_8187_7831c1b92034row21_col5{\n",
       "            background-color:  #e2dad5;\n",
       "            color:  #000000;\n",
       "        }#T_e17d423c_6b41_11ec_8187_7831c1b92034row7_col4,#T_e17d423c_6b41_11ec_8187_7831c1b92034row22_col1{\n",
       "            background-color:  #d4dbe6;\n",
       "            color:  #000000;\n",
       "        }#T_e17d423c_6b41_11ec_8187_7831c1b92034row7_col5{\n",
       "            background-color:  #e3d9d3;\n",
       "            color:  #000000;\n",
       "        }#T_e17d423c_6b41_11ec_8187_7831c1b92034row7_col11,#T_e17d423c_6b41_11ec_8187_7831c1b92034row7_col12,#T_e17d423c_6b41_11ec_8187_7831c1b92034row9_col7,#T_e17d423c_6b41_11ec_8187_7831c1b92034row11_col10,#T_e17d423c_6b41_11ec_8187_7831c1b92034row11_col12,#T_e17d423c_6b41_11ec_8187_7831c1b92034row11_col18,#T_e17d423c_6b41_11ec_8187_7831c1b92034row12_col11,#T_e17d423c_6b41_11ec_8187_7831c1b92034row17_col19,#T_e17d423c_6b41_11ec_8187_7831c1b92034row18_col11,#T_e17d423c_6b41_11ec_8187_7831c1b92034row18_col15,#T_e17d423c_6b41_11ec_8187_7831c1b92034row20_col11{\n",
       "            background-color:  #455cce;\n",
       "            color:  #f1f1f1;\n",
       "        }#T_e17d423c_6b41_11ec_8187_7831c1b92034row7_col20{\n",
       "            background-color:  #9fbfff;\n",
       "            color:  #000000;\n",
       "        }#T_e17d423c_6b41_11ec_8187_7831c1b92034row8_col4,#T_e17d423c_6b41_11ec_8187_7831c1b92034row9_col4,#T_e17d423c_6b41_11ec_8187_7831c1b92034row18_col1{\n",
       "            background-color:  #d3dbe7;\n",
       "            color:  #000000;\n",
       "        }#T_e17d423c_6b41_11ec_8187_7831c1b92034row8_col5,#T_e17d423c_6b41_11ec_8187_7831c1b92034row10_col4,#T_e17d423c_6b41_11ec_8187_7831c1b92034row13_col5{\n",
       "            background-color:  #dbdcde;\n",
       "            color:  #000000;\n",
       "        }#T_e17d423c_6b41_11ec_8187_7831c1b92034row8_col11,#T_e17d423c_6b41_11ec_8187_7831c1b92034row12_col0{\n",
       "            background-color:  #688aef;\n",
       "            color:  #000000;\n",
       "        }#T_e17d423c_6b41_11ec_8187_7831c1b92034row8_col20{\n",
       "            background-color:  #7da0f9;\n",
       "            color:  #000000;\n",
       "        }#T_e17d423c_6b41_11ec_8187_7831c1b92034row9_col1,#T_e17d423c_6b41_11ec_8187_7831c1b92034row10_col5,#T_e17d423c_6b41_11ec_8187_7831c1b92034row11_col1,#T_e17d423c_6b41_11ec_8187_7831c1b92034row14_col2,#T_e17d423c_6b41_11ec_8187_7831c1b92034row19_col1{\n",
       "            background-color:  #d9dce1;\n",
       "            color:  #000000;\n",
       "        }#T_e17d423c_6b41_11ec_8187_7831c1b92034row9_col2,#T_e17d423c_6b41_11ec_8187_7831c1b92034row11_col2,#T_e17d423c_6b41_11ec_8187_7831c1b92034row11_col4,#T_e17d423c_6b41_11ec_8187_7831c1b92034row16_col5{\n",
       "            background-color:  #d8dce2;\n",
       "            color:  #000000;\n",
       "        }#T_e17d423c_6b41_11ec_8187_7831c1b92034row9_col5,#T_e17d423c_6b41_11ec_8187_7831c1b92034row15_col1{\n",
       "            background-color:  #dedcdb;\n",
       "            color:  #000000;\n",
       "        }#T_e17d423c_6b41_11ec_8187_7831c1b92034row9_col20,#T_e17d423c_6b41_11ec_8187_7831c1b92034row14_col20{\n",
       "            background-color:  #96b7ff;\n",
       "            color:  #000000;\n",
       "        }#T_e17d423c_6b41_11ec_8187_7831c1b92034row10_col20,#T_e17d423c_6b41_11ec_8187_7831c1b92034row15_col20,#T_e17d423c_6b41_11ec_8187_7831c1b92034row16_col20{\n",
       "            background-color:  #93b5fe;\n",
       "            color:  #000000;\n",
       "        }#T_e17d423c_6b41_11ec_8187_7831c1b92034row11_col0,#T_e17d423c_6b41_11ec_8187_7831c1b92034row12_col17,#T_e17d423c_6b41_11ec_8187_7831c1b92034row18_col17,#T_e17d423c_6b41_11ec_8187_7831c1b92034row19_col7,#T_e17d423c_6b41_11ec_8187_7831c1b92034row20_col3{\n",
       "            background-color:  #7699f6;\n",
       "            color:  #000000;\n",
       "        }#T_e17d423c_6b41_11ec_8187_7831c1b92034row11_col5,#T_e17d423c_6b41_11ec_8187_7831c1b92034row14_col1,#T_e17d423c_6b41_11ec_8187_7831c1b92034row16_col4{\n",
       "            background-color:  #dadce0;\n",
       "            color:  #000000;\n",
       "        }#T_e17d423c_6b41_11ec_8187_7831c1b92034row11_col20{\n",
       "            background-color:  #90b2fe;\n",
       "            color:  #000000;\n",
       "        }#T_e17d423c_6b41_11ec_8187_7831c1b92034row12_col1,#T_e17d423c_6b41_11ec_8187_7831c1b92034row13_col2,#T_e17d423c_6b41_11ec_8187_7831c1b92034row13_col4,#T_e17d423c_6b41_11ec_8187_7831c1b92034row15_col2,#T_e17d423c_6b41_11ec_8187_7831c1b92034row17_col4,#T_e17d423c_6b41_11ec_8187_7831c1b92034row19_col5,#T_e17d423c_6b41_11ec_8187_7831c1b92034row21_col1{\n",
       "            background-color:  #d5dbe5;\n",
       "            color:  #000000;\n",
       "        }#T_e17d423c_6b41_11ec_8187_7831c1b92034row12_col20,#T_e17d423c_6b41_11ec_8187_7831c1b92034row14_col3{\n",
       "            background-color:  #86a9fc;\n",
       "            color:  #000000;\n",
       "        }#T_e17d423c_6b41_11ec_8187_7831c1b92034row13_col3{\n",
       "            background-color:  #799cf8;\n",
       "            color:  #000000;\n",
       "        }#T_e17d423c_6b41_11ec_8187_7831c1b92034row13_col17,#T_e17d423c_6b41_11ec_8187_7831c1b92034row18_col3{\n",
       "            background-color:  #7b9ff9;\n",
       "            color:  #000000;\n",
       "        }#T_e17d423c_6b41_11ec_8187_7831c1b92034row13_col20,#T_e17d423c_6b41_11ec_8187_7831c1b92034row20_col2{\n",
       "            background-color:  #9dbdff;\n",
       "            color:  #000000;\n",
       "        }#T_e17d423c_6b41_11ec_8187_7831c1b92034row16_col0{\n",
       "            background-color:  #80a3fa;\n",
       "            color:  #000000;\n",
       "        }#T_e17d423c_6b41_11ec_8187_7831c1b92034row16_col17{\n",
       "            background-color:  #7396f5;\n",
       "            color:  #000000;\n",
       "        }#T_e17d423c_6b41_11ec_8187_7831c1b92034row17_col2{\n",
       "            background-color:  #f2cbb7;\n",
       "            color:  #000000;\n",
       "        }#T_e17d423c_6b41_11ec_8187_7831c1b92034row18_col2,#T_e17d423c_6b41_11ec_8187_7831c1b92034row21_col2,#T_e17d423c_6b41_11ec_8187_7831c1b92034row22_col2,#T_e17d423c_6b41_11ec_8187_7831c1b92034row22_col4{\n",
       "            background-color:  #dfdbd9;\n",
       "            color:  #000000;\n",
       "        }#T_e17d423c_6b41_11ec_8187_7831c1b92034row19_col20{\n",
       "            background-color:  #a6c4fe;\n",
       "            color:  #000000;\n",
       "        }#T_e17d423c_6b41_11ec_8187_7831c1b92034row20_col0{\n",
       "            background-color:  #8db0fe;\n",
       "            color:  #000000;\n",
       "        }#T_e17d423c_6b41_11ec_8187_7831c1b92034row20_col1{\n",
       "            background-color:  #f7b99e;\n",
       "            color:  #000000;\n",
       "        }#T_e17d423c_6b41_11ec_8187_7831c1b92034row20_col4{\n",
       "            background-color:  #e0dbd8;\n",
       "            color:  #000000;\n",
       "        }#T_e17d423c_6b41_11ec_8187_7831c1b92034row22_col20{\n",
       "            background-color:  #92b4fe;\n",
       "            color:  #000000;\n",
       "        }</style><table id=\"T_e17d423c_6b41_11ec_8187_7831c1b92034\" ><thead>    <tr>        <th class=\"blank level0\" ></th>        <th class=\"col_heading level0 col0\" >Rounded to Sub-Rounded</th>        <th class=\"col_heading level0 col1\" >Sub-Rounded to Sub-Angular</th>        <th class=\"col_heading level0 col2\" >Sub-Angular to Angular</th>        <th class=\"col_heading level0 col3\" >Low Relief</th>        <th class=\"col_heading level0 col4\" >Medium Relief</th>        <th class=\"col_heading level0 col5\" >High Relief</th>        <th class=\"col_heading level0 col6\" >Precipitation Features</th>        <th class=\"col_heading level0 col7\" >Dissolution Etching</th>        <th class=\"col_heading level0 col8\" >Fracture Faces</th>        <th class=\"col_heading level0 col9\" >Subparallel Linear Features</th>        <th class=\"col_heading level0 col10\" >Conchoidal Fractures</th>        <th class=\"col_heading level0 col11\" >Curved Grooves</th>        <th class=\"col_heading level0 col12\" >Straight Grooves</th>        <th class=\"col_heading level0 col13\" >Deep Troughs</th>        <th class=\"col_heading level0 col14\" >Crescentic Gouges</th>        <th class=\"col_heading level0 col15\" >Arc Shaped Steps</th>        <th class=\"col_heading level0 col16\" >Linear Steps</th>        <th class=\"col_heading level0 col17\" >Sharp Angular Features</th>        <th class=\"col_heading level0 col18\" >Upturned Plates</th>        <th class=\"col_heading level0 col19\" >V Shaped Cracks</th>        <th class=\"col_heading level0 col20\" >Edge Rounding</th>        <th class=\"col_heading level0 col21\" >Breakage Blocks</th>        <th class=\"col_heading level0 col22\" >Abrasion Features</th>    </tr></thead><tbody>\n",
       "                <tr>\n",
       "                        <th id=\"T_e17d423c_6b41_11ec_8187_7831c1b92034level0_row0\" class=\"row_heading level0 row0\" >Rounded to Sub-Rounded</th>\n",
       "                        <td id=\"T_e17d423c_6b41_11ec_8187_7831c1b92034row0_col0\" class=\"data row0 col0\" >1.000000</td>\n",
       "                        <td id=\"T_e17d423c_6b41_11ec_8187_7831c1b92034row0_col1\" class=\"data row0 col1\" >-0.138422</td>\n",
       "                        <td id=\"T_e17d423c_6b41_11ec_8187_7831c1b92034row0_col2\" class=\"data row0 col2\" >-0.175936</td>\n",
       "                        <td id=\"T_e17d423c_6b41_11ec_8187_7831c1b92034row0_col3\" class=\"data row0 col3\" >0.093376</td>\n",
       "                        <td id=\"T_e17d423c_6b41_11ec_8187_7831c1b92034row0_col4\" class=\"data row0 col4\" >0.025923</td>\n",
       "                        <td id=\"T_e17d423c_6b41_11ec_8187_7831c1b92034row0_col5\" class=\"data row0 col5\" >-0.058525</td>\n",
       "                        <td id=\"T_e17d423c_6b41_11ec_8187_7831c1b92034row0_col6\" class=\"data row0 col6\" >-0.020973</td>\n",
       "                        <td id=\"T_e17d423c_6b41_11ec_8187_7831c1b92034row0_col7\" class=\"data row0 col7\" >0.006700</td>\n",
       "                        <td id=\"T_e17d423c_6b41_11ec_8187_7831c1b92034row0_col8\" class=\"data row0 col8\" >-0.009999</td>\n",
       "                        <td id=\"T_e17d423c_6b41_11ec_8187_7831c1b92034row0_col9\" class=\"data row0 col9\" >0.017252</td>\n",
       "                        <td id=\"T_e17d423c_6b41_11ec_8187_7831c1b92034row0_col10\" class=\"data row0 col10\" >-0.045272</td>\n",
       "                        <td id=\"T_e17d423c_6b41_11ec_8187_7831c1b92034row0_col11\" class=\"data row0 col11\" >0.042800</td>\n",
       "                        <td id=\"T_e17d423c_6b41_11ec_8187_7831c1b92034row0_col12\" class=\"data row0 col12\" >-0.002093</td>\n",
       "                        <td id=\"T_e17d423c_6b41_11ec_8187_7831c1b92034row0_col13\" class=\"data row0 col13\" >0.007465</td>\n",
       "                        <td id=\"T_e17d423c_6b41_11ec_8187_7831c1b92034row0_col14\" class=\"data row0 col14\" >-0.020668</td>\n",
       "                        <td id=\"T_e17d423c_6b41_11ec_8187_7831c1b92034row0_col15\" class=\"data row0 col15\" >-0.006066</td>\n",
       "                        <td id=\"T_e17d423c_6b41_11ec_8187_7831c1b92034row0_col16\" class=\"data row0 col16\" >0.075293</td>\n",
       "                        <td id=\"T_e17d423c_6b41_11ec_8187_7831c1b92034row0_col17\" class=\"data row0 col17\" >-0.052498</td>\n",
       "                        <td id=\"T_e17d423c_6b41_11ec_8187_7831c1b92034row0_col18\" class=\"data row0 col18\" >0.004448</td>\n",
       "                        <td id=\"T_e17d423c_6b41_11ec_8187_7831c1b92034row0_col19\" class=\"data row0 col19\" >-0.054661</td>\n",
       "                        <td id=\"T_e17d423c_6b41_11ec_8187_7831c1b92034row0_col20\" class=\"data row0 col20\" >0.121799</td>\n",
       "                        <td id=\"T_e17d423c_6b41_11ec_8187_7831c1b92034row0_col21\" class=\"data row0 col21\" >-0.047385</td>\n",
       "                        <td id=\"T_e17d423c_6b41_11ec_8187_7831c1b92034row0_col22\" class=\"data row0 col22\" >-0.013981</td>\n",
       "            </tr>\n",
       "            <tr>\n",
       "                        <th id=\"T_e17d423c_6b41_11ec_8187_7831c1b92034level0_row1\" class=\"row_heading level0 row1\" >Sub-Rounded to Sub-Angular</th>\n",
       "                        <td id=\"T_e17d423c_6b41_11ec_8187_7831c1b92034row1_col0\" class=\"data row1 col0\" >-0.138422</td>\n",
       "                        <td id=\"T_e17d423c_6b41_11ec_8187_7831c1b92034row1_col1\" class=\"data row1 col1\" >1.000000</td>\n",
       "                        <td id=\"T_e17d423c_6b41_11ec_8187_7831c1b92034row1_col2\" class=\"data row1 col2\" >-0.950572</td>\n",
       "                        <td id=\"T_e17d423c_6b41_11ec_8187_7831c1b92034row1_col3\" class=\"data row1 col3\" >-0.055843</td>\n",
       "                        <td id=\"T_e17d423c_6b41_11ec_8187_7831c1b92034row1_col4\" class=\"data row1 col4\" >0.088878</td>\n",
       "                        <td id=\"T_e17d423c_6b41_11ec_8187_7831c1b92034row1_col5\" class=\"data row1 col5\" >-0.070406</td>\n",
       "                        <td id=\"T_e17d423c_6b41_11ec_8187_7831c1b92034row1_col6\" class=\"data row1 col6\" >0.025861</td>\n",
       "                        <td id=\"T_e17d423c_6b41_11ec_8187_7831c1b92034row1_col7\" class=\"data row1 col7\" >0.068803</td>\n",
       "                        <td id=\"T_e17d423c_6b41_11ec_8187_7831c1b92034row1_col8\" class=\"data row1 col8\" >-0.055986</td>\n",
       "                        <td id=\"T_e17d423c_6b41_11ec_8187_7831c1b92034row1_col9\" class=\"data row1 col9\" >0.001589</td>\n",
       "                        <td id=\"T_e17d423c_6b41_11ec_8187_7831c1b92034row1_col10\" class=\"data row1 col10\" >-0.052122</td>\n",
       "                        <td id=\"T_e17d423c_6b41_11ec_8187_7831c1b92034row1_col11\" class=\"data row1 col11\" >-0.005459</td>\n",
       "                        <td id=\"T_e17d423c_6b41_11ec_8187_7831c1b92034row1_col12\" class=\"data row1 col12\" >-0.030267</td>\n",
       "                        <td id=\"T_e17d423c_6b41_11ec_8187_7831c1b92034row1_col13\" class=\"data row1 col13\" >0.028549</td>\n",
       "                        <td id=\"T_e17d423c_6b41_11ec_8187_7831c1b92034row1_col14\" class=\"data row1 col14\" >0.007903</td>\n",
       "                        <td id=\"T_e17d423c_6b41_11ec_8187_7831c1b92034row1_col15\" class=\"data row1 col15\" >0.035838</td>\n",
       "                        <td id=\"T_e17d423c_6b41_11ec_8187_7831c1b92034row1_col16\" class=\"data row1 col16\" >0.031783</td>\n",
       "                        <td id=\"T_e17d423c_6b41_11ec_8187_7831c1b92034row1_col17\" class=\"data row1 col17\" >-0.206496</td>\n",
       "                        <td id=\"T_e17d423c_6b41_11ec_8187_7831c1b92034row1_col18\" class=\"data row1 col18\" >-0.046089</td>\n",
       "                        <td id=\"T_e17d423c_6b41_11ec_8187_7831c1b92034row1_col19\" class=\"data row1 col19\" >-0.000673</td>\n",
       "                        <td id=\"T_e17d423c_6b41_11ec_8187_7831c1b92034row1_col20\" class=\"data row1 col20\" >0.338890</td>\n",
       "                        <td id=\"T_e17d423c_6b41_11ec_8187_7831c1b92034row1_col21\" class=\"data row1 col21\" >-0.028649</td>\n",
       "                        <td id=\"T_e17d423c_6b41_11ec_8187_7831c1b92034row1_col22\" class=\"data row1 col22\" >-0.042771</td>\n",
       "            </tr>\n",
       "            <tr>\n",
       "                        <th id=\"T_e17d423c_6b41_11ec_8187_7831c1b92034level0_row2\" class=\"row_heading level0 row2\" >Sub-Angular to Angular</th>\n",
       "                        <td id=\"T_e17d423c_6b41_11ec_8187_7831c1b92034row2_col0\" class=\"data row2 col0\" >-0.175936</td>\n",
       "                        <td id=\"T_e17d423c_6b41_11ec_8187_7831c1b92034row2_col1\" class=\"data row2 col1\" >-0.950572</td>\n",
       "                        <td id=\"T_e17d423c_6b41_11ec_8187_7831c1b92034row2_col2\" class=\"data row2 col2\" >1.000000</td>\n",
       "                        <td id=\"T_e17d423c_6b41_11ec_8187_7831c1b92034row2_col3\" class=\"data row2 col3\" >0.026231</td>\n",
       "                        <td id=\"T_e17d423c_6b41_11ec_8187_7831c1b92034row2_col4\" class=\"data row2 col4\" >-0.096470</td>\n",
       "                        <td id=\"T_e17d423c_6b41_11ec_8187_7831c1b92034row2_col5\" class=\"data row2 col5\" >0.088331</td>\n",
       "                        <td id=\"T_e17d423c_6b41_11ec_8187_7831c1b92034row2_col6\" class=\"data row2 col6\" >-0.019129</td>\n",
       "                        <td id=\"T_e17d423c_6b41_11ec_8187_7831c1b92034row2_col7\" class=\"data row2 col7\" >-0.070489</td>\n",
       "                        <td id=\"T_e17d423c_6b41_11ec_8187_7831c1b92034row2_col8\" class=\"data row2 col8\" >0.058784</td>\n",
       "                        <td id=\"T_e17d423c_6b41_11ec_8187_7831c1b92034row2_col9\" class=\"data row2 col9\" >-0.006989</td>\n",
       "                        <td id=\"T_e17d423c_6b41_11ec_8187_7831c1b92034row2_col10\" class=\"data row2 col10\" >0.066001</td>\n",
       "                        <td id=\"T_e17d423c_6b41_11ec_8187_7831c1b92034row2_col11\" class=\"data row2 col11\" >-0.007993</td>\n",
       "                        <td id=\"T_e17d423c_6b41_11ec_8187_7831c1b92034row2_col12\" class=\"data row2 col12\" >0.030741</td>\n",
       "                        <td id=\"T_e17d423c_6b41_11ec_8187_7831c1b92034row2_col13\" class=\"data row2 col13\" >-0.030717</td>\n",
       "                        <td id=\"T_e17d423c_6b41_11ec_8187_7831c1b92034row2_col14\" class=\"data row2 col14\" >-0.001376</td>\n",
       "                        <td id=\"T_e17d423c_6b41_11ec_8187_7831c1b92034row2_col15\" class=\"data row2 col15\" >-0.033720</td>\n",
       "                        <td id=\"T_e17d423c_6b41_11ec_8187_7831c1b92034row2_col16\" class=\"data row2 col16\" >-0.055198</td>\n",
       "                        <td id=\"T_e17d423c_6b41_11ec_8187_7831c1b92034row2_col17\" class=\"data row2 col17\" >0.221710</td>\n",
       "                        <td id=\"T_e17d423c_6b41_11ec_8187_7831c1b92034row2_col18\" class=\"data row2 col18\" >0.044417</td>\n",
       "                        <td id=\"T_e17d423c_6b41_11ec_8187_7831c1b92034row2_col19\" class=\"data row2 col19\" >0.017807</td>\n",
       "                        <td id=\"T_e17d423c_6b41_11ec_8187_7831c1b92034row2_col20\" class=\"data row2 col20\" >-0.375034</td>\n",
       "                        <td id=\"T_e17d423c_6b41_11ec_8187_7831c1b92034row2_col21\" class=\"data row2 col21\" >0.043333</td>\n",
       "                        <td id=\"T_e17d423c_6b41_11ec_8187_7831c1b92034row2_col22\" class=\"data row2 col22\" >0.046897</td>\n",
       "            </tr>\n",
       "            <tr>\n",
       "                        <th id=\"T_e17d423c_6b41_11ec_8187_7831c1b92034level0_row3\" class=\"row_heading level0 row3\" >Low Relief</th>\n",
       "                        <td id=\"T_e17d423c_6b41_11ec_8187_7831c1b92034row3_col0\" class=\"data row3 col0\" >0.093376</td>\n",
       "                        <td id=\"T_e17d423c_6b41_11ec_8187_7831c1b92034row3_col1\" class=\"data row3 col1\" >-0.055843</td>\n",
       "                        <td id=\"T_e17d423c_6b41_11ec_8187_7831c1b92034row3_col2\" class=\"data row3 col2\" >0.026231</td>\n",
       "                        <td id=\"T_e17d423c_6b41_11ec_8187_7831c1b92034row3_col3\" class=\"data row3 col3\" >1.000000</td>\n",
       "                        <td id=\"T_e17d423c_6b41_11ec_8187_7831c1b92034row3_col4\" class=\"data row3 col4\" >-0.199733</td>\n",
       "                        <td id=\"T_e17d423c_6b41_11ec_8187_7831c1b92034row3_col5\" class=\"data row3 col5\" >-0.144725</td>\n",
       "                        <td id=\"T_e17d423c_6b41_11ec_8187_7831c1b92034row3_col6\" class=\"data row3 col6\" >-0.060069</td>\n",
       "                        <td id=\"T_e17d423c_6b41_11ec_8187_7831c1b92034row3_col7\" class=\"data row3 col7\" >-0.117123</td>\n",
       "                        <td id=\"T_e17d423c_6b41_11ec_8187_7831c1b92034row3_col8\" class=\"data row3 col8\" >0.068980</td>\n",
       "                        <td id=\"T_e17d423c_6b41_11ec_8187_7831c1b92034row3_col9\" class=\"data row3 col9\" >0.003995</td>\n",
       "                        <td id=\"T_e17d423c_6b41_11ec_8187_7831c1b92034row3_col10\" class=\"data row3 col10\" >-0.054631</td>\n",
       "                        <td id=\"T_e17d423c_6b41_11ec_8187_7831c1b92034row3_col11\" class=\"data row3 col11\" >-0.013595</td>\n",
       "                        <td id=\"T_e17d423c_6b41_11ec_8187_7831c1b92034row3_col12\" class=\"data row3 col12\" >-0.033212</td>\n",
       "                        <td id=\"T_e17d423c_6b41_11ec_8187_7831c1b92034row3_col13\" class=\"data row3 col13\" >0.032658</td>\n",
       "                        <td id=\"T_e17d423c_6b41_11ec_8187_7831c1b92034row3_col14\" class=\"data row3 col14\" >0.078125</td>\n",
       "                        <td id=\"T_e17d423c_6b41_11ec_8187_7831c1b92034row3_col15\" class=\"data row3 col15\" >-0.053107</td>\n",
       "                        <td id=\"T_e17d423c_6b41_11ec_8187_7831c1b92034row3_col16\" class=\"data row3 col16\" >-0.014953</td>\n",
       "                        <td id=\"T_e17d423c_6b41_11ec_8187_7831c1b92034row3_col17\" class=\"data row3 col17\" >-0.020163</td>\n",
       "                        <td id=\"T_e17d423c_6b41_11ec_8187_7831c1b92034row3_col18\" class=\"data row3 col18\" >0.043542</td>\n",
       "                        <td id=\"T_e17d423c_6b41_11ec_8187_7831c1b92034row3_col19\" class=\"data row3 col19\" >-0.015411</td>\n",
       "                        <td id=\"T_e17d423c_6b41_11ec_8187_7831c1b92034row3_col20\" class=\"data row3 col20\" >0.020714</td>\n",
       "                        <td id=\"T_e17d423c_6b41_11ec_8187_7831c1b92034row3_col21\" class=\"data row3 col21\" >-0.034491</td>\n",
       "                        <td id=\"T_e17d423c_6b41_11ec_8187_7831c1b92034row3_col22\" class=\"data row3 col22\" >0.028067</td>\n",
       "            </tr>\n",
       "            <tr>\n",
       "                        <th id=\"T_e17d423c_6b41_11ec_8187_7831c1b92034level0_row4\" class=\"row_heading level0 row4\" >Medium Relief</th>\n",
       "                        <td id=\"T_e17d423c_6b41_11ec_8187_7831c1b92034row4_col0\" class=\"data row4 col0\" >0.025923</td>\n",
       "                        <td id=\"T_e17d423c_6b41_11ec_8187_7831c1b92034row4_col1\" class=\"data row4 col1\" >0.088878</td>\n",
       "                        <td id=\"T_e17d423c_6b41_11ec_8187_7831c1b92034row4_col2\" class=\"data row4 col2\" >-0.096470</td>\n",
       "                        <td id=\"T_e17d423c_6b41_11ec_8187_7831c1b92034row4_col3\" class=\"data row4 col3\" >-0.199733</td>\n",
       "                        <td id=\"T_e17d423c_6b41_11ec_8187_7831c1b92034row4_col4\" class=\"data row4 col4\" >1.000000</td>\n",
       "                        <td id=\"T_e17d423c_6b41_11ec_8187_7831c1b92034row4_col5\" class=\"data row4 col5\" >-0.940628</td>\n",
       "                        <td id=\"T_e17d423c_6b41_11ec_8187_7831c1b92034row4_col6\" class=\"data row4 col6\" >-0.066022</td>\n",
       "                        <td id=\"T_e17d423c_6b41_11ec_8187_7831c1b92034row4_col7\" class=\"data row4 col7\" >-0.037151</td>\n",
       "                        <td id=\"T_e17d423c_6b41_11ec_8187_7831c1b92034row4_col8\" class=\"data row4 col8\" >-0.040001</td>\n",
       "                        <td id=\"T_e17d423c_6b41_11ec_8187_7831c1b92034row4_col9\" class=\"data row4 col9\" >-0.039510</td>\n",
       "                        <td id=\"T_e17d423c_6b41_11ec_8187_7831c1b92034row4_col10\" class=\"data row4 col10\" >0.017596</td>\n",
       "                        <td id=\"T_e17d423c_6b41_11ec_8187_7831c1b92034row4_col11\" class=\"data row4 col11\" >-0.007540</td>\n",
       "                        <td id=\"T_e17d423c_6b41_11ec_8187_7831c1b92034row4_col12\" class=\"data row4 col12\" >-0.055893</td>\n",
       "                        <td id=\"T_e17d423c_6b41_11ec_8187_7831c1b92034row4_col13\" class=\"data row4 col13\" >-0.026150</td>\n",
       "                        <td id=\"T_e17d423c_6b41_11ec_8187_7831c1b92034row4_col14\" class=\"data row4 col14\" >0.063284</td>\n",
       "                        <td id=\"T_e17d423c_6b41_11ec_8187_7831c1b92034row4_col15\" class=\"data row4 col15\" >0.027706</td>\n",
       "                        <td id=\"T_e17d423c_6b41_11ec_8187_7831c1b92034row4_col16\" class=\"data row4 col16\" >0.013193</td>\n",
       "                        <td id=\"T_e17d423c_6b41_11ec_8187_7831c1b92034row4_col17\" class=\"data row4 col17\" >-0.025101</td>\n",
       "                        <td id=\"T_e17d423c_6b41_11ec_8187_7831c1b92034row4_col18\" class=\"data row4 col18\" >0.035972</td>\n",
       "                        <td id=\"T_e17d423c_6b41_11ec_8187_7831c1b92034row4_col19\" class=\"data row4 col19\" >0.031511</td>\n",
       "                        <td id=\"T_e17d423c_6b41_11ec_8187_7831c1b92034row4_col20\" class=\"data row4 col20\" >0.058899</td>\n",
       "                        <td id=\"T_e17d423c_6b41_11ec_8187_7831c1b92034row4_col21\" class=\"data row4 col21\" >-0.056649</td>\n",
       "                        <td id=\"T_e17d423c_6b41_11ec_8187_7831c1b92034row4_col22\" class=\"data row4 col22\" >0.047269</td>\n",
       "            </tr>\n",
       "            <tr>\n",
       "                        <th id=\"T_e17d423c_6b41_11ec_8187_7831c1b92034level0_row5\" class=\"row_heading level0 row5\" >High Relief</th>\n",
       "                        <td id=\"T_e17d423c_6b41_11ec_8187_7831c1b92034row5_col0\" class=\"data row5 col0\" >-0.058525</td>\n",
       "                        <td id=\"T_e17d423c_6b41_11ec_8187_7831c1b92034row5_col1\" class=\"data row5 col1\" >-0.070406</td>\n",
       "                        <td id=\"T_e17d423c_6b41_11ec_8187_7831c1b92034row5_col2\" class=\"data row5 col2\" >0.088331</td>\n",
       "                        <td id=\"T_e17d423c_6b41_11ec_8187_7831c1b92034row5_col3\" class=\"data row5 col3\" >-0.144725</td>\n",
       "                        <td id=\"T_e17d423c_6b41_11ec_8187_7831c1b92034row5_col4\" class=\"data row5 col4\" >-0.940628</td>\n",
       "                        <td id=\"T_e17d423c_6b41_11ec_8187_7831c1b92034row5_col5\" class=\"data row5 col5\" >1.000000</td>\n",
       "                        <td id=\"T_e17d423c_6b41_11ec_8187_7831c1b92034row5_col6\" class=\"data row5 col6\" >0.087479</td>\n",
       "                        <td id=\"T_e17d423c_6b41_11ec_8187_7831c1b92034row5_col7\" class=\"data row5 col7\" >0.078089</td>\n",
       "                        <td id=\"T_e17d423c_6b41_11ec_8187_7831c1b92034row5_col8\" class=\"data row5 col8\" >0.016497</td>\n",
       "                        <td id=\"T_e17d423c_6b41_11ec_8187_7831c1b92034row5_col9\" class=\"data row5 col9\" >0.038514</td>\n",
       "                        <td id=\"T_e17d423c_6b41_11ec_8187_7831c1b92034row5_col10\" class=\"data row5 col10\" >0.001156</td>\n",
       "                        <td id=\"T_e17d423c_6b41_11ec_8187_7831c1b92034row5_col11\" class=\"data row5 col11\" >0.012323</td>\n",
       "                        <td id=\"T_e17d423c_6b41_11ec_8187_7831c1b92034row5_col12\" class=\"data row5 col12\" >0.067947</td>\n",
       "                        <td id=\"T_e17d423c_6b41_11ec_8187_7831c1b92034row5_col13\" class=\"data row5 col13\" >0.015093</td>\n",
       "                        <td id=\"T_e17d423c_6b41_11ec_8187_7831c1b92034row5_col14\" class=\"data row5 col14\" >-0.090969</td>\n",
       "                        <td id=\"T_e17d423c_6b41_11ec_8187_7831c1b92034row5_col15\" class=\"data row5 col15\" >-0.009581</td>\n",
       "                        <td id=\"T_e17d423c_6b41_11ec_8187_7831c1b92034row5_col16\" class=\"data row5 col16\" >-0.008142</td>\n",
       "                        <td id=\"T_e17d423c_6b41_11ec_8187_7831c1b92034row5_col17\" class=\"data row5 col17\" >0.032332</td>\n",
       "                        <td id=\"T_e17d423c_6b41_11ec_8187_7831c1b92034row5_col18\" class=\"data row5 col18\" >-0.051409</td>\n",
       "                        <td id=\"T_e17d423c_6b41_11ec_8187_7831c1b92034row5_col19\" class=\"data row5 col19\" >-0.026482</td>\n",
       "                        <td id=\"T_e17d423c_6b41_11ec_8187_7831c1b92034row5_col20\" class=\"data row5 col20\" >-0.066654</td>\n",
       "                        <td id=\"T_e17d423c_6b41_11ec_8187_7831c1b92034row5_col21\" class=\"data row5 col21\" >0.069153</td>\n",
       "                        <td id=\"T_e17d423c_6b41_11ec_8187_7831c1b92034row5_col22\" class=\"data row5 col22\" >-0.057456</td>\n",
       "            </tr>\n",
       "            <tr>\n",
       "                        <th id=\"T_e17d423c_6b41_11ec_8187_7831c1b92034level0_row6\" class=\"row_heading level0 row6\" >Precipitation Features</th>\n",
       "                        <td id=\"T_e17d423c_6b41_11ec_8187_7831c1b92034row6_col0\" class=\"data row6 col0\" >-0.020973</td>\n",
       "                        <td id=\"T_e17d423c_6b41_11ec_8187_7831c1b92034row6_col1\" class=\"data row6 col1\" >0.025861</td>\n",
       "                        <td id=\"T_e17d423c_6b41_11ec_8187_7831c1b92034row6_col2\" class=\"data row6 col2\" >-0.019129</td>\n",
       "                        <td id=\"T_e17d423c_6b41_11ec_8187_7831c1b92034row6_col3\" class=\"data row6 col3\" >-0.060069</td>\n",
       "                        <td id=\"T_e17d423c_6b41_11ec_8187_7831c1b92034row6_col4\" class=\"data row6 col4\" >-0.066022</td>\n",
       "                        <td id=\"T_e17d423c_6b41_11ec_8187_7831c1b92034row6_col5\" class=\"data row6 col5\" >0.087479</td>\n",
       "                        <td id=\"T_e17d423c_6b41_11ec_8187_7831c1b92034row6_col6\" class=\"data row6 col6\" >1.000000</td>\n",
       "                        <td id=\"T_e17d423c_6b41_11ec_8187_7831c1b92034row6_col7\" class=\"data row6 col7\" >-0.014804</td>\n",
       "                        <td id=\"T_e17d423c_6b41_11ec_8187_7831c1b92034row6_col8\" class=\"data row6 col8\" >-0.126906</td>\n",
       "                        <td id=\"T_e17d423c_6b41_11ec_8187_7831c1b92034row6_col9\" class=\"data row6 col9\" >-0.011604</td>\n",
       "                        <td id=\"T_e17d423c_6b41_11ec_8187_7831c1b92034row6_col10\" class=\"data row6 col10\" >-0.028172</td>\n",
       "                        <td id=\"T_e17d423c_6b41_11ec_8187_7831c1b92034row6_col11\" class=\"data row6 col11\" >-0.055923</td>\n",
       "                        <td id=\"T_e17d423c_6b41_11ec_8187_7831c1b92034row6_col12\" class=\"data row6 col12\" >-0.038506</td>\n",
       "                        <td id=\"T_e17d423c_6b41_11ec_8187_7831c1b92034row6_col13\" class=\"data row6 col13\" >-0.053387</td>\n",
       "                        <td id=\"T_e17d423c_6b41_11ec_8187_7831c1b92034row6_col14\" class=\"data row6 col14\" >0.028431</td>\n",
       "                        <td id=\"T_e17d423c_6b41_11ec_8187_7831c1b92034row6_col15\" class=\"data row6 col15\" >-0.064870</td>\n",
       "                        <td id=\"T_e17d423c_6b41_11ec_8187_7831c1b92034row6_col16\" class=\"data row6 col16\" >-0.071961</td>\n",
       "                        <td id=\"T_e17d423c_6b41_11ec_8187_7831c1b92034row6_col17\" class=\"data row6 col17\" >-0.034533</td>\n",
       "                        <td id=\"T_e17d423c_6b41_11ec_8187_7831c1b92034row6_col18\" class=\"data row6 col18\" >-0.037854</td>\n",
       "                        <td id=\"T_e17d423c_6b41_11ec_8187_7831c1b92034row6_col19\" class=\"data row6 col19\" >0.034136</td>\n",
       "                        <td id=\"T_e17d423c_6b41_11ec_8187_7831c1b92034row6_col20\" class=\"data row6 col20\" >0.087667</td>\n",
       "                        <td id=\"T_e17d423c_6b41_11ec_8187_7831c1b92034row6_col21\" class=\"data row6 col21\" >0.022958</td>\n",
       "                        <td id=\"T_e17d423c_6b41_11ec_8187_7831c1b92034row6_col22\" class=\"data row6 col22\" >-0.042402</td>\n",
       "            </tr>\n",
       "            <tr>\n",
       "                        <th id=\"T_e17d423c_6b41_11ec_8187_7831c1b92034level0_row7\" class=\"row_heading level0 row7\" >Dissolution Etching</th>\n",
       "                        <td id=\"T_e17d423c_6b41_11ec_8187_7831c1b92034row7_col0\" class=\"data row7 col0\" >0.006700</td>\n",
       "                        <td id=\"T_e17d423c_6b41_11ec_8187_7831c1b92034row7_col1\" class=\"data row7 col1\" >0.068803</td>\n",
       "                        <td id=\"T_e17d423c_6b41_11ec_8187_7831c1b92034row7_col2\" class=\"data row7 col2\" >-0.070489</td>\n",
       "                        <td id=\"T_e17d423c_6b41_11ec_8187_7831c1b92034row7_col3\" class=\"data row7 col3\" >-0.117123</td>\n",
       "                        <td id=\"T_e17d423c_6b41_11ec_8187_7831c1b92034row7_col4\" class=\"data row7 col4\" >-0.037151</td>\n",
       "                        <td id=\"T_e17d423c_6b41_11ec_8187_7831c1b92034row7_col5\" class=\"data row7 col5\" >0.078089</td>\n",
       "                        <td id=\"T_e17d423c_6b41_11ec_8187_7831c1b92034row7_col6\" class=\"data row7 col6\" >-0.014804</td>\n",
       "                        <td id=\"T_e17d423c_6b41_11ec_8187_7831c1b92034row7_col7\" class=\"data row7 col7\" >1.000000</td>\n",
       "                        <td id=\"T_e17d423c_6b41_11ec_8187_7831c1b92034row7_col8\" class=\"data row7 col8\" >-0.107031</td>\n",
       "                        <td id=\"T_e17d423c_6b41_11ec_8187_7831c1b92034row7_col9\" class=\"data row7 col9\" >-0.076427</td>\n",
       "                        <td id=\"T_e17d423c_6b41_11ec_8187_7831c1b92034row7_col10\" class=\"data row7 col10\" >-0.037151</td>\n",
       "                        <td id=\"T_e17d423c_6b41_11ec_8187_7831c1b92034row7_col11\" class=\"data row7 col11\" >-0.016742</td>\n",
       "                        <td id=\"T_e17d423c_6b41_11ec_8187_7831c1b92034row7_col12\" class=\"data row7 col12\" >-0.015887</td>\n",
       "                        <td id=\"T_e17d423c_6b41_11ec_8187_7831c1b92034row7_col13\" class=\"data row7 col13\" >-0.033860</td>\n",
       "                        <td id=\"T_e17d423c_6b41_11ec_8187_7831c1b92034row7_col14\" class=\"data row7 col14\" >-0.041123</td>\n",
       "                        <td id=\"T_e17d423c_6b41_11ec_8187_7831c1b92034row7_col15\" class=\"data row7 col15\" >0.032158</td>\n",
       "                        <td id=\"T_e17d423c_6b41_11ec_8187_7831c1b92034row7_col16\" class=\"data row7 col16\" >-0.021531</td>\n",
       "                        <td id=\"T_e17d423c_6b41_11ec_8187_7831c1b92034row7_col17\" class=\"data row7 col17\" >-0.018980</td>\n",
       "                        <td id=\"T_e17d423c_6b41_11ec_8187_7831c1b92034row7_col18\" class=\"data row7 col18\" >0.000735</td>\n",
       "                        <td id=\"T_e17d423c_6b41_11ec_8187_7831c1b92034row7_col19\" class=\"data row7 col19\" >0.090062</td>\n",
       "                        <td id=\"T_e17d423c_6b41_11ec_8187_7831c1b92034row7_col20\" class=\"data row7 col20\" >0.038845</td>\n",
       "                        <td id=\"T_e17d423c_6b41_11ec_8187_7831c1b92034row7_col21\" class=\"data row7 col21\" >0.021144</td>\n",
       "                        <td id=\"T_e17d423c_6b41_11ec_8187_7831c1b92034row7_col22\" class=\"data row7 col22\" >-0.039350</td>\n",
       "            </tr>\n",
       "            <tr>\n",
       "                        <th id=\"T_e17d423c_6b41_11ec_8187_7831c1b92034level0_row8\" class=\"row_heading level0 row8\" >Fracture Faces</th>\n",
       "                        <td id=\"T_e17d423c_6b41_11ec_8187_7831c1b92034row8_col0\" class=\"data row8 col0\" >-0.009999</td>\n",
       "                        <td id=\"T_e17d423c_6b41_11ec_8187_7831c1b92034row8_col1\" class=\"data row8 col1\" >-0.055986</td>\n",
       "                        <td id=\"T_e17d423c_6b41_11ec_8187_7831c1b92034row8_col2\" class=\"data row8 col2\" >0.058784</td>\n",
       "                        <td id=\"T_e17d423c_6b41_11ec_8187_7831c1b92034row8_col3\" class=\"data row8 col3\" >0.068980</td>\n",
       "                        <td id=\"T_e17d423c_6b41_11ec_8187_7831c1b92034row8_col4\" class=\"data row8 col4\" >-0.040001</td>\n",
       "                        <td id=\"T_e17d423c_6b41_11ec_8187_7831c1b92034row8_col5\" class=\"data row8 col5\" >0.016497</td>\n",
       "                        <td id=\"T_e17d423c_6b41_11ec_8187_7831c1b92034row8_col6\" class=\"data row8 col6\" >-0.126906</td>\n",
       "                        <td id=\"T_e17d423c_6b41_11ec_8187_7831c1b92034row8_col7\" class=\"data row8 col7\" >-0.107031</td>\n",
       "                        <td id=\"T_e17d423c_6b41_11ec_8187_7831c1b92034row8_col8\" class=\"data row8 col8\" >1.000000</td>\n",
       "                        <td id=\"T_e17d423c_6b41_11ec_8187_7831c1b92034row8_col9\" class=\"data row8 col9\" >0.019745</td>\n",
       "                        <td id=\"T_e17d423c_6b41_11ec_8187_7831c1b92034row8_col10\" class=\"data row8 col10\" >0.034131</td>\n",
       "                        <td id=\"T_e17d423c_6b41_11ec_8187_7831c1b92034row8_col11\" class=\"data row8 col11\" >0.096860</td>\n",
       "                        <td id=\"T_e17d423c_6b41_11ec_8187_7831c1b92034row8_col12\" class=\"data row8 col12\" >0.040816</td>\n",
       "                        <td id=\"T_e17d423c_6b41_11ec_8187_7831c1b92034row8_col13\" class=\"data row8 col13\" >0.006074</td>\n",
       "                        <td id=\"T_e17d423c_6b41_11ec_8187_7831c1b92034row8_col14\" class=\"data row8 col14\" >-0.061579</td>\n",
       "                        <td id=\"T_e17d423c_6b41_11ec_8187_7831c1b92034row8_col15\" class=\"data row8 col15\" >0.005474</td>\n",
       "                        <td id=\"T_e17d423c_6b41_11ec_8187_7831c1b92034row8_col16\" class=\"data row8 col16\" >-0.006848</td>\n",
       "                        <td id=\"T_e17d423c_6b41_11ec_8187_7831c1b92034row8_col17\" class=\"data row8 col17\" >0.023836</td>\n",
       "                        <td id=\"T_e17d423c_6b41_11ec_8187_7831c1b92034row8_col18\" class=\"data row8 col18\" >-0.055752</td>\n",
       "                        <td id=\"T_e17d423c_6b41_11ec_8187_7831c1b92034row8_col19\" class=\"data row8 col19\" >-0.078039</td>\n",
       "                        <td id=\"T_e17d423c_6b41_11ec_8187_7831c1b92034row8_col20\" class=\"data row8 col20\" >-0.093923</td>\n",
       "                        <td id=\"T_e17d423c_6b41_11ec_8187_7831c1b92034row8_col21\" class=\"data row8 col21\" >0.012127</td>\n",
       "                        <td id=\"T_e17d423c_6b41_11ec_8187_7831c1b92034row8_col22\" class=\"data row8 col22\" >-0.017311</td>\n",
       "            </tr>\n",
       "            <tr>\n",
       "                        <th id=\"T_e17d423c_6b41_11ec_8187_7831c1b92034level0_row9\" class=\"row_heading level0 row9\" >Subparallel Linear Features</th>\n",
       "                        <td id=\"T_e17d423c_6b41_11ec_8187_7831c1b92034row9_col0\" class=\"data row9 col0\" >0.017252</td>\n",
       "                        <td id=\"T_e17d423c_6b41_11ec_8187_7831c1b92034row9_col1\" class=\"data row9 col1\" >0.001589</td>\n",
       "                        <td id=\"T_e17d423c_6b41_11ec_8187_7831c1b92034row9_col2\" class=\"data row9 col2\" >-0.006989</td>\n",
       "                        <td id=\"T_e17d423c_6b41_11ec_8187_7831c1b92034row9_col3\" class=\"data row9 col3\" >0.003995</td>\n",
       "                        <td id=\"T_e17d423c_6b41_11ec_8187_7831c1b92034row9_col4\" class=\"data row9 col4\" >-0.039510</td>\n",
       "                        <td id=\"T_e17d423c_6b41_11ec_8187_7831c1b92034row9_col5\" class=\"data row9 col5\" >0.038514</td>\n",
       "                        <td id=\"T_e17d423c_6b41_11ec_8187_7831c1b92034row9_col6\" class=\"data row9 col6\" >-0.011604</td>\n",
       "                        <td id=\"T_e17d423c_6b41_11ec_8187_7831c1b92034row9_col7\" class=\"data row9 col7\" >-0.076427</td>\n",
       "                        <td id=\"T_e17d423c_6b41_11ec_8187_7831c1b92034row9_col8\" class=\"data row9 col8\" >0.019745</td>\n",
       "                        <td id=\"T_e17d423c_6b41_11ec_8187_7831c1b92034row9_col9\" class=\"data row9 col9\" >1.000000</td>\n",
       "                        <td id=\"T_e17d423c_6b41_11ec_8187_7831c1b92034row9_col10\" class=\"data row9 col10\" >0.034126</td>\n",
       "                        <td id=\"T_e17d423c_6b41_11ec_8187_7831c1b92034row9_col11\" class=\"data row9 col11\" >0.037248</td>\n",
       "                        <td id=\"T_e17d423c_6b41_11ec_8187_7831c1b92034row9_col12\" class=\"data row9 col12\" >0.011799</td>\n",
       "                        <td id=\"T_e17d423c_6b41_11ec_8187_7831c1b92034row9_col13\" class=\"data row9 col13\" >0.017252</td>\n",
       "                        <td id=\"T_e17d423c_6b41_11ec_8187_7831c1b92034row9_col14\" class=\"data row9 col14\" >-0.009129</td>\n",
       "                        <td id=\"T_e17d423c_6b41_11ec_8187_7831c1b92034row9_col15\" class=\"data row9 col15\" >-0.003221</td>\n",
       "                        <td id=\"T_e17d423c_6b41_11ec_8187_7831c1b92034row9_col16\" class=\"data row9 col16\" >-0.029663</td>\n",
       "                        <td id=\"T_e17d423c_6b41_11ec_8187_7831c1b92034row9_col17\" class=\"data row9 col17\" >-0.019870</td>\n",
       "                        <td id=\"T_e17d423c_6b41_11ec_8187_7831c1b92034row9_col18\" class=\"data row9 col18\" >0.020297</td>\n",
       "                        <td id=\"T_e17d423c_6b41_11ec_8187_7831c1b92034row9_col19\" class=\"data row9 col19\" >-0.026964</td>\n",
       "                        <td id=\"T_e17d423c_6b41_11ec_8187_7831c1b92034row9_col20\" class=\"data row9 col20\" >0.006050</td>\n",
       "                        <td id=\"T_e17d423c_6b41_11ec_8187_7831c1b92034row9_col21\" class=\"data row9 col21\" >0.005013</td>\n",
       "                        <td id=\"T_e17d423c_6b41_11ec_8187_7831c1b92034row9_col22\" class=\"data row9 col22\" >-0.005092</td>\n",
       "            </tr>\n",
       "            <tr>\n",
       "                        <th id=\"T_e17d423c_6b41_11ec_8187_7831c1b92034level0_row10\" class=\"row_heading level0 row10\" >Conchoidal Fractures</th>\n",
       "                        <td id=\"T_e17d423c_6b41_11ec_8187_7831c1b92034row10_col0\" class=\"data row10 col0\" >-0.045272</td>\n",
       "                        <td id=\"T_e17d423c_6b41_11ec_8187_7831c1b92034row10_col1\" class=\"data row10 col1\" >-0.052122</td>\n",
       "                        <td id=\"T_e17d423c_6b41_11ec_8187_7831c1b92034row10_col2\" class=\"data row10 col2\" >0.066001</td>\n",
       "                        <td id=\"T_e17d423c_6b41_11ec_8187_7831c1b92034row10_col3\" class=\"data row10 col3\" >-0.054631</td>\n",
       "                        <td id=\"T_e17d423c_6b41_11ec_8187_7831c1b92034row10_col4\" class=\"data row10 col4\" >0.017596</td>\n",
       "                        <td id=\"T_e17d423c_6b41_11ec_8187_7831c1b92034row10_col5\" class=\"data row10 col5\" >0.001156</td>\n",
       "                        <td id=\"T_e17d423c_6b41_11ec_8187_7831c1b92034row10_col6\" class=\"data row10 col6\" >-0.028172</td>\n",
       "                        <td id=\"T_e17d423c_6b41_11ec_8187_7831c1b92034row10_col7\" class=\"data row10 col7\" >-0.037151</td>\n",
       "                        <td id=\"T_e17d423c_6b41_11ec_8187_7831c1b92034row10_col8\" class=\"data row10 col8\" >0.034131</td>\n",
       "                        <td id=\"T_e17d423c_6b41_11ec_8187_7831c1b92034row10_col9\" class=\"data row10 col9\" >0.034126</td>\n",
       "                        <td id=\"T_e17d423c_6b41_11ec_8187_7831c1b92034row10_col10\" class=\"data row10 col10\" >1.000000</td>\n",
       "                        <td id=\"T_e17d423c_6b41_11ec_8187_7831c1b92034row10_col11\" class=\"data row10 col11\" >-0.013887</td>\n",
       "                        <td id=\"T_e17d423c_6b41_11ec_8187_7831c1b92034row10_col12\" class=\"data row10 col12\" >-0.004768</td>\n",
       "                        <td id=\"T_e17d423c_6b41_11ec_8187_7831c1b92034row10_col13\" class=\"data row10 col13\" >0.022939</td>\n",
       "                        <td id=\"T_e17d423c_6b41_11ec_8187_7831c1b92034row10_col14\" class=\"data row10 col14\" >0.006090</td>\n",
       "                        <td id=\"T_e17d423c_6b41_11ec_8187_7831c1b92034row10_col15\" class=\"data row10 col15\" >0.037323</td>\n",
       "                        <td id=\"T_e17d423c_6b41_11ec_8187_7831c1b92034row10_col16\" class=\"data row10 col16\" >-0.018486</td>\n",
       "                        <td id=\"T_e17d423c_6b41_11ec_8187_7831c1b92034row10_col17\" class=\"data row10 col17\" >0.023988</td>\n",
       "                        <td id=\"T_e17d423c_6b41_11ec_8187_7831c1b92034row10_col18\" class=\"data row10 col18\" >-0.039881</td>\n",
       "                        <td id=\"T_e17d423c_6b41_11ec_8187_7831c1b92034row10_col19\" class=\"data row10 col19\" >0.055561</td>\n",
       "                        <td id=\"T_e17d423c_6b41_11ec_8187_7831c1b92034row10_col20\" class=\"data row10 col20\" >-0.006443</td>\n",
       "                        <td id=\"T_e17d423c_6b41_11ec_8187_7831c1b92034row10_col21\" class=\"data row10 col21\" >-0.012454</td>\n",
       "                        <td id=\"T_e17d423c_6b41_11ec_8187_7831c1b92034row10_col22\" class=\"data row10 col22\" >0.014232</td>\n",
       "            </tr>\n",
       "            <tr>\n",
       "                        <th id=\"T_e17d423c_6b41_11ec_8187_7831c1b92034level0_row11\" class=\"row_heading level0 row11\" >Curved Grooves</th>\n",
       "                        <td id=\"T_e17d423c_6b41_11ec_8187_7831c1b92034row11_col0\" class=\"data row11 col0\" >0.042800</td>\n",
       "                        <td id=\"T_e17d423c_6b41_11ec_8187_7831c1b92034row11_col1\" class=\"data row11 col1\" >-0.005459</td>\n",
       "                        <td id=\"T_e17d423c_6b41_11ec_8187_7831c1b92034row11_col2\" class=\"data row11 col2\" >-0.007993</td>\n",
       "                        <td id=\"T_e17d423c_6b41_11ec_8187_7831c1b92034row11_col3\" class=\"data row11 col3\" >-0.013595</td>\n",
       "                        <td id=\"T_e17d423c_6b41_11ec_8187_7831c1b92034row11_col4\" class=\"data row11 col4\" >-0.007540</td>\n",
       "                        <td id=\"T_e17d423c_6b41_11ec_8187_7831c1b92034row11_col5\" class=\"data row11 col5\" >0.012323</td>\n",
       "                        <td id=\"T_e17d423c_6b41_11ec_8187_7831c1b92034row11_col6\" class=\"data row11 col6\" >-0.055923</td>\n",
       "                        <td id=\"T_e17d423c_6b41_11ec_8187_7831c1b92034row11_col7\" class=\"data row11 col7\" >-0.016742</td>\n",
       "                        <td id=\"T_e17d423c_6b41_11ec_8187_7831c1b92034row11_col8\" class=\"data row11 col8\" >0.096860</td>\n",
       "                        <td id=\"T_e17d423c_6b41_11ec_8187_7831c1b92034row11_col9\" class=\"data row11 col9\" >0.037248</td>\n",
       "                        <td id=\"T_e17d423c_6b41_11ec_8187_7831c1b92034row11_col10\" class=\"data row11 col10\" >-0.013887</td>\n",
       "                        <td id=\"T_e17d423c_6b41_11ec_8187_7831c1b92034row11_col11\" class=\"data row11 col11\" >1.000000</td>\n",
       "                        <td id=\"T_e17d423c_6b41_11ec_8187_7831c1b92034row11_col12\" class=\"data row11 col12\" >-0.018226</td>\n",
       "                        <td id=\"T_e17d423c_6b41_11ec_8187_7831c1b92034row11_col13\" class=\"data row11 col13\" >-0.033808</td>\n",
       "                        <td id=\"T_e17d423c_6b41_11ec_8187_7831c1b92034row11_col14\" class=\"data row11 col14\" >-0.028747</td>\n",
       "                        <td id=\"T_e17d423c_6b41_11ec_8187_7831c1b92034row11_col15\" class=\"data row11 col15\" >0.002794</td>\n",
       "                        <td id=\"T_e17d423c_6b41_11ec_8187_7831c1b92034row11_col16\" class=\"data row11 col16\" >0.013992</td>\n",
       "                        <td id=\"T_e17d423c_6b41_11ec_8187_7831c1b92034row11_col17\" class=\"data row11 col17\" >0.023488</td>\n",
       "                        <td id=\"T_e17d423c_6b41_11ec_8187_7831c1b92034row11_col18\" class=\"data row11 col18\" >-0.017713</td>\n",
       "                        <td id=\"T_e17d423c_6b41_11ec_8187_7831c1b92034row11_col19\" class=\"data row11 col19\" >-0.026460</td>\n",
       "                        <td id=\"T_e17d423c_6b41_11ec_8187_7831c1b92034row11_col20\" class=\"data row11 col20\" >-0.015337</td>\n",
       "                        <td id=\"T_e17d423c_6b41_11ec_8187_7831c1b92034row11_col21\" class=\"data row11 col21\" >-0.033247</td>\n",
       "                        <td id=\"T_e17d423c_6b41_11ec_8187_7831c1b92034row11_col22\" class=\"data row11 col22\" >0.017588</td>\n",
       "            </tr>\n",
       "            <tr>\n",
       "                        <th id=\"T_e17d423c_6b41_11ec_8187_7831c1b92034level0_row12\" class=\"row_heading level0 row12\" >Straight Grooves</th>\n",
       "                        <td id=\"T_e17d423c_6b41_11ec_8187_7831c1b92034row12_col0\" class=\"data row12 col0\" >-0.002093</td>\n",
       "                        <td id=\"T_e17d423c_6b41_11ec_8187_7831c1b92034row12_col1\" class=\"data row12 col1\" >-0.030267</td>\n",
       "                        <td id=\"T_e17d423c_6b41_11ec_8187_7831c1b92034row12_col2\" class=\"data row12 col2\" >0.030741</td>\n",
       "                        <td id=\"T_e17d423c_6b41_11ec_8187_7831c1b92034row12_col3\" class=\"data row12 col3\" >-0.033212</td>\n",
       "                        <td id=\"T_e17d423c_6b41_11ec_8187_7831c1b92034row12_col4\" class=\"data row12 col4\" >-0.055893</td>\n",
       "                        <td id=\"T_e17d423c_6b41_11ec_8187_7831c1b92034row12_col5\" class=\"data row12 col5\" >0.067947</td>\n",
       "                        <td id=\"T_e17d423c_6b41_11ec_8187_7831c1b92034row12_col6\" class=\"data row12 col6\" >-0.038506</td>\n",
       "                        <td id=\"T_e17d423c_6b41_11ec_8187_7831c1b92034row12_col7\" class=\"data row12 col7\" >-0.015887</td>\n",
       "                        <td id=\"T_e17d423c_6b41_11ec_8187_7831c1b92034row12_col8\" class=\"data row12 col8\" >0.040816</td>\n",
       "                        <td id=\"T_e17d423c_6b41_11ec_8187_7831c1b92034row12_col9\" class=\"data row12 col9\" >0.011799</td>\n",
       "                        <td id=\"T_e17d423c_6b41_11ec_8187_7831c1b92034row12_col10\" class=\"data row12 col10\" >-0.004768</td>\n",
       "                        <td id=\"T_e17d423c_6b41_11ec_8187_7831c1b92034row12_col11\" class=\"data row12 col11\" >-0.018226</td>\n",
       "                        <td id=\"T_e17d423c_6b41_11ec_8187_7831c1b92034row12_col12\" class=\"data row12 col12\" >1.000000</td>\n",
       "                        <td id=\"T_e17d423c_6b41_11ec_8187_7831c1b92034row12_col13\" class=\"data row12 col13\" >-0.002093</td>\n",
       "                        <td id=\"T_e17d423c_6b41_11ec_8187_7831c1b92034row12_col14\" class=\"data row12 col14\" >-0.039129</td>\n",
       "                        <td id=\"T_e17d423c_6b41_11ec_8187_7831c1b92034row12_col15\" class=\"data row12 col15\" >-0.031911</td>\n",
       "                        <td id=\"T_e17d423c_6b41_11ec_8187_7831c1b92034row12_col16\" class=\"data row12 col16\" >-0.010791</td>\n",
       "                        <td id=\"T_e17d423c_6b41_11ec_8187_7831c1b92034row12_col17\" class=\"data row12 col17\" >0.019667</td>\n",
       "                        <td id=\"T_e17d423c_6b41_11ec_8187_7831c1b92034row12_col18\" class=\"data row12 col18\" >-0.025003</td>\n",
       "                        <td id=\"T_e17d423c_6b41_11ec_8187_7831c1b92034row12_col19\" class=\"data row12 col19\" >-0.030933</td>\n",
       "                        <td id=\"T_e17d423c_6b41_11ec_8187_7831c1b92034row12_col20\" class=\"data row12 col20\" >-0.055769</td>\n",
       "                        <td id=\"T_e17d423c_6b41_11ec_8187_7831c1b92034row12_col21\" class=\"data row12 col21\" >-0.023713</td>\n",
       "                        <td id=\"T_e17d423c_6b41_11ec_8187_7831c1b92034row12_col22\" class=\"data row12 col22\" >0.064131</td>\n",
       "            </tr>\n",
       "            <tr>\n",
       "                        <th id=\"T_e17d423c_6b41_11ec_8187_7831c1b92034level0_row13\" class=\"row_heading level0 row13\" >Deep Troughs</th>\n",
       "                        <td id=\"T_e17d423c_6b41_11ec_8187_7831c1b92034row13_col0\" class=\"data row13 col0\" >0.007465</td>\n",
       "                        <td id=\"T_e17d423c_6b41_11ec_8187_7831c1b92034row13_col1\" class=\"data row13 col1\" >0.028549</td>\n",
       "                        <td id=\"T_e17d423c_6b41_11ec_8187_7831c1b92034row13_col2\" class=\"data row13 col2\" >-0.030717</td>\n",
       "                        <td id=\"T_e17d423c_6b41_11ec_8187_7831c1b92034row13_col3\" class=\"data row13 col3\" >0.032658</td>\n",
       "                        <td id=\"T_e17d423c_6b41_11ec_8187_7831c1b92034row13_col4\" class=\"data row13 col4\" >-0.026150</td>\n",
       "                        <td id=\"T_e17d423c_6b41_11ec_8187_7831c1b92034row13_col5\" class=\"data row13 col5\" >0.015093</td>\n",
       "                        <td id=\"T_e17d423c_6b41_11ec_8187_7831c1b92034row13_col6\" class=\"data row13 col6\" >-0.053387</td>\n",
       "                        <td id=\"T_e17d423c_6b41_11ec_8187_7831c1b92034row13_col7\" class=\"data row13 col7\" >-0.033860</td>\n",
       "                        <td id=\"T_e17d423c_6b41_11ec_8187_7831c1b92034row13_col8\" class=\"data row13 col8\" >0.006074</td>\n",
       "                        <td id=\"T_e17d423c_6b41_11ec_8187_7831c1b92034row13_col9\" class=\"data row13 col9\" >0.017252</td>\n",
       "                        <td id=\"T_e17d423c_6b41_11ec_8187_7831c1b92034row13_col10\" class=\"data row13 col10\" >0.022939</td>\n",
       "                        <td id=\"T_e17d423c_6b41_11ec_8187_7831c1b92034row13_col11\" class=\"data row13 col11\" >-0.033808</td>\n",
       "                        <td id=\"T_e17d423c_6b41_11ec_8187_7831c1b92034row13_col12\" class=\"data row13 col12\" >-0.002093</td>\n",
       "                        <td id=\"T_e17d423c_6b41_11ec_8187_7831c1b92034row13_col13\" class=\"data row13 col13\" >1.000000</td>\n",
       "                        <td id=\"T_e17d423c_6b41_11ec_8187_7831c1b92034row13_col14\" class=\"data row13 col14\" >-0.005868</td>\n",
       "                        <td id=\"T_e17d423c_6b41_11ec_8187_7831c1b92034row13_col15\" class=\"data row13 col15\" >-0.016393</td>\n",
       "                        <td id=\"T_e17d423c_6b41_11ec_8187_7831c1b92034row13_col16\" class=\"data row13 col16\" >0.011801</td>\n",
       "                        <td id=\"T_e17d423c_6b41_11ec_8187_7831c1b92034row13_col17\" class=\"data row13 col17\" >0.034485</td>\n",
       "                        <td id=\"T_e17d423c_6b41_11ec_8187_7831c1b92034row13_col18\" class=\"data row13 col18\" >-0.028213</td>\n",
       "                        <td id=\"T_e17d423c_6b41_11ec_8187_7831c1b92034row13_col19\" class=\"data row13 col19\" >-0.020268</td>\n",
       "                        <td id=\"T_e17d423c_6b41_11ec_8187_7831c1b92034row13_col20\" class=\"data row13 col20\" >0.031431</td>\n",
       "                        <td id=\"T_e17d423c_6b41_11ec_8187_7831c1b92034row13_col21\" class=\"data row13 col21\" >-0.028416</td>\n",
       "                        <td id=\"T_e17d423c_6b41_11ec_8187_7831c1b92034row13_col22\" class=\"data row13 col22\" >0.004111</td>\n",
       "            </tr>\n",
       "            <tr>\n",
       "                        <th id=\"T_e17d423c_6b41_11ec_8187_7831c1b92034level0_row14\" class=\"row_heading level0 row14\" >Crescentic Gouges</th>\n",
       "                        <td id=\"T_e17d423c_6b41_11ec_8187_7831c1b92034row14_col0\" class=\"data row14 col0\" >-0.020668</td>\n",
       "                        <td id=\"T_e17d423c_6b41_11ec_8187_7831c1b92034row14_col1\" class=\"data row14 col1\" >0.007903</td>\n",
       "                        <td id=\"T_e17d423c_6b41_11ec_8187_7831c1b92034row14_col2\" class=\"data row14 col2\" >-0.001376</td>\n",
       "                        <td id=\"T_e17d423c_6b41_11ec_8187_7831c1b92034row14_col3\" class=\"data row14 col3\" >0.078125</td>\n",
       "                        <td id=\"T_e17d423c_6b41_11ec_8187_7831c1b92034row14_col4\" class=\"data row14 col4\" >0.063284</td>\n",
       "                        <td id=\"T_e17d423c_6b41_11ec_8187_7831c1b92034row14_col5\" class=\"data row14 col5\" >-0.090969</td>\n",
       "                        <td id=\"T_e17d423c_6b41_11ec_8187_7831c1b92034row14_col6\" class=\"data row14 col6\" >0.028431</td>\n",
       "                        <td id=\"T_e17d423c_6b41_11ec_8187_7831c1b92034row14_col7\" class=\"data row14 col7\" >-0.041123</td>\n",
       "                        <td id=\"T_e17d423c_6b41_11ec_8187_7831c1b92034row14_col8\" class=\"data row14 col8\" >-0.061579</td>\n",
       "                        <td id=\"T_e17d423c_6b41_11ec_8187_7831c1b92034row14_col9\" class=\"data row14 col9\" >-0.009129</td>\n",
       "                        <td id=\"T_e17d423c_6b41_11ec_8187_7831c1b92034row14_col10\" class=\"data row14 col10\" >0.006090</td>\n",
       "                        <td id=\"T_e17d423c_6b41_11ec_8187_7831c1b92034row14_col11\" class=\"data row14 col11\" >-0.028747</td>\n",
       "                        <td id=\"T_e17d423c_6b41_11ec_8187_7831c1b92034row14_col12\" class=\"data row14 col12\" >-0.039129</td>\n",
       "                        <td id=\"T_e17d423c_6b41_11ec_8187_7831c1b92034row14_col13\" class=\"data row14 col13\" >-0.005868</td>\n",
       "                        <td id=\"T_e17d423c_6b41_11ec_8187_7831c1b92034row14_col14\" class=\"data row14 col14\" >1.000000</td>\n",
       "                        <td id=\"T_e17d423c_6b41_11ec_8187_7831c1b92034row14_col15\" class=\"data row14 col15\" >-0.020772</td>\n",
       "                        <td id=\"T_e17d423c_6b41_11ec_8187_7831c1b92034row14_col16\" class=\"data row14 col16\" >-0.010494</td>\n",
       "                        <td id=\"T_e17d423c_6b41_11ec_8187_7831c1b92034row14_col17\" class=\"data row14 col17\" >-0.020992</td>\n",
       "                        <td id=\"T_e17d423c_6b41_11ec_8187_7831c1b92034row14_col18\" class=\"data row14 col18\" >-0.029865</td>\n",
       "                        <td id=\"T_e17d423c_6b41_11ec_8187_7831c1b92034row14_col19\" class=\"data row14 col19\" >0.026775</td>\n",
       "                        <td id=\"T_e17d423c_6b41_11ec_8187_7831c1b92034row14_col20\" class=\"data row14 col20\" >0.003376</td>\n",
       "                        <td id=\"T_e17d423c_6b41_11ec_8187_7831c1b92034row14_col21\" class=\"data row14 col21\" >-0.027003</td>\n",
       "                        <td id=\"T_e17d423c_6b41_11ec_8187_7831c1b92034row14_col22\" class=\"data row14 col22\" >-0.022194</td>\n",
       "            </tr>\n",
       "            <tr>\n",
       "                        <th id=\"T_e17d423c_6b41_11ec_8187_7831c1b92034level0_row15\" class=\"row_heading level0 row15\" >Arc Shaped Steps</th>\n",
       "                        <td id=\"T_e17d423c_6b41_11ec_8187_7831c1b92034row15_col0\" class=\"data row15 col0\" >-0.006066</td>\n",
       "                        <td id=\"T_e17d423c_6b41_11ec_8187_7831c1b92034row15_col1\" class=\"data row15 col1\" >0.035838</td>\n",
       "                        <td id=\"T_e17d423c_6b41_11ec_8187_7831c1b92034row15_col2\" class=\"data row15 col2\" >-0.033720</td>\n",
       "                        <td id=\"T_e17d423c_6b41_11ec_8187_7831c1b92034row15_col3\" class=\"data row15 col3\" >-0.053107</td>\n",
       "                        <td id=\"T_e17d423c_6b41_11ec_8187_7831c1b92034row15_col4\" class=\"data row15 col4\" >0.027706</td>\n",
       "                        <td id=\"T_e17d423c_6b41_11ec_8187_7831c1b92034row15_col5\" class=\"data row15 col5\" >-0.009581</td>\n",
       "                        <td id=\"T_e17d423c_6b41_11ec_8187_7831c1b92034row15_col6\" class=\"data row15 col6\" >-0.064870</td>\n",
       "                        <td id=\"T_e17d423c_6b41_11ec_8187_7831c1b92034row15_col7\" class=\"data row15 col7\" >0.032158</td>\n",
       "                        <td id=\"T_e17d423c_6b41_11ec_8187_7831c1b92034row15_col8\" class=\"data row15 col8\" >0.005474</td>\n",
       "                        <td id=\"T_e17d423c_6b41_11ec_8187_7831c1b92034row15_col9\" class=\"data row15 col9\" >-0.003221</td>\n",
       "                        <td id=\"T_e17d423c_6b41_11ec_8187_7831c1b92034row15_col10\" class=\"data row15 col10\" >0.037323</td>\n",
       "                        <td id=\"T_e17d423c_6b41_11ec_8187_7831c1b92034row15_col11\" class=\"data row15 col11\" >0.002794</td>\n",
       "                        <td id=\"T_e17d423c_6b41_11ec_8187_7831c1b92034row15_col12\" class=\"data row15 col12\" >-0.031911</td>\n",
       "                        <td id=\"T_e17d423c_6b41_11ec_8187_7831c1b92034row15_col13\" class=\"data row15 col13\" >-0.016393</td>\n",
       "                        <td id=\"T_e17d423c_6b41_11ec_8187_7831c1b92034row15_col14\" class=\"data row15 col14\" >-0.020772</td>\n",
       "                        <td id=\"T_e17d423c_6b41_11ec_8187_7831c1b92034row15_col15\" class=\"data row15 col15\" >1.000000</td>\n",
       "                        <td id=\"T_e17d423c_6b41_11ec_8187_7831c1b92034row15_col16\" class=\"data row15 col16\" >-0.003739</td>\n",
       "                        <td id=\"T_e17d423c_6b41_11ec_8187_7831c1b92034row15_col17\" class=\"data row15 col17\" >-0.036298</td>\n",
       "                        <td id=\"T_e17d423c_6b41_11ec_8187_7831c1b92034row15_col18\" class=\"data row15 col18\" >-0.024452</td>\n",
       "                        <td id=\"T_e17d423c_6b41_11ec_8187_7831c1b92034row15_col19\" class=\"data row15 col19\" >-0.019645</td>\n",
       "                        <td id=\"T_e17d423c_6b41_11ec_8187_7831c1b92034row15_col20\" class=\"data row15 col20\" >-0.005432</td>\n",
       "                        <td id=\"T_e17d423c_6b41_11ec_8187_7831c1b92034row15_col21\" class=\"data row15 col21\" >-0.060880</td>\n",
       "                        <td id=\"T_e17d423c_6b41_11ec_8187_7831c1b92034row15_col22\" class=\"data row15 col22\" >0.006703</td>\n",
       "            </tr>\n",
       "            <tr>\n",
       "                        <th id=\"T_e17d423c_6b41_11ec_8187_7831c1b92034level0_row16\" class=\"row_heading level0 row16\" >Linear Steps</th>\n",
       "                        <td id=\"T_e17d423c_6b41_11ec_8187_7831c1b92034row16_col0\" class=\"data row16 col0\" >0.075293</td>\n",
       "                        <td id=\"T_e17d423c_6b41_11ec_8187_7831c1b92034row16_col1\" class=\"data row16 col1\" >0.031783</td>\n",
       "                        <td id=\"T_e17d423c_6b41_11ec_8187_7831c1b92034row16_col2\" class=\"data row16 col2\" >-0.055198</td>\n",
       "                        <td id=\"T_e17d423c_6b41_11ec_8187_7831c1b92034row16_col3\" class=\"data row16 col3\" >-0.014953</td>\n",
       "                        <td id=\"T_e17d423c_6b41_11ec_8187_7831c1b92034row16_col4\" class=\"data row16 col4\" >0.013193</td>\n",
       "                        <td id=\"T_e17d423c_6b41_11ec_8187_7831c1b92034row16_col5\" class=\"data row16 col5\" >-0.008142</td>\n",
       "                        <td id=\"T_e17d423c_6b41_11ec_8187_7831c1b92034row16_col6\" class=\"data row16 col6\" >-0.071961</td>\n",
       "                        <td id=\"T_e17d423c_6b41_11ec_8187_7831c1b92034row16_col7\" class=\"data row16 col7\" >-0.021531</td>\n",
       "                        <td id=\"T_e17d423c_6b41_11ec_8187_7831c1b92034row16_col8\" class=\"data row16 col8\" >-0.006848</td>\n",
       "                        <td id=\"T_e17d423c_6b41_11ec_8187_7831c1b92034row16_col9\" class=\"data row16 col9\" >-0.029663</td>\n",
       "                        <td id=\"T_e17d423c_6b41_11ec_8187_7831c1b92034row16_col10\" class=\"data row16 col10\" >-0.018486</td>\n",
       "                        <td id=\"T_e17d423c_6b41_11ec_8187_7831c1b92034row16_col11\" class=\"data row16 col11\" >0.013992</td>\n",
       "                        <td id=\"T_e17d423c_6b41_11ec_8187_7831c1b92034row16_col12\" class=\"data row16 col12\" >-0.010791</td>\n",
       "                        <td id=\"T_e17d423c_6b41_11ec_8187_7831c1b92034row16_col13\" class=\"data row16 col13\" >0.011801</td>\n",
       "                        <td id=\"T_e17d423c_6b41_11ec_8187_7831c1b92034row16_col14\" class=\"data row16 col14\" >-0.010494</td>\n",
       "                        <td id=\"T_e17d423c_6b41_11ec_8187_7831c1b92034row16_col15\" class=\"data row16 col15\" >-0.003739</td>\n",
       "                        <td id=\"T_e17d423c_6b41_11ec_8187_7831c1b92034row16_col16\" class=\"data row16 col16\" >1.000000</td>\n",
       "                        <td id=\"T_e17d423c_6b41_11ec_8187_7831c1b92034row16_col17\" class=\"data row16 col17\" >0.006031</td>\n",
       "                        <td id=\"T_e17d423c_6b41_11ec_8187_7831c1b92034row16_col18\" class=\"data row16 col18\" >-0.011473</td>\n",
       "                        <td id=\"T_e17d423c_6b41_11ec_8187_7831c1b92034row16_col19\" class=\"data row16 col19\" >-0.065359</td>\n",
       "                        <td id=\"T_e17d423c_6b41_11ec_8187_7831c1b92034row16_col20\" class=\"data row16 col20\" >-0.006466</td>\n",
       "                        <td id=\"T_e17d423c_6b41_11ec_8187_7831c1b92034row16_col21\" class=\"data row16 col21\" >-0.048045</td>\n",
       "                        <td id=\"T_e17d423c_6b41_11ec_8187_7831c1b92034row16_col22\" class=\"data row16 col22\" >0.007988</td>\n",
       "            </tr>\n",
       "            <tr>\n",
       "                        <th id=\"T_e17d423c_6b41_11ec_8187_7831c1b92034level0_row17\" class=\"row_heading level0 row17\" >Sharp Angular Features</th>\n",
       "                        <td id=\"T_e17d423c_6b41_11ec_8187_7831c1b92034row17_col0\" class=\"data row17 col0\" >-0.052498</td>\n",
       "                        <td id=\"T_e17d423c_6b41_11ec_8187_7831c1b92034row17_col1\" class=\"data row17 col1\" >-0.206496</td>\n",
       "                        <td id=\"T_e17d423c_6b41_11ec_8187_7831c1b92034row17_col2\" class=\"data row17 col2\" >0.221710</td>\n",
       "                        <td id=\"T_e17d423c_6b41_11ec_8187_7831c1b92034row17_col3\" class=\"data row17 col3\" >-0.020163</td>\n",
       "                        <td id=\"T_e17d423c_6b41_11ec_8187_7831c1b92034row17_col4\" class=\"data row17 col4\" >-0.025101</td>\n",
       "                        <td id=\"T_e17d423c_6b41_11ec_8187_7831c1b92034row17_col5\" class=\"data row17 col5\" >0.032332</td>\n",
       "                        <td id=\"T_e17d423c_6b41_11ec_8187_7831c1b92034row17_col6\" class=\"data row17 col6\" >-0.034533</td>\n",
       "                        <td id=\"T_e17d423c_6b41_11ec_8187_7831c1b92034row17_col7\" class=\"data row17 col7\" >-0.018980</td>\n",
       "                        <td id=\"T_e17d423c_6b41_11ec_8187_7831c1b92034row17_col8\" class=\"data row17 col8\" >0.023836</td>\n",
       "                        <td id=\"T_e17d423c_6b41_11ec_8187_7831c1b92034row17_col9\" class=\"data row17 col9\" >-0.019870</td>\n",
       "                        <td id=\"T_e17d423c_6b41_11ec_8187_7831c1b92034row17_col10\" class=\"data row17 col10\" >0.023988</td>\n",
       "                        <td id=\"T_e17d423c_6b41_11ec_8187_7831c1b92034row17_col11\" class=\"data row17 col11\" >0.023488</td>\n",
       "                        <td id=\"T_e17d423c_6b41_11ec_8187_7831c1b92034row17_col12\" class=\"data row17 col12\" >0.019667</td>\n",
       "                        <td id=\"T_e17d423c_6b41_11ec_8187_7831c1b92034row17_col13\" class=\"data row17 col13\" >0.034485</td>\n",
       "                        <td id=\"T_e17d423c_6b41_11ec_8187_7831c1b92034row17_col14\" class=\"data row17 col14\" >-0.020992</td>\n",
       "                        <td id=\"T_e17d423c_6b41_11ec_8187_7831c1b92034row17_col15\" class=\"data row17 col15\" >-0.036298</td>\n",
       "                        <td id=\"T_e17d423c_6b41_11ec_8187_7831c1b92034row17_col16\" class=\"data row17 col16\" >0.006031</td>\n",
       "                        <td id=\"T_e17d423c_6b41_11ec_8187_7831c1b92034row17_col17\" class=\"data row17 col17\" >1.000000</td>\n",
       "                        <td id=\"T_e17d423c_6b41_11ec_8187_7831c1b92034row17_col18\" class=\"data row17 col18\" >0.018094</td>\n",
       "                        <td id=\"T_e17d423c_6b41_11ec_8187_7831c1b92034row17_col19\" class=\"data row17 col19\" >-0.036796</td>\n",
       "                        <td id=\"T_e17d423c_6b41_11ec_8187_7831c1b92034row17_col20\" class=\"data row17 col20\" >-0.103984</td>\n",
       "                        <td id=\"T_e17d423c_6b41_11ec_8187_7831c1b92034row17_col21\" class=\"data row17 col21\" >-0.024166</td>\n",
       "                        <td id=\"T_e17d423c_6b41_11ec_8187_7831c1b92034row17_col22\" class=\"data row17 col22\" >-0.067760</td>\n",
       "            </tr>\n",
       "            <tr>\n",
       "                        <th id=\"T_e17d423c_6b41_11ec_8187_7831c1b92034level0_row18\" class=\"row_heading level0 row18\" >Upturned Plates</th>\n",
       "                        <td id=\"T_e17d423c_6b41_11ec_8187_7831c1b92034row18_col0\" class=\"data row18 col0\" >0.004448</td>\n",
       "                        <td id=\"T_e17d423c_6b41_11ec_8187_7831c1b92034row18_col1\" class=\"data row18 col1\" >-0.046089</td>\n",
       "                        <td id=\"T_e17d423c_6b41_11ec_8187_7831c1b92034row18_col2\" class=\"data row18 col2\" >0.044417</td>\n",
       "                        <td id=\"T_e17d423c_6b41_11ec_8187_7831c1b92034row18_col3\" class=\"data row18 col3\" >0.043542</td>\n",
       "                        <td id=\"T_e17d423c_6b41_11ec_8187_7831c1b92034row18_col4\" class=\"data row18 col4\" >0.035972</td>\n",
       "                        <td id=\"T_e17d423c_6b41_11ec_8187_7831c1b92034row18_col5\" class=\"data row18 col5\" >-0.051409</td>\n",
       "                        <td id=\"T_e17d423c_6b41_11ec_8187_7831c1b92034row18_col6\" class=\"data row18 col6\" >-0.037854</td>\n",
       "                        <td id=\"T_e17d423c_6b41_11ec_8187_7831c1b92034row18_col7\" class=\"data row18 col7\" >0.000735</td>\n",
       "                        <td id=\"T_e17d423c_6b41_11ec_8187_7831c1b92034row18_col8\" class=\"data row18 col8\" >-0.055752</td>\n",
       "                        <td id=\"T_e17d423c_6b41_11ec_8187_7831c1b92034row18_col9\" class=\"data row18 col9\" >0.020297</td>\n",
       "                        <td id=\"T_e17d423c_6b41_11ec_8187_7831c1b92034row18_col10\" class=\"data row18 col10\" >-0.039881</td>\n",
       "                        <td id=\"T_e17d423c_6b41_11ec_8187_7831c1b92034row18_col11\" class=\"data row18 col11\" >-0.017713</td>\n",
       "                        <td id=\"T_e17d423c_6b41_11ec_8187_7831c1b92034row18_col12\" class=\"data row18 col12\" >-0.025003</td>\n",
       "                        <td id=\"T_e17d423c_6b41_11ec_8187_7831c1b92034row18_col13\" class=\"data row18 col13\" >-0.028213</td>\n",
       "                        <td id=\"T_e17d423c_6b41_11ec_8187_7831c1b92034row18_col14\" class=\"data row18 col14\" >-0.029865</td>\n",
       "                        <td id=\"T_e17d423c_6b41_11ec_8187_7831c1b92034row18_col15\" class=\"data row18 col15\" >-0.024452</td>\n",
       "                        <td id=\"T_e17d423c_6b41_11ec_8187_7831c1b92034row18_col16\" class=\"data row18 col16\" >-0.011473</td>\n",
       "                        <td id=\"T_e17d423c_6b41_11ec_8187_7831c1b92034row18_col17\" class=\"data row18 col17\" >0.018094</td>\n",
       "                        <td id=\"T_e17d423c_6b41_11ec_8187_7831c1b92034row18_col18\" class=\"data row18 col18\" >1.000000</td>\n",
       "                        <td id=\"T_e17d423c_6b41_11ec_8187_7831c1b92034row18_col19\" class=\"data row18 col19\" >-0.026116</td>\n",
       "                        <td id=\"T_e17d423c_6b41_11ec_8187_7831c1b92034row18_col20\" class=\"data row18 col20\" >0.022033</td>\n",
       "                        <td id=\"T_e17d423c_6b41_11ec_8187_7831c1b92034row18_col21\" class=\"data row18 col21\" >-0.032247</td>\n",
       "                        <td id=\"T_e17d423c_6b41_11ec_8187_7831c1b92034row18_col22\" class=\"data row18 col22\" >-0.041224</td>\n",
       "            </tr>\n",
       "            <tr>\n",
       "                        <th id=\"T_e17d423c_6b41_11ec_8187_7831c1b92034level0_row19\" class=\"row_heading level0 row19\" >V Shaped Cracks</th>\n",
       "                        <td id=\"T_e17d423c_6b41_11ec_8187_7831c1b92034row19_col0\" class=\"data row19 col0\" >-0.054661</td>\n",
       "                        <td id=\"T_e17d423c_6b41_11ec_8187_7831c1b92034row19_col1\" class=\"data row19 col1\" >-0.000673</td>\n",
       "                        <td id=\"T_e17d423c_6b41_11ec_8187_7831c1b92034row19_col2\" class=\"data row19 col2\" >0.017807</td>\n",
       "                        <td id=\"T_e17d423c_6b41_11ec_8187_7831c1b92034row19_col3\" class=\"data row19 col3\" >-0.015411</td>\n",
       "                        <td id=\"T_e17d423c_6b41_11ec_8187_7831c1b92034row19_col4\" class=\"data row19 col4\" >0.031511</td>\n",
       "                        <td id=\"T_e17d423c_6b41_11ec_8187_7831c1b92034row19_col5\" class=\"data row19 col5\" >-0.026482</td>\n",
       "                        <td id=\"T_e17d423c_6b41_11ec_8187_7831c1b92034row19_col6\" class=\"data row19 col6\" >0.034136</td>\n",
       "                        <td id=\"T_e17d423c_6b41_11ec_8187_7831c1b92034row19_col7\" class=\"data row19 col7\" >0.090062</td>\n",
       "                        <td id=\"T_e17d423c_6b41_11ec_8187_7831c1b92034row19_col8\" class=\"data row19 col8\" >-0.078039</td>\n",
       "                        <td id=\"T_e17d423c_6b41_11ec_8187_7831c1b92034row19_col9\" class=\"data row19 col9\" >-0.026964</td>\n",
       "                        <td id=\"T_e17d423c_6b41_11ec_8187_7831c1b92034row19_col10\" class=\"data row19 col10\" >0.055561</td>\n",
       "                        <td id=\"T_e17d423c_6b41_11ec_8187_7831c1b92034row19_col11\" class=\"data row19 col11\" >-0.026460</td>\n",
       "                        <td id=\"T_e17d423c_6b41_11ec_8187_7831c1b92034row19_col12\" class=\"data row19 col12\" >-0.030933</td>\n",
       "                        <td id=\"T_e17d423c_6b41_11ec_8187_7831c1b92034row19_col13\" class=\"data row19 col13\" >-0.020268</td>\n",
       "                        <td id=\"T_e17d423c_6b41_11ec_8187_7831c1b92034row19_col14\" class=\"data row19 col14\" >0.026775</td>\n",
       "                        <td id=\"T_e17d423c_6b41_11ec_8187_7831c1b92034row19_col15\" class=\"data row19 col15\" >-0.019645</td>\n",
       "                        <td id=\"T_e17d423c_6b41_11ec_8187_7831c1b92034row19_col16\" class=\"data row19 col16\" >-0.065359</td>\n",
       "                        <td id=\"T_e17d423c_6b41_11ec_8187_7831c1b92034row19_col17\" class=\"data row19 col17\" >-0.036796</td>\n",
       "                        <td id=\"T_e17d423c_6b41_11ec_8187_7831c1b92034row19_col18\" class=\"data row19 col18\" >-0.026116</td>\n",
       "                        <td id=\"T_e17d423c_6b41_11ec_8187_7831c1b92034row19_col19\" class=\"data row19 col19\" >1.000000</td>\n",
       "                        <td id=\"T_e17d423c_6b41_11ec_8187_7831c1b92034row19_col20\" class=\"data row19 col20\" >0.069022</td>\n",
       "                        <td id=\"T_e17d423c_6b41_11ec_8187_7831c1b92034row19_col21\" class=\"data row19 col21\" >0.011282</td>\n",
       "                        <td id=\"T_e17d423c_6b41_11ec_8187_7831c1b92034row19_col22\" class=\"data row19 col22\" >0.110373</td>\n",
       "            </tr>\n",
       "            <tr>\n",
       "                        <th id=\"T_e17d423c_6b41_11ec_8187_7831c1b92034level0_row20\" class=\"row_heading level0 row20\" >Edge Rounding</th>\n",
       "                        <td id=\"T_e17d423c_6b41_11ec_8187_7831c1b92034row20_col0\" class=\"data row20 col0\" >0.121799</td>\n",
       "                        <td id=\"T_e17d423c_6b41_11ec_8187_7831c1b92034row20_col1\" class=\"data row20 col1\" >0.338890</td>\n",
       "                        <td id=\"T_e17d423c_6b41_11ec_8187_7831c1b92034row20_col2\" class=\"data row20 col2\" >-0.375034</td>\n",
       "                        <td id=\"T_e17d423c_6b41_11ec_8187_7831c1b92034row20_col3\" class=\"data row20 col3\" >0.020714</td>\n",
       "                        <td id=\"T_e17d423c_6b41_11ec_8187_7831c1b92034row20_col4\" class=\"data row20 col4\" >0.058899</td>\n",
       "                        <td id=\"T_e17d423c_6b41_11ec_8187_7831c1b92034row20_col5\" class=\"data row20 col5\" >-0.066654</td>\n",
       "                        <td id=\"T_e17d423c_6b41_11ec_8187_7831c1b92034row20_col6\" class=\"data row20 col6\" >0.087667</td>\n",
       "                        <td id=\"T_e17d423c_6b41_11ec_8187_7831c1b92034row20_col7\" class=\"data row20 col7\" >0.038845</td>\n",
       "                        <td id=\"T_e17d423c_6b41_11ec_8187_7831c1b92034row20_col8\" class=\"data row20 col8\" >-0.093923</td>\n",
       "                        <td id=\"T_e17d423c_6b41_11ec_8187_7831c1b92034row20_col9\" class=\"data row20 col9\" >0.006050</td>\n",
       "                        <td id=\"T_e17d423c_6b41_11ec_8187_7831c1b92034row20_col10\" class=\"data row20 col10\" >-0.006443</td>\n",
       "                        <td id=\"T_e17d423c_6b41_11ec_8187_7831c1b92034row20_col11\" class=\"data row20 col11\" >-0.015337</td>\n",
       "                        <td id=\"T_e17d423c_6b41_11ec_8187_7831c1b92034row20_col12\" class=\"data row20 col12\" >-0.055769</td>\n",
       "                        <td id=\"T_e17d423c_6b41_11ec_8187_7831c1b92034row20_col13\" class=\"data row20 col13\" >0.031431</td>\n",
       "                        <td id=\"T_e17d423c_6b41_11ec_8187_7831c1b92034row20_col14\" class=\"data row20 col14\" >0.003376</td>\n",
       "                        <td id=\"T_e17d423c_6b41_11ec_8187_7831c1b92034row20_col15\" class=\"data row20 col15\" >-0.005432</td>\n",
       "                        <td id=\"T_e17d423c_6b41_11ec_8187_7831c1b92034row20_col16\" class=\"data row20 col16\" >-0.006466</td>\n",
       "                        <td id=\"T_e17d423c_6b41_11ec_8187_7831c1b92034row20_col17\" class=\"data row20 col17\" >-0.103984</td>\n",
       "                        <td id=\"T_e17d423c_6b41_11ec_8187_7831c1b92034row20_col18\" class=\"data row20 col18\" >0.022033</td>\n",
       "                        <td id=\"T_e17d423c_6b41_11ec_8187_7831c1b92034row20_col19\" class=\"data row20 col19\" >0.069022</td>\n",
       "                        <td id=\"T_e17d423c_6b41_11ec_8187_7831c1b92034row20_col20\" class=\"data row20 col20\" >1.000000</td>\n",
       "                        <td id=\"T_e17d423c_6b41_11ec_8187_7831c1b92034row20_col21\" class=\"data row20 col21\" >-0.037138</td>\n",
       "                        <td id=\"T_e17d423c_6b41_11ec_8187_7831c1b92034row20_col22\" class=\"data row20 col22\" >-0.012384</td>\n",
       "            </tr>\n",
       "            <tr>\n",
       "                        <th id=\"T_e17d423c_6b41_11ec_8187_7831c1b92034level0_row21\" class=\"row_heading level0 row21\" >Breakage Blocks</th>\n",
       "                        <td id=\"T_e17d423c_6b41_11ec_8187_7831c1b92034row21_col0\" class=\"data row21 col0\" >-0.047385</td>\n",
       "                        <td id=\"T_e17d423c_6b41_11ec_8187_7831c1b92034row21_col1\" class=\"data row21 col1\" >-0.028649</td>\n",
       "                        <td id=\"T_e17d423c_6b41_11ec_8187_7831c1b92034row21_col2\" class=\"data row21 col2\" >0.043333</td>\n",
       "                        <td id=\"T_e17d423c_6b41_11ec_8187_7831c1b92034row21_col3\" class=\"data row21 col3\" >-0.034491</td>\n",
       "                        <td id=\"T_e17d423c_6b41_11ec_8187_7831c1b92034row21_col4\" class=\"data row21 col4\" >-0.056649</td>\n",
       "                        <td id=\"T_e17d423c_6b41_11ec_8187_7831c1b92034row21_col5\" class=\"data row21 col5\" >0.069153</td>\n",
       "                        <td id=\"T_e17d423c_6b41_11ec_8187_7831c1b92034row21_col6\" class=\"data row21 col6\" >0.022958</td>\n",
       "                        <td id=\"T_e17d423c_6b41_11ec_8187_7831c1b92034row21_col7\" class=\"data row21 col7\" >0.021144</td>\n",
       "                        <td id=\"T_e17d423c_6b41_11ec_8187_7831c1b92034row21_col8\" class=\"data row21 col8\" >0.012127</td>\n",
       "                        <td id=\"T_e17d423c_6b41_11ec_8187_7831c1b92034row21_col9\" class=\"data row21 col9\" >0.005013</td>\n",
       "                        <td id=\"T_e17d423c_6b41_11ec_8187_7831c1b92034row21_col10\" class=\"data row21 col10\" >-0.012454</td>\n",
       "                        <td id=\"T_e17d423c_6b41_11ec_8187_7831c1b92034row21_col11\" class=\"data row21 col11\" >-0.033247</td>\n",
       "                        <td id=\"T_e17d423c_6b41_11ec_8187_7831c1b92034row21_col12\" class=\"data row21 col12\" >-0.023713</td>\n",
       "                        <td id=\"T_e17d423c_6b41_11ec_8187_7831c1b92034row21_col13\" class=\"data row21 col13\" >-0.028416</td>\n",
       "                        <td id=\"T_e17d423c_6b41_11ec_8187_7831c1b92034row21_col14\" class=\"data row21 col14\" >-0.027003</td>\n",
       "                        <td id=\"T_e17d423c_6b41_11ec_8187_7831c1b92034row21_col15\" class=\"data row21 col15\" >-0.060880</td>\n",
       "                        <td id=\"T_e17d423c_6b41_11ec_8187_7831c1b92034row21_col16\" class=\"data row21 col16\" >-0.048045</td>\n",
       "                        <td id=\"T_e17d423c_6b41_11ec_8187_7831c1b92034row21_col17\" class=\"data row21 col17\" >-0.024166</td>\n",
       "                        <td id=\"T_e17d423c_6b41_11ec_8187_7831c1b92034row21_col18\" class=\"data row21 col18\" >-0.032247</td>\n",
       "                        <td id=\"T_e17d423c_6b41_11ec_8187_7831c1b92034row21_col19\" class=\"data row21 col19\" >0.011282</td>\n",
       "                        <td id=\"T_e17d423c_6b41_11ec_8187_7831c1b92034row21_col20\" class=\"data row21 col20\" >-0.037138</td>\n",
       "                        <td id=\"T_e17d423c_6b41_11ec_8187_7831c1b92034row21_col21\" class=\"data row21 col21\" >1.000000</td>\n",
       "                        <td id=\"T_e17d423c_6b41_11ec_8187_7831c1b92034row21_col22\" class=\"data row21 col22\" >0.010950</td>\n",
       "            </tr>\n",
       "            <tr>\n",
       "                        <th id=\"T_e17d423c_6b41_11ec_8187_7831c1b92034level0_row22\" class=\"row_heading level0 row22\" >Abrasion Features</th>\n",
       "                        <td id=\"T_e17d423c_6b41_11ec_8187_7831c1b92034row22_col0\" class=\"data row22 col0\" >-0.013981</td>\n",
       "                        <td id=\"T_e17d423c_6b41_11ec_8187_7831c1b92034row22_col1\" class=\"data row22 col1\" >-0.042771</td>\n",
       "                        <td id=\"T_e17d423c_6b41_11ec_8187_7831c1b92034row22_col2\" class=\"data row22 col2\" >0.046897</td>\n",
       "                        <td id=\"T_e17d423c_6b41_11ec_8187_7831c1b92034row22_col3\" class=\"data row22 col3\" >0.028067</td>\n",
       "                        <td id=\"T_e17d423c_6b41_11ec_8187_7831c1b92034row22_col4\" class=\"data row22 col4\" >0.047269</td>\n",
       "                        <td id=\"T_e17d423c_6b41_11ec_8187_7831c1b92034row22_col5\" class=\"data row22 col5\" >-0.057456</td>\n",
       "                        <td id=\"T_e17d423c_6b41_11ec_8187_7831c1b92034row22_col6\" class=\"data row22 col6\" >-0.042402</td>\n",
       "                        <td id=\"T_e17d423c_6b41_11ec_8187_7831c1b92034row22_col7\" class=\"data row22 col7\" >-0.039350</td>\n",
       "                        <td id=\"T_e17d423c_6b41_11ec_8187_7831c1b92034row22_col8\" class=\"data row22 col8\" >-0.017311</td>\n",
       "                        <td id=\"T_e17d423c_6b41_11ec_8187_7831c1b92034row22_col9\" class=\"data row22 col9\" >-0.005092</td>\n",
       "                        <td id=\"T_e17d423c_6b41_11ec_8187_7831c1b92034row22_col10\" class=\"data row22 col10\" >0.014232</td>\n",
       "                        <td id=\"T_e17d423c_6b41_11ec_8187_7831c1b92034row22_col11\" class=\"data row22 col11\" >0.017588</td>\n",
       "                        <td id=\"T_e17d423c_6b41_11ec_8187_7831c1b92034row22_col12\" class=\"data row22 col12\" >0.064131</td>\n",
       "                        <td id=\"T_e17d423c_6b41_11ec_8187_7831c1b92034row22_col13\" class=\"data row22 col13\" >0.004111</td>\n",
       "                        <td id=\"T_e17d423c_6b41_11ec_8187_7831c1b92034row22_col14\" class=\"data row22 col14\" >-0.022194</td>\n",
       "                        <td id=\"T_e17d423c_6b41_11ec_8187_7831c1b92034row22_col15\" class=\"data row22 col15\" >0.006703</td>\n",
       "                        <td id=\"T_e17d423c_6b41_11ec_8187_7831c1b92034row22_col16\" class=\"data row22 col16\" >0.007988</td>\n",
       "                        <td id=\"T_e17d423c_6b41_11ec_8187_7831c1b92034row22_col17\" class=\"data row22 col17\" >-0.067760</td>\n",
       "                        <td id=\"T_e17d423c_6b41_11ec_8187_7831c1b92034row22_col18\" class=\"data row22 col18\" >-0.041224</td>\n",
       "                        <td id=\"T_e17d423c_6b41_11ec_8187_7831c1b92034row22_col19\" class=\"data row22 col19\" >0.110373</td>\n",
       "                        <td id=\"T_e17d423c_6b41_11ec_8187_7831c1b92034row22_col20\" class=\"data row22 col20\" >-0.012384</td>\n",
       "                        <td id=\"T_e17d423c_6b41_11ec_8187_7831c1b92034row22_col21\" class=\"data row22 col21\" >0.010950</td>\n",
       "                        <td id=\"T_e17d423c_6b41_11ec_8187_7831c1b92034row22_col22\" class=\"data row22 col22\" >1.000000</td>\n",
       "            </tr>\n",
       "    </tbody></table>"
      ],
      "text/plain": [
       "<pandas.io.formats.style.Styler at 0x7fb75886d6d0>"
      ]
     },
     "execution_count": 17,
     "metadata": {},
     "output_type": "execute_result"
    }
   ],
   "source": [
    "corr = testing_df.corr()\n",
    "\n",
    "corr.style.background_gradient(cmap='coolwarm')"
   ]
  },
  {
   "cell_type": "code",
   "execution_count": 27,
   "metadata": {},
   "outputs": [],
   "source": [
    "fig_dict = corr.to_dict()"
   ]
  },
  {
   "cell_type": "code",
   "execution_count": 29,
   "metadata": {},
   "outputs": [
    {
     "data": {
      "application/vnd.plotly.v1+json": {
       "config": {
        "plotlyServerURL": "https://plot.ly"
       },
       "data": [
        {
         "coloraxis": "coloraxis",
         "hovertemplate": "x: %{x}<br>y: %{y}<br>color: %{z}<extra></extra>",
         "name": "0",
         "type": "heatmap",
         "x": [
          "Rounded to Sub-Rounded",
          "Sub-Rounded to Sub-Angular",
          "Sub-Angular to Angular",
          "Low Relief",
          "Medium Relief",
          "High Relief",
          "Precipitation Features",
          "Dissolution Etching",
          "Fracture Faces",
          "Subparallel Linear Features",
          "Conchoidal Fractures",
          "Curved Grooves",
          "Straight Grooves",
          "Deep Troughs",
          "Crescentic Gouges",
          "Arc Shaped Steps",
          "Linear Steps",
          "Sharp Angular Features",
          "Upturned Plates",
          "V Shaped Cracks",
          "Edge Rounding",
          "Breakage Blocks",
          "Abrasion Features"
         ],
         "xaxis": "x",
         "y": [
          "Rounded to Sub-Rounded",
          "Sub-Rounded to Sub-Angular",
          "Sub-Angular to Angular",
          "Low Relief",
          "Medium Relief",
          "High Relief",
          "Precipitation Features",
          "Dissolution Etching",
          "Fracture Faces",
          "Subparallel Linear Features",
          "Conchoidal Fractures",
          "Curved Grooves",
          "Straight Grooves",
          "Deep Troughs",
          "Crescentic Gouges",
          "Arc Shaped Steps",
          "Linear Steps",
          "Sharp Angular Features",
          "Upturned Plates",
          "V Shaped Cracks",
          "Edge Rounding",
          "Breakage Blocks",
          "Abrasion Features"
         ],
         "yaxis": "y",
         "z": [
          [
           1,
           -0.13842235954388615,
           -0.17593607182043872,
           0.09337584014346777,
           0.025923192648499356,
           -0.05852492536118601,
           -0.020973380699048676,
           0.006700039641305657,
           -0.00999895215000965,
           0.01725202735092962,
           -0.04527247858415801,
           0.04279998805085944,
           -0.0020929153269802253,
           0.0074646760863771,
           -0.02066778299011603,
           -0.006066233448733405,
           0.07529313917821549,
           -0.05249787357884467,
           0.004447751048141819,
           -0.05466123951290527,
           0.12179896927169177,
           -0.0473854860337632,
           -0.013981197284661784
          ],
          [
           -0.13842235954388615,
           1,
           -0.9505715577491698,
           -0.055842908809224635,
           0.08887848280726848,
           -0.0704061625460084,
           0.025860761416194426,
           0.06880291058537161,
           -0.05598628322847331,
           0.0015893044873670004,
           -0.05212151259177404,
           -0.005458501145416512,
           -0.0302668694618393,
           0.028548928415739933,
           0.007903482203411447,
           0.03583839788306991,
           0.031783303394899494,
           -0.20649598794195403,
           -0.046089322132613735,
           -0.0006731114581014553,
           0.33889039852073216,
           -0.028649258784815827,
           -0.04277130471181148
          ],
          [
           -0.17593607182043872,
           -0.9505715577491698,
           1,
           0.026230644142670196,
           -0.09647010595353399,
           0.08833058748348999,
           -0.019129174123281033,
           -0.07048866862605566,
           0.05878360973094483,
           -0.006988642228178093,
           0.06600123201565855,
           -0.007993226257087163,
           0.030740546809790395,
           -0.030717139243673804,
           -0.0013759847984800737,
           -0.033720393189682736,
           -0.055197847948470394,
           0.2217102024482355,
           0.04441693974389057,
           0.017806651224815014,
           -0.375033850557473,
           0.04333298789862,
           0.0468968426584784
          ],
          [
           0.09337584014346777,
           -0.055842908809224635,
           0.026230644142670196,
           1,
           -0.19973296434094243,
           -0.14472495732847934,
           -0.06006910364695209,
           -0.11712269205776522,
           0.06898013183861672,
           0.00399488941539461,
           -0.054630791720622435,
           -0.013594781624098174,
           -0.0332118782609457,
           0.03265830405856263,
           0.07812537926503679,
           -0.05310655770785427,
           -0.014952534547355147,
           -0.020163079698416804,
           0.04354205473350651,
           -0.015411013888612587,
           0.020714103875652083,
           -0.0344906676317362,
           0.028066655709227874
          ],
          [
           0.025923192648499356,
           0.08887848280726848,
           -0.09647010595353399,
           -0.19973296434094243,
           1,
           -0.9406280829342372,
           -0.06602160580470762,
           -0.03715084042456947,
           -0.04000074763782178,
           -0.03951036589441886,
           0.017596300798682442,
           -0.007539645667683205,
           -0.055892608903761354,
           -0.026149779311339463,
           0.06328390357350386,
           0.02770586658597443,
           0.013192766206369697,
           -0.025101089472635903,
           0.03597172199844233,
           0.03151117124926897,
           0.05889945748434664,
           -0.056648502384410236,
           0.04726945822220357
          ],
          [
           -0.05852492536118601,
           -0.0704061625460084,
           0.08833058748348999,
           -0.14472495732847934,
           -0.9406280829342372,
           1,
           0.08747898898310136,
           0.07808918706768826,
           0.01649749064639025,
           0.0385144281744125,
           0.0011560680431986056,
           0.012323173694833465,
           0.06794667322424433,
           0.015093091814114069,
           -0.09096944435513696,
           -0.009580791646838288,
           -0.008142466638530516,
           0.03233244501802036,
           -0.05140874618640771,
           -0.026481921629271005,
           -0.06665357851184368,
           0.06915298630321141,
           -0.057456444475635304
          ],
          [
           -0.020973380699048676,
           0.025860761416194426,
           -0.019129174123281033,
           -0.06006910364695209,
           -0.06602160580470762,
           0.08747898898310136,
           1,
           -0.014803986365834071,
           -0.1269055383897101,
           -0.011603620822039258,
           -0.02817233250325641,
           -0.0559225193478426,
           -0.03850558662177222,
           -0.053386787233941704,
           0.028431311554576108,
           -0.06486955340426959,
           -0.07196138729148754,
           -0.03453280800743691,
           -0.0378540760704163,
           0.034135885163495305,
           0.08766736874321532,
           0.02295756166231788,
           -0.042402079090660766
          ],
          [
           0.006700039641305657,
           0.06880291058537161,
           -0.07048866862605566,
           -0.11712269205776522,
           -0.03715084042456947,
           0.07808918706768826,
           -0.014803986365834071,
           1,
           -0.1070312546573694,
           -0.07642662751657614,
           -0.03715075182958017,
           -0.01674175158090915,
           -0.015887487228666185,
           -0.03385971252874439,
           -0.04112294148748138,
           0.032158390216528214,
           -0.021530901627455575,
           -0.018980355435069915,
           0.0007349125994270901,
           0.09006230494010693,
           0.03884450942283488,
           0.021144218563336325,
           -0.039350286559834906
          ],
          [
           -0.00999895215000965,
           -0.05598628322847331,
           0.05878360973094483,
           0.06898013183861672,
           -0.04000074763782178,
           0.01649749064639025,
           -0.1269055383897101,
           -0.1070312546573694,
           1,
           0.019745252587651398,
           0.03413143301095145,
           0.09685978988090242,
           0.040815713484379866,
           0.0060744929512367846,
           -0.06157878699743204,
           0.00547387038123387,
           -0.006847811678761306,
           0.023836483654803647,
           -0.05575164817944658,
           -0.07803901726997921,
           -0.0939233039037011,
           0.012127019735357595,
           -0.017310563771852503
          ],
          [
           0.01725202735092962,
           0.0015893044873670004,
           -0.006988642228178093,
           0.00399488941539461,
           -0.03951036589441886,
           0.0385144281744125,
           -0.011603620822039258,
           -0.07642662751657614,
           0.019745252587651398,
           1,
           0.034125542773079276,
           0.037248084885334,
           0.011798708170820417,
           0.01725202735092967,
           -0.00912886997508206,
           -0.0032213828810853324,
           -0.02966286783929444,
           -0.01987047416231671,
           0.02029664800674919,
           -0.026964037098041637,
           0.0060503963386584585,
           0.005013033983130428,
           -0.005091800120527754
          ],
          [
           -0.04527247858415801,
           -0.05212151259177404,
           0.06600123201565855,
           -0.054630791720622435,
           0.017596300798682442,
           0.0011560680431986056,
           -0.02817233250325641,
           -0.03715075182958017,
           0.03413143301095145,
           0.034125542773079276,
           1,
           -0.013886742780971526,
           -0.004768395408990367,
           0.022938544389868712,
           0.006089655638778212,
           0.03732334198215729,
           -0.018485611577159944,
           0.023988209246166143,
           -0.039881450982387254,
           0.055560864458555605,
           -0.006443188806710943,
           -0.012453567950457595,
           0.0142323162536519
          ],
          [
           0.04279998805085944,
           -0.005458501145416512,
           -0.007993226257087163,
           -0.013594781624098174,
           -0.007539645667683205,
           0.012323173694833465,
           -0.0559225193478426,
           -0.01674175158090915,
           0.09685978988090242,
           0.037248084885334,
           -0.013886742780971526,
           1,
           -0.01822588230985201,
           -0.03380787517671176,
           -0.028747143130643842,
           0.002793883063380356,
           0.013992178537265783,
           0.023487876202779614,
           -0.01771322454036369,
           -0.026460389798956815,
           -0.015336849470404042,
           -0.03324696540022837,
           0.017587824030096098
          ],
          [
           -0.0020929153269802253,
           -0.0302668694618393,
           0.030740546809790395,
           -0.0332118782609457,
           -0.055892608903761354,
           0.06794667322424433,
           -0.03850558662177222,
           -0.015887487228666185,
           0.040815713484379866,
           0.011798708170820417,
           -0.004768395408990367,
           -0.01822588230985201,
           1,
           -0.002092915326980617,
           -0.03912934422286112,
           -0.03191064293283835,
           -0.0107906286556582,
           0.01966738525869842,
           -0.025002870611151307,
           -0.03093269791545619,
           -0.05576868214056102,
           -0.0237131047558712,
           0.06413060273367849
          ],
          [
           0.0074646760863771,
           0.028548928415739933,
           -0.030717139243673804,
           0.03265830405856263,
           -0.026149779311339463,
           0.015093091814114069,
           -0.053386787233941704,
           -0.03385971252874439,
           0.0060744929512367846,
           0.01725202735092967,
           0.022938544389868712,
           -0.03380787517671176,
           -0.002092915326980617,
           1,
           -0.005867599094712584,
           -0.016392976534985695,
           0.0118013255518289,
           0.034484584513739494,
           -0.028212953394130567,
           -0.020268169594611567,
           0.03143052394403675,
           -0.02841600597960231,
           0.0041112592641037145
          ],
          [
           -0.02066778299011603,
           0.007903482203411447,
           -0.0013759847984800737,
           0.07812537926503679,
           0.06328390357350386,
           -0.09096944435513696,
           0.028431311554576108,
           -0.04112294148748138,
           -0.06157878699743204,
           -0.00912886997508206,
           0.006089655638778212,
           -0.028747143130643842,
           -0.03912934422286112,
           -0.005867599094712584,
           1,
           -0.020771515512193202,
           -0.010493676836923906,
           -0.020991954223145044,
           -0.029864796680272726,
           0.026774926085343258,
           0.0033756076870941542,
           -0.02700307195795444,
           -0.022193719875857096
          ],
          [
           -0.006066233448733405,
           0.03583839788306991,
           -0.033720393189682736,
           -0.05310655770785427,
           0.02770586658597443,
           -0.009580791646838288,
           -0.06486955340426959,
           0.032158390216528214,
           0.00547387038123387,
           -0.0032213828810853324,
           0.03732334198215729,
           0.002793883063380356,
           -0.03191064293283835,
           -0.016392976534985695,
           -0.020771515512193202,
           1,
           -0.0037394667874210857,
           -0.03629849043780746,
           -0.024452463846682267,
           -0.01964513196596557,
           -0.005432272976944757,
           -0.06087976611562243,
           0.006702968197170286
          ],
          [
           0.07529313917821549,
           0.031783303394899494,
           -0.055197847948470394,
           -0.014952534547355147,
           0.013192766206369697,
           -0.008142466638530516,
           -0.07196138729148754,
           -0.021530901627455575,
           -0.006847811678761306,
           -0.02966286783929444,
           -0.018485611577159944,
           0.013992178537265783,
           -0.0107906286556582,
           0.0118013255518289,
           -0.010493676836923906,
           -0.0037394667874210857,
           1,
           0.006030508584664523,
           -0.011473380243609667,
           -0.06535890898156108,
           -0.006466143909156315,
           -0.04804479744903508,
           0.007987757741091948
          ],
          [
           -0.05249787357884467,
           -0.20649598794195403,
           0.2217102024482355,
           -0.020163079698416804,
           -0.025101089472635903,
           0.03233244501802036,
           -0.03453280800743691,
           -0.018980355435069915,
           0.023836483654803647,
           -0.01987047416231671,
           0.023988209246166143,
           0.023487876202779614,
           0.01966738525869842,
           0.034484584513739494,
           -0.020991954223145044,
           -0.03629849043780746,
           0.006030508584664523,
           1,
           0.01809390969418425,
           -0.03679573634915809,
           -0.10398445998892307,
           -0.024166061888291155,
           -0.06776009940143023
          ],
          [
           0.004447751048141819,
           -0.046089322132613735,
           0.04441693974389057,
           0.04354205473350651,
           0.03597172199844233,
           -0.05140874618640771,
           -0.0378540760704163,
           0.0007349125994270901,
           -0.05575164817944658,
           0.02029664800674919,
           -0.039881450982387254,
           -0.01771322454036369,
           -0.025002870611151307,
           -0.028212953394130567,
           -0.029864796680272726,
           -0.024452463846682267,
           -0.011473380243609667,
           0.01809390969418425,
           1,
           -0.026115671727959477,
           0.02203313718237004,
           -0.032246976277157655,
           -0.04122400138982918
          ],
          [
           -0.05466123951290527,
           -0.0006731114581014553,
           0.017806651224815014,
           -0.015411013888612587,
           0.03151117124926897,
           -0.026481921629271005,
           0.034135885163495305,
           0.09006230494010693,
           -0.07803901726997921,
           -0.026964037098041637,
           0.055560864458555605,
           -0.026460389798956815,
           -0.03093269791545619,
           -0.020268169594611567,
           0.026774926085343258,
           -0.01964513196596557,
           -0.06535890898156108,
           -0.03679573634915809,
           -0.026115671727959477,
           1,
           0.06902189413466223,
           0.011282055184308613,
           0.11037289004819605
          ],
          [
           0.12179896927169177,
           0.33889039852073216,
           -0.375033850557473,
           0.020714103875652083,
           0.05889945748434664,
           -0.06665357851184368,
           0.08766736874321532,
           0.03884450942283488,
           -0.0939233039037011,
           0.0060503963386584585,
           -0.006443188806710943,
           -0.015336849470404042,
           -0.05576868214056102,
           0.03143052394403675,
           0.0033756076870941542,
           -0.005432272976944757,
           -0.006466143909156315,
           -0.10398445998892307,
           0.02203313718237004,
           0.06902189413466223,
           1,
           -0.03713827191390431,
           -0.012384493208933589
          ],
          [
           -0.0473854860337632,
           -0.028649258784815827,
           0.04333298789862,
           -0.0344906676317362,
           -0.056648502384410236,
           0.06915298630321141,
           0.02295756166231788,
           0.021144218563336325,
           0.012127019735357595,
           0.005013033983130428,
           -0.012453567950457595,
           -0.03324696540022837,
           -0.0237131047558712,
           -0.02841600597960231,
           -0.02700307195795444,
           -0.06087976611562243,
           -0.04804479744903508,
           -0.024166061888291155,
           -0.032246976277157655,
           0.011282055184308613,
           -0.03713827191390431,
           1,
           0.010950343993963338
          ],
          [
           -0.013981197284661784,
           -0.04277130471181148,
           0.0468968426584784,
           0.028066655709227874,
           0.04726945822220357,
           -0.057456444475635304,
           -0.042402079090660766,
           -0.039350286559834906,
           -0.017310563771852503,
           -0.005091800120527754,
           0.0142323162536519,
           0.017587824030096098,
           0.06413060273367849,
           0.0041112592641037145,
           -0.022193719875857096,
           0.006702968197170286,
           0.007987757741091948,
           -0.06776009940143023,
           -0.04122400138982918,
           0.11037289004819605,
           -0.012384493208933589,
           0.010950343993963338,
           1
          ]
         ]
        }
       ],
       "layout": {
        "coloraxis": {
         "colorscale": [
          [
           0,
           "#0d0887"
          ],
          [
           0.1111111111111111,
           "#46039f"
          ],
          [
           0.2222222222222222,
           "#7201a8"
          ],
          [
           0.3333333333333333,
           "#9c179e"
          ],
          [
           0.4444444444444444,
           "#bd3786"
          ],
          [
           0.5555555555555556,
           "#d8576b"
          ],
          [
           0.6666666666666666,
           "#ed7953"
          ],
          [
           0.7777777777777778,
           "#fb9f3a"
          ],
          [
           0.8888888888888888,
           "#fdca26"
          ],
          [
           1,
           "#f0f921"
          ]
         ]
        },
        "margin": {
         "t": 60
        },
        "template": {
         "data": {
          "bar": [
           {
            "error_x": {
             "color": "#2a3f5f"
            },
            "error_y": {
             "color": "#2a3f5f"
            },
            "marker": {
             "line": {
              "color": "white",
              "width": 0.5
             },
             "pattern": {
              "fillmode": "overlay",
              "size": 10,
              "solidity": 0.2
             }
            },
            "type": "bar"
           }
          ],
          "barpolar": [
           {
            "marker": {
             "line": {
              "color": "white",
              "width": 0.5
             },
             "pattern": {
              "fillmode": "overlay",
              "size": 10,
              "solidity": 0.2
             }
            },
            "type": "barpolar"
           }
          ],
          "carpet": [
           {
            "aaxis": {
             "endlinecolor": "#2a3f5f",
             "gridcolor": "#C8D4E3",
             "linecolor": "#C8D4E3",
             "minorgridcolor": "#C8D4E3",
             "startlinecolor": "#2a3f5f"
            },
            "baxis": {
             "endlinecolor": "#2a3f5f",
             "gridcolor": "#C8D4E3",
             "linecolor": "#C8D4E3",
             "minorgridcolor": "#C8D4E3",
             "startlinecolor": "#2a3f5f"
            },
            "type": "carpet"
           }
          ],
          "choropleth": [
           {
            "colorbar": {
             "outlinewidth": 0,
             "ticks": ""
            },
            "type": "choropleth"
           }
          ],
          "contour": [
           {
            "colorbar": {
             "outlinewidth": 0,
             "ticks": ""
            },
            "colorscale": [
             [
              0,
              "#0d0887"
             ],
             [
              0.1111111111111111,
              "#46039f"
             ],
             [
              0.2222222222222222,
              "#7201a8"
             ],
             [
              0.3333333333333333,
              "#9c179e"
             ],
             [
              0.4444444444444444,
              "#bd3786"
             ],
             [
              0.5555555555555556,
              "#d8576b"
             ],
             [
              0.6666666666666666,
              "#ed7953"
             ],
             [
              0.7777777777777778,
              "#fb9f3a"
             ],
             [
              0.8888888888888888,
              "#fdca26"
             ],
             [
              1,
              "#f0f921"
             ]
            ],
            "type": "contour"
           }
          ],
          "contourcarpet": [
           {
            "colorbar": {
             "outlinewidth": 0,
             "ticks": ""
            },
            "type": "contourcarpet"
           }
          ],
          "heatmap": [
           {
            "colorbar": {
             "outlinewidth": 0,
             "ticks": ""
            },
            "colorscale": [
             [
              0,
              "#0d0887"
             ],
             [
              0.1111111111111111,
              "#46039f"
             ],
             [
              0.2222222222222222,
              "#7201a8"
             ],
             [
              0.3333333333333333,
              "#9c179e"
             ],
             [
              0.4444444444444444,
              "#bd3786"
             ],
             [
              0.5555555555555556,
              "#d8576b"
             ],
             [
              0.6666666666666666,
              "#ed7953"
             ],
             [
              0.7777777777777778,
              "#fb9f3a"
             ],
             [
              0.8888888888888888,
              "#fdca26"
             ],
             [
              1,
              "#f0f921"
             ]
            ],
            "type": "heatmap"
           }
          ],
          "heatmapgl": [
           {
            "colorbar": {
             "outlinewidth": 0,
             "ticks": ""
            },
            "colorscale": [
             [
              0,
              "#0d0887"
             ],
             [
              0.1111111111111111,
              "#46039f"
             ],
             [
              0.2222222222222222,
              "#7201a8"
             ],
             [
              0.3333333333333333,
              "#9c179e"
             ],
             [
              0.4444444444444444,
              "#bd3786"
             ],
             [
              0.5555555555555556,
              "#d8576b"
             ],
             [
              0.6666666666666666,
              "#ed7953"
             ],
             [
              0.7777777777777778,
              "#fb9f3a"
             ],
             [
              0.8888888888888888,
              "#fdca26"
             ],
             [
              1,
              "#f0f921"
             ]
            ],
            "type": "heatmapgl"
           }
          ],
          "histogram": [
           {
            "marker": {
             "pattern": {
              "fillmode": "overlay",
              "size": 10,
              "solidity": 0.2
             }
            },
            "type": "histogram"
           }
          ],
          "histogram2d": [
           {
            "colorbar": {
             "outlinewidth": 0,
             "ticks": ""
            },
            "colorscale": [
             [
              0,
              "#0d0887"
             ],
             [
              0.1111111111111111,
              "#46039f"
             ],
             [
              0.2222222222222222,
              "#7201a8"
             ],
             [
              0.3333333333333333,
              "#9c179e"
             ],
             [
              0.4444444444444444,
              "#bd3786"
             ],
             [
              0.5555555555555556,
              "#d8576b"
             ],
             [
              0.6666666666666666,
              "#ed7953"
             ],
             [
              0.7777777777777778,
              "#fb9f3a"
             ],
             [
              0.8888888888888888,
              "#fdca26"
             ],
             [
              1,
              "#f0f921"
             ]
            ],
            "type": "histogram2d"
           }
          ],
          "histogram2dcontour": [
           {
            "colorbar": {
             "outlinewidth": 0,
             "ticks": ""
            },
            "colorscale": [
             [
              0,
              "#0d0887"
             ],
             [
              0.1111111111111111,
              "#46039f"
             ],
             [
              0.2222222222222222,
              "#7201a8"
             ],
             [
              0.3333333333333333,
              "#9c179e"
             ],
             [
              0.4444444444444444,
              "#bd3786"
             ],
             [
              0.5555555555555556,
              "#d8576b"
             ],
             [
              0.6666666666666666,
              "#ed7953"
             ],
             [
              0.7777777777777778,
              "#fb9f3a"
             ],
             [
              0.8888888888888888,
              "#fdca26"
             ],
             [
              1,
              "#f0f921"
             ]
            ],
            "type": "histogram2dcontour"
           }
          ],
          "mesh3d": [
           {
            "colorbar": {
             "outlinewidth": 0,
             "ticks": ""
            },
            "type": "mesh3d"
           }
          ],
          "parcoords": [
           {
            "line": {
             "colorbar": {
              "outlinewidth": 0,
              "ticks": ""
             }
            },
            "type": "parcoords"
           }
          ],
          "pie": [
           {
            "automargin": true,
            "type": "pie"
           }
          ],
          "scatter": [
           {
            "marker": {
             "colorbar": {
              "outlinewidth": 0,
              "ticks": ""
             }
            },
            "type": "scatter"
           }
          ],
          "scatter3d": [
           {
            "line": {
             "colorbar": {
              "outlinewidth": 0,
              "ticks": ""
             }
            },
            "marker": {
             "colorbar": {
              "outlinewidth": 0,
              "ticks": ""
             }
            },
            "type": "scatter3d"
           }
          ],
          "scattercarpet": [
           {
            "marker": {
             "colorbar": {
              "outlinewidth": 0,
              "ticks": ""
             }
            },
            "type": "scattercarpet"
           }
          ],
          "scattergeo": [
           {
            "marker": {
             "colorbar": {
              "outlinewidth": 0,
              "ticks": ""
             }
            },
            "type": "scattergeo"
           }
          ],
          "scattergl": [
           {
            "marker": {
             "colorbar": {
              "outlinewidth": 0,
              "ticks": ""
             }
            },
            "type": "scattergl"
           }
          ],
          "scattermapbox": [
           {
            "marker": {
             "colorbar": {
              "outlinewidth": 0,
              "ticks": ""
             }
            },
            "type": "scattermapbox"
           }
          ],
          "scatterpolar": [
           {
            "marker": {
             "colorbar": {
              "outlinewidth": 0,
              "ticks": ""
             }
            },
            "type": "scatterpolar"
           }
          ],
          "scatterpolargl": [
           {
            "marker": {
             "colorbar": {
              "outlinewidth": 0,
              "ticks": ""
             }
            },
            "type": "scatterpolargl"
           }
          ],
          "scatterternary": [
           {
            "marker": {
             "colorbar": {
              "outlinewidth": 0,
              "ticks": ""
             }
            },
            "type": "scatterternary"
           }
          ],
          "surface": [
           {
            "colorbar": {
             "outlinewidth": 0,
             "ticks": ""
            },
            "colorscale": [
             [
              0,
              "#0d0887"
             ],
             [
              0.1111111111111111,
              "#46039f"
             ],
             [
              0.2222222222222222,
              "#7201a8"
             ],
             [
              0.3333333333333333,
              "#9c179e"
             ],
             [
              0.4444444444444444,
              "#bd3786"
             ],
             [
              0.5555555555555556,
              "#d8576b"
             ],
             [
              0.6666666666666666,
              "#ed7953"
             ],
             [
              0.7777777777777778,
              "#fb9f3a"
             ],
             [
              0.8888888888888888,
              "#fdca26"
             ],
             [
              1,
              "#f0f921"
             ]
            ],
            "type": "surface"
           }
          ],
          "table": [
           {
            "cells": {
             "fill": {
              "color": "#EBF0F8"
             },
             "line": {
              "color": "white"
             }
            },
            "header": {
             "fill": {
              "color": "#C8D4E3"
             },
             "line": {
              "color": "white"
             }
            },
            "type": "table"
           }
          ]
         },
         "layout": {
          "annotationdefaults": {
           "arrowcolor": "#2a3f5f",
           "arrowhead": 0,
           "arrowwidth": 1
          },
          "autotypenumbers": "strict",
          "coloraxis": {
           "colorbar": {
            "outlinewidth": 0,
            "ticks": ""
           }
          },
          "colorscale": {
           "diverging": [
            [
             0,
             "#8e0152"
            ],
            [
             0.1,
             "#c51b7d"
            ],
            [
             0.2,
             "#de77ae"
            ],
            [
             0.3,
             "#f1b6da"
            ],
            [
             0.4,
             "#fde0ef"
            ],
            [
             0.5,
             "#f7f7f7"
            ],
            [
             0.6,
             "#e6f5d0"
            ],
            [
             0.7,
             "#b8e186"
            ],
            [
             0.8,
             "#7fbc41"
            ],
            [
             0.9,
             "#4d9221"
            ],
            [
             1,
             "#276419"
            ]
           ],
           "sequential": [
            [
             0,
             "#0d0887"
            ],
            [
             0.1111111111111111,
             "#46039f"
            ],
            [
             0.2222222222222222,
             "#7201a8"
            ],
            [
             0.3333333333333333,
             "#9c179e"
            ],
            [
             0.4444444444444444,
             "#bd3786"
            ],
            [
             0.5555555555555556,
             "#d8576b"
            ],
            [
             0.6666666666666666,
             "#ed7953"
            ],
            [
             0.7777777777777778,
             "#fb9f3a"
            ],
            [
             0.8888888888888888,
             "#fdca26"
            ],
            [
             1,
             "#f0f921"
            ]
           ],
           "sequentialminus": [
            [
             0,
             "#0d0887"
            ],
            [
             0.1111111111111111,
             "#46039f"
            ],
            [
             0.2222222222222222,
             "#7201a8"
            ],
            [
             0.3333333333333333,
             "#9c179e"
            ],
            [
             0.4444444444444444,
             "#bd3786"
            ],
            [
             0.5555555555555556,
             "#d8576b"
            ],
            [
             0.6666666666666666,
             "#ed7953"
            ],
            [
             0.7777777777777778,
             "#fb9f3a"
            ],
            [
             0.8888888888888888,
             "#fdca26"
            ],
            [
             1,
             "#f0f921"
            ]
           ]
          },
          "colorway": [
           "#636efa",
           "#EF553B",
           "#00cc96",
           "#ab63fa",
           "#FFA15A",
           "#19d3f3",
           "#FF6692",
           "#B6E880",
           "#FF97FF",
           "#FECB52"
          ],
          "font": {
           "color": "#2a3f5f"
          },
          "geo": {
           "bgcolor": "white",
           "lakecolor": "white",
           "landcolor": "white",
           "showlakes": true,
           "showland": true,
           "subunitcolor": "#C8D4E3"
          },
          "hoverlabel": {
           "align": "left"
          },
          "hovermode": "closest",
          "mapbox": {
           "style": "light"
          },
          "paper_bgcolor": "white",
          "plot_bgcolor": "white",
          "polar": {
           "angularaxis": {
            "gridcolor": "#EBF0F8",
            "linecolor": "#EBF0F8",
            "ticks": ""
           },
           "bgcolor": "white",
           "radialaxis": {
            "gridcolor": "#EBF0F8",
            "linecolor": "#EBF0F8",
            "ticks": ""
           }
          },
          "scene": {
           "xaxis": {
            "backgroundcolor": "white",
            "gridcolor": "#DFE8F3",
            "gridwidth": 2,
            "linecolor": "#EBF0F8",
            "showbackground": true,
            "ticks": "",
            "zerolinecolor": "#EBF0F8"
           },
           "yaxis": {
            "backgroundcolor": "white",
            "gridcolor": "#DFE8F3",
            "gridwidth": 2,
            "linecolor": "#EBF0F8",
            "showbackground": true,
            "ticks": "",
            "zerolinecolor": "#EBF0F8"
           },
           "zaxis": {
            "backgroundcolor": "white",
            "gridcolor": "#DFE8F3",
            "gridwidth": 2,
            "linecolor": "#EBF0F8",
            "showbackground": true,
            "ticks": "",
            "zerolinecolor": "#EBF0F8"
           }
          },
          "shapedefaults": {
           "line": {
            "color": "#2a3f5f"
           }
          },
          "ternary": {
           "aaxis": {
            "gridcolor": "#DFE8F3",
            "linecolor": "#A2B1C6",
            "ticks": ""
           },
           "baxis": {
            "gridcolor": "#DFE8F3",
            "linecolor": "#A2B1C6",
            "ticks": ""
           },
           "bgcolor": "white",
           "caxis": {
            "gridcolor": "#DFE8F3",
            "linecolor": "#A2B1C6",
            "ticks": ""
           }
          },
          "title": {
           "x": 0.05
          },
          "xaxis": {
           "automargin": true,
           "gridcolor": "#EBF0F8",
           "linecolor": "#EBF0F8",
           "ticks": "",
           "title": {
            "standoff": 15
           },
           "zerolinecolor": "#EBF0F8",
           "zerolinewidth": 2
          },
          "yaxis": {
           "automargin": true,
           "gridcolor": "#EBF0F8",
           "linecolor": "#EBF0F8",
           "ticks": "",
           "title": {
            "standoff": 15
           },
           "zerolinecolor": "#EBF0F8",
           "zerolinewidth": 2
          }
         }
        },
        "xaxis": {
         "anchor": "y",
         "constrain": "domain",
         "domain": [
          0,
          1
         ],
         "scaleanchor": "y"
        },
        "yaxis": {
         "anchor": "x",
         "autorange": "reversed",
         "constrain": "domain",
         "domain": [
          0,
          1
         ]
        }
       }
      },
      "text/html": [
       "<div>                            <div id=\"23f00bd0-b90c-4eb5-af2e-94a07ed7a982\" class=\"plotly-graph-div\" style=\"height:525px; width:100%;\"></div>            <script type=\"text/javascript\">                require([\"plotly\"], function(Plotly) {                    window.PLOTLYENV=window.PLOTLYENV || {};                                    if (document.getElementById(\"23f00bd0-b90c-4eb5-af2e-94a07ed7a982\")) {                    Plotly.newPlot(                        \"23f00bd0-b90c-4eb5-af2e-94a07ed7a982\",                        [{\"coloraxis\":\"coloraxis\",\"name\":\"0\",\"x\":[\"Rounded to Sub-Rounded\",\"Sub-Rounded to Sub-Angular\",\"Sub-Angular to Angular\",\"Low Relief\",\"Medium Relief\",\"High Relief\",\"Precipitation Features\",\"Dissolution Etching\",\"Fracture Faces\",\"Subparallel Linear Features\",\"Conchoidal Fractures\",\"Curved Grooves\",\"Straight Grooves\",\"Deep Troughs\",\"Crescentic Gouges\",\"Arc Shaped Steps\",\"Linear Steps\",\"Sharp Angular Features\",\"Upturned Plates\",\"V Shaped Cracks\",\"Edge Rounding\",\"Breakage Blocks\",\"Abrasion Features\"],\"y\":[\"Rounded to Sub-Rounded\",\"Sub-Rounded to Sub-Angular\",\"Sub-Angular to Angular\",\"Low Relief\",\"Medium Relief\",\"High Relief\",\"Precipitation Features\",\"Dissolution Etching\",\"Fracture Faces\",\"Subparallel Linear Features\",\"Conchoidal Fractures\",\"Curved Grooves\",\"Straight Grooves\",\"Deep Troughs\",\"Crescentic Gouges\",\"Arc Shaped Steps\",\"Linear Steps\",\"Sharp Angular Features\",\"Upturned Plates\",\"V Shaped Cracks\",\"Edge Rounding\",\"Breakage Blocks\",\"Abrasion Features\"],\"z\":[[1.0,-0.13842235954388615,-0.17593607182043872,0.09337584014346777,0.025923192648499356,-0.05852492536118601,-0.020973380699048676,0.006700039641305657,-0.00999895215000965,0.01725202735092962,-0.04527247858415801,0.04279998805085944,-0.0020929153269802253,0.0074646760863771,-0.02066778299011603,-0.006066233448733405,0.07529313917821549,-0.05249787357884467,0.004447751048141819,-0.05466123951290527,0.12179896927169177,-0.0473854860337632,-0.013981197284661784],[-0.13842235954388615,1.0,-0.9505715577491698,-0.055842908809224635,0.08887848280726848,-0.0704061625460084,0.025860761416194426,0.06880291058537161,-0.05598628322847331,0.0015893044873670004,-0.05212151259177404,-0.005458501145416512,-0.0302668694618393,0.028548928415739933,0.007903482203411447,0.03583839788306991,0.031783303394899494,-0.20649598794195403,-0.046089322132613735,-0.0006731114581014553,0.33889039852073216,-0.028649258784815827,-0.04277130471181148],[-0.17593607182043872,-0.9505715577491698,1.0,0.026230644142670196,-0.09647010595353399,0.08833058748348999,-0.019129174123281033,-0.07048866862605566,0.05878360973094483,-0.006988642228178093,0.06600123201565855,-0.007993226257087163,0.030740546809790395,-0.030717139243673804,-0.0013759847984800737,-0.033720393189682736,-0.055197847948470394,0.2217102024482355,0.04441693974389057,0.017806651224815014,-0.375033850557473,0.04333298789862,0.0468968426584784],[0.09337584014346777,-0.055842908809224635,0.026230644142670196,1.0,-0.19973296434094243,-0.14472495732847934,-0.06006910364695209,-0.11712269205776522,0.06898013183861672,0.00399488941539461,-0.054630791720622435,-0.013594781624098174,-0.0332118782609457,0.03265830405856263,0.07812537926503679,-0.05310655770785427,-0.014952534547355147,-0.020163079698416804,0.04354205473350651,-0.015411013888612587,0.020714103875652083,-0.0344906676317362,0.028066655709227874],[0.025923192648499356,0.08887848280726848,-0.09647010595353399,-0.19973296434094243,1.0,-0.9406280829342372,-0.06602160580470762,-0.03715084042456947,-0.04000074763782178,-0.03951036589441886,0.017596300798682442,-0.007539645667683205,-0.055892608903761354,-0.026149779311339463,0.06328390357350386,0.02770586658597443,0.013192766206369697,-0.025101089472635903,0.03597172199844233,0.03151117124926897,0.05889945748434664,-0.056648502384410236,0.04726945822220357],[-0.05852492536118601,-0.0704061625460084,0.08833058748348999,-0.14472495732847934,-0.9406280829342372,1.0,0.08747898898310136,0.07808918706768826,0.01649749064639025,0.0385144281744125,0.0011560680431986056,0.012323173694833465,0.06794667322424433,0.015093091814114069,-0.09096944435513696,-0.009580791646838288,-0.008142466638530516,0.03233244501802036,-0.05140874618640771,-0.026481921629271005,-0.06665357851184368,0.06915298630321141,-0.057456444475635304],[-0.020973380699048676,0.025860761416194426,-0.019129174123281033,-0.06006910364695209,-0.06602160580470762,0.08747898898310136,1.0,-0.014803986365834071,-0.1269055383897101,-0.011603620822039258,-0.02817233250325641,-0.0559225193478426,-0.03850558662177222,-0.053386787233941704,0.028431311554576108,-0.06486955340426959,-0.07196138729148754,-0.03453280800743691,-0.0378540760704163,0.034135885163495305,0.08766736874321532,0.02295756166231788,-0.042402079090660766],[0.006700039641305657,0.06880291058537161,-0.07048866862605566,-0.11712269205776522,-0.03715084042456947,0.07808918706768826,-0.014803986365834071,1.0,-0.1070312546573694,-0.07642662751657614,-0.03715075182958017,-0.01674175158090915,-0.015887487228666185,-0.03385971252874439,-0.04112294148748138,0.032158390216528214,-0.021530901627455575,-0.018980355435069915,0.0007349125994270901,0.09006230494010693,0.03884450942283488,0.021144218563336325,-0.039350286559834906],[-0.00999895215000965,-0.05598628322847331,0.05878360973094483,0.06898013183861672,-0.04000074763782178,0.01649749064639025,-0.1269055383897101,-0.1070312546573694,1.0,0.019745252587651398,0.03413143301095145,0.09685978988090242,0.040815713484379866,0.0060744929512367846,-0.06157878699743204,0.00547387038123387,-0.006847811678761306,0.023836483654803647,-0.05575164817944658,-0.07803901726997921,-0.0939233039037011,0.012127019735357595,-0.017310563771852503],[0.01725202735092962,0.0015893044873670004,-0.006988642228178093,0.00399488941539461,-0.03951036589441886,0.0385144281744125,-0.011603620822039258,-0.07642662751657614,0.019745252587651398,1.0,0.034125542773079276,0.037248084885334,0.011798708170820417,0.01725202735092967,-0.00912886997508206,-0.0032213828810853324,-0.02966286783929444,-0.01987047416231671,0.02029664800674919,-0.026964037098041637,0.0060503963386584585,0.005013033983130428,-0.005091800120527754],[-0.04527247858415801,-0.05212151259177404,0.06600123201565855,-0.054630791720622435,0.017596300798682442,0.0011560680431986056,-0.02817233250325641,-0.03715075182958017,0.03413143301095145,0.034125542773079276,1.0,-0.013886742780971526,-0.004768395408990367,0.022938544389868712,0.006089655638778212,0.03732334198215729,-0.018485611577159944,0.023988209246166143,-0.039881450982387254,0.055560864458555605,-0.006443188806710943,-0.012453567950457595,0.0142323162536519],[0.04279998805085944,-0.005458501145416512,-0.007993226257087163,-0.013594781624098174,-0.007539645667683205,0.012323173694833465,-0.0559225193478426,-0.01674175158090915,0.09685978988090242,0.037248084885334,-0.013886742780971526,1.0,-0.01822588230985201,-0.03380787517671176,-0.028747143130643842,0.002793883063380356,0.013992178537265783,0.023487876202779614,-0.01771322454036369,-0.026460389798956815,-0.015336849470404042,-0.03324696540022837,0.017587824030096098],[-0.0020929153269802253,-0.0302668694618393,0.030740546809790395,-0.0332118782609457,-0.055892608903761354,0.06794667322424433,-0.03850558662177222,-0.015887487228666185,0.040815713484379866,0.011798708170820417,-0.004768395408990367,-0.01822588230985201,1.0,-0.002092915326980617,-0.03912934422286112,-0.03191064293283835,-0.0107906286556582,0.01966738525869842,-0.025002870611151307,-0.03093269791545619,-0.05576868214056102,-0.0237131047558712,0.06413060273367849],[0.0074646760863771,0.028548928415739933,-0.030717139243673804,0.03265830405856263,-0.026149779311339463,0.015093091814114069,-0.053386787233941704,-0.03385971252874439,0.0060744929512367846,0.01725202735092967,0.022938544389868712,-0.03380787517671176,-0.002092915326980617,1.0,-0.005867599094712584,-0.016392976534985695,0.0118013255518289,0.034484584513739494,-0.028212953394130567,-0.020268169594611567,0.03143052394403675,-0.02841600597960231,0.0041112592641037145],[-0.02066778299011603,0.007903482203411447,-0.0013759847984800737,0.07812537926503679,0.06328390357350386,-0.09096944435513696,0.028431311554576108,-0.04112294148748138,-0.06157878699743204,-0.00912886997508206,0.006089655638778212,-0.028747143130643842,-0.03912934422286112,-0.005867599094712584,1.0,-0.020771515512193202,-0.010493676836923906,-0.020991954223145044,-0.029864796680272726,0.026774926085343258,0.0033756076870941542,-0.02700307195795444,-0.022193719875857096],[-0.006066233448733405,0.03583839788306991,-0.033720393189682736,-0.05310655770785427,0.02770586658597443,-0.009580791646838288,-0.06486955340426959,0.032158390216528214,0.00547387038123387,-0.0032213828810853324,0.03732334198215729,0.002793883063380356,-0.03191064293283835,-0.016392976534985695,-0.020771515512193202,1.0,-0.0037394667874210857,-0.03629849043780746,-0.024452463846682267,-0.01964513196596557,-0.005432272976944757,-0.06087976611562243,0.006702968197170286],[0.07529313917821549,0.031783303394899494,-0.055197847948470394,-0.014952534547355147,0.013192766206369697,-0.008142466638530516,-0.07196138729148754,-0.021530901627455575,-0.006847811678761306,-0.02966286783929444,-0.018485611577159944,0.013992178537265783,-0.0107906286556582,0.0118013255518289,-0.010493676836923906,-0.0037394667874210857,1.0,0.006030508584664523,-0.011473380243609667,-0.06535890898156108,-0.006466143909156315,-0.04804479744903508,0.007987757741091948],[-0.05249787357884467,-0.20649598794195403,0.2217102024482355,-0.020163079698416804,-0.025101089472635903,0.03233244501802036,-0.03453280800743691,-0.018980355435069915,0.023836483654803647,-0.01987047416231671,0.023988209246166143,0.023487876202779614,0.01966738525869842,0.034484584513739494,-0.020991954223145044,-0.03629849043780746,0.006030508584664523,1.0,0.01809390969418425,-0.03679573634915809,-0.10398445998892307,-0.024166061888291155,-0.06776009940143023],[0.004447751048141819,-0.046089322132613735,0.04441693974389057,0.04354205473350651,0.03597172199844233,-0.05140874618640771,-0.0378540760704163,0.0007349125994270901,-0.05575164817944658,0.02029664800674919,-0.039881450982387254,-0.01771322454036369,-0.025002870611151307,-0.028212953394130567,-0.029864796680272726,-0.024452463846682267,-0.011473380243609667,0.01809390969418425,1.0,-0.026115671727959477,0.02203313718237004,-0.032246976277157655,-0.04122400138982918],[-0.05466123951290527,-0.0006731114581014553,0.017806651224815014,-0.015411013888612587,0.03151117124926897,-0.026481921629271005,0.034135885163495305,0.09006230494010693,-0.07803901726997921,-0.026964037098041637,0.055560864458555605,-0.026460389798956815,-0.03093269791545619,-0.020268169594611567,0.026774926085343258,-0.01964513196596557,-0.06535890898156108,-0.03679573634915809,-0.026115671727959477,1.0,0.06902189413466223,0.011282055184308613,0.11037289004819605],[0.12179896927169177,0.33889039852073216,-0.375033850557473,0.020714103875652083,0.05889945748434664,-0.06665357851184368,0.08766736874321532,0.03884450942283488,-0.0939233039037011,0.0060503963386584585,-0.006443188806710943,-0.015336849470404042,-0.05576868214056102,0.03143052394403675,0.0033756076870941542,-0.005432272976944757,-0.006466143909156315,-0.10398445998892307,0.02203313718237004,0.06902189413466223,1.0,-0.03713827191390431,-0.012384493208933589],[-0.0473854860337632,-0.028649258784815827,0.04333298789862,-0.0344906676317362,-0.056648502384410236,0.06915298630321141,0.02295756166231788,0.021144218563336325,0.012127019735357595,0.005013033983130428,-0.012453567950457595,-0.03324696540022837,-0.0237131047558712,-0.02841600597960231,-0.02700307195795444,-0.06087976611562243,-0.04804479744903508,-0.024166061888291155,-0.032246976277157655,0.011282055184308613,-0.03713827191390431,1.0,0.010950343993963338],[-0.013981197284661784,-0.04277130471181148,0.0468968426584784,0.028066655709227874,0.04726945822220357,-0.057456444475635304,-0.042402079090660766,-0.039350286559834906,-0.017310563771852503,-0.005091800120527754,0.0142323162536519,0.017587824030096098,0.06413060273367849,0.0041112592641037145,-0.022193719875857096,0.006702968197170286,0.007987757741091948,-0.06776009940143023,-0.04122400138982918,0.11037289004819605,-0.012384493208933589,0.010950343993963338,1.0]],\"type\":\"heatmap\",\"xaxis\":\"x\",\"yaxis\":\"y\",\"hovertemplate\":\"x: %{x}<br>y: %{y}<br>color: %{z}<extra></extra>\"}],                        {\"template\":{\"data\":{\"bar\":[{\"error_x\":{\"color\":\"#2a3f5f\"},\"error_y\":{\"color\":\"#2a3f5f\"},\"marker\":{\"line\":{\"color\":\"white\",\"width\":0.5},\"pattern\":{\"fillmode\":\"overlay\",\"size\":10,\"solidity\":0.2}},\"type\":\"bar\"}],\"barpolar\":[{\"marker\":{\"line\":{\"color\":\"white\",\"width\":0.5},\"pattern\":{\"fillmode\":\"overlay\",\"size\":10,\"solidity\":0.2}},\"type\":\"barpolar\"}],\"carpet\":[{\"aaxis\":{\"endlinecolor\":\"#2a3f5f\",\"gridcolor\":\"#C8D4E3\",\"linecolor\":\"#C8D4E3\",\"minorgridcolor\":\"#C8D4E3\",\"startlinecolor\":\"#2a3f5f\"},\"baxis\":{\"endlinecolor\":\"#2a3f5f\",\"gridcolor\":\"#C8D4E3\",\"linecolor\":\"#C8D4E3\",\"minorgridcolor\":\"#C8D4E3\",\"startlinecolor\":\"#2a3f5f\"},\"type\":\"carpet\"}],\"choropleth\":[{\"colorbar\":{\"outlinewidth\":0,\"ticks\":\"\"},\"type\":\"choropleth\"}],\"contour\":[{\"colorbar\":{\"outlinewidth\":0,\"ticks\":\"\"},\"colorscale\":[[0.0,\"#0d0887\"],[0.1111111111111111,\"#46039f\"],[0.2222222222222222,\"#7201a8\"],[0.3333333333333333,\"#9c179e\"],[0.4444444444444444,\"#bd3786\"],[0.5555555555555556,\"#d8576b\"],[0.6666666666666666,\"#ed7953\"],[0.7777777777777778,\"#fb9f3a\"],[0.8888888888888888,\"#fdca26\"],[1.0,\"#f0f921\"]],\"type\":\"contour\"}],\"contourcarpet\":[{\"colorbar\":{\"outlinewidth\":0,\"ticks\":\"\"},\"type\":\"contourcarpet\"}],\"heatmap\":[{\"colorbar\":{\"outlinewidth\":0,\"ticks\":\"\"},\"colorscale\":[[0.0,\"#0d0887\"],[0.1111111111111111,\"#46039f\"],[0.2222222222222222,\"#7201a8\"],[0.3333333333333333,\"#9c179e\"],[0.4444444444444444,\"#bd3786\"],[0.5555555555555556,\"#d8576b\"],[0.6666666666666666,\"#ed7953\"],[0.7777777777777778,\"#fb9f3a\"],[0.8888888888888888,\"#fdca26\"],[1.0,\"#f0f921\"]],\"type\":\"heatmap\"}],\"heatmapgl\":[{\"colorbar\":{\"outlinewidth\":0,\"ticks\":\"\"},\"colorscale\":[[0.0,\"#0d0887\"],[0.1111111111111111,\"#46039f\"],[0.2222222222222222,\"#7201a8\"],[0.3333333333333333,\"#9c179e\"],[0.4444444444444444,\"#bd3786\"],[0.5555555555555556,\"#d8576b\"],[0.6666666666666666,\"#ed7953\"],[0.7777777777777778,\"#fb9f3a\"],[0.8888888888888888,\"#fdca26\"],[1.0,\"#f0f921\"]],\"type\":\"heatmapgl\"}],\"histogram\":[{\"marker\":{\"pattern\":{\"fillmode\":\"overlay\",\"size\":10,\"solidity\":0.2}},\"type\":\"histogram\"}],\"histogram2d\":[{\"colorbar\":{\"outlinewidth\":0,\"ticks\":\"\"},\"colorscale\":[[0.0,\"#0d0887\"],[0.1111111111111111,\"#46039f\"],[0.2222222222222222,\"#7201a8\"],[0.3333333333333333,\"#9c179e\"],[0.4444444444444444,\"#bd3786\"],[0.5555555555555556,\"#d8576b\"],[0.6666666666666666,\"#ed7953\"],[0.7777777777777778,\"#fb9f3a\"],[0.8888888888888888,\"#fdca26\"],[1.0,\"#f0f921\"]],\"type\":\"histogram2d\"}],\"histogram2dcontour\":[{\"colorbar\":{\"outlinewidth\":0,\"ticks\":\"\"},\"colorscale\":[[0.0,\"#0d0887\"],[0.1111111111111111,\"#46039f\"],[0.2222222222222222,\"#7201a8\"],[0.3333333333333333,\"#9c179e\"],[0.4444444444444444,\"#bd3786\"],[0.5555555555555556,\"#d8576b\"],[0.6666666666666666,\"#ed7953\"],[0.7777777777777778,\"#fb9f3a\"],[0.8888888888888888,\"#fdca26\"],[1.0,\"#f0f921\"]],\"type\":\"histogram2dcontour\"}],\"mesh3d\":[{\"colorbar\":{\"outlinewidth\":0,\"ticks\":\"\"},\"type\":\"mesh3d\"}],\"parcoords\":[{\"line\":{\"colorbar\":{\"outlinewidth\":0,\"ticks\":\"\"}},\"type\":\"parcoords\"}],\"pie\":[{\"automargin\":true,\"type\":\"pie\"}],\"scatter\":[{\"marker\":{\"colorbar\":{\"outlinewidth\":0,\"ticks\":\"\"}},\"type\":\"scatter\"}],\"scatter3d\":[{\"line\":{\"colorbar\":{\"outlinewidth\":0,\"ticks\":\"\"}},\"marker\":{\"colorbar\":{\"outlinewidth\":0,\"ticks\":\"\"}},\"type\":\"scatter3d\"}],\"scattercarpet\":[{\"marker\":{\"colorbar\":{\"outlinewidth\":0,\"ticks\":\"\"}},\"type\":\"scattercarpet\"}],\"scattergeo\":[{\"marker\":{\"colorbar\":{\"outlinewidth\":0,\"ticks\":\"\"}},\"type\":\"scattergeo\"}],\"scattergl\":[{\"marker\":{\"colorbar\":{\"outlinewidth\":0,\"ticks\":\"\"}},\"type\":\"scattergl\"}],\"scattermapbox\":[{\"marker\":{\"colorbar\":{\"outlinewidth\":0,\"ticks\":\"\"}},\"type\":\"scattermapbox\"}],\"scatterpolar\":[{\"marker\":{\"colorbar\":{\"outlinewidth\":0,\"ticks\":\"\"}},\"type\":\"scatterpolar\"}],\"scatterpolargl\":[{\"marker\":{\"colorbar\":{\"outlinewidth\":0,\"ticks\":\"\"}},\"type\":\"scatterpolargl\"}],\"scatterternary\":[{\"marker\":{\"colorbar\":{\"outlinewidth\":0,\"ticks\":\"\"}},\"type\":\"scatterternary\"}],\"surface\":[{\"colorbar\":{\"outlinewidth\":0,\"ticks\":\"\"},\"colorscale\":[[0.0,\"#0d0887\"],[0.1111111111111111,\"#46039f\"],[0.2222222222222222,\"#7201a8\"],[0.3333333333333333,\"#9c179e\"],[0.4444444444444444,\"#bd3786\"],[0.5555555555555556,\"#d8576b\"],[0.6666666666666666,\"#ed7953\"],[0.7777777777777778,\"#fb9f3a\"],[0.8888888888888888,\"#fdca26\"],[1.0,\"#f0f921\"]],\"type\":\"surface\"}],\"table\":[{\"cells\":{\"fill\":{\"color\":\"#EBF0F8\"},\"line\":{\"color\":\"white\"}},\"header\":{\"fill\":{\"color\":\"#C8D4E3\"},\"line\":{\"color\":\"white\"}},\"type\":\"table\"}]},\"layout\":{\"annotationdefaults\":{\"arrowcolor\":\"#2a3f5f\",\"arrowhead\":0,\"arrowwidth\":1},\"autotypenumbers\":\"strict\",\"coloraxis\":{\"colorbar\":{\"outlinewidth\":0,\"ticks\":\"\"}},\"colorscale\":{\"diverging\":[[0,\"#8e0152\"],[0.1,\"#c51b7d\"],[0.2,\"#de77ae\"],[0.3,\"#f1b6da\"],[0.4,\"#fde0ef\"],[0.5,\"#f7f7f7\"],[0.6,\"#e6f5d0\"],[0.7,\"#b8e186\"],[0.8,\"#7fbc41\"],[0.9,\"#4d9221\"],[1,\"#276419\"]],\"sequential\":[[0.0,\"#0d0887\"],[0.1111111111111111,\"#46039f\"],[0.2222222222222222,\"#7201a8\"],[0.3333333333333333,\"#9c179e\"],[0.4444444444444444,\"#bd3786\"],[0.5555555555555556,\"#d8576b\"],[0.6666666666666666,\"#ed7953\"],[0.7777777777777778,\"#fb9f3a\"],[0.8888888888888888,\"#fdca26\"],[1.0,\"#f0f921\"]],\"sequentialminus\":[[0.0,\"#0d0887\"],[0.1111111111111111,\"#46039f\"],[0.2222222222222222,\"#7201a8\"],[0.3333333333333333,\"#9c179e\"],[0.4444444444444444,\"#bd3786\"],[0.5555555555555556,\"#d8576b\"],[0.6666666666666666,\"#ed7953\"],[0.7777777777777778,\"#fb9f3a\"],[0.8888888888888888,\"#fdca26\"],[1.0,\"#f0f921\"]]},\"colorway\":[\"#636efa\",\"#EF553B\",\"#00cc96\",\"#ab63fa\",\"#FFA15A\",\"#19d3f3\",\"#FF6692\",\"#B6E880\",\"#FF97FF\",\"#FECB52\"],\"font\":{\"color\":\"#2a3f5f\"},\"geo\":{\"bgcolor\":\"white\",\"lakecolor\":\"white\",\"landcolor\":\"white\",\"showlakes\":true,\"showland\":true,\"subunitcolor\":\"#C8D4E3\"},\"hoverlabel\":{\"align\":\"left\"},\"hovermode\":\"closest\",\"mapbox\":{\"style\":\"light\"},\"paper_bgcolor\":\"white\",\"plot_bgcolor\":\"white\",\"polar\":{\"angularaxis\":{\"gridcolor\":\"#EBF0F8\",\"linecolor\":\"#EBF0F8\",\"ticks\":\"\"},\"bgcolor\":\"white\",\"radialaxis\":{\"gridcolor\":\"#EBF0F8\",\"linecolor\":\"#EBF0F8\",\"ticks\":\"\"}},\"scene\":{\"xaxis\":{\"backgroundcolor\":\"white\",\"gridcolor\":\"#DFE8F3\",\"gridwidth\":2,\"linecolor\":\"#EBF0F8\",\"showbackground\":true,\"ticks\":\"\",\"zerolinecolor\":\"#EBF0F8\"},\"yaxis\":{\"backgroundcolor\":\"white\",\"gridcolor\":\"#DFE8F3\",\"gridwidth\":2,\"linecolor\":\"#EBF0F8\",\"showbackground\":true,\"ticks\":\"\",\"zerolinecolor\":\"#EBF0F8\"},\"zaxis\":{\"backgroundcolor\":\"white\",\"gridcolor\":\"#DFE8F3\",\"gridwidth\":2,\"linecolor\":\"#EBF0F8\",\"showbackground\":true,\"ticks\":\"\",\"zerolinecolor\":\"#EBF0F8\"}},\"shapedefaults\":{\"line\":{\"color\":\"#2a3f5f\"}},\"ternary\":{\"aaxis\":{\"gridcolor\":\"#DFE8F3\",\"linecolor\":\"#A2B1C6\",\"ticks\":\"\"},\"baxis\":{\"gridcolor\":\"#DFE8F3\",\"linecolor\":\"#A2B1C6\",\"ticks\":\"\"},\"bgcolor\":\"white\",\"caxis\":{\"gridcolor\":\"#DFE8F3\",\"linecolor\":\"#A2B1C6\",\"ticks\":\"\"}},\"title\":{\"x\":0.05},\"xaxis\":{\"automargin\":true,\"gridcolor\":\"#EBF0F8\",\"linecolor\":\"#EBF0F8\",\"ticks\":\"\",\"title\":{\"standoff\":15},\"zerolinecolor\":\"#EBF0F8\",\"zerolinewidth\":2},\"yaxis\":{\"automargin\":true,\"gridcolor\":\"#EBF0F8\",\"linecolor\":\"#EBF0F8\",\"ticks\":\"\",\"title\":{\"standoff\":15},\"zerolinecolor\":\"#EBF0F8\",\"zerolinewidth\":2}}},\"xaxis\":{\"anchor\":\"y\",\"domain\":[0.0,1.0],\"scaleanchor\":\"y\",\"constrain\":\"domain\"},\"yaxis\":{\"anchor\":\"x\",\"domain\":[0.0,1.0],\"autorange\":\"reversed\",\"constrain\":\"domain\"},\"coloraxis\":{\"colorscale\":[[0.0,\"#0d0887\"],[0.1111111111111111,\"#46039f\"],[0.2222222222222222,\"#7201a8\"],[0.3333333333333333,\"#9c179e\"],[0.4444444444444444,\"#bd3786\"],[0.5555555555555556,\"#d8576b\"],[0.6666666666666666,\"#ed7953\"],[0.7777777777777778,\"#fb9f3a\"],[0.8888888888888888,\"#fdca26\"],[1.0,\"#f0f921\"]]},\"margin\":{\"t\":60}},                        {\"responsive\": true}                    ).then(function(){\n",
       "                            \n",
       "var gd = document.getElementById('23f00bd0-b90c-4eb5-af2e-94a07ed7a982');\n",
       "var x = new MutationObserver(function (mutations, observer) {{\n",
       "        var display = window.getComputedStyle(gd).display;\n",
       "        if (!display || display === 'none') {{\n",
       "            console.log([gd, 'removed!']);\n",
       "            Plotly.purge(gd);\n",
       "            observer.disconnect();\n",
       "        }}\n",
       "}});\n",
       "\n",
       "// Listen for the removal of the full notebook cells\n",
       "var notebookContainer = gd.closest('#notebook-container');\n",
       "if (notebookContainer) {{\n",
       "    x.observe(notebookContainer, {childList: true});\n",
       "}}\n",
       "\n",
       "// Listen for the clearing of the current output cell\n",
       "var outputEl = gd.closest('.output');\n",
       "if (outputEl) {{\n",
       "    x.observe(outputEl, {childList: true});\n",
       "}}\n",
       "\n",
       "                        })                };                });            </script>        </div>"
      ]
     },
     "metadata": {},
     "output_type": "display_data"
    }
   ],
   "source": [
    "fig = px.imshow(corr)\n",
    "fig.show()"
   ]
  },
  {
   "cell_type": "code",
   "execution_count": 51,
   "metadata": {},
   "outputs": [],
   "source": [
    "def df_to_plotly(df):\n",
    "    return {'z': df.values.tolist(),\n",
    "            'x': df.columns.tolist(),\n",
    "            'y': df.index.tolist()}"
   ]
  },
  {
   "cell_type": "code",
   "execution_count": 57,
   "metadata": {},
   "outputs": [
    {
     "data": {
      "application/vnd.plotly.v1+json": {
       "config": {
        "plotlyServerURL": "https://plot.ly"
       },
       "data": [
        {
         "colorscale": [
          [
           0,
           "rgb(103,0,31)"
          ],
          [
           0.1,
           "rgb(178,24,43)"
          ],
          [
           0.2,
           "rgb(214,96,77)"
          ],
          [
           0.3,
           "rgb(244,165,130)"
          ],
          [
           0.4,
           "rgb(253,219,199)"
          ],
          [
           0.5,
           "rgb(247,247,247)"
          ],
          [
           0.6,
           "rgb(209,229,240)"
          ],
          [
           0.7,
           "rgb(146,197,222)"
          ],
          [
           0.8,
           "rgb(67,147,195)"
          ],
          [
           0.9,
           "rgb(33,102,172)"
          ],
          [
           1,
           "rgb(5,48,97)"
          ]
         ],
         "hovertemplate": "x-axis feature: %{x}<br>y-axis feature: %{y}<br>correlation: %{z}",
         "name": "",
         "type": "heatmap",
         "x": [
          "Rounded to Sub-Rounded",
          "Sub-Rounded to Sub-Angular",
          "Sub-Angular to Angular",
          "Low Relief",
          "Medium Relief",
          "High Relief",
          "Precipitation Features",
          "Dissolution Etching",
          "Fracture Faces",
          "Subparallel Linear Features",
          "Conchoidal Fractures",
          "Curved Grooves",
          "Straight Grooves",
          "Deep Troughs",
          "Crescentic Gouges",
          "Arc Shaped Steps",
          "Linear Steps",
          "Sharp Angular Features",
          "Upturned Plates",
          "V Shaped Cracks",
          "Edge Rounding",
          "Breakage Blocks",
          "Abrasion Features"
         ],
         "y": [
          "Rounded to Sub-Rounded",
          "Sub-Rounded to Sub-Angular",
          "Sub-Angular to Angular",
          "Low Relief",
          "Medium Relief",
          "High Relief",
          "Precipitation Features",
          "Dissolution Etching",
          "Fracture Faces",
          "Subparallel Linear Features",
          "Conchoidal Fractures",
          "Curved Grooves",
          "Straight Grooves",
          "Deep Troughs",
          "Crescentic Gouges",
          "Arc Shaped Steps",
          "Linear Steps",
          "Sharp Angular Features",
          "Upturned Plates",
          "V Shaped Cracks",
          "Edge Rounding",
          "Breakage Blocks",
          "Abrasion Features"
         ],
         "z": [
          [
           1,
           -0.13842235954388615,
           -0.17593607182043872,
           0.09337584014346777,
           0.025923192648499356,
           -0.05852492536118601,
           -0.020973380699048676,
           0.006700039641305657,
           -0.00999895215000965,
           0.01725202735092962,
           -0.04527247858415801,
           0.04279998805085944,
           -0.0020929153269802253,
           0.0074646760863771,
           -0.02066778299011603,
           -0.006066233448733405,
           0.07529313917821549,
           -0.05249787357884467,
           0.004447751048141819,
           -0.05466123951290527,
           0.12179896927169177,
           -0.0473854860337632,
           -0.013981197284661784
          ],
          [
           -0.13842235954388615,
           1,
           -0.9505715577491698,
           -0.055842908809224635,
           0.08887848280726848,
           -0.0704061625460084,
           0.025860761416194426,
           0.06880291058537161,
           -0.05598628322847331,
           0.0015893044873670004,
           -0.05212151259177404,
           -0.005458501145416512,
           -0.0302668694618393,
           0.028548928415739933,
           0.007903482203411447,
           0.03583839788306991,
           0.031783303394899494,
           -0.20649598794195403,
           -0.046089322132613735,
           -0.0006731114581014553,
           0.33889039852073216,
           -0.028649258784815827,
           -0.04277130471181148
          ],
          [
           -0.17593607182043872,
           -0.9505715577491698,
           1,
           0.026230644142670196,
           -0.09647010595353399,
           0.08833058748348999,
           -0.019129174123281033,
           -0.07048866862605566,
           0.05878360973094483,
           -0.006988642228178093,
           0.06600123201565855,
           -0.007993226257087163,
           0.030740546809790395,
           -0.030717139243673804,
           -0.0013759847984800737,
           -0.033720393189682736,
           -0.055197847948470394,
           0.2217102024482355,
           0.04441693974389057,
           0.017806651224815014,
           -0.375033850557473,
           0.04333298789862,
           0.0468968426584784
          ],
          [
           0.09337584014346777,
           -0.055842908809224635,
           0.026230644142670196,
           1,
           -0.19973296434094243,
           -0.14472495732847934,
           -0.06006910364695209,
           -0.11712269205776522,
           0.06898013183861672,
           0.00399488941539461,
           -0.054630791720622435,
           -0.013594781624098174,
           -0.0332118782609457,
           0.03265830405856263,
           0.07812537926503679,
           -0.05310655770785427,
           -0.014952534547355147,
           -0.020163079698416804,
           0.04354205473350651,
           -0.015411013888612587,
           0.020714103875652083,
           -0.0344906676317362,
           0.028066655709227874
          ],
          [
           0.025923192648499356,
           0.08887848280726848,
           -0.09647010595353399,
           -0.19973296434094243,
           1,
           -0.9406280829342372,
           -0.06602160580470762,
           -0.03715084042456947,
           -0.04000074763782178,
           -0.03951036589441886,
           0.017596300798682442,
           -0.007539645667683205,
           -0.055892608903761354,
           -0.026149779311339463,
           0.06328390357350386,
           0.02770586658597443,
           0.013192766206369697,
           -0.025101089472635903,
           0.03597172199844233,
           0.03151117124926897,
           0.05889945748434664,
           -0.056648502384410236,
           0.04726945822220357
          ],
          [
           -0.05852492536118601,
           -0.0704061625460084,
           0.08833058748348999,
           -0.14472495732847934,
           -0.9406280829342372,
           1,
           0.08747898898310136,
           0.07808918706768826,
           0.01649749064639025,
           0.0385144281744125,
           0.0011560680431986056,
           0.012323173694833465,
           0.06794667322424433,
           0.015093091814114069,
           -0.09096944435513696,
           -0.009580791646838288,
           -0.008142466638530516,
           0.03233244501802036,
           -0.05140874618640771,
           -0.026481921629271005,
           -0.06665357851184368,
           0.06915298630321141,
           -0.057456444475635304
          ],
          [
           -0.020973380699048676,
           0.025860761416194426,
           -0.019129174123281033,
           -0.06006910364695209,
           -0.06602160580470762,
           0.08747898898310136,
           1,
           -0.014803986365834071,
           -0.1269055383897101,
           -0.011603620822039258,
           -0.02817233250325641,
           -0.0559225193478426,
           -0.03850558662177222,
           -0.053386787233941704,
           0.028431311554576108,
           -0.06486955340426959,
           -0.07196138729148754,
           -0.03453280800743691,
           -0.0378540760704163,
           0.034135885163495305,
           0.08766736874321532,
           0.02295756166231788,
           -0.042402079090660766
          ],
          [
           0.006700039641305657,
           0.06880291058537161,
           -0.07048866862605566,
           -0.11712269205776522,
           -0.03715084042456947,
           0.07808918706768826,
           -0.014803986365834071,
           1,
           -0.1070312546573694,
           -0.07642662751657614,
           -0.03715075182958017,
           -0.01674175158090915,
           -0.015887487228666185,
           -0.03385971252874439,
           -0.04112294148748138,
           0.032158390216528214,
           -0.021530901627455575,
           -0.018980355435069915,
           0.0007349125994270901,
           0.09006230494010693,
           0.03884450942283488,
           0.021144218563336325,
           -0.039350286559834906
          ],
          [
           -0.00999895215000965,
           -0.05598628322847331,
           0.05878360973094483,
           0.06898013183861672,
           -0.04000074763782178,
           0.01649749064639025,
           -0.1269055383897101,
           -0.1070312546573694,
           1,
           0.019745252587651398,
           0.03413143301095145,
           0.09685978988090242,
           0.040815713484379866,
           0.0060744929512367846,
           -0.06157878699743204,
           0.00547387038123387,
           -0.006847811678761306,
           0.023836483654803647,
           -0.05575164817944658,
           -0.07803901726997921,
           -0.0939233039037011,
           0.012127019735357595,
           -0.017310563771852503
          ],
          [
           0.01725202735092962,
           0.0015893044873670004,
           -0.006988642228178093,
           0.00399488941539461,
           -0.03951036589441886,
           0.0385144281744125,
           -0.011603620822039258,
           -0.07642662751657614,
           0.019745252587651398,
           1,
           0.034125542773079276,
           0.037248084885334,
           0.011798708170820417,
           0.01725202735092967,
           -0.00912886997508206,
           -0.0032213828810853324,
           -0.02966286783929444,
           -0.01987047416231671,
           0.02029664800674919,
           -0.026964037098041637,
           0.0060503963386584585,
           0.005013033983130428,
           -0.005091800120527754
          ],
          [
           -0.04527247858415801,
           -0.05212151259177404,
           0.06600123201565855,
           -0.054630791720622435,
           0.017596300798682442,
           0.0011560680431986056,
           -0.02817233250325641,
           -0.03715075182958017,
           0.03413143301095145,
           0.034125542773079276,
           1,
           -0.013886742780971526,
           -0.004768395408990367,
           0.022938544389868712,
           0.006089655638778212,
           0.03732334198215729,
           -0.018485611577159944,
           0.023988209246166143,
           -0.039881450982387254,
           0.055560864458555605,
           -0.006443188806710943,
           -0.012453567950457595,
           0.0142323162536519
          ],
          [
           0.04279998805085944,
           -0.005458501145416512,
           -0.007993226257087163,
           -0.013594781624098174,
           -0.007539645667683205,
           0.012323173694833465,
           -0.0559225193478426,
           -0.01674175158090915,
           0.09685978988090242,
           0.037248084885334,
           -0.013886742780971526,
           1,
           -0.01822588230985201,
           -0.03380787517671176,
           -0.028747143130643842,
           0.002793883063380356,
           0.013992178537265783,
           0.023487876202779614,
           -0.01771322454036369,
           -0.026460389798956815,
           -0.015336849470404042,
           -0.03324696540022837,
           0.017587824030096098
          ],
          [
           -0.0020929153269802253,
           -0.0302668694618393,
           0.030740546809790395,
           -0.0332118782609457,
           -0.055892608903761354,
           0.06794667322424433,
           -0.03850558662177222,
           -0.015887487228666185,
           0.040815713484379866,
           0.011798708170820417,
           -0.004768395408990367,
           -0.01822588230985201,
           1,
           -0.002092915326980617,
           -0.03912934422286112,
           -0.03191064293283835,
           -0.0107906286556582,
           0.01966738525869842,
           -0.025002870611151307,
           -0.03093269791545619,
           -0.05576868214056102,
           -0.0237131047558712,
           0.06413060273367849
          ],
          [
           0.0074646760863771,
           0.028548928415739933,
           -0.030717139243673804,
           0.03265830405856263,
           -0.026149779311339463,
           0.015093091814114069,
           -0.053386787233941704,
           -0.03385971252874439,
           0.0060744929512367846,
           0.01725202735092967,
           0.022938544389868712,
           -0.03380787517671176,
           -0.002092915326980617,
           1,
           -0.005867599094712584,
           -0.016392976534985695,
           0.0118013255518289,
           0.034484584513739494,
           -0.028212953394130567,
           -0.020268169594611567,
           0.03143052394403675,
           -0.02841600597960231,
           0.0041112592641037145
          ],
          [
           -0.02066778299011603,
           0.007903482203411447,
           -0.0013759847984800737,
           0.07812537926503679,
           0.06328390357350386,
           -0.09096944435513696,
           0.028431311554576108,
           -0.04112294148748138,
           -0.06157878699743204,
           -0.00912886997508206,
           0.006089655638778212,
           -0.028747143130643842,
           -0.03912934422286112,
           -0.005867599094712584,
           1,
           -0.020771515512193202,
           -0.010493676836923906,
           -0.020991954223145044,
           -0.029864796680272726,
           0.026774926085343258,
           0.0033756076870941542,
           -0.02700307195795444,
           -0.022193719875857096
          ],
          [
           -0.006066233448733405,
           0.03583839788306991,
           -0.033720393189682736,
           -0.05310655770785427,
           0.02770586658597443,
           -0.009580791646838288,
           -0.06486955340426959,
           0.032158390216528214,
           0.00547387038123387,
           -0.0032213828810853324,
           0.03732334198215729,
           0.002793883063380356,
           -0.03191064293283835,
           -0.016392976534985695,
           -0.020771515512193202,
           1,
           -0.0037394667874210857,
           -0.03629849043780746,
           -0.024452463846682267,
           -0.01964513196596557,
           -0.005432272976944757,
           -0.06087976611562243,
           0.006702968197170286
          ],
          [
           0.07529313917821549,
           0.031783303394899494,
           -0.055197847948470394,
           -0.014952534547355147,
           0.013192766206369697,
           -0.008142466638530516,
           -0.07196138729148754,
           -0.021530901627455575,
           -0.006847811678761306,
           -0.02966286783929444,
           -0.018485611577159944,
           0.013992178537265783,
           -0.0107906286556582,
           0.0118013255518289,
           -0.010493676836923906,
           -0.0037394667874210857,
           1,
           0.006030508584664523,
           -0.011473380243609667,
           -0.06535890898156108,
           -0.006466143909156315,
           -0.04804479744903508,
           0.007987757741091948
          ],
          [
           -0.05249787357884467,
           -0.20649598794195403,
           0.2217102024482355,
           -0.020163079698416804,
           -0.025101089472635903,
           0.03233244501802036,
           -0.03453280800743691,
           -0.018980355435069915,
           0.023836483654803647,
           -0.01987047416231671,
           0.023988209246166143,
           0.023487876202779614,
           0.01966738525869842,
           0.034484584513739494,
           -0.020991954223145044,
           -0.03629849043780746,
           0.006030508584664523,
           1,
           0.01809390969418425,
           -0.03679573634915809,
           -0.10398445998892307,
           -0.024166061888291155,
           -0.06776009940143023
          ],
          [
           0.004447751048141819,
           -0.046089322132613735,
           0.04441693974389057,
           0.04354205473350651,
           0.03597172199844233,
           -0.05140874618640771,
           -0.0378540760704163,
           0.0007349125994270901,
           -0.05575164817944658,
           0.02029664800674919,
           -0.039881450982387254,
           -0.01771322454036369,
           -0.025002870611151307,
           -0.028212953394130567,
           -0.029864796680272726,
           -0.024452463846682267,
           -0.011473380243609667,
           0.01809390969418425,
           1,
           -0.026115671727959477,
           0.02203313718237004,
           -0.032246976277157655,
           -0.04122400138982918
          ],
          [
           -0.05466123951290527,
           -0.0006731114581014553,
           0.017806651224815014,
           -0.015411013888612587,
           0.03151117124926897,
           -0.026481921629271005,
           0.034135885163495305,
           0.09006230494010693,
           -0.07803901726997921,
           -0.026964037098041637,
           0.055560864458555605,
           -0.026460389798956815,
           -0.03093269791545619,
           -0.020268169594611567,
           0.026774926085343258,
           -0.01964513196596557,
           -0.06535890898156108,
           -0.03679573634915809,
           -0.026115671727959477,
           1,
           0.06902189413466223,
           0.011282055184308613,
           0.11037289004819605
          ],
          [
           0.12179896927169177,
           0.33889039852073216,
           -0.375033850557473,
           0.020714103875652083,
           0.05889945748434664,
           -0.06665357851184368,
           0.08766736874321532,
           0.03884450942283488,
           -0.0939233039037011,
           0.0060503963386584585,
           -0.006443188806710943,
           -0.015336849470404042,
           -0.05576868214056102,
           0.03143052394403675,
           0.0033756076870941542,
           -0.005432272976944757,
           -0.006466143909156315,
           -0.10398445998892307,
           0.02203313718237004,
           0.06902189413466223,
           1,
           -0.03713827191390431,
           -0.012384493208933589
          ],
          [
           -0.0473854860337632,
           -0.028649258784815827,
           0.04333298789862,
           -0.0344906676317362,
           -0.056648502384410236,
           0.06915298630321141,
           0.02295756166231788,
           0.021144218563336325,
           0.012127019735357595,
           0.005013033983130428,
           -0.012453567950457595,
           -0.03324696540022837,
           -0.0237131047558712,
           -0.02841600597960231,
           -0.02700307195795444,
           -0.06087976611562243,
           -0.04804479744903508,
           -0.024166061888291155,
           -0.032246976277157655,
           0.011282055184308613,
           -0.03713827191390431,
           1,
           0.010950343993963338
          ],
          [
           -0.013981197284661784,
           -0.04277130471181148,
           0.0468968426584784,
           0.028066655709227874,
           0.04726945822220357,
           -0.057456444475635304,
           -0.042402079090660766,
           -0.039350286559834906,
           -0.017310563771852503,
           -0.005091800120527754,
           0.0142323162536519,
           0.017587824030096098,
           0.06413060273367849,
           0.0041112592641037145,
           -0.022193719875857096,
           0.006702968197170286,
           0.007987757741091948,
           -0.06776009940143023,
           -0.04122400138982918,
           0.11037289004819605,
           -0.012384493208933589,
           0.010950343993963338,
           1
          ]
         ]
        }
       ],
       "layout": {
        "template": {
         "data": {
          "bar": [
           {
            "error_x": {
             "color": "#2a3f5f"
            },
            "error_y": {
             "color": "#2a3f5f"
            },
            "marker": {
             "line": {
              "color": "white",
              "width": 0.5
             },
             "pattern": {
              "fillmode": "overlay",
              "size": 10,
              "solidity": 0.2
             }
            },
            "type": "bar"
           }
          ],
          "barpolar": [
           {
            "marker": {
             "line": {
              "color": "white",
              "width": 0.5
             },
             "pattern": {
              "fillmode": "overlay",
              "size": 10,
              "solidity": 0.2
             }
            },
            "type": "barpolar"
           }
          ],
          "carpet": [
           {
            "aaxis": {
             "endlinecolor": "#2a3f5f",
             "gridcolor": "#C8D4E3",
             "linecolor": "#C8D4E3",
             "minorgridcolor": "#C8D4E3",
             "startlinecolor": "#2a3f5f"
            },
            "baxis": {
             "endlinecolor": "#2a3f5f",
             "gridcolor": "#C8D4E3",
             "linecolor": "#C8D4E3",
             "minorgridcolor": "#C8D4E3",
             "startlinecolor": "#2a3f5f"
            },
            "type": "carpet"
           }
          ],
          "choropleth": [
           {
            "colorbar": {
             "outlinewidth": 0,
             "ticks": ""
            },
            "type": "choropleth"
           }
          ],
          "contour": [
           {
            "colorbar": {
             "outlinewidth": 0,
             "ticks": ""
            },
            "colorscale": [
             [
              0,
              "#0d0887"
             ],
             [
              0.1111111111111111,
              "#46039f"
             ],
             [
              0.2222222222222222,
              "#7201a8"
             ],
             [
              0.3333333333333333,
              "#9c179e"
             ],
             [
              0.4444444444444444,
              "#bd3786"
             ],
             [
              0.5555555555555556,
              "#d8576b"
             ],
             [
              0.6666666666666666,
              "#ed7953"
             ],
             [
              0.7777777777777778,
              "#fb9f3a"
             ],
             [
              0.8888888888888888,
              "#fdca26"
             ],
             [
              1,
              "#f0f921"
             ]
            ],
            "type": "contour"
           }
          ],
          "contourcarpet": [
           {
            "colorbar": {
             "outlinewidth": 0,
             "ticks": ""
            },
            "type": "contourcarpet"
           }
          ],
          "heatmap": [
           {
            "colorbar": {
             "outlinewidth": 0,
             "ticks": ""
            },
            "colorscale": [
             [
              0,
              "#0d0887"
             ],
             [
              0.1111111111111111,
              "#46039f"
             ],
             [
              0.2222222222222222,
              "#7201a8"
             ],
             [
              0.3333333333333333,
              "#9c179e"
             ],
             [
              0.4444444444444444,
              "#bd3786"
             ],
             [
              0.5555555555555556,
              "#d8576b"
             ],
             [
              0.6666666666666666,
              "#ed7953"
             ],
             [
              0.7777777777777778,
              "#fb9f3a"
             ],
             [
              0.8888888888888888,
              "#fdca26"
             ],
             [
              1,
              "#f0f921"
             ]
            ],
            "type": "heatmap"
           }
          ],
          "heatmapgl": [
           {
            "colorbar": {
             "outlinewidth": 0,
             "ticks": ""
            },
            "colorscale": [
             [
              0,
              "#0d0887"
             ],
             [
              0.1111111111111111,
              "#46039f"
             ],
             [
              0.2222222222222222,
              "#7201a8"
             ],
             [
              0.3333333333333333,
              "#9c179e"
             ],
             [
              0.4444444444444444,
              "#bd3786"
             ],
             [
              0.5555555555555556,
              "#d8576b"
             ],
             [
              0.6666666666666666,
              "#ed7953"
             ],
             [
              0.7777777777777778,
              "#fb9f3a"
             ],
             [
              0.8888888888888888,
              "#fdca26"
             ],
             [
              1,
              "#f0f921"
             ]
            ],
            "type": "heatmapgl"
           }
          ],
          "histogram": [
           {
            "marker": {
             "pattern": {
              "fillmode": "overlay",
              "size": 10,
              "solidity": 0.2
             }
            },
            "type": "histogram"
           }
          ],
          "histogram2d": [
           {
            "colorbar": {
             "outlinewidth": 0,
             "ticks": ""
            },
            "colorscale": [
             [
              0,
              "#0d0887"
             ],
             [
              0.1111111111111111,
              "#46039f"
             ],
             [
              0.2222222222222222,
              "#7201a8"
             ],
             [
              0.3333333333333333,
              "#9c179e"
             ],
             [
              0.4444444444444444,
              "#bd3786"
             ],
             [
              0.5555555555555556,
              "#d8576b"
             ],
             [
              0.6666666666666666,
              "#ed7953"
             ],
             [
              0.7777777777777778,
              "#fb9f3a"
             ],
             [
              0.8888888888888888,
              "#fdca26"
             ],
             [
              1,
              "#f0f921"
             ]
            ],
            "type": "histogram2d"
           }
          ],
          "histogram2dcontour": [
           {
            "colorbar": {
             "outlinewidth": 0,
             "ticks": ""
            },
            "colorscale": [
             [
              0,
              "#0d0887"
             ],
             [
              0.1111111111111111,
              "#46039f"
             ],
             [
              0.2222222222222222,
              "#7201a8"
             ],
             [
              0.3333333333333333,
              "#9c179e"
             ],
             [
              0.4444444444444444,
              "#bd3786"
             ],
             [
              0.5555555555555556,
              "#d8576b"
             ],
             [
              0.6666666666666666,
              "#ed7953"
             ],
             [
              0.7777777777777778,
              "#fb9f3a"
             ],
             [
              0.8888888888888888,
              "#fdca26"
             ],
             [
              1,
              "#f0f921"
             ]
            ],
            "type": "histogram2dcontour"
           }
          ],
          "mesh3d": [
           {
            "colorbar": {
             "outlinewidth": 0,
             "ticks": ""
            },
            "type": "mesh3d"
           }
          ],
          "parcoords": [
           {
            "line": {
             "colorbar": {
              "outlinewidth": 0,
              "ticks": ""
             }
            },
            "type": "parcoords"
           }
          ],
          "pie": [
           {
            "automargin": true,
            "type": "pie"
           }
          ],
          "scatter": [
           {
            "marker": {
             "colorbar": {
              "outlinewidth": 0,
              "ticks": ""
             }
            },
            "type": "scatter"
           }
          ],
          "scatter3d": [
           {
            "line": {
             "colorbar": {
              "outlinewidth": 0,
              "ticks": ""
             }
            },
            "marker": {
             "colorbar": {
              "outlinewidth": 0,
              "ticks": ""
             }
            },
            "type": "scatter3d"
           }
          ],
          "scattercarpet": [
           {
            "marker": {
             "colorbar": {
              "outlinewidth": 0,
              "ticks": ""
             }
            },
            "type": "scattercarpet"
           }
          ],
          "scattergeo": [
           {
            "marker": {
             "colorbar": {
              "outlinewidth": 0,
              "ticks": ""
             }
            },
            "type": "scattergeo"
           }
          ],
          "scattergl": [
           {
            "marker": {
             "colorbar": {
              "outlinewidth": 0,
              "ticks": ""
             }
            },
            "type": "scattergl"
           }
          ],
          "scattermapbox": [
           {
            "marker": {
             "colorbar": {
              "outlinewidth": 0,
              "ticks": ""
             }
            },
            "type": "scattermapbox"
           }
          ],
          "scatterpolar": [
           {
            "marker": {
             "colorbar": {
              "outlinewidth": 0,
              "ticks": ""
             }
            },
            "type": "scatterpolar"
           }
          ],
          "scatterpolargl": [
           {
            "marker": {
             "colorbar": {
              "outlinewidth": 0,
              "ticks": ""
             }
            },
            "type": "scatterpolargl"
           }
          ],
          "scatterternary": [
           {
            "marker": {
             "colorbar": {
              "outlinewidth": 0,
              "ticks": ""
             }
            },
            "type": "scatterternary"
           }
          ],
          "surface": [
           {
            "colorbar": {
             "outlinewidth": 0,
             "ticks": ""
            },
            "colorscale": [
             [
              0,
              "#0d0887"
             ],
             [
              0.1111111111111111,
              "#46039f"
             ],
             [
              0.2222222222222222,
              "#7201a8"
             ],
             [
              0.3333333333333333,
              "#9c179e"
             ],
             [
              0.4444444444444444,
              "#bd3786"
             ],
             [
              0.5555555555555556,
              "#d8576b"
             ],
             [
              0.6666666666666666,
              "#ed7953"
             ],
             [
              0.7777777777777778,
              "#fb9f3a"
             ],
             [
              0.8888888888888888,
              "#fdca26"
             ],
             [
              1,
              "#f0f921"
             ]
            ],
            "type": "surface"
           }
          ],
          "table": [
           {
            "cells": {
             "fill": {
              "color": "#EBF0F8"
             },
             "line": {
              "color": "white"
             }
            },
            "header": {
             "fill": {
              "color": "#C8D4E3"
             },
             "line": {
              "color": "white"
             }
            },
            "type": "table"
           }
          ]
         },
         "layout": {
          "annotationdefaults": {
           "arrowcolor": "#2a3f5f",
           "arrowhead": 0,
           "arrowwidth": 1
          },
          "autotypenumbers": "strict",
          "coloraxis": {
           "colorbar": {
            "outlinewidth": 0,
            "ticks": ""
           }
          },
          "colorscale": {
           "diverging": [
            [
             0,
             "#8e0152"
            ],
            [
             0.1,
             "#c51b7d"
            ],
            [
             0.2,
             "#de77ae"
            ],
            [
             0.3,
             "#f1b6da"
            ],
            [
             0.4,
             "#fde0ef"
            ],
            [
             0.5,
             "#f7f7f7"
            ],
            [
             0.6,
             "#e6f5d0"
            ],
            [
             0.7,
             "#b8e186"
            ],
            [
             0.8,
             "#7fbc41"
            ],
            [
             0.9,
             "#4d9221"
            ],
            [
             1,
             "#276419"
            ]
           ],
           "sequential": [
            [
             0,
             "#0d0887"
            ],
            [
             0.1111111111111111,
             "#46039f"
            ],
            [
             0.2222222222222222,
             "#7201a8"
            ],
            [
             0.3333333333333333,
             "#9c179e"
            ],
            [
             0.4444444444444444,
             "#bd3786"
            ],
            [
             0.5555555555555556,
             "#d8576b"
            ],
            [
             0.6666666666666666,
             "#ed7953"
            ],
            [
             0.7777777777777778,
             "#fb9f3a"
            ],
            [
             0.8888888888888888,
             "#fdca26"
            ],
            [
             1,
             "#f0f921"
            ]
           ],
           "sequentialminus": [
            [
             0,
             "#0d0887"
            ],
            [
             0.1111111111111111,
             "#46039f"
            ],
            [
             0.2222222222222222,
             "#7201a8"
            ],
            [
             0.3333333333333333,
             "#9c179e"
            ],
            [
             0.4444444444444444,
             "#bd3786"
            ],
            [
             0.5555555555555556,
             "#d8576b"
            ],
            [
             0.6666666666666666,
             "#ed7953"
            ],
            [
             0.7777777777777778,
             "#fb9f3a"
            ],
            [
             0.8888888888888888,
             "#fdca26"
            ],
            [
             1,
             "#f0f921"
            ]
           ]
          },
          "colorway": [
           "#636efa",
           "#EF553B",
           "#00cc96",
           "#ab63fa",
           "#FFA15A",
           "#19d3f3",
           "#FF6692",
           "#B6E880",
           "#FF97FF",
           "#FECB52"
          ],
          "font": {
           "color": "#2a3f5f"
          },
          "geo": {
           "bgcolor": "white",
           "lakecolor": "white",
           "landcolor": "white",
           "showlakes": true,
           "showland": true,
           "subunitcolor": "#C8D4E3"
          },
          "hoverlabel": {
           "align": "left"
          },
          "hovermode": "closest",
          "mapbox": {
           "style": "light"
          },
          "paper_bgcolor": "white",
          "plot_bgcolor": "white",
          "polar": {
           "angularaxis": {
            "gridcolor": "#EBF0F8",
            "linecolor": "#EBF0F8",
            "ticks": ""
           },
           "bgcolor": "white",
           "radialaxis": {
            "gridcolor": "#EBF0F8",
            "linecolor": "#EBF0F8",
            "ticks": ""
           }
          },
          "scene": {
           "xaxis": {
            "backgroundcolor": "white",
            "gridcolor": "#DFE8F3",
            "gridwidth": 2,
            "linecolor": "#EBF0F8",
            "showbackground": true,
            "ticks": "",
            "zerolinecolor": "#EBF0F8"
           },
           "yaxis": {
            "backgroundcolor": "white",
            "gridcolor": "#DFE8F3",
            "gridwidth": 2,
            "linecolor": "#EBF0F8",
            "showbackground": true,
            "ticks": "",
            "zerolinecolor": "#EBF0F8"
           },
           "zaxis": {
            "backgroundcolor": "white",
            "gridcolor": "#DFE8F3",
            "gridwidth": 2,
            "linecolor": "#EBF0F8",
            "showbackground": true,
            "ticks": "",
            "zerolinecolor": "#EBF0F8"
           }
          },
          "shapedefaults": {
           "line": {
            "color": "#2a3f5f"
           }
          },
          "ternary": {
           "aaxis": {
            "gridcolor": "#DFE8F3",
            "linecolor": "#A2B1C6",
            "ticks": ""
           },
           "baxis": {
            "gridcolor": "#DFE8F3",
            "linecolor": "#A2B1C6",
            "ticks": ""
           },
           "bgcolor": "white",
           "caxis": {
            "gridcolor": "#DFE8F3",
            "linecolor": "#A2B1C6",
            "ticks": ""
           }
          },
          "title": {
           "x": 0.05
          },
          "xaxis": {
           "automargin": true,
           "gridcolor": "#EBF0F8",
           "linecolor": "#EBF0F8",
           "ticks": "",
           "title": {
            "standoff": 15
           },
           "zerolinecolor": "#EBF0F8",
           "zerolinewidth": 2
          },
          "yaxis": {
           "automargin": true,
           "gridcolor": "#EBF0F8",
           "linecolor": "#EBF0F8",
           "ticks": "",
           "title": {
            "standoff": 15
           },
           "zerolinecolor": "#EBF0F8",
           "zerolinewidth": 2
          }
         }
        },
        "title": {
         "text": "Correlation Matrix"
        }
       }
      },
      "text/html": [
       "<div>                            <div id=\"dec665b8-9820-45e3-837e-2fec273c7118\" class=\"plotly-graph-div\" style=\"height:525px; width:100%;\"></div>            <script type=\"text/javascript\">                require([\"plotly\"], function(Plotly) {                    window.PLOTLYENV=window.PLOTLYENV || {};                                    if (document.getElementById(\"dec665b8-9820-45e3-837e-2fec273c7118\")) {                    Plotly.newPlot(                        \"dec665b8-9820-45e3-837e-2fec273c7118\",                        [{\"colorscale\":[[0.0,\"rgb(103,0,31)\"],[0.1,\"rgb(178,24,43)\"],[0.2,\"rgb(214,96,77)\"],[0.3,\"rgb(244,165,130)\"],[0.4,\"rgb(253,219,199)\"],[0.5,\"rgb(247,247,247)\"],[0.6,\"rgb(209,229,240)\"],[0.7,\"rgb(146,197,222)\"],[0.8,\"rgb(67,147,195)\"],[0.9,\"rgb(33,102,172)\"],[1.0,\"rgb(5,48,97)\"]],\"hovertemplate\":\"x-axis feature: %{x}<br>y-axis feature: %{y}<br>correlation: %{z}\",\"name\":\"\",\"x\":[\"Rounded to Sub-Rounded\",\"Sub-Rounded to Sub-Angular\",\"Sub-Angular to Angular\",\"Low Relief\",\"Medium Relief\",\"High Relief\",\"Precipitation Features\",\"Dissolution Etching\",\"Fracture Faces\",\"Subparallel Linear Features\",\"Conchoidal Fractures\",\"Curved Grooves\",\"Straight Grooves\",\"Deep Troughs\",\"Crescentic Gouges\",\"Arc Shaped Steps\",\"Linear Steps\",\"Sharp Angular Features\",\"Upturned Plates\",\"V Shaped Cracks\",\"Edge Rounding\",\"Breakage Blocks\",\"Abrasion Features\"],\"y\":[\"Rounded to Sub-Rounded\",\"Sub-Rounded to Sub-Angular\",\"Sub-Angular to Angular\",\"Low Relief\",\"Medium Relief\",\"High Relief\",\"Precipitation Features\",\"Dissolution Etching\",\"Fracture Faces\",\"Subparallel Linear Features\",\"Conchoidal Fractures\",\"Curved Grooves\",\"Straight Grooves\",\"Deep Troughs\",\"Crescentic Gouges\",\"Arc Shaped Steps\",\"Linear Steps\",\"Sharp Angular Features\",\"Upturned Plates\",\"V Shaped Cracks\",\"Edge Rounding\",\"Breakage Blocks\",\"Abrasion Features\"],\"z\":[[1.0,-0.13842235954388615,-0.17593607182043872,0.09337584014346777,0.025923192648499356,-0.05852492536118601,-0.020973380699048676,0.006700039641305657,-0.00999895215000965,0.01725202735092962,-0.04527247858415801,0.04279998805085944,-0.0020929153269802253,0.0074646760863771,-0.02066778299011603,-0.006066233448733405,0.07529313917821549,-0.05249787357884467,0.004447751048141819,-0.05466123951290527,0.12179896927169177,-0.0473854860337632,-0.013981197284661784],[-0.13842235954388615,1.0,-0.9505715577491698,-0.055842908809224635,0.08887848280726848,-0.0704061625460084,0.025860761416194426,0.06880291058537161,-0.05598628322847331,0.0015893044873670004,-0.05212151259177404,-0.005458501145416512,-0.0302668694618393,0.028548928415739933,0.007903482203411447,0.03583839788306991,0.031783303394899494,-0.20649598794195403,-0.046089322132613735,-0.0006731114581014553,0.33889039852073216,-0.028649258784815827,-0.04277130471181148],[-0.17593607182043872,-0.9505715577491698,1.0,0.026230644142670196,-0.09647010595353399,0.08833058748348999,-0.019129174123281033,-0.07048866862605566,0.05878360973094483,-0.006988642228178093,0.06600123201565855,-0.007993226257087163,0.030740546809790395,-0.030717139243673804,-0.0013759847984800737,-0.033720393189682736,-0.055197847948470394,0.2217102024482355,0.04441693974389057,0.017806651224815014,-0.375033850557473,0.04333298789862,0.0468968426584784],[0.09337584014346777,-0.055842908809224635,0.026230644142670196,1.0,-0.19973296434094243,-0.14472495732847934,-0.06006910364695209,-0.11712269205776522,0.06898013183861672,0.00399488941539461,-0.054630791720622435,-0.013594781624098174,-0.0332118782609457,0.03265830405856263,0.07812537926503679,-0.05310655770785427,-0.014952534547355147,-0.020163079698416804,0.04354205473350651,-0.015411013888612587,0.020714103875652083,-0.0344906676317362,0.028066655709227874],[0.025923192648499356,0.08887848280726848,-0.09647010595353399,-0.19973296434094243,1.0,-0.9406280829342372,-0.06602160580470762,-0.03715084042456947,-0.04000074763782178,-0.03951036589441886,0.017596300798682442,-0.007539645667683205,-0.055892608903761354,-0.026149779311339463,0.06328390357350386,0.02770586658597443,0.013192766206369697,-0.025101089472635903,0.03597172199844233,0.03151117124926897,0.05889945748434664,-0.056648502384410236,0.04726945822220357],[-0.05852492536118601,-0.0704061625460084,0.08833058748348999,-0.14472495732847934,-0.9406280829342372,1.0,0.08747898898310136,0.07808918706768826,0.01649749064639025,0.0385144281744125,0.0011560680431986056,0.012323173694833465,0.06794667322424433,0.015093091814114069,-0.09096944435513696,-0.009580791646838288,-0.008142466638530516,0.03233244501802036,-0.05140874618640771,-0.026481921629271005,-0.06665357851184368,0.06915298630321141,-0.057456444475635304],[-0.020973380699048676,0.025860761416194426,-0.019129174123281033,-0.06006910364695209,-0.06602160580470762,0.08747898898310136,1.0,-0.014803986365834071,-0.1269055383897101,-0.011603620822039258,-0.02817233250325641,-0.0559225193478426,-0.03850558662177222,-0.053386787233941704,0.028431311554576108,-0.06486955340426959,-0.07196138729148754,-0.03453280800743691,-0.0378540760704163,0.034135885163495305,0.08766736874321532,0.02295756166231788,-0.042402079090660766],[0.006700039641305657,0.06880291058537161,-0.07048866862605566,-0.11712269205776522,-0.03715084042456947,0.07808918706768826,-0.014803986365834071,1.0,-0.1070312546573694,-0.07642662751657614,-0.03715075182958017,-0.01674175158090915,-0.015887487228666185,-0.03385971252874439,-0.04112294148748138,0.032158390216528214,-0.021530901627455575,-0.018980355435069915,0.0007349125994270901,0.09006230494010693,0.03884450942283488,0.021144218563336325,-0.039350286559834906],[-0.00999895215000965,-0.05598628322847331,0.05878360973094483,0.06898013183861672,-0.04000074763782178,0.01649749064639025,-0.1269055383897101,-0.1070312546573694,1.0,0.019745252587651398,0.03413143301095145,0.09685978988090242,0.040815713484379866,0.0060744929512367846,-0.06157878699743204,0.00547387038123387,-0.006847811678761306,0.023836483654803647,-0.05575164817944658,-0.07803901726997921,-0.0939233039037011,0.012127019735357595,-0.017310563771852503],[0.01725202735092962,0.0015893044873670004,-0.006988642228178093,0.00399488941539461,-0.03951036589441886,0.0385144281744125,-0.011603620822039258,-0.07642662751657614,0.019745252587651398,1.0,0.034125542773079276,0.037248084885334,0.011798708170820417,0.01725202735092967,-0.00912886997508206,-0.0032213828810853324,-0.02966286783929444,-0.01987047416231671,0.02029664800674919,-0.026964037098041637,0.0060503963386584585,0.005013033983130428,-0.005091800120527754],[-0.04527247858415801,-0.05212151259177404,0.06600123201565855,-0.054630791720622435,0.017596300798682442,0.0011560680431986056,-0.02817233250325641,-0.03715075182958017,0.03413143301095145,0.034125542773079276,1.0,-0.013886742780971526,-0.004768395408990367,0.022938544389868712,0.006089655638778212,0.03732334198215729,-0.018485611577159944,0.023988209246166143,-0.039881450982387254,0.055560864458555605,-0.006443188806710943,-0.012453567950457595,0.0142323162536519],[0.04279998805085944,-0.005458501145416512,-0.007993226257087163,-0.013594781624098174,-0.007539645667683205,0.012323173694833465,-0.0559225193478426,-0.01674175158090915,0.09685978988090242,0.037248084885334,-0.013886742780971526,1.0,-0.01822588230985201,-0.03380787517671176,-0.028747143130643842,0.002793883063380356,0.013992178537265783,0.023487876202779614,-0.01771322454036369,-0.026460389798956815,-0.015336849470404042,-0.03324696540022837,0.017587824030096098],[-0.0020929153269802253,-0.0302668694618393,0.030740546809790395,-0.0332118782609457,-0.055892608903761354,0.06794667322424433,-0.03850558662177222,-0.015887487228666185,0.040815713484379866,0.011798708170820417,-0.004768395408990367,-0.01822588230985201,1.0,-0.002092915326980617,-0.03912934422286112,-0.03191064293283835,-0.0107906286556582,0.01966738525869842,-0.025002870611151307,-0.03093269791545619,-0.05576868214056102,-0.0237131047558712,0.06413060273367849],[0.0074646760863771,0.028548928415739933,-0.030717139243673804,0.03265830405856263,-0.026149779311339463,0.015093091814114069,-0.053386787233941704,-0.03385971252874439,0.0060744929512367846,0.01725202735092967,0.022938544389868712,-0.03380787517671176,-0.002092915326980617,1.0,-0.005867599094712584,-0.016392976534985695,0.0118013255518289,0.034484584513739494,-0.028212953394130567,-0.020268169594611567,0.03143052394403675,-0.02841600597960231,0.0041112592641037145],[-0.02066778299011603,0.007903482203411447,-0.0013759847984800737,0.07812537926503679,0.06328390357350386,-0.09096944435513696,0.028431311554576108,-0.04112294148748138,-0.06157878699743204,-0.00912886997508206,0.006089655638778212,-0.028747143130643842,-0.03912934422286112,-0.005867599094712584,1.0,-0.020771515512193202,-0.010493676836923906,-0.020991954223145044,-0.029864796680272726,0.026774926085343258,0.0033756076870941542,-0.02700307195795444,-0.022193719875857096],[-0.006066233448733405,0.03583839788306991,-0.033720393189682736,-0.05310655770785427,0.02770586658597443,-0.009580791646838288,-0.06486955340426959,0.032158390216528214,0.00547387038123387,-0.0032213828810853324,0.03732334198215729,0.002793883063380356,-0.03191064293283835,-0.016392976534985695,-0.020771515512193202,1.0,-0.0037394667874210857,-0.03629849043780746,-0.024452463846682267,-0.01964513196596557,-0.005432272976944757,-0.06087976611562243,0.006702968197170286],[0.07529313917821549,0.031783303394899494,-0.055197847948470394,-0.014952534547355147,0.013192766206369697,-0.008142466638530516,-0.07196138729148754,-0.021530901627455575,-0.006847811678761306,-0.02966286783929444,-0.018485611577159944,0.013992178537265783,-0.0107906286556582,0.0118013255518289,-0.010493676836923906,-0.0037394667874210857,1.0,0.006030508584664523,-0.011473380243609667,-0.06535890898156108,-0.006466143909156315,-0.04804479744903508,0.007987757741091948],[-0.05249787357884467,-0.20649598794195403,0.2217102024482355,-0.020163079698416804,-0.025101089472635903,0.03233244501802036,-0.03453280800743691,-0.018980355435069915,0.023836483654803647,-0.01987047416231671,0.023988209246166143,0.023487876202779614,0.01966738525869842,0.034484584513739494,-0.020991954223145044,-0.03629849043780746,0.006030508584664523,1.0,0.01809390969418425,-0.03679573634915809,-0.10398445998892307,-0.024166061888291155,-0.06776009940143023],[0.004447751048141819,-0.046089322132613735,0.04441693974389057,0.04354205473350651,0.03597172199844233,-0.05140874618640771,-0.0378540760704163,0.0007349125994270901,-0.05575164817944658,0.02029664800674919,-0.039881450982387254,-0.01771322454036369,-0.025002870611151307,-0.028212953394130567,-0.029864796680272726,-0.024452463846682267,-0.011473380243609667,0.01809390969418425,1.0,-0.026115671727959477,0.02203313718237004,-0.032246976277157655,-0.04122400138982918],[-0.05466123951290527,-0.0006731114581014553,0.017806651224815014,-0.015411013888612587,0.03151117124926897,-0.026481921629271005,0.034135885163495305,0.09006230494010693,-0.07803901726997921,-0.026964037098041637,0.055560864458555605,-0.026460389798956815,-0.03093269791545619,-0.020268169594611567,0.026774926085343258,-0.01964513196596557,-0.06535890898156108,-0.03679573634915809,-0.026115671727959477,1.0,0.06902189413466223,0.011282055184308613,0.11037289004819605],[0.12179896927169177,0.33889039852073216,-0.375033850557473,0.020714103875652083,0.05889945748434664,-0.06665357851184368,0.08766736874321532,0.03884450942283488,-0.0939233039037011,0.0060503963386584585,-0.006443188806710943,-0.015336849470404042,-0.05576868214056102,0.03143052394403675,0.0033756076870941542,-0.005432272976944757,-0.006466143909156315,-0.10398445998892307,0.02203313718237004,0.06902189413466223,1.0,-0.03713827191390431,-0.012384493208933589],[-0.0473854860337632,-0.028649258784815827,0.04333298789862,-0.0344906676317362,-0.056648502384410236,0.06915298630321141,0.02295756166231788,0.021144218563336325,0.012127019735357595,0.005013033983130428,-0.012453567950457595,-0.03324696540022837,-0.0237131047558712,-0.02841600597960231,-0.02700307195795444,-0.06087976611562243,-0.04804479744903508,-0.024166061888291155,-0.032246976277157655,0.011282055184308613,-0.03713827191390431,1.0,0.010950343993963338],[-0.013981197284661784,-0.04277130471181148,0.0468968426584784,0.028066655709227874,0.04726945822220357,-0.057456444475635304,-0.042402079090660766,-0.039350286559834906,-0.017310563771852503,-0.005091800120527754,0.0142323162536519,0.017587824030096098,0.06413060273367849,0.0041112592641037145,-0.022193719875857096,0.006702968197170286,0.007987757741091948,-0.06776009940143023,-0.04122400138982918,0.11037289004819605,-0.012384493208933589,0.010950343993963338,1.0]],\"type\":\"heatmap\"}],                        {\"template\":{\"data\":{\"bar\":[{\"error_x\":{\"color\":\"#2a3f5f\"},\"error_y\":{\"color\":\"#2a3f5f\"},\"marker\":{\"line\":{\"color\":\"white\",\"width\":0.5},\"pattern\":{\"fillmode\":\"overlay\",\"size\":10,\"solidity\":0.2}},\"type\":\"bar\"}],\"barpolar\":[{\"marker\":{\"line\":{\"color\":\"white\",\"width\":0.5},\"pattern\":{\"fillmode\":\"overlay\",\"size\":10,\"solidity\":0.2}},\"type\":\"barpolar\"}],\"carpet\":[{\"aaxis\":{\"endlinecolor\":\"#2a3f5f\",\"gridcolor\":\"#C8D4E3\",\"linecolor\":\"#C8D4E3\",\"minorgridcolor\":\"#C8D4E3\",\"startlinecolor\":\"#2a3f5f\"},\"baxis\":{\"endlinecolor\":\"#2a3f5f\",\"gridcolor\":\"#C8D4E3\",\"linecolor\":\"#C8D4E3\",\"minorgridcolor\":\"#C8D4E3\",\"startlinecolor\":\"#2a3f5f\"},\"type\":\"carpet\"}],\"choropleth\":[{\"colorbar\":{\"outlinewidth\":0,\"ticks\":\"\"},\"type\":\"choropleth\"}],\"contour\":[{\"colorbar\":{\"outlinewidth\":0,\"ticks\":\"\"},\"colorscale\":[[0.0,\"#0d0887\"],[0.1111111111111111,\"#46039f\"],[0.2222222222222222,\"#7201a8\"],[0.3333333333333333,\"#9c179e\"],[0.4444444444444444,\"#bd3786\"],[0.5555555555555556,\"#d8576b\"],[0.6666666666666666,\"#ed7953\"],[0.7777777777777778,\"#fb9f3a\"],[0.8888888888888888,\"#fdca26\"],[1.0,\"#f0f921\"]],\"type\":\"contour\"}],\"contourcarpet\":[{\"colorbar\":{\"outlinewidth\":0,\"ticks\":\"\"},\"type\":\"contourcarpet\"}],\"heatmap\":[{\"colorbar\":{\"outlinewidth\":0,\"ticks\":\"\"},\"colorscale\":[[0.0,\"#0d0887\"],[0.1111111111111111,\"#46039f\"],[0.2222222222222222,\"#7201a8\"],[0.3333333333333333,\"#9c179e\"],[0.4444444444444444,\"#bd3786\"],[0.5555555555555556,\"#d8576b\"],[0.6666666666666666,\"#ed7953\"],[0.7777777777777778,\"#fb9f3a\"],[0.8888888888888888,\"#fdca26\"],[1.0,\"#f0f921\"]],\"type\":\"heatmap\"}],\"heatmapgl\":[{\"colorbar\":{\"outlinewidth\":0,\"ticks\":\"\"},\"colorscale\":[[0.0,\"#0d0887\"],[0.1111111111111111,\"#46039f\"],[0.2222222222222222,\"#7201a8\"],[0.3333333333333333,\"#9c179e\"],[0.4444444444444444,\"#bd3786\"],[0.5555555555555556,\"#d8576b\"],[0.6666666666666666,\"#ed7953\"],[0.7777777777777778,\"#fb9f3a\"],[0.8888888888888888,\"#fdca26\"],[1.0,\"#f0f921\"]],\"type\":\"heatmapgl\"}],\"histogram\":[{\"marker\":{\"pattern\":{\"fillmode\":\"overlay\",\"size\":10,\"solidity\":0.2}},\"type\":\"histogram\"}],\"histogram2d\":[{\"colorbar\":{\"outlinewidth\":0,\"ticks\":\"\"},\"colorscale\":[[0.0,\"#0d0887\"],[0.1111111111111111,\"#46039f\"],[0.2222222222222222,\"#7201a8\"],[0.3333333333333333,\"#9c179e\"],[0.4444444444444444,\"#bd3786\"],[0.5555555555555556,\"#d8576b\"],[0.6666666666666666,\"#ed7953\"],[0.7777777777777778,\"#fb9f3a\"],[0.8888888888888888,\"#fdca26\"],[1.0,\"#f0f921\"]],\"type\":\"histogram2d\"}],\"histogram2dcontour\":[{\"colorbar\":{\"outlinewidth\":0,\"ticks\":\"\"},\"colorscale\":[[0.0,\"#0d0887\"],[0.1111111111111111,\"#46039f\"],[0.2222222222222222,\"#7201a8\"],[0.3333333333333333,\"#9c179e\"],[0.4444444444444444,\"#bd3786\"],[0.5555555555555556,\"#d8576b\"],[0.6666666666666666,\"#ed7953\"],[0.7777777777777778,\"#fb9f3a\"],[0.8888888888888888,\"#fdca26\"],[1.0,\"#f0f921\"]],\"type\":\"histogram2dcontour\"}],\"mesh3d\":[{\"colorbar\":{\"outlinewidth\":0,\"ticks\":\"\"},\"type\":\"mesh3d\"}],\"parcoords\":[{\"line\":{\"colorbar\":{\"outlinewidth\":0,\"ticks\":\"\"}},\"type\":\"parcoords\"}],\"pie\":[{\"automargin\":true,\"type\":\"pie\"}],\"scatter\":[{\"marker\":{\"colorbar\":{\"outlinewidth\":0,\"ticks\":\"\"}},\"type\":\"scatter\"}],\"scatter3d\":[{\"line\":{\"colorbar\":{\"outlinewidth\":0,\"ticks\":\"\"}},\"marker\":{\"colorbar\":{\"outlinewidth\":0,\"ticks\":\"\"}},\"type\":\"scatter3d\"}],\"scattercarpet\":[{\"marker\":{\"colorbar\":{\"outlinewidth\":0,\"ticks\":\"\"}},\"type\":\"scattercarpet\"}],\"scattergeo\":[{\"marker\":{\"colorbar\":{\"outlinewidth\":0,\"ticks\":\"\"}},\"type\":\"scattergeo\"}],\"scattergl\":[{\"marker\":{\"colorbar\":{\"outlinewidth\":0,\"ticks\":\"\"}},\"type\":\"scattergl\"}],\"scattermapbox\":[{\"marker\":{\"colorbar\":{\"outlinewidth\":0,\"ticks\":\"\"}},\"type\":\"scattermapbox\"}],\"scatterpolar\":[{\"marker\":{\"colorbar\":{\"outlinewidth\":0,\"ticks\":\"\"}},\"type\":\"scatterpolar\"}],\"scatterpolargl\":[{\"marker\":{\"colorbar\":{\"outlinewidth\":0,\"ticks\":\"\"}},\"type\":\"scatterpolargl\"}],\"scatterternary\":[{\"marker\":{\"colorbar\":{\"outlinewidth\":0,\"ticks\":\"\"}},\"type\":\"scatterternary\"}],\"surface\":[{\"colorbar\":{\"outlinewidth\":0,\"ticks\":\"\"},\"colorscale\":[[0.0,\"#0d0887\"],[0.1111111111111111,\"#46039f\"],[0.2222222222222222,\"#7201a8\"],[0.3333333333333333,\"#9c179e\"],[0.4444444444444444,\"#bd3786\"],[0.5555555555555556,\"#d8576b\"],[0.6666666666666666,\"#ed7953\"],[0.7777777777777778,\"#fb9f3a\"],[0.8888888888888888,\"#fdca26\"],[1.0,\"#f0f921\"]],\"type\":\"surface\"}],\"table\":[{\"cells\":{\"fill\":{\"color\":\"#EBF0F8\"},\"line\":{\"color\":\"white\"}},\"header\":{\"fill\":{\"color\":\"#C8D4E3\"},\"line\":{\"color\":\"white\"}},\"type\":\"table\"}]},\"layout\":{\"annotationdefaults\":{\"arrowcolor\":\"#2a3f5f\",\"arrowhead\":0,\"arrowwidth\":1},\"autotypenumbers\":\"strict\",\"coloraxis\":{\"colorbar\":{\"outlinewidth\":0,\"ticks\":\"\"}},\"colorscale\":{\"diverging\":[[0,\"#8e0152\"],[0.1,\"#c51b7d\"],[0.2,\"#de77ae\"],[0.3,\"#f1b6da\"],[0.4,\"#fde0ef\"],[0.5,\"#f7f7f7\"],[0.6,\"#e6f5d0\"],[0.7,\"#b8e186\"],[0.8,\"#7fbc41\"],[0.9,\"#4d9221\"],[1,\"#276419\"]],\"sequential\":[[0.0,\"#0d0887\"],[0.1111111111111111,\"#46039f\"],[0.2222222222222222,\"#7201a8\"],[0.3333333333333333,\"#9c179e\"],[0.4444444444444444,\"#bd3786\"],[0.5555555555555556,\"#d8576b\"],[0.6666666666666666,\"#ed7953\"],[0.7777777777777778,\"#fb9f3a\"],[0.8888888888888888,\"#fdca26\"],[1.0,\"#f0f921\"]],\"sequentialminus\":[[0.0,\"#0d0887\"],[0.1111111111111111,\"#46039f\"],[0.2222222222222222,\"#7201a8\"],[0.3333333333333333,\"#9c179e\"],[0.4444444444444444,\"#bd3786\"],[0.5555555555555556,\"#d8576b\"],[0.6666666666666666,\"#ed7953\"],[0.7777777777777778,\"#fb9f3a\"],[0.8888888888888888,\"#fdca26\"],[1.0,\"#f0f921\"]]},\"colorway\":[\"#636efa\",\"#EF553B\",\"#00cc96\",\"#ab63fa\",\"#FFA15A\",\"#19d3f3\",\"#FF6692\",\"#B6E880\",\"#FF97FF\",\"#FECB52\"],\"font\":{\"color\":\"#2a3f5f\"},\"geo\":{\"bgcolor\":\"white\",\"lakecolor\":\"white\",\"landcolor\":\"white\",\"showlakes\":true,\"showland\":true,\"subunitcolor\":\"#C8D4E3\"},\"hoverlabel\":{\"align\":\"left\"},\"hovermode\":\"closest\",\"mapbox\":{\"style\":\"light\"},\"paper_bgcolor\":\"white\",\"plot_bgcolor\":\"white\",\"polar\":{\"angularaxis\":{\"gridcolor\":\"#EBF0F8\",\"linecolor\":\"#EBF0F8\",\"ticks\":\"\"},\"bgcolor\":\"white\",\"radialaxis\":{\"gridcolor\":\"#EBF0F8\",\"linecolor\":\"#EBF0F8\",\"ticks\":\"\"}},\"scene\":{\"xaxis\":{\"backgroundcolor\":\"white\",\"gridcolor\":\"#DFE8F3\",\"gridwidth\":2,\"linecolor\":\"#EBF0F8\",\"showbackground\":true,\"ticks\":\"\",\"zerolinecolor\":\"#EBF0F8\"},\"yaxis\":{\"backgroundcolor\":\"white\",\"gridcolor\":\"#DFE8F3\",\"gridwidth\":2,\"linecolor\":\"#EBF0F8\",\"showbackground\":true,\"ticks\":\"\",\"zerolinecolor\":\"#EBF0F8\"},\"zaxis\":{\"backgroundcolor\":\"white\",\"gridcolor\":\"#DFE8F3\",\"gridwidth\":2,\"linecolor\":\"#EBF0F8\",\"showbackground\":true,\"ticks\":\"\",\"zerolinecolor\":\"#EBF0F8\"}},\"shapedefaults\":{\"line\":{\"color\":\"#2a3f5f\"}},\"ternary\":{\"aaxis\":{\"gridcolor\":\"#DFE8F3\",\"linecolor\":\"#A2B1C6\",\"ticks\":\"\"},\"baxis\":{\"gridcolor\":\"#DFE8F3\",\"linecolor\":\"#A2B1C6\",\"ticks\":\"\"},\"bgcolor\":\"white\",\"caxis\":{\"gridcolor\":\"#DFE8F3\",\"linecolor\":\"#A2B1C6\",\"ticks\":\"\"}},\"title\":{\"x\":0.05},\"xaxis\":{\"automargin\":true,\"gridcolor\":\"#EBF0F8\",\"linecolor\":\"#EBF0F8\",\"ticks\":\"\",\"title\":{\"standoff\":15},\"zerolinecolor\":\"#EBF0F8\",\"zerolinewidth\":2},\"yaxis\":{\"automargin\":true,\"gridcolor\":\"#EBF0F8\",\"linecolor\":\"#EBF0F8\",\"ticks\":\"\",\"title\":{\"standoff\":15},\"zerolinecolor\":\"#EBF0F8\",\"zerolinewidth\":2}}},\"title\":{\"text\":\"Correlation Matrix\"}},                        {\"responsive\": true}                    ).then(function(){\n",
       "                            \n",
       "var gd = document.getElementById('dec665b8-9820-45e3-837e-2fec273c7118');\n",
       "var x = new MutationObserver(function (mutations, observer) {{\n",
       "        var display = window.getComputedStyle(gd).display;\n",
       "        if (!display || display === 'none') {{\n",
       "            console.log([gd, 'removed!']);\n",
       "            Plotly.purge(gd);\n",
       "            observer.disconnect();\n",
       "        }}\n",
       "}});\n",
       "\n",
       "// Listen for the removal of the full notebook cells\n",
       "var notebookContainer = gd.closest('#notebook-container');\n",
       "if (notebookContainer) {{\n",
       "    x.observe(notebookContainer, {childList: true});\n",
       "}}\n",
       "\n",
       "// Listen for the clearing of the current output cell\n",
       "var outputEl = gd.closest('.output');\n",
       "if (outputEl) {{\n",
       "    x.observe(outputEl, {childList: true});\n",
       "}}\n",
       "\n",
       "                        })                };                });            </script>        </div>"
      ]
     },
     "metadata": {},
     "output_type": "display_data"
    }
   ],
   "source": [
    "fig = go.Figure(data=go.Heatmap(df_to_plotly(corr), \n",
    "                                colorscale = \"RdBu\", \n",
    "                                hovertemplate = \"x-axis feature: %{x}<br>\" + \"y-axis feature: %{y}<br>\" + \"correlation: %{z}\",\n",
    "                                name = \"\",\n",
    "                               ))\n",
    "\n",
    "fig.update_layout(\n",
    "    title='Correlation Matrix'\n",
    ")\n",
    "\n",
    "fig.show()"
   ]
  },
  {
   "cell_type": "code",
   "execution_count": null,
   "metadata": {},
   "outputs": [],
   "source": []
  }
 ],
 "metadata": {
  "kernelspec": {
   "display_name": "PythonData",
   "language": "python",
   "name": "pythondata"
  },
  "language_info": {
   "codemirror_mode": {
    "name": "ipython",
    "version": 3
   },
   "file_extension": ".py",
   "mimetype": "text/x-python",
   "name": "python",
   "nbconvert_exporter": "python",
   "pygments_lexer": "ipython3",
   "version": "3.7.9"
  }
 },
 "nbformat": 4,
 "nbformat_minor": 4
}
