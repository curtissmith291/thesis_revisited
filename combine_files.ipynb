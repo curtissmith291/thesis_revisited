{
 "cells": [
  {
   "cell_type": "code",
   "execution_count": 1,
   "metadata": {},
   "outputs": [],
   "source": [
    "# Import dependencies\n",
    "import os\n",
    "import pandas as pd"
   ]
  },
  {
   "cell_type": "code",
   "execution_count": 2,
   "metadata": {},
   "outputs": [
    {
     "data": {
      "text/plain": [
       "'/Users/curtissmith/Projects/thesis_revisited'"
      ]
     },
     "execution_count": 2,
     "metadata": {},
     "output_type": "execute_result"
    }
   ],
   "source": [
    "pwd"
   ]
  },
  {
   "cell_type": "code",
   "execution_count": 3,
   "metadata": {},
   "outputs": [],
   "source": [
    "# Raw .csv files directory\n",
    "directory = \"/Users/curtissmith/Projects/thesis_revisited/raw_data/csv_binary\""
   ]
  },
  {
   "cell_type": "code",
   "execution_count": 7,
   "metadata": {},
   "outputs": [
    {
     "name": "stdout",
     "output_type": "stream",
     "text": [
      "1241\n"
     ]
    }
   ],
   "source": [
    "comb_df_made = False\n",
    "# List of locations imported\n",
    "locs = []\n",
    "\n",
    "# Iterate though files in directory\n",
    "for file in os.scandir(directory):\n",
    "    if file.path.endswith(\".csv\"):\n",
    "        #print(file.name)\n",
    "        # Split file name to get information\n",
    "        file_split = file.name.split(\"_\")\n",
    "        # Add to list if not in list\n",
    "        if file_split[0] not in locs:\n",
    "            locs.append(file_split[0])\n",
    "        \n",
    "        df = pd.read_csv(file)\n",
    "        df[\"location\"] = file_split[0]\n",
    "        df[\"set\"] = file_split[1][0]\n",
    "        df[\"a_b\"] = file_split[1][1]\n",
    "        \n",
    "        if comb_df_made == False:\n",
    "            comb_df = df.copy()\n",
    "            comb_df_made = True\n",
    "        else:\n",
    "            comb_df = comb_df.append(df)\n",
    "\n",
    "comb_df.head()\n",
    "print(len(comb_df))"
   ]
  },
  {
   "cell_type": "code",
   "execution_count": 8,
   "metadata": {},
   "outputs": [
    {
     "name": "stdout",
     "output_type": "stream",
     "text": [
      "['ELVA', 'RP-16', 'AUS', 'RG', 'IGNF', 'AUS-Drift', 'LPM']\n"
     ]
    }
   ],
   "source": [
    "# Unique locations\n",
    "print(locs)"
   ]
  },
  {
   "cell_type": "code",
   "execution_count": 16,
   "metadata": {},
   "outputs": [],
   "source": [
    "# Drop exra erroneous column \n",
    "comb_df.drop([\"Unnamed: 23\"],axis= 1, inplace=True)"
   ]
  },
  {
   "cell_type": "code",
   "execution_count": 9,
   "metadata": {},
   "outputs": [
    {
     "data": {
      "text/html": [
       "<div>\n",
       "<style scoped>\n",
       "    .dataframe tbody tr th:only-of-type {\n",
       "        vertical-align: middle;\n",
       "    }\n",
       "\n",
       "    .dataframe tbody tr th {\n",
       "        vertical-align: top;\n",
       "    }\n",
       "\n",
       "    .dataframe thead th {\n",
       "        text-align: right;\n",
       "    }\n",
       "</style>\n",
       "<table border=\"1\" class=\"dataframe\">\n",
       "  <thead>\n",
       "    <tr style=\"text-align: right;\">\n",
       "      <th></th>\n",
       "      <th>Rounded to Sub-Rounded</th>\n",
       "      <th>Sub Rounded to Sub Angular</th>\n",
       "      <th>Sub Angular to Angular</th>\n",
       "      <th>Low Relief</th>\n",
       "      <th>Medium Relief</th>\n",
       "      <th>High Relief</th>\n",
       "      <th>Precipitation Features</th>\n",
       "      <th>Dissolution Etching</th>\n",
       "      <th>Fracture Faces</th>\n",
       "      <th>Subparallel Linear Features</th>\n",
       "      <th>...</th>\n",
       "      <th>Sharp Angular Features</th>\n",
       "      <th>Upturned Plates</th>\n",
       "      <th>V Shaped</th>\n",
       "      <th>Edge Rounding</th>\n",
       "      <th>Breakage Blocks</th>\n",
       "      <th>Abrasion Features</th>\n",
       "      <th>location</th>\n",
       "      <th>set</th>\n",
       "      <th>a_b</th>\n",
       "      <th>Unnamed: 23</th>\n",
       "    </tr>\n",
       "  </thead>\n",
       "  <tbody>\n",
       "    <tr>\n",
       "      <th>0</th>\n",
       "      <td>0</td>\n",
       "      <td>1</td>\n",
       "      <td>0</td>\n",
       "      <td>0</td>\n",
       "      <td>1</td>\n",
       "      <td>0</td>\n",
       "      <td>0</td>\n",
       "      <td>1</td>\n",
       "      <td>0</td>\n",
       "      <td>1</td>\n",
       "      <td>...</td>\n",
       "      <td>0</td>\n",
       "      <td>0</td>\n",
       "      <td>1</td>\n",
       "      <td>1</td>\n",
       "      <td>0</td>\n",
       "      <td>0</td>\n",
       "      <td>ELVA</td>\n",
       "      <td>5</td>\n",
       "      <td>B</td>\n",
       "      <td>NaN</td>\n",
       "    </tr>\n",
       "    <tr>\n",
       "      <th>1</th>\n",
       "      <td>0</td>\n",
       "      <td>1</td>\n",
       "      <td>0</td>\n",
       "      <td>0</td>\n",
       "      <td>1</td>\n",
       "      <td>0</td>\n",
       "      <td>1</td>\n",
       "      <td>0</td>\n",
       "      <td>1</td>\n",
       "      <td>1</td>\n",
       "      <td>...</td>\n",
       "      <td>0</td>\n",
       "      <td>0</td>\n",
       "      <td>0</td>\n",
       "      <td>1</td>\n",
       "      <td>0</td>\n",
       "      <td>0</td>\n",
       "      <td>ELVA</td>\n",
       "      <td>5</td>\n",
       "      <td>B</td>\n",
       "      <td>NaN</td>\n",
       "    </tr>\n",
       "    <tr>\n",
       "      <th>2</th>\n",
       "      <td>0</td>\n",
       "      <td>0</td>\n",
       "      <td>1</td>\n",
       "      <td>0</td>\n",
       "      <td>1</td>\n",
       "      <td>0</td>\n",
       "      <td>0</td>\n",
       "      <td>1</td>\n",
       "      <td>0</td>\n",
       "      <td>1</td>\n",
       "      <td>...</td>\n",
       "      <td>0</td>\n",
       "      <td>0</td>\n",
       "      <td>0</td>\n",
       "      <td>0</td>\n",
       "      <td>0</td>\n",
       "      <td>0</td>\n",
       "      <td>ELVA</td>\n",
       "      <td>5</td>\n",
       "      <td>B</td>\n",
       "      <td>NaN</td>\n",
       "    </tr>\n",
       "    <tr>\n",
       "      <th>3</th>\n",
       "      <td>0</td>\n",
       "      <td>0</td>\n",
       "      <td>1</td>\n",
       "      <td>0</td>\n",
       "      <td>1</td>\n",
       "      <td>0</td>\n",
       "      <td>0</td>\n",
       "      <td>1</td>\n",
       "      <td>1</td>\n",
       "      <td>1</td>\n",
       "      <td>...</td>\n",
       "      <td>1</td>\n",
       "      <td>1</td>\n",
       "      <td>0</td>\n",
       "      <td>0</td>\n",
       "      <td>0</td>\n",
       "      <td>0</td>\n",
       "      <td>ELVA</td>\n",
       "      <td>5</td>\n",
       "      <td>B</td>\n",
       "      <td>NaN</td>\n",
       "    </tr>\n",
       "    <tr>\n",
       "      <th>4</th>\n",
       "      <td>0</td>\n",
       "      <td>0</td>\n",
       "      <td>1</td>\n",
       "      <td>0</td>\n",
       "      <td>1</td>\n",
       "      <td>0</td>\n",
       "      <td>0</td>\n",
       "      <td>1</td>\n",
       "      <td>0</td>\n",
       "      <td>1</td>\n",
       "      <td>...</td>\n",
       "      <td>0</td>\n",
       "      <td>0</td>\n",
       "      <td>1</td>\n",
       "      <td>0</td>\n",
       "      <td>0</td>\n",
       "      <td>0</td>\n",
       "      <td>ELVA</td>\n",
       "      <td>5</td>\n",
       "      <td>B</td>\n",
       "      <td>NaN</td>\n",
       "    </tr>\n",
       "  </tbody>\n",
       "</table>\n",
       "<p>5 rows × 27 columns</p>\n",
       "</div>"
      ],
      "text/plain": [
       "   Rounded to Sub-Rounded  Sub Rounded to Sub Angular  Sub Angular to Angular  \\\n",
       "0                       0                           1                       0   \n",
       "1                       0                           1                       0   \n",
       "2                       0                           0                       1   \n",
       "3                       0                           0                       1   \n",
       "4                       0                           0                       1   \n",
       "\n",
       "   Low Relief  Medium Relief  High Relief  Precipitation Features  \\\n",
       "0           0              1            0                       0   \n",
       "1           0              1            0                       1   \n",
       "2           0              1            0                       0   \n",
       "3           0              1            0                       0   \n",
       "4           0              1            0                       0   \n",
       "\n",
       "   Dissolution Etching  Fracture Faces  Subparallel Linear Features  ...  \\\n",
       "0                    1               0                            1  ...   \n",
       "1                    0               1                            1  ...   \n",
       "2                    1               0                            1  ...   \n",
       "3                    1               1                            1  ...   \n",
       "4                    1               0                            1  ...   \n",
       "\n",
       "   Sharp Angular Features  Upturned Plates  V Shaped  Edge Rounding  \\\n",
       "0                       0                0         1              1   \n",
       "1                       0                0         0              1   \n",
       "2                       0                0         0              0   \n",
       "3                       1                1         0              0   \n",
       "4                       0                0         1              0   \n",
       "\n",
       "   Breakage Blocks  Abrasion Features  location  set  a_b  Unnamed: 23  \n",
       "0                0                  0      ELVA    5    B          NaN  \n",
       "1                0                  0      ELVA    5    B          NaN  \n",
       "2                0                  0      ELVA    5    B          NaN  \n",
       "3                0                  0      ELVA    5    B          NaN  \n",
       "4                0                  0      ELVA    5    B          NaN  \n",
       "\n",
       "[5 rows x 27 columns]"
      ]
     },
     "execution_count": 9,
     "metadata": {},
     "output_type": "execute_result"
    }
   ],
   "source": [
    "comb_df.head()"
   ]
  },
  {
   "cell_type": "code",
   "execution_count": 17,
   "metadata": {},
   "outputs": [],
   "source": [
    "# Export to csv\n",
    "comb_df.to_csv(\"outputs/raw_data_combined.csv\")"
   ]
  },
  {
   "cell_type": "code",
   "execution_count": null,
   "metadata": {},
   "outputs": [],
   "source": []
  }
 ],
 "metadata": {
  "kernelspec": {
   "display_name": "PythonData",
   "language": "python",
   "name": "pythondata"
  },
  "language_info": {
   "codemirror_mode": {
    "name": "ipython",
    "version": 3
   },
   "file_extension": ".py",
   "mimetype": "text/x-python",
   "name": "python",
   "nbconvert_exporter": "python",
   "pygments_lexer": "ipython3",
   "version": "3.7.9"
  }
 },
 "nbformat": 4,
 "nbformat_minor": 4
}
